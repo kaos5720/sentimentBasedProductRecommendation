{
 "cells": [
  {
   "cell_type": "code",
   "execution_count": 1,
   "metadata": {
    "ExecuteTime": {
     "end_time": "2022-04-06T05:46:38.293556Z",
     "start_time": "2022-04-06T05:46:26.580179Z"
    },
    "execution": {
     "iopub.execute_input": "2022-04-14T00:34:52.965781Z",
     "iopub.status.busy": "2022-04-14T00:34:52.965536Z",
     "iopub.status.idle": "2022-04-14T00:35:06.598482Z",
     "shell.execute_reply": "2022-04-14T00:35:06.597760Z",
     "shell.execute_reply.started": "2022-04-14T00:34:52.965753Z"
    },
    "executionInfo": {
     "elapsed": 799,
     "status": "ok",
     "timestamp": 1649225023964,
     "user": {
      "displayName": "Venkatasubramanian S",
      "userId": "06029493893713790610"
     },
     "user_tz": 420
    },
    "id": "NrDvGiY2SfB2",
    "outputId": "4bcc9e92-fbd4-4e9d-d69b-294a2f5ba079",
    "scrolled": false
   },
   "outputs": [
    {
     "name": "stderr",
     "output_type": "stream",
     "text": [
      "C:\\ProgramData\\Anaconda3\\lib\\site-packages\\xgboost\\compat.py:36: FutureWarning:\n",
      "\n",
      "pandas.Int64Index is deprecated and will be removed from pandas in a future version. Use pandas.Index with the appropriate dtype instead.\n",
      "\n",
      "[nltk_data] Downloading package punkt to\n",
      "[nltk_data]     C:\\Users\\kous5\\AppData\\Roaming\\nltk_data...\n",
      "[nltk_data]   Package punkt is already up-to-date!\n",
      "[nltk_data] Downloading package averaged_perceptron_tagger to\n",
      "[nltk_data]     C:\\Users\\kous5\\AppData\\Roaming\\nltk_data...\n",
      "[nltk_data]   Package averaged_perceptron_tagger is already up-to-\n",
      "[nltk_data]       date!\n"
     ]
    }
   ],
   "source": [
    "import json \n",
    "import numpy as np\n",
    "import pandas as pd\n",
    "import re, nltk, spacy, string\n",
    "import en_core_web_sm\n",
    "# nlp = en_core_web_sm.load()\n",
    "nlp = spacy.load('en_core_web_sm',  disable=[\"parser\", \"ner\"])\n",
    "import seaborn as sns\n",
    "import matplotlib.pyplot as plt\n",
    "%matplotlib inline\n",
    "\n",
    "from sklearn.feature_extraction.text import CountVectorizer, TfidfVectorizer, TfidfTransformer\n",
    "from sklearn.metrics import accuracy_score\n",
    "from sklearn.model_selection import train_test_split, cross_val_score\n",
    "from sklearn.model_selection import RandomizedSearchCV, GridSearchCV\n",
    "from sklearn.metrics import confusion_matrix, classification_report, roc_auc_score\n",
    "from sklearn.metrics import precision_score, recall_score, f1_score\n",
    "from sklearn.metrics import plot_roc_curve\n",
    "\n",
    "from sklearn.linear_model import LogisticRegression\n",
    "\n",
    "from sklearn.ensemble import RandomForestClassifier\n",
    "\n",
    "from sklearn.metrics.pairwise import pairwise_distances\n",
    "\n",
    "from plotly.offline import plot\n",
    "import plotly.graph_objects as go\n",
    "import plotly.express as px\n",
    "\n",
    "from textblob import TextBlob\n",
    "from wordcloud import WordCloud, STOPWORDS, ImageColorGenerator\n",
    "from imblearn.over_sampling import SMOTE\n",
    "\n",
    "\n",
    "import xgboost as xgb\n",
    "from xgboost import XGBClassifier\n",
    "\n",
    "import warnings\n",
    "warnings.filterwarnings(\"ignore\")\n",
    "\n",
    "import nltk\n",
    "nltk.download('punkt')\n",
    "nltk.download('averaged_perceptron_tagger')\n",
    "\n",
    "from nltk.tokenize import word_tokenize\n",
    "from collections import Counter\n",
    "import string\n",
    "from nltk.stem.porter import PorterStemmer\n",
    "from nltk.stem import WordNetLemmatizer\n",
    "\n",
    "import pickle\n",
    "\n",
    "from pprint import pprint"
   ]
  },
  {
   "cell_type": "code",
   "execution_count": 2,
   "metadata": {
    "ExecuteTime": {
     "end_time": "2022-04-06T05:46:38.309571Z",
     "start_time": "2022-04-06T05:46:38.295417Z"
    },
    "execution": {
     "iopub.execute_input": "2022-04-14T00:35:06.600483Z",
     "iopub.status.busy": "2022-04-14T00:35:06.599887Z",
     "iopub.status.idle": "2022-04-14T00:35:06.611772Z",
     "shell.execute_reply": "2022-04-14T00:35:06.610808Z",
     "shell.execute_reply.started": "2022-04-14T00:35:06.600434Z"
    },
    "executionInfo": {
     "elapsed": 6,
     "status": "ok",
     "timestamp": 1649225023965,
     "user": {
      "displayName": "Venkatasubramanian S",
      "userId": "06029493893713790610"
     },
     "user_tz": 420
    },
    "id": "hcxWvOPDSfyS"
   },
   "outputs": [],
   "source": [
    "pd.set_option('display.max_colwidth', 400)\n",
    "pd.set_option(\"display.precision\", 3)\n",
    "pd.set_option('display.max_columns', 60)\n",
    "pd.set_option('display.max_rows', 60)"
   ]
  },
  {
   "cell_type": "code",
   "execution_count": 3,
   "metadata": {
    "ExecuteTime": {
     "end_time": "2022-04-06T05:46:38.684461Z",
     "start_time": "2022-04-06T05:46:38.327458Z"
    },
    "execution": {
     "iopub.execute_input": "2022-04-14T00:35:06.626918Z",
     "iopub.status.busy": "2022-04-14T00:35:06.626432Z",
     "iopub.status.idle": "2022-04-14T00:35:07.043999Z",
     "shell.execute_reply": "2022-04-14T00:35:07.043279Z",
     "shell.execute_reply.started": "2022-04-14T00:35:06.626881Z"
    },
    "executionInfo": {
     "elapsed": 249,
     "status": "ok",
     "timestamp": 1649225024210,
     "user": {
      "displayName": "Venkatasubramanian S",
      "userId": "06029493893713790610"
     },
     "user_tz": 420
    },
    "id": "VkGa267oTmCV"
   },
   "outputs": [],
   "source": [
    "df = pd.read_csv(\"data_source/sample30.csv\")"
   ]
  },
  {
   "cell_type": "markdown",
   "metadata": {
    "id": "QuQ2tIi_UkzE"
   },
   "source": [
    "# EDA"
   ]
  },
  {
   "cell_type": "code",
   "execution_count": 4,
   "metadata": {
    "ExecuteTime": {
     "end_time": "2022-04-06T05:46:38.700458Z",
     "start_time": "2022-04-06T05:46:38.686460Z"
    },
    "execution": {
     "iopub.execute_input": "2022-04-14T00:35:07.045241Z",
     "iopub.status.busy": "2022-04-14T00:35:07.045035Z",
     "iopub.status.idle": "2022-04-14T00:35:07.052981Z",
     "shell.execute_reply": "2022-04-14T00:35:07.052064Z",
     "shell.execute_reply.started": "2022-04-14T00:35:07.045216Z"
    },
    "executionInfo": {
     "elapsed": 10,
     "status": "ok",
     "timestamp": 1649225024210,
     "user": {
      "displayName": "Venkatasubramanian S",
      "userId": "06029493893713790610"
     },
     "user_tz": 420
    },
    "id": "JuVz_FdOU-rD",
    "outputId": "3e3222cf-de41-41b4-ff92-d49a88422ba3"
   },
   "outputs": [
    {
     "data": {
      "text/html": [
       "<div>\n",
       "<style scoped>\n",
       "    .dataframe tbody tr th:only-of-type {\n",
       "        vertical-align: middle;\n",
       "    }\n",
       "\n",
       "    .dataframe tbody tr th {\n",
       "        vertical-align: top;\n",
       "    }\n",
       "\n",
       "    .dataframe thead th {\n",
       "        text-align: right;\n",
       "    }\n",
       "</style>\n",
       "<table border=\"1\" class=\"dataframe\">\n",
       "  <thead>\n",
       "    <tr style=\"text-align: right;\">\n",
       "      <th></th>\n",
       "      <th>id</th>\n",
       "      <th>brand</th>\n",
       "      <th>categories</th>\n",
       "      <th>manufacturer</th>\n",
       "      <th>name</th>\n",
       "      <th>reviews_date</th>\n",
       "      <th>reviews_didPurchase</th>\n",
       "      <th>reviews_doRecommend</th>\n",
       "      <th>reviews_rating</th>\n",
       "      <th>reviews_text</th>\n",
       "      <th>reviews_title</th>\n",
       "      <th>reviews_userCity</th>\n",
       "      <th>reviews_userProvince</th>\n",
       "      <th>reviews_username</th>\n",
       "      <th>user_sentiment</th>\n",
       "    </tr>\n",
       "  </thead>\n",
       "  <tbody>\n",
       "    <tr>\n",
       "      <th>0</th>\n",
       "      <td>AV13O1A8GV-KLJ3akUyj</td>\n",
       "      <td>Universal Music</td>\n",
       "      <td>Movies, Music &amp; Books,Music,R&amp;b,Movies &amp; TV,Movie Bundles &amp; Collections,CDs &amp; Vinyl,Rap &amp; Hip-Hop,Bass,Music on CD or Vinyl,Rap,Hip-Hop,Mainstream Rap,Pop Rap</td>\n",
       "      <td>Universal Music Group / Cash Money</td>\n",
       "      <td>Pink Friday: Roman Reloaded Re-Up (w/dvd)</td>\n",
       "      <td>2012-11-30T06:21:45.000Z</td>\n",
       "      <td>NaN</td>\n",
       "      <td>NaN</td>\n",
       "      <td>5</td>\n",
       "      <td>i love this album. it's very good. more to the hip hop side than her current pop sound.. SO HYPE! i listen to this everyday at the gym! i give it 5star rating all the way. her metaphors are just crazy.</td>\n",
       "      <td>Just Awesome</td>\n",
       "      <td>Los Angeles</td>\n",
       "      <td>NaN</td>\n",
       "      <td>joshua</td>\n",
       "      <td>Positive</td>\n",
       "    </tr>\n",
       "    <tr>\n",
       "      <th>1</th>\n",
       "      <td>AV14LG0R-jtxr-f38QfS</td>\n",
       "      <td>Lundberg</td>\n",
       "      <td>Food,Packaged Foods,Snacks,Crackers,Snacks, Cookies &amp; Chips,Rice Cakes,Cakes</td>\n",
       "      <td>Lundberg</td>\n",
       "      <td>Lundberg Organic Cinnamon Toast Rice Cakes</td>\n",
       "      <td>2017-07-09T00:00:00.000Z</td>\n",
       "      <td>True</td>\n",
       "      <td>NaN</td>\n",
       "      <td>5</td>\n",
       "      <td>Good flavor. This review was collected as part of a promotion.</td>\n",
       "      <td>Good</td>\n",
       "      <td>NaN</td>\n",
       "      <td>NaN</td>\n",
       "      <td>dorothy w</td>\n",
       "      <td>Positive</td>\n",
       "    </tr>\n",
       "    <tr>\n",
       "      <th>2</th>\n",
       "      <td>AV14LG0R-jtxr-f38QfS</td>\n",
       "      <td>Lundberg</td>\n",
       "      <td>Food,Packaged Foods,Snacks,Crackers,Snacks, Cookies &amp; Chips,Rice Cakes,Cakes</td>\n",
       "      <td>Lundberg</td>\n",
       "      <td>Lundberg Organic Cinnamon Toast Rice Cakes</td>\n",
       "      <td>2017-07-09T00:00:00.000Z</td>\n",
       "      <td>True</td>\n",
       "      <td>NaN</td>\n",
       "      <td>5</td>\n",
       "      <td>Good flavor.</td>\n",
       "      <td>Good</td>\n",
       "      <td>NaN</td>\n",
       "      <td>NaN</td>\n",
       "      <td>dorothy w</td>\n",
       "      <td>Positive</td>\n",
       "    </tr>\n",
       "    <tr>\n",
       "      <th>3</th>\n",
       "      <td>AV16khLE-jtxr-f38VFn</td>\n",
       "      <td>K-Y</td>\n",
       "      <td>Personal Care,Medicine Cabinet,Lubricant/Spermicide,Health,Sexual Wellness,Lubricants</td>\n",
       "      <td>K-Y</td>\n",
       "      <td>K-Y Love Sensuality Pleasure Gel</td>\n",
       "      <td>2016-01-06T00:00:00.000Z</td>\n",
       "      <td>False</td>\n",
       "      <td>False</td>\n",
       "      <td>1</td>\n",
       "      <td>I read through the reviews on here before looking in to buying one of the couples lubricants, and was ultimately disappointed that it didn't even live up to the reviews I had read. For starters, neither my boyfriend nor I could notice any sort of enhanced or 'captivating' sensation. What we did notice, however, was the messy consistency that was reminiscent of a more liquid-y vaseline. It was ...</td>\n",
       "      <td>Disappointed</td>\n",
       "      <td>NaN</td>\n",
       "      <td>NaN</td>\n",
       "      <td>rebecca</td>\n",
       "      <td>Negative</td>\n",
       "    </tr>\n",
       "    <tr>\n",
       "      <th>4</th>\n",
       "      <td>AV16khLE-jtxr-f38VFn</td>\n",
       "      <td>K-Y</td>\n",
       "      <td>Personal Care,Medicine Cabinet,Lubricant/Spermicide,Health,Sexual Wellness,Lubricants</td>\n",
       "      <td>K-Y</td>\n",
       "      <td>K-Y Love Sensuality Pleasure Gel</td>\n",
       "      <td>2016-12-21T00:00:00.000Z</td>\n",
       "      <td>False</td>\n",
       "      <td>False</td>\n",
       "      <td>1</td>\n",
       "      <td>My husband bought this gel for us. The gel caused irritation and it felt like it was burning my skin. I wouldn't recommend this gel.</td>\n",
       "      <td>Irritation</td>\n",
       "      <td>NaN</td>\n",
       "      <td>NaN</td>\n",
       "      <td>walker557</td>\n",
       "      <td>Negative</td>\n",
       "    </tr>\n",
       "  </tbody>\n",
       "</table>\n",
       "</div>"
      ],
      "text/plain": [
       "                     id            brand  \\\n",
       "0  AV13O1A8GV-KLJ3akUyj  Universal Music   \n",
       "1  AV14LG0R-jtxr-f38QfS         Lundberg   \n",
       "2  AV14LG0R-jtxr-f38QfS         Lundberg   \n",
       "3  AV16khLE-jtxr-f38VFn              K-Y   \n",
       "4  AV16khLE-jtxr-f38VFn              K-Y   \n",
       "\n",
       "                                                                                                                                                       categories  \\\n",
       "0  Movies, Music & Books,Music,R&b,Movies & TV,Movie Bundles & Collections,CDs & Vinyl,Rap & Hip-Hop,Bass,Music on CD or Vinyl,Rap,Hip-Hop,Mainstream Rap,Pop Rap   \n",
       "1                                                                                    Food,Packaged Foods,Snacks,Crackers,Snacks, Cookies & Chips,Rice Cakes,Cakes   \n",
       "2                                                                                    Food,Packaged Foods,Snacks,Crackers,Snacks, Cookies & Chips,Rice Cakes,Cakes   \n",
       "3                                                                           Personal Care,Medicine Cabinet,Lubricant/Spermicide,Health,Sexual Wellness,Lubricants   \n",
       "4                                                                           Personal Care,Medicine Cabinet,Lubricant/Spermicide,Health,Sexual Wellness,Lubricants   \n",
       "\n",
       "                         manufacturer  \\\n",
       "0  Universal Music Group / Cash Money   \n",
       "1                            Lundberg   \n",
       "2                            Lundberg   \n",
       "3                                 K-Y   \n",
       "4                                 K-Y   \n",
       "\n",
       "                                         name              reviews_date  \\\n",
       "0   Pink Friday: Roman Reloaded Re-Up (w/dvd)  2012-11-30T06:21:45.000Z   \n",
       "1  Lundberg Organic Cinnamon Toast Rice Cakes  2017-07-09T00:00:00.000Z   \n",
       "2  Lundberg Organic Cinnamon Toast Rice Cakes  2017-07-09T00:00:00.000Z   \n",
       "3            K-Y Love Sensuality Pleasure Gel  2016-01-06T00:00:00.000Z   \n",
       "4            K-Y Love Sensuality Pleasure Gel  2016-12-21T00:00:00.000Z   \n",
       "\n",
       "  reviews_didPurchase reviews_doRecommend  reviews_rating  \\\n",
       "0                 NaN                 NaN               5   \n",
       "1                True                 NaN               5   \n",
       "2                True                 NaN               5   \n",
       "3               False               False               1   \n",
       "4               False               False               1   \n",
       "\n",
       "                                                                                                                                                                                                                                                                                                                                                                                                      reviews_text  \\\n",
       "0                                                                                                                                                                                                        i love this album. it's very good. more to the hip hop side than her current pop sound.. SO HYPE! i listen to this everyday at the gym! i give it 5star rating all the way. her metaphors are just crazy.   \n",
       "1                                                                                                                                                                                                                                                                                                                                                   Good flavor. This review was collected as part of a promotion.   \n",
       "2                                                                                                                                                                                                                                                                                                                                                                                                     Good flavor.   \n",
       "3  I read through the reviews on here before looking in to buying one of the couples lubricants, and was ultimately disappointed that it didn't even live up to the reviews I had read. For starters, neither my boyfriend nor I could notice any sort of enhanced or 'captivating' sensation. What we did notice, however, was the messy consistency that was reminiscent of a more liquid-y vaseline. It was ...   \n",
       "4                                                                                                                                                                                                                                                                             My husband bought this gel for us. The gel caused irritation and it felt like it was burning my skin. I wouldn't recommend this gel.   \n",
       "\n",
       "  reviews_title reviews_userCity reviews_userProvince reviews_username  \\\n",
       "0  Just Awesome      Los Angeles                  NaN           joshua   \n",
       "1          Good              NaN                  NaN        dorothy w   \n",
       "2          Good              NaN                  NaN        dorothy w   \n",
       "3  Disappointed              NaN                  NaN          rebecca   \n",
       "4    Irritation              NaN                  NaN        walker557   \n",
       "\n",
       "  user_sentiment  \n",
       "0       Positive  \n",
       "1       Positive  \n",
       "2       Positive  \n",
       "3       Negative  \n",
       "4       Negative  "
      ]
     },
     "execution_count": 4,
     "metadata": {},
     "output_type": "execute_result"
    }
   ],
   "source": [
    "df.head()"
   ]
  },
  {
   "cell_type": "code",
   "execution_count": 5,
   "metadata": {},
   "outputs": [
    {
     "data": {
      "text/plain": [
       "(30000, 15)"
      ]
     },
     "execution_count": 5,
     "metadata": {},
     "output_type": "execute_result"
    }
   ],
   "source": [
    "df.shape"
   ]
  },
  {
   "cell_type": "code",
   "execution_count": 6,
   "metadata": {
    "ExecuteTime": {
     "end_time": "2022-04-06T05:46:38.778460Z",
     "start_time": "2022-04-06T05:46:38.703458Z"
    },
    "execution": {
     "iopub.execute_input": "2022-04-14T00:35:07.054568Z",
     "iopub.status.busy": "2022-04-14T00:35:07.054341Z",
     "iopub.status.idle": "2022-04-14T00:35:07.124195Z",
     "shell.execute_reply": "2022-04-14T00:35:07.123353Z",
     "shell.execute_reply.started": "2022-04-14T00:35:07.054542Z"
    },
    "executionInfo": {
     "elapsed": 191,
     "status": "ok",
     "timestamp": 1649225024398,
     "user": {
      "displayName": "Venkatasubramanian S",
      "userId": "06029493893713790610"
     },
     "user_tz": 420
    },
    "id": "IAxEMrSiVLMr",
    "outputId": "c0a9191d-4fc9-4bd4-8c3d-8f4575950146"
   },
   "outputs": [
    {
     "name": "stdout",
     "output_type": "stream",
     "text": [
      "<class 'pandas.core.frame.DataFrame'>\n",
      "RangeIndex: 30000 entries, 0 to 29999\n",
      "Data columns (total 15 columns):\n",
      " #   Column                Non-Null Count  Dtype \n",
      "---  ------                --------------  ----- \n",
      " 0   id                    30000 non-null  object\n",
      " 1   brand                 30000 non-null  object\n",
      " 2   categories            30000 non-null  object\n",
      " 3   manufacturer          29859 non-null  object\n",
      " 4   name                  30000 non-null  object\n",
      " 5   reviews_date          29954 non-null  object\n",
      " 6   reviews_didPurchase   15932 non-null  object\n",
      " 7   reviews_doRecommend   27430 non-null  object\n",
      " 8   reviews_rating        30000 non-null  int64 \n",
      " 9   reviews_text          30000 non-null  object\n",
      " 10  reviews_title         29810 non-null  object\n",
      " 11  reviews_userCity      1929 non-null   object\n",
      " 12  reviews_userProvince  170 non-null    object\n",
      " 13  reviews_username      29937 non-null  object\n",
      " 14  user_sentiment        29999 non-null  object\n",
      "dtypes: int64(1), object(14)\n",
      "memory usage: 3.4+ MB\n"
     ]
    }
   ],
   "source": [
    "#checking all columns\n",
    "df.info()"
   ]
  },
  {
   "cell_type": "markdown",
   "metadata": {
    "id": "44utW9rtYiia"
   },
   "source": [
    "## Data cleaning"
   ]
  },
  {
   "cell_type": "code",
   "execution_count": 7,
   "metadata": {
    "ExecuteTime": {
     "end_time": "2022-04-06T05:46:38.932696Z",
     "start_time": "2022-04-06T05:46:38.810577Z"
    },
    "execution": {
     "iopub.execute_input": "2022-04-14T00:35:07.152850Z",
     "iopub.status.busy": "2022-04-14T00:35:07.152589Z",
     "iopub.status.idle": "2022-04-14T00:35:07.309544Z",
     "shell.execute_reply": "2022-04-14T00:35:07.308745Z",
     "shell.execute_reply.started": "2022-04-14T00:35:07.152820Z"
    },
    "executionInfo": {
     "elapsed": 13,
     "status": "ok",
     "timestamp": 1649225024400,
     "user": {
      "displayName": "Venkatasubramanian S",
      "userId": "06029493893713790610"
     },
     "user_tz": 420
    },
    "id": "b-6Q6xT8YoOV",
    "outputId": "baa3d3ce-368c-4970-c177-1f5fca74939b"
   },
   "outputs": [
    {
     "data": {
      "text/html": [
       "<div>\n",
       "<style scoped>\n",
       "    .dataframe tbody tr th:only-of-type {\n",
       "        vertical-align: middle;\n",
       "    }\n",
       "\n",
       "    .dataframe tbody tr th {\n",
       "        vertical-align: top;\n",
       "    }\n",
       "\n",
       "    .dataframe thead th {\n",
       "        text-align: right;\n",
       "    }\n",
       "</style>\n",
       "<table border=\"1\" class=\"dataframe\">\n",
       "  <thead>\n",
       "    <tr style=\"text-align: right;\">\n",
       "      <th></th>\n",
       "      <th>Percentage</th>\n",
       "      <th>Count</th>\n",
       "    </tr>\n",
       "  </thead>\n",
       "  <tbody>\n",
       "    <tr>\n",
       "      <th>user_sentiment</th>\n",
       "      <td>0.003</td>\n",
       "      <td>1</td>\n",
       "    </tr>\n",
       "    <tr>\n",
       "      <th>reviews_date</th>\n",
       "      <td>0.153</td>\n",
       "      <td>46</td>\n",
       "    </tr>\n",
       "    <tr>\n",
       "      <th>reviews_username</th>\n",
       "      <td>0.210</td>\n",
       "      <td>63</td>\n",
       "    </tr>\n",
       "    <tr>\n",
       "      <th>manufacturer</th>\n",
       "      <td>0.470</td>\n",
       "      <td>141</td>\n",
       "    </tr>\n",
       "    <tr>\n",
       "      <th>reviews_title</th>\n",
       "      <td>0.633</td>\n",
       "      <td>190</td>\n",
       "    </tr>\n",
       "    <tr>\n",
       "      <th>reviews_doRecommend</th>\n",
       "      <td>8.567</td>\n",
       "      <td>2570</td>\n",
       "    </tr>\n",
       "    <tr>\n",
       "      <th>reviews_didPurchase</th>\n",
       "      <td>46.893</td>\n",
       "      <td>14068</td>\n",
       "    </tr>\n",
       "    <tr>\n",
       "      <th>reviews_userCity</th>\n",
       "      <td>93.570</td>\n",
       "      <td>28071</td>\n",
       "    </tr>\n",
       "    <tr>\n",
       "      <th>reviews_userProvince</th>\n",
       "      <td>99.433</td>\n",
       "      <td>29830</td>\n",
       "    </tr>\n",
       "  </tbody>\n",
       "</table>\n",
       "</div>"
      ],
      "text/plain": [
       "                      Percentage  Count\n",
       "user_sentiment             0.003      1\n",
       "reviews_date               0.153     46\n",
       "reviews_username           0.210     63\n",
       "manufacturer               0.470    141\n",
       "reviews_title              0.633    190\n",
       "reviews_doRecommend        8.567   2570\n",
       "reviews_didPurchase       46.893  14068\n",
       "reviews_userCity          93.570  28071\n",
       "reviews_userProvince      99.433  29830"
      ]
     },
     "execution_count": 7,
     "metadata": {},
     "output_type": "execute_result"
    }
   ],
   "source": [
    "#null check\n",
    "count_for_null = df[df.columns[df.isna().any()]].isna().sum().sort_values(ascending=True)\n",
    "percentage_of_null = (df[df.columns[df.isna().any()]].isna().sum() * 100 / df.shape[0]).sort_values(ascending=True)\n",
    "check_data = pd.concat([percentage_of_null, count_for_null], axis=1, keys=[ 'Percentage', 'Count'])\n",
    "check_data"
   ]
  },
  {
   "cell_type": "code",
   "execution_count": 8,
   "metadata": {
    "ExecuteTime": {
     "end_time": "2022-04-06T05:46:38.948536Z",
     "start_time": "2022-04-06T05:46:38.934692Z"
    },
    "execution": {
     "iopub.execute_input": "2022-04-14T00:35:07.311461Z",
     "iopub.status.busy": "2022-04-14T00:35:07.310773Z",
     "iopub.status.idle": "2022-04-14T00:35:07.318221Z",
     "shell.execute_reply": "2022-04-14T00:35:07.317438Z",
     "shell.execute_reply.started": "2022-04-14T00:35:07.311425Z"
    },
    "executionInfo": {
     "elapsed": 11,
     "status": "ok",
     "timestamp": 1649225024400,
     "user": {
      "displayName": "Venkatasubramanian S",
      "userId": "06029493893713790610"
     },
     "user_tz": 420
    },
    "id": "N6URFzWf3f8t"
   },
   "outputs": [],
   "source": [
    "#having a working copy\n",
    "df_wc = df.copy()"
   ]
  },
  {
   "cell_type": "code",
   "execution_count": 9,
   "metadata": {
    "ExecuteTime": {
     "end_time": "2022-04-06T05:46:38.964539Z",
     "start_time": "2022-04-06T05:46:38.950537Z"
    },
    "execution": {
     "iopub.execute_input": "2022-04-14T00:35:07.321837Z",
     "iopub.status.busy": "2022-04-14T00:35:07.321608Z",
     "iopub.status.idle": "2022-04-14T00:35:07.333025Z",
     "shell.execute_reply": "2022-04-14T00:35:07.332108Z",
     "shell.execute_reply.started": "2022-04-14T00:35:07.321809Z"
    },
    "executionInfo": {
     "elapsed": 466,
     "status": "ok",
     "timestamp": 1649225024856,
     "user": {
      "displayName": "Venkatasubramanian S",
      "userId": "06029493893713790610"
     },
     "user_tz": 420
    },
    "id": "ONgkpRf2ved9"
   },
   "outputs": [],
   "source": [
    "df_wc.drop(columns=['reviews_didPurchase','reviews_userProvince', 'reviews_userCity'], inplace=True)"
   ]
  },
  {
   "cell_type": "code",
   "execution_count": 10,
   "metadata": {
    "ExecuteTime": {
     "end_time": "2022-04-06T05:46:39.088539Z",
     "start_time": "2022-04-06T05:46:38.982590Z"
    },
    "execution": {
     "iopub.execute_input": "2022-04-14T00:35:07.342070Z",
     "iopub.status.busy": "2022-04-14T00:35:07.341830Z",
     "iopub.status.idle": "2022-04-14T00:35:07.477240Z",
     "shell.execute_reply": "2022-04-14T00:35:07.476497Z",
     "shell.execute_reply.started": "2022-04-14T00:35:07.342027Z"
    },
    "executionInfo": {
     "elapsed": 13,
     "status": "ok",
     "timestamp": 1649225024857,
     "user": {
      "displayName": "Venkatasubramanian S",
      "userId": "06029493893713790610"
     },
     "user_tz": 420
    },
    "id": "sWPKuG343p4B",
    "outputId": "0511a297-92c8-439e-b363-bdcf0b16cf68"
   },
   "outputs": [
    {
     "data": {
      "text/html": [
       "<div>\n",
       "<style scoped>\n",
       "    .dataframe tbody tr th:only-of-type {\n",
       "        vertical-align: middle;\n",
       "    }\n",
       "\n",
       "    .dataframe tbody tr th {\n",
       "        vertical-align: top;\n",
       "    }\n",
       "\n",
       "    .dataframe thead th {\n",
       "        text-align: right;\n",
       "    }\n",
       "</style>\n",
       "<table border=\"1\" class=\"dataframe\">\n",
       "  <thead>\n",
       "    <tr style=\"text-align: right;\">\n",
       "      <th></th>\n",
       "      <th>Percentage</th>\n",
       "      <th>Count</th>\n",
       "    </tr>\n",
       "  </thead>\n",
       "  <tbody>\n",
       "    <tr>\n",
       "      <th>user_sentiment</th>\n",
       "      <td>0.003</td>\n",
       "      <td>1</td>\n",
       "    </tr>\n",
       "    <tr>\n",
       "      <th>reviews_date</th>\n",
       "      <td>0.153</td>\n",
       "      <td>46</td>\n",
       "    </tr>\n",
       "    <tr>\n",
       "      <th>reviews_username</th>\n",
       "      <td>0.210</td>\n",
       "      <td>63</td>\n",
       "    </tr>\n",
       "    <tr>\n",
       "      <th>manufacturer</th>\n",
       "      <td>0.470</td>\n",
       "      <td>141</td>\n",
       "    </tr>\n",
       "    <tr>\n",
       "      <th>reviews_title</th>\n",
       "      <td>0.633</td>\n",
       "      <td>190</td>\n",
       "    </tr>\n",
       "    <tr>\n",
       "      <th>reviews_doRecommend</th>\n",
       "      <td>8.567</td>\n",
       "      <td>2570</td>\n",
       "    </tr>\n",
       "  </tbody>\n",
       "</table>\n",
       "</div>"
      ],
      "text/plain": [
       "                     Percentage  Count\n",
       "user_sentiment            0.003      1\n",
       "reviews_date              0.153     46\n",
       "reviews_username          0.210     63\n",
       "manufacturer              0.470    141\n",
       "reviews_title             0.633    190\n",
       "reviews_doRecommend       8.567   2570"
      ]
     },
     "execution_count": 10,
     "metadata": {},
     "output_type": "execute_result"
    }
   ],
   "source": [
    "# Checking NULLs again\n",
    "count_for_null = df_wc[df_wc.columns[df_wc.isna().any()]].isna().sum().sort_values(ascending=True)\n",
    "percentage_of_null = (df_wc[df_wc.columns[df_wc.isna().any()]].isna().sum() * 100 / df_wc.shape[0]).sort_values(ascending=True)\n",
    "check_data = pd.concat([percentage_of_null, count_for_null], axis=1, keys=[ 'Percentage', 'Count'])\n",
    "check_data"
   ]
  },
  {
   "cell_type": "markdown",
   "metadata": {
    "id": "dToXnZV34iM4"
   },
   "source": [
    "### Checking `reviews_doRecommend` column\n"
   ]
  },
  {
   "cell_type": "code",
   "execution_count": 11,
   "metadata": {
    "ExecuteTime": {
     "end_time": "2022-04-06T05:46:39.120397Z",
     "start_time": "2022-04-06T05:46:39.091540Z"
    },
    "execution": {
     "iopub.execute_input": "2022-04-14T00:35:07.478598Z",
     "iopub.status.busy": "2022-04-14T00:35:07.478373Z",
     "iopub.status.idle": "2022-04-14T00:35:07.490849Z",
     "shell.execute_reply": "2022-04-14T00:35:07.489788Z",
     "shell.execute_reply.started": "2022-04-14T00:35:07.478571Z"
    },
    "executionInfo": {
     "elapsed": 12,
     "status": "ok",
     "timestamp": 1649225024858,
     "user": {
      "displayName": "Venkatasubramanian S",
      "userId": "06029493893713790610"
     },
     "user_tz": 420
    },
    "id": "lfMBDhR2JdSP",
    "outputId": "bf785188-f281-483f-9e3e-09a1a364f62d"
   },
   "outputs": [
    {
     "data": {
      "text/plain": [
       "True     25880\n",
       "False     1550\n",
       "Name: reviews_doRecommend, dtype: int64"
      ]
     },
     "execution_count": 11,
     "metadata": {},
     "output_type": "execute_result"
    }
   ],
   "source": [
    "df_wc.reviews_doRecommend.value_counts(normalize=False)"
   ]
  },
  {
   "cell_type": "code",
   "execution_count": 12,
   "metadata": {
    "ExecuteTime": {
     "end_time": "2022-04-06T05:46:40.024569Z",
     "start_time": "2022-04-06T05:46:39.123735Z"
    },
    "execution": {
     "iopub.execute_input": "2022-04-14T00:35:07.492437Z",
     "iopub.status.busy": "2022-04-14T00:35:07.492135Z",
     "iopub.status.idle": "2022-04-14T00:35:07.786861Z",
     "shell.execute_reply": "2022-04-14T00:35:07.786231Z",
     "shell.execute_reply.started": "2022-04-14T00:35:07.492397Z"
    },
    "executionInfo": {
     "elapsed": 321,
     "status": "ok",
     "timestamp": 1649225025173,
     "user": {
      "displayName": "Venkatasubramanian S",
      "userId": "06029493893713790610"
     },
     "user_tz": 420
    },
    "id": "r7qhs_EzJk3Y",
    "outputId": "05876d90-a68a-4309-8406-c0f57156acb4"
   },
   "outputs": [
    {
     "data": {
      "image/png": "[encoded data removed]",
      "text/plain": [
       "<Figure size 432x288 with 1 Axes>"
      ]
     },
     "metadata": {
      "needs_background": "light"
     },
     "output_type": "display_data"
    }
   ],
   "source": [
    "sns.countplot(x = 'reviews_doRecommend', data = df_wc)\n",
    "plt.show()"
   ]
  },
  {
   "cell_type": "code",
   "execution_count": 13,
   "metadata": {
    "ExecuteTime": {
     "end_time": "2022-04-06T05:46:40.055567Z",
     "start_time": "2022-04-06T05:46:40.028572Z"
    },
    "execution": {
     "iopub.execute_input": "2022-04-14T00:35:07.788638Z",
     "iopub.status.busy": "2022-04-14T00:35:07.787903Z",
     "iopub.status.idle": "2022-04-14T00:35:07.798351Z",
     "shell.execute_reply": "2022-04-14T00:35:07.797674Z",
     "shell.execute_reply.started": "2022-04-14T00:35:07.788587Z"
    },
    "executionInfo": {
     "elapsed": 61,
     "status": "ok",
     "timestamp": 1649225025175,
     "user": {
      "displayName": "Venkatasubramanian S",
      "userId": "06029493893713790610"
     },
     "user_tz": 420
    },
    "id": "g0k_H6T5LILn"
   },
   "outputs": [],
   "source": [
    "#drop reviews_doRecommend as the variety of data in this column is least\n",
    "df_wc.drop(columns=['reviews_doRecommend'], inplace=True)"
   ]
  },
  {
   "cell_type": "code",
   "execution_count": 14,
   "metadata": {
    "ExecuteTime": {
     "end_time": "2022-04-06T05:46:40.182554Z",
     "start_time": "2022-04-06T05:46:40.059571Z"
    },
    "execution": {
     "iopub.execute_input": "2022-04-14T00:35:07.800548Z",
     "iopub.status.busy": "2022-04-14T00:35:07.799791Z",
     "iopub.status.idle": "2022-04-14T00:35:07.924175Z",
     "shell.execute_reply": "2022-04-14T00:35:07.923073Z",
     "shell.execute_reply.started": "2022-04-14T00:35:07.800501Z"
    },
    "executionInfo": {
     "elapsed": 61,
     "status": "ok",
     "timestamp": 1649225025176,
     "user": {
      "displayName": "Venkatasubramanian S",
      "userId": "06029493893713790610"
     },
     "user_tz": 420
    },
    "id": "6udU9faJLOs5",
    "outputId": "73d33578-5bf7-4149-ba95-227e2b9e8e1a"
   },
   "outputs": [
    {
     "data": {
      "text/html": [
       "<div>\n",
       "<style scoped>\n",
       "    .dataframe tbody tr th:only-of-type {\n",
       "        vertical-align: middle;\n",
       "    }\n",
       "\n",
       "    .dataframe tbody tr th {\n",
       "        vertical-align: top;\n",
       "    }\n",
       "\n",
       "    .dataframe thead th {\n",
       "        text-align: right;\n",
       "    }\n",
       "</style>\n",
       "<table border=\"1\" class=\"dataframe\">\n",
       "  <thead>\n",
       "    <tr style=\"text-align: right;\">\n",
       "      <th></th>\n",
       "      <th>Percentage</th>\n",
       "      <th>Count</th>\n",
       "    </tr>\n",
       "  </thead>\n",
       "  <tbody>\n",
       "    <tr>\n",
       "      <th>user_sentiment</th>\n",
       "      <td>0.003</td>\n",
       "      <td>1</td>\n",
       "    </tr>\n",
       "    <tr>\n",
       "      <th>reviews_date</th>\n",
       "      <td>0.153</td>\n",
       "      <td>46</td>\n",
       "    </tr>\n",
       "    <tr>\n",
       "      <th>reviews_username</th>\n",
       "      <td>0.210</td>\n",
       "      <td>63</td>\n",
       "    </tr>\n",
       "    <tr>\n",
       "      <th>manufacturer</th>\n",
       "      <td>0.470</td>\n",
       "      <td>141</td>\n",
       "    </tr>\n",
       "    <tr>\n",
       "      <th>reviews_title</th>\n",
       "      <td>0.633</td>\n",
       "      <td>190</td>\n",
       "    </tr>\n",
       "  </tbody>\n",
       "</table>\n",
       "</div>"
      ],
      "text/plain": [
       "                  Percentage  Count\n",
       "user_sentiment         0.003      1\n",
       "reviews_date           0.153     46\n",
       "reviews_username       0.210     63\n",
       "manufacturer           0.470    141\n",
       "reviews_title          0.633    190"
      ]
     },
     "execution_count": 14,
     "metadata": {},
     "output_type": "execute_result"
    }
   ],
   "source": [
    "# Checking NULLs again\n",
    "count_for_null = df_wc[df_wc.columns[df_wc.isna().any()]].isna().sum().sort_values(ascending=True)\n",
    "percentage_of_null = (df_wc[df_wc.columns[df_wc.isna().any()]].isna().sum() * 100 / df_wc.shape[0]).sort_values(ascending=True)\n",
    "check_data = pd.concat([percentage_of_null, count_for_null], axis=1, keys=[ 'Percentage', 'Count'])\n",
    "check_data"
   ]
  },
  {
   "cell_type": "markdown",
   "metadata": {
    "id": "GgXgb2bxNuwk"
   },
   "source": [
    "### NULL values in `reviews_title`"
   ]
  },
  {
   "cell_type": "code",
   "execution_count": 15,
   "metadata": {
    "ExecuteTime": {
     "end_time": "2022-04-06T05:46:40.197571Z",
     "start_time": "2022-04-06T05:46:40.186478Z"
    },
    "execution": {
     "iopub.execute_input": "2022-04-14T00:35:07.925741Z",
     "iopub.status.busy": "2022-04-14T00:35:07.925493Z",
     "iopub.status.idle": "2022-04-14T00:35:07.931106Z",
     "shell.execute_reply": "2022-04-14T00:35:07.930551Z",
     "shell.execute_reply.started": "2022-04-14T00:35:07.925711Z"
    },
    "executionInfo": {
     "elapsed": 59,
     "status": "ok",
     "timestamp": 1649225025176,
     "user": {
      "displayName": "Venkatasubramanian S",
      "userId": "06029493893713790610"
     },
     "user_tz": 420
    },
    "id": "cjBmOq84OfGF",
    "outputId": "9324a9b0-1f1b-4549-fe70-ff049c828c72"
   },
   "outputs": [
    {
     "data": {
      "text/plain": [
       "(30000, 11)"
      ]
     },
     "execution_count": 15,
     "metadata": {},
     "output_type": "execute_result"
    }
   ],
   "source": [
    "# Checking rowcount before deletion\n",
    "df_wc.shape"
   ]
  },
  {
   "cell_type": "code",
   "execution_count": 16,
   "metadata": {
    "ExecuteTime": {
     "end_time": "2022-04-06T05:46:40.229110Z",
     "start_time": "2022-04-06T05:46:40.201571Z"
    },
    "execution": {
     "iopub.execute_input": "2022-04-14T00:35:07.932647Z",
     "iopub.status.busy": "2022-04-14T00:35:07.932236Z",
     "iopub.status.idle": "2022-04-14T00:35:07.952085Z",
     "shell.execute_reply": "2022-04-14T00:35:07.951333Z",
     "shell.execute_reply.started": "2022-04-14T00:35:07.932608Z"
    },
    "executionInfo": {
     "elapsed": 48,
     "status": "ok",
     "timestamp": 1649225025177,
     "user": {
      "displayName": "Venkatasubramanian S",
      "userId": "06029493893713790610"
     },
     "user_tz": 420
    },
    "id": "rJZWuKSYOHCc"
   },
   "outputs": [],
   "source": [
    "df_wc = df_wc[~ df_wc.reviews_title.isna() ]"
   ]
  },
  {
   "cell_type": "code",
   "execution_count": 17,
   "metadata": {
    "ExecuteTime": {
     "end_time": "2022-04-06T05:46:40.244113Z",
     "start_time": "2022-04-06T05:46:40.233178Z"
    },
    "execution": {
     "iopub.execute_input": "2022-04-14T00:35:07.954001Z",
     "iopub.status.busy": "2022-04-14T00:35:07.953411Z",
     "iopub.status.idle": "2022-04-14T00:35:07.958863Z",
     "shell.execute_reply": "2022-04-14T00:35:07.958322Z",
     "shell.execute_reply.started": "2022-04-14T00:35:07.953968Z"
    },
    "executionInfo": {
     "elapsed": 47,
     "status": "ok",
     "timestamp": 1649225025177,
     "user": {
      "displayName": "Venkatasubramanian S",
      "userId": "06029493893713790610"
     },
     "user_tz": 420
    },
    "id": "E6BL-5JMNvfB",
    "outputId": "4d806853-8dc8-496c-d220-f15f9b6eaef1"
   },
   "outputs": [
    {
     "data": {
      "text/plain": [
       "(29810, 11)"
      ]
     },
     "execution_count": 17,
     "metadata": {},
     "output_type": "execute_result"
    }
   ],
   "source": [
    "# Checking rowcount post deletion\n",
    "df_wc.shape"
   ]
  },
  {
   "cell_type": "code",
   "execution_count": 18,
   "metadata": {
    "ExecuteTime": {
     "end_time": "2022-04-06T05:46:40.370246Z",
     "start_time": "2022-04-06T05:46:40.248112Z"
    },
    "execution": {
     "iopub.execute_input": "2022-04-14T00:35:07.960891Z",
     "iopub.status.busy": "2022-04-14T00:35:07.960475Z",
     "iopub.status.idle": "2022-04-14T00:35:08.075555Z",
     "shell.execute_reply": "2022-04-14T00:35:08.074589Z",
     "shell.execute_reply.started": "2022-04-14T00:35:07.960850Z"
    },
    "executionInfo": {
     "elapsed": 42,
     "status": "ok",
     "timestamp": 1649225025178,
     "user": {
      "displayName": "Venkatasubramanian S",
      "userId": "06029493893713790610"
     },
     "user_tz": 420
    },
    "id": "juEm1Pb7Nvhb",
    "outputId": "c5d99441-5404-463d-8593-9f23bae7621a"
   },
   "outputs": [
    {
     "data": {
      "text/html": [
       "<div>\n",
       "<style scoped>\n",
       "    .dataframe tbody tr th:only-of-type {\n",
       "        vertical-align: middle;\n",
       "    }\n",
       "\n",
       "    .dataframe tbody tr th {\n",
       "        vertical-align: top;\n",
       "    }\n",
       "\n",
       "    .dataframe thead th {\n",
       "        text-align: right;\n",
       "    }\n",
       "</style>\n",
       "<table border=\"1\" class=\"dataframe\">\n",
       "  <thead>\n",
       "    <tr style=\"text-align: right;\">\n",
       "      <th></th>\n",
       "      <th>Percentage</th>\n",
       "      <th>Count</th>\n",
       "    </tr>\n",
       "  </thead>\n",
       "  <tbody>\n",
       "    <tr>\n",
       "      <th>user_sentiment</th>\n",
       "      <td>0.003</td>\n",
       "      <td>1</td>\n",
       "    </tr>\n",
       "    <tr>\n",
       "      <th>reviews_date</th>\n",
       "      <td>0.154</td>\n",
       "      <td>46</td>\n",
       "    </tr>\n",
       "    <tr>\n",
       "      <th>reviews_username</th>\n",
       "      <td>0.208</td>\n",
       "      <td>62</td>\n",
       "    </tr>\n",
       "    <tr>\n",
       "      <th>manufacturer</th>\n",
       "      <td>0.473</td>\n",
       "      <td>141</td>\n",
       "    </tr>\n",
       "  </tbody>\n",
       "</table>\n",
       "</div>"
      ],
      "text/plain": [
       "                  Percentage  Count\n",
       "user_sentiment         0.003      1\n",
       "reviews_date           0.154     46\n",
       "reviews_username       0.208     62\n",
       "manufacturer           0.473    141"
      ]
     },
     "execution_count": 18,
     "metadata": {},
     "output_type": "execute_result"
    }
   ],
   "source": [
    "# Checking NULLs again\n",
    "count_for_null = df_wc[df_wc.columns[df_wc.isna().any()]].isna().sum().sort_values(ascending=True)\n",
    "percentage_of_null = (df_wc[df_wc.columns[df_wc.isna().any()]].isna().sum() * 100 / df_wc.shape[0]).sort_values(ascending=True)\n",
    "check_data = pd.concat([percentage_of_null, count_for_null], axis=1, keys=[ 'Percentage', 'Count'])\n",
    "check_data"
   ]
  },
  {
   "cell_type": "markdown",
   "metadata": {
    "id": "Mwbt5_kDUTst"
   },
   "source": [
    "### NULL values in `reviews_username`"
   ]
  },
  {
   "cell_type": "code",
   "execution_count": 19,
   "metadata": {
    "ExecuteTime": {
     "end_time": "2022-04-06T05:46:40.432436Z",
     "start_time": "2022-04-06T05:46:40.408113Z"
    },
    "execution": {
     "iopub.execute_input": "2022-04-14T00:35:08.085960Z",
     "iopub.status.busy": "2022-04-14T00:35:08.085460Z",
     "iopub.status.idle": "2022-04-14T00:35:08.101530Z",
     "shell.execute_reply": "2022-04-14T00:35:08.100527Z",
     "shell.execute_reply.started": "2022-04-14T00:35:08.085919Z"
    },
    "executionInfo": {
     "elapsed": 36,
     "status": "ok",
     "timestamp": 1649225025179,
     "user": {
      "displayName": "Venkatasubramanian S",
      "userId": "06029493893713790610"
     },
     "user_tz": 420
    },
    "id": "I6WFlH-vUTtM"
   },
   "outputs": [],
   "source": [
    "df_wc = df_wc[~ df_wc.reviews_username.isna() ]"
   ]
  },
  {
   "cell_type": "code",
   "execution_count": 20,
   "metadata": {
    "ExecuteTime": {
     "end_time": "2022-04-06T05:46:40.449438Z",
     "start_time": "2022-04-06T05:46:40.436438Z"
    },
    "execution": {
     "iopub.execute_input": "2022-04-14T00:35:08.103070Z",
     "iopub.status.busy": "2022-04-14T00:35:08.102821Z",
     "iopub.status.idle": "2022-04-14T00:35:08.109887Z",
     "shell.execute_reply": "2022-04-14T00:35:08.108952Z",
     "shell.execute_reply.started": "2022-04-14T00:35:08.103041Z"
    },
    "executionInfo": {
     "elapsed": 36,
     "status": "ok",
     "timestamp": 1649225025179,
     "user": {
      "displayName": "Venkatasubramanian S",
      "userId": "06029493893713790610"
     },
     "user_tz": 420
    },
    "id": "LYRMdoUQUTtM",
    "outputId": "3237ecc0-9965-4620-aeed-28b538918e06"
   },
   "outputs": [
    {
     "data": {
      "text/plain": [
       "(29748, 11)"
      ]
     },
     "execution_count": 20,
     "metadata": {},
     "output_type": "execute_result"
    }
   ],
   "source": [
    "# Checking rowcount post deletion\n",
    "df_wc.shape"
   ]
  },
  {
   "cell_type": "code",
   "execution_count": 21,
   "metadata": {
    "ExecuteTime": {
     "end_time": "2022-04-06T05:46:40.573436Z",
     "start_time": "2022-04-06T05:46:40.454232Z"
    },
    "execution": {
     "iopub.execute_input": "2022-04-14T00:35:08.111885Z",
     "iopub.status.busy": "2022-04-14T00:35:08.111561Z",
     "iopub.status.idle": "2022-04-14T00:35:08.219849Z",
     "shell.execute_reply": "2022-04-14T00:35:08.219286Z",
     "shell.execute_reply.started": "2022-04-14T00:35:08.111841Z"
    },
    "executionInfo": {
     "elapsed": 31,
     "status": "ok",
     "timestamp": 1649225025180,
     "user": {
      "displayName": "Venkatasubramanian S",
      "userId": "06029493893713790610"
     },
     "user_tz": 420
    },
    "id": "H01rGivRUTtN",
    "outputId": "9937ad3c-4dde-4023-f3b9-2f653ec5fd7d"
   },
   "outputs": [
    {
     "data": {
      "text/html": [
       "<div>\n",
       "<style scoped>\n",
       "    .dataframe tbody tr th:only-of-type {\n",
       "        vertical-align: middle;\n",
       "    }\n",
       "\n",
       "    .dataframe tbody tr th {\n",
       "        vertical-align: top;\n",
       "    }\n",
       "\n",
       "    .dataframe thead th {\n",
       "        text-align: right;\n",
       "    }\n",
       "</style>\n",
       "<table border=\"1\" class=\"dataframe\">\n",
       "  <thead>\n",
       "    <tr style=\"text-align: right;\">\n",
       "      <th></th>\n",
       "      <th>Percentage</th>\n",
       "      <th>Count</th>\n",
       "    </tr>\n",
       "  </thead>\n",
       "  <tbody>\n",
       "    <tr>\n",
       "      <th>user_sentiment</th>\n",
       "      <td>0.003</td>\n",
       "      <td>1</td>\n",
       "    </tr>\n",
       "    <tr>\n",
       "      <th>reviews_date</th>\n",
       "      <td>0.134</td>\n",
       "      <td>40</td>\n",
       "    </tr>\n",
       "    <tr>\n",
       "      <th>manufacturer</th>\n",
       "      <td>0.474</td>\n",
       "      <td>141</td>\n",
       "    </tr>\n",
       "  </tbody>\n",
       "</table>\n",
       "</div>"
      ],
      "text/plain": [
       "                Percentage  Count\n",
       "user_sentiment       0.003      1\n",
       "reviews_date         0.134     40\n",
       "manufacturer         0.474    141"
      ]
     },
     "execution_count": 21,
     "metadata": {},
     "output_type": "execute_result"
    }
   ],
   "source": [
    "# Checking NULLs again\n",
    "count_for_null = df_wc[df_wc.columns[df_wc.isna().any()]].isna().sum().sort_values(ascending=True)\n",
    "percentage_of_null = (df_wc[df_wc.columns[df_wc.isna().any()]].isna().sum() * 100 / df_wc.shape[0]).sort_values(ascending=True)\n",
    "check_data = pd.concat([percentage_of_null, count_for_null], axis=1, keys=[ 'Percentage', 'Count'])\n",
    "check_data"
   ]
  },
  {
   "cell_type": "markdown",
   "metadata": {
    "id": "_Be6AWenVPvK"
   },
   "source": [
    "### NULL values in `user_sentiment`"
   ]
  },
  {
   "cell_type": "code",
   "execution_count": 22,
   "metadata": {
    "ExecuteTime": {
     "end_time": "2022-04-06T05:46:40.604436Z",
     "start_time": "2022-04-06T05:46:40.576436Z"
    },
    "execution": {
     "iopub.execute_input": "2022-04-14T00:35:08.221928Z",
     "iopub.status.busy": "2022-04-14T00:35:08.221386Z",
     "iopub.status.idle": "2022-04-14T00:35:08.234055Z",
     "shell.execute_reply": "2022-04-14T00:35:08.233231Z",
     "shell.execute_reply.started": "2022-04-14T00:35:08.221884Z"
    },
    "executionInfo": {
     "elapsed": 29,
     "status": "ok",
     "timestamp": 1649225025180,
     "user": {
      "displayName": "Venkatasubramanian S",
      "userId": "06029493893713790610"
     },
     "user_tz": 420
    },
    "id": "sECk8UjPV41Y",
    "outputId": "cf6fd0c8-643f-4dff-a28b-20bb61d22d31"
   },
   "outputs": [
    {
     "data": {
      "text/plain": [
       "Positive    26412\n",
       "Negative     3335\n",
       "Name: user_sentiment, dtype: int64"
      ]
     },
     "execution_count": 22,
     "metadata": {},
     "output_type": "execute_result"
    }
   ],
   "source": [
    "df_wc.user_sentiment.value_counts()"
   ]
  },
  {
   "cell_type": "code",
   "execution_count": 23,
   "metadata": {
    "ExecuteTime": {
     "end_time": "2022-04-06T05:46:40.652026Z",
     "start_time": "2022-04-06T05:46:40.608437Z"
    },
    "execution": {
     "iopub.execute_input": "2022-04-14T00:35:08.236326Z",
     "iopub.status.busy": "2022-04-14T00:35:08.235750Z",
     "iopub.status.idle": "2022-04-14T00:35:08.262097Z",
     "shell.execute_reply": "2022-04-14T00:35:08.261528Z",
     "shell.execute_reply.started": "2022-04-14T00:35:08.236280Z"
    },
    "executionInfo": {
     "elapsed": 842,
     "status": "ok",
     "timestamp": 1649225025999,
     "user": {
      "displayName": "Venkatasubramanian S",
      "userId": "06029493893713790610"
     },
     "user_tz": 420
    },
    "id": "9u2uofIyVTxO",
    "outputId": "465d81db-0652-4ade-abcb-2671b0e55fd9"
   },
   "outputs": [
    {
     "data": {
      "text/html": [
       "<div>\n",
       "<style scoped>\n",
       "    .dataframe tbody tr th:only-of-type {\n",
       "        vertical-align: middle;\n",
       "    }\n",
       "\n",
       "    .dataframe tbody tr th {\n",
       "        vertical-align: top;\n",
       "    }\n",
       "\n",
       "    .dataframe thead th {\n",
       "        text-align: right;\n",
       "    }\n",
       "</style>\n",
       "<table border=\"1\" class=\"dataframe\">\n",
       "  <thead>\n",
       "    <tr style=\"text-align: right;\">\n",
       "      <th></th>\n",
       "      <th>id</th>\n",
       "      <th>brand</th>\n",
       "      <th>categories</th>\n",
       "      <th>manufacturer</th>\n",
       "      <th>name</th>\n",
       "      <th>reviews_date</th>\n",
       "      <th>reviews_rating</th>\n",
       "      <th>reviews_text</th>\n",
       "      <th>reviews_title</th>\n",
       "      <th>reviews_username</th>\n",
       "      <th>user_sentiment</th>\n",
       "    </tr>\n",
       "  </thead>\n",
       "  <tbody>\n",
       "    <tr>\n",
       "      <th>28354</th>\n",
       "      <td>AVpfRTh1ilAPnD_xYic2</td>\n",
       "      <td>Disney</td>\n",
       "      <td>Movies, Music &amp; Books,Movies,Kids' &amp; Family,Ways To Shop Entertainment,Movies &amp; Tv On Blu-Ray,Movies &amp; TV,Disney,Blu-ray,Children &amp; Family,Movies &amp; Music,Movies &amp; TV Shows,Electronics, Tech Toys, Movies, Music,Blu-Rays,See ALL Blu-Ray,Frys</td>\n",
       "      <td>Walt Disney</td>\n",
       "      <td>Planes: Fire Rescue (2 Discs) (includes Digital Copy) (blu-Ray/dvd)</td>\n",
       "      <td>2014-11-07T00:00:00.000Z</td>\n",
       "      <td>5</td>\n",
       "      <td>my kids absolutely loved this film so much that we watched it twice. Having a digital copy means that every time we get in the car we get to watch it wherever we go. we even got to use our $5 reward coupon towards the purchase of this movie so we got an additional $5 off + we got to add the points towards our next rewards coupon we love the savings we get at Best Buy</td>\n",
       "      <td>a super hit with my children. they loved it!!??</td>\n",
       "      <td>7.87E+11</td>\n",
       "      <td>NaN</td>\n",
       "    </tr>\n",
       "  </tbody>\n",
       "</table>\n",
       "</div>"
      ],
      "text/plain": [
       "                         id   brand  \\\n",
       "28354  AVpfRTh1ilAPnD_xYic2  Disney   \n",
       "\n",
       "                                                                                                                                                                                                                                            categories  \\\n",
       "28354  Movies, Music & Books,Movies,Kids' & Family,Ways To Shop Entertainment,Movies & Tv On Blu-Ray,Movies & TV,Disney,Blu-ray,Children & Family,Movies & Music,Movies & TV Shows,Electronics, Tech Toys, Movies, Music,Blu-Rays,See ALL Blu-Ray,Frys   \n",
       "\n",
       "      manufacturer  \\\n",
       "28354  Walt Disney   \n",
       "\n",
       "                                                                      name  \\\n",
       "28354  Planes: Fire Rescue (2 Discs) (includes Digital Copy) (blu-Ray/dvd)   \n",
       "\n",
       "                   reviews_date  reviews_rating  \\\n",
       "28354  2014-11-07T00:00:00.000Z               5   \n",
       "\n",
       "                                                                                                                                                                                                                                                                                                                                                                            reviews_text  \\\n",
       "28354  my kids absolutely loved this film so much that we watched it twice. Having a digital copy means that every time we get in the car we get to watch it wherever we go. we even got to use our $5 reward coupon towards the purchase of this movie so we got an additional $5 off + we got to add the points towards our next rewards coupon we love the savings we get at Best Buy   \n",
       "\n",
       "                                         reviews_title reviews_username  \\\n",
       "28354  a super hit with my children. they loved it!!??         7.87E+11   \n",
       "\n",
       "      user_sentiment  \n",
       "28354            NaN  "
      ]
     },
     "execution_count": 23,
     "metadata": {},
     "output_type": "execute_result"
    }
   ],
   "source": [
    "df_wc[ df_wc.user_sentiment.isna() ]"
   ]
  },
  {
   "cell_type": "code",
   "execution_count": 24,
   "metadata": {
    "ExecuteTime": {
     "end_time": "2022-04-06T05:46:40.683027Z",
     "start_time": "2022-04-06T05:46:40.658440Z"
    },
    "execution": {
     "iopub.execute_input": "2022-04-14T00:35:08.264084Z",
     "iopub.status.busy": "2022-04-14T00:35:08.263595Z",
     "iopub.status.idle": "2022-04-14T00:35:08.276148Z",
     "shell.execute_reply": "2022-04-14T00:35:08.275352Z",
     "shell.execute_reply.started": "2022-04-14T00:35:08.264041Z"
    },
    "executionInfo": {
     "elapsed": 70,
     "status": "ok",
     "timestamp": 1649225026000,
     "user": {
      "displayName": "Venkatasubramanian S",
      "userId": "06029493893713790610"
     },
     "user_tz": 420
    },
    "id": "AUsGDctgVXc-",
    "outputId": "6e179d75-204a-4754-ab4e-53dd1c9e9a09"
   },
   "outputs": [
    {
     "data": {
      "text/plain": [
       "28354    NaN\n",
       "Name: user_sentiment, dtype: object"
      ]
     },
     "execution_count": 24,
     "metadata": {},
     "output_type": "execute_result"
    }
   ],
   "source": [
    "df_wc[ df_wc.user_sentiment.isna() ].user_sentiment"
   ]
  },
  {
   "cell_type": "code",
   "execution_count": 25,
   "metadata": {
    "ExecuteTime": {
     "end_time": "2022-04-06T05:46:40.699028Z",
     "start_time": "2022-04-06T05:46:40.687028Z"
    },
    "execution": {
     "iopub.execute_input": "2022-04-14T00:35:08.283715Z",
     "iopub.status.busy": "2022-04-14T00:35:08.283257Z",
     "iopub.status.idle": "2022-04-14T00:35:08.293143Z",
     "shell.execute_reply": "2022-04-14T00:35:08.292228Z",
     "shell.execute_reply.started": "2022-04-14T00:35:08.283656Z"
    },
    "executionInfo": {
     "elapsed": 65,
     "status": "ok",
     "timestamp": 1649225026001,
     "user": {
      "displayName": "Venkatasubramanian S",
      "userId": "06029493893713790610"
     },
     "user_tz": 420
    },
    "id": "u1Hd1pwOX1e7"
   },
   "outputs": [],
   "source": [
    "df_wc.user_sentiment.fillna('Positive', inplace=True)"
   ]
  },
  {
   "cell_type": "code",
   "execution_count": 26,
   "metadata": {
    "ExecuteTime": {
     "end_time": "2022-04-06T05:46:40.839573Z",
     "start_time": "2022-04-06T05:46:40.703028Z"
    },
    "execution": {
     "iopub.execute_input": "2022-04-14T00:35:08.295131Z",
     "iopub.status.busy": "2022-04-14T00:35:08.294685Z",
     "iopub.status.idle": "2022-04-14T00:35:08.395018Z",
     "shell.execute_reply": "2022-04-14T00:35:08.394299Z",
     "shell.execute_reply.started": "2022-04-14T00:35:08.295084Z"
    },
    "executionInfo": {
     "elapsed": 66,
     "status": "ok",
     "timestamp": 1649225026002,
     "user": {
      "displayName": "Venkatasubramanian S",
      "userId": "06029493893713790610"
     },
     "user_tz": 420
    },
    "id": "DZAvL7d6Yg3m",
    "outputId": "904f01bd-9293-4d29-af5a-9caf2bf17dc6"
   },
   "outputs": [
    {
     "data": {
      "text/html": [
       "<div>\n",
       "<style scoped>\n",
       "    .dataframe tbody tr th:only-of-type {\n",
       "        vertical-align: middle;\n",
       "    }\n",
       "\n",
       "    .dataframe tbody tr th {\n",
       "        vertical-align: top;\n",
       "    }\n",
       "\n",
       "    .dataframe thead th {\n",
       "        text-align: right;\n",
       "    }\n",
       "</style>\n",
       "<table border=\"1\" class=\"dataframe\">\n",
       "  <thead>\n",
       "    <tr style=\"text-align: right;\">\n",
       "      <th></th>\n",
       "      <th>Percentage</th>\n",
       "      <th>Count</th>\n",
       "    </tr>\n",
       "  </thead>\n",
       "  <tbody>\n",
       "    <tr>\n",
       "      <th>reviews_date</th>\n",
       "      <td>0.134</td>\n",
       "      <td>40</td>\n",
       "    </tr>\n",
       "    <tr>\n",
       "      <th>manufacturer</th>\n",
       "      <td>0.474</td>\n",
       "      <td>141</td>\n",
       "    </tr>\n",
       "  </tbody>\n",
       "</table>\n",
       "</div>"
      ],
      "text/plain": [
       "              Percentage  Count\n",
       "reviews_date       0.134     40\n",
       "manufacturer       0.474    141"
      ]
     },
     "execution_count": 26,
     "metadata": {},
     "output_type": "execute_result"
    }
   ],
   "source": [
    "# Checking NULLs again\n",
    "count_for_null = df_wc[df_wc.columns[df_wc.isna().any()]].isna().sum().sort_values(ascending=True)\n",
    "percentage_of_null = (df_wc[df_wc.columns[df_wc.isna().any()]].isna().sum() * 100 / df_wc.shape[0]).sort_values(ascending=True)\n",
    "check_data = pd.concat([percentage_of_null, count_for_null], axis=1, keys=[ 'Percentage', 'Count'])\n",
    "check_data"
   ]
  },
  {
   "cell_type": "code",
   "execution_count": 27,
   "metadata": {
    "ExecuteTime": {
     "end_time": "2022-04-06T05:46:40.886690Z",
     "start_time": "2022-04-06T05:46:40.843725Z"
    },
    "execution": {
     "iopub.execute_input": "2022-04-14T00:35:08.396747Z",
     "iopub.status.busy": "2022-04-14T00:35:08.396242Z",
     "iopub.status.idle": "2022-04-14T00:35:08.411961Z",
     "shell.execute_reply": "2022-04-14T00:35:08.411412Z",
     "shell.execute_reply.started": "2022-04-14T00:35:08.396710Z"
    },
    "executionInfo": {
     "elapsed": 64,
     "status": "ok",
     "timestamp": 1649225026002,
     "user": {
      "displayName": "Venkatasubramanian S",
      "userId": "06029493893713790610"
     },
     "user_tz": 420
    },
    "id": "YpZOnN-XY1G6",
    "outputId": "a1686519-6478-4be7-862d-abca83554cda"
   },
   "outputs": [
    {
     "data": {
      "text/html": [
       "<div>\n",
       "<style scoped>\n",
       "    .dataframe tbody tr th:only-of-type {\n",
       "        vertical-align: middle;\n",
       "    }\n",
       "\n",
       "    .dataframe tbody tr th {\n",
       "        vertical-align: top;\n",
       "    }\n",
       "\n",
       "    .dataframe thead th {\n",
       "        text-align: right;\n",
       "    }\n",
       "</style>\n",
       "<table border=\"1\" class=\"dataframe\">\n",
       "  <thead>\n",
       "    <tr style=\"text-align: right;\">\n",
       "      <th></th>\n",
       "      <th>id</th>\n",
       "      <th>brand</th>\n",
       "      <th>categories</th>\n",
       "      <th>manufacturer</th>\n",
       "      <th>name</th>\n",
       "      <th>reviews_date</th>\n",
       "      <th>reviews_rating</th>\n",
       "      <th>reviews_text</th>\n",
       "      <th>reviews_title</th>\n",
       "      <th>reviews_username</th>\n",
       "      <th>user_sentiment</th>\n",
       "    </tr>\n",
       "  </thead>\n",
       "  <tbody>\n",
       "    <tr>\n",
       "      <th>0</th>\n",
       "      <td>AV13O1A8GV-KLJ3akUyj</td>\n",
       "      <td>Universal Music</td>\n",
       "      <td>Movies, Music &amp; Books,Music,R&amp;b,Movies &amp; TV,Movie Bundles &amp; Collections,CDs &amp; Vinyl,Rap &amp; Hip-Hop,Bass,Music on CD or Vinyl,Rap,Hip-Hop,Mainstream Rap,Pop Rap</td>\n",
       "      <td>Universal Music Group / Cash Money</td>\n",
       "      <td>Pink Friday: Roman Reloaded Re-Up (w/dvd)</td>\n",
       "      <td>2012-11-30T06:21:45.000Z</td>\n",
       "      <td>5</td>\n",
       "      <td>i love this album. it's very good. more to the hip hop side than her current pop sound.. SO HYPE! i listen to this everyday at the gym! i give it 5star rating all the way. her metaphors are just crazy.</td>\n",
       "      <td>Just Awesome</td>\n",
       "      <td>joshua</td>\n",
       "      <td>Positive</td>\n",
       "    </tr>\n",
       "    <tr>\n",
       "      <th>1</th>\n",
       "      <td>AV14LG0R-jtxr-f38QfS</td>\n",
       "      <td>Lundberg</td>\n",
       "      <td>Food,Packaged Foods,Snacks,Crackers,Snacks, Cookies &amp; Chips,Rice Cakes,Cakes</td>\n",
       "      <td>Lundberg</td>\n",
       "      <td>Lundberg Organic Cinnamon Toast Rice Cakes</td>\n",
       "      <td>2017-07-09T00:00:00.000Z</td>\n",
       "      <td>5</td>\n",
       "      <td>Good flavor. This review was collected as part of a promotion.</td>\n",
       "      <td>Good</td>\n",
       "      <td>dorothy w</td>\n",
       "      <td>Positive</td>\n",
       "    </tr>\n",
       "    <tr>\n",
       "      <th>2</th>\n",
       "      <td>AV14LG0R-jtxr-f38QfS</td>\n",
       "      <td>Lundberg</td>\n",
       "      <td>Food,Packaged Foods,Snacks,Crackers,Snacks, Cookies &amp; Chips,Rice Cakes,Cakes</td>\n",
       "      <td>Lundberg</td>\n",
       "      <td>Lundberg Organic Cinnamon Toast Rice Cakes</td>\n",
       "      <td>2017-07-09T00:00:00.000Z</td>\n",
       "      <td>5</td>\n",
       "      <td>Good flavor.</td>\n",
       "      <td>Good</td>\n",
       "      <td>dorothy w</td>\n",
       "      <td>Positive</td>\n",
       "    </tr>\n",
       "    <tr>\n",
       "      <th>3</th>\n",
       "      <td>AV16khLE-jtxr-f38VFn</td>\n",
       "      <td>K-Y</td>\n",
       "      <td>Personal Care,Medicine Cabinet,Lubricant/Spermicide,Health,Sexual Wellness,Lubricants</td>\n",
       "      <td>K-Y</td>\n",
       "      <td>K-Y Love Sensuality Pleasure Gel</td>\n",
       "      <td>2016-01-06T00:00:00.000Z</td>\n",
       "      <td>1</td>\n",
       "      <td>I read through the reviews on here before looking in to buying one of the couples lubricants, and was ultimately disappointed that it didn't even live up to the reviews I had read. For starters, neither my boyfriend nor I could notice any sort of enhanced or 'captivating' sensation. What we did notice, however, was the messy consistency that was reminiscent of a more liquid-y vaseline. It was ...</td>\n",
       "      <td>Disappointed</td>\n",
       "      <td>rebecca</td>\n",
       "      <td>Negative</td>\n",
       "    </tr>\n",
       "    <tr>\n",
       "      <th>4</th>\n",
       "      <td>AV16khLE-jtxr-f38VFn</td>\n",
       "      <td>K-Y</td>\n",
       "      <td>Personal Care,Medicine Cabinet,Lubricant/Spermicide,Health,Sexual Wellness,Lubricants</td>\n",
       "      <td>K-Y</td>\n",
       "      <td>K-Y Love Sensuality Pleasure Gel</td>\n",
       "      <td>2016-12-21T00:00:00.000Z</td>\n",
       "      <td>1</td>\n",
       "      <td>My husband bought this gel for us. The gel caused irritation and it felt like it was burning my skin. I wouldn't recommend this gel.</td>\n",
       "      <td>Irritation</td>\n",
       "      <td>walker557</td>\n",
       "      <td>Negative</td>\n",
       "    </tr>\n",
       "  </tbody>\n",
       "</table>\n",
       "</div>"
      ],
      "text/plain": [
       "                     id            brand  \\\n",
       "0  AV13O1A8GV-KLJ3akUyj  Universal Music   \n",
       "1  AV14LG0R-jtxr-f38QfS         Lundberg   \n",
       "2  AV14LG0R-jtxr-f38QfS         Lundberg   \n",
       "3  AV16khLE-jtxr-f38VFn              K-Y   \n",
       "4  AV16khLE-jtxr-f38VFn              K-Y   \n",
       "\n",
       "                                                                                                                                                       categories  \\\n",
       "0  Movies, Music & Books,Music,R&b,Movies & TV,Movie Bundles & Collections,CDs & Vinyl,Rap & Hip-Hop,Bass,Music on CD or Vinyl,Rap,Hip-Hop,Mainstream Rap,Pop Rap   \n",
       "1                                                                                    Food,Packaged Foods,Snacks,Crackers,Snacks, Cookies & Chips,Rice Cakes,Cakes   \n",
       "2                                                                                    Food,Packaged Foods,Snacks,Crackers,Snacks, Cookies & Chips,Rice Cakes,Cakes   \n",
       "3                                                                           Personal Care,Medicine Cabinet,Lubricant/Spermicide,Health,Sexual Wellness,Lubricants   \n",
       "4                                                                           Personal Care,Medicine Cabinet,Lubricant/Spermicide,Health,Sexual Wellness,Lubricants   \n",
       "\n",
       "                         manufacturer  \\\n",
       "0  Universal Music Group / Cash Money   \n",
       "1                            Lundberg   \n",
       "2                            Lundberg   \n",
       "3                                 K-Y   \n",
       "4                                 K-Y   \n",
       "\n",
       "                                         name              reviews_date  \\\n",
       "0   Pink Friday: Roman Reloaded Re-Up (w/dvd)  2012-11-30T06:21:45.000Z   \n",
       "1  Lundberg Organic Cinnamon Toast Rice Cakes  2017-07-09T00:00:00.000Z   \n",
       "2  Lundberg Organic Cinnamon Toast Rice Cakes  2017-07-09T00:00:00.000Z   \n",
       "3            K-Y Love Sensuality Pleasure Gel  2016-01-06T00:00:00.000Z   \n",
       "4            K-Y Love Sensuality Pleasure Gel  2016-12-21T00:00:00.000Z   \n",
       "\n",
       "   reviews_rating  \\\n",
       "0               5   \n",
       "1               5   \n",
       "2               5   \n",
       "3               1   \n",
       "4               1   \n",
       "\n",
       "                                                                                                                                                                                                                                                                                                                                                                                                      reviews_text  \\\n",
       "0                                                                                                                                                                                                        i love this album. it's very good. more to the hip hop side than her current pop sound.. SO HYPE! i listen to this everyday at the gym! i give it 5star rating all the way. her metaphors are just crazy.   \n",
       "1                                                                                                                                                                                                                                                                                                                                                   Good flavor. This review was collected as part of a promotion.   \n",
       "2                                                                                                                                                                                                                                                                                                                                                                                                     Good flavor.   \n",
       "3  I read through the reviews on here before looking in to buying one of the couples lubricants, and was ultimately disappointed that it didn't even live up to the reviews I had read. For starters, neither my boyfriend nor I could notice any sort of enhanced or 'captivating' sensation. What we did notice, however, was the messy consistency that was reminiscent of a more liquid-y vaseline. It was ...   \n",
       "4                                                                                                                                                                                                                                                                             My husband bought this gel for us. The gel caused irritation and it felt like it was burning my skin. I wouldn't recommend this gel.   \n",
       "\n",
       "  reviews_title reviews_username user_sentiment  \n",
       "0  Just Awesome           joshua       Positive  \n",
       "1          Good        dorothy w       Positive  \n",
       "2          Good        dorothy w       Positive  \n",
       "3  Disappointed          rebecca       Negative  \n",
       "4    Irritation        walker557       Negative  "
      ]
     },
     "execution_count": 27,
     "metadata": {},
     "output_type": "execute_result"
    }
   ],
   "source": [
    "# Check the data for top 5 rows\n",
    "df_wc.head()"
   ]
  },
  {
   "cell_type": "markdown",
   "metadata": {
    "id": "m3uuvNmaaJDm"
   },
   "source": [
    "### Checking  `reviews_rating` column"
   ]
  },
  {
   "cell_type": "code",
   "execution_count": 28,
   "metadata": {
    "ExecuteTime": {
     "end_time": "2022-04-06T05:46:41.446829Z",
     "start_time": "2022-04-06T05:46:40.890578Z"
    },
    "execution": {
     "iopub.execute_input": "2022-04-14T00:35:08.413543Z",
     "iopub.status.busy": "2022-04-14T00:35:08.412838Z",
     "iopub.status.idle": "2022-04-14T00:35:08.611322Z",
     "shell.execute_reply": "2022-04-14T00:35:08.610518Z",
     "shell.execute_reply.started": "2022-04-14T00:35:08.413485Z"
    },
    "executionInfo": {
     "elapsed": 24,
     "status": "ok",
     "timestamp": 1649225026003,
     "user": {
      "displayName": "Venkatasubramanian S",
      "userId": "06029493893713790610"
     },
     "user_tz": 420
    },
    "id": "Z8WbRCinaP5A",
    "outputId": "ad609232-9f43-45f3-aa56-5122b2269c46"
   },
   "outputs": [
    {
     "data": {
      "image/png": "[encoded data removed]",
      "text/plain": [
       "<Figure size 432x288 with 1 Axes>"
      ]
     },
     "metadata": {
      "needs_background": "light"
     },
     "output_type": "display_data"
    }
   ],
   "source": [
    "sns.countplot(x = 'reviews_rating', data = df_wc).set(title=\"reviews rating\", xlabel=\"rating\", ylabel=\"count\")\n",
    "plt.show()"
   ]
  },
  {
   "cell_type": "markdown",
   "metadata": {
    "id": "vW63rn5jbpCi"
   },
   "source": [
    "### Checking for negative reviews"
   ]
  },
  {
   "cell_type": "code",
   "execution_count": 29,
   "metadata": {
    "ExecuteTime": {
     "end_time": "2022-04-06T05:46:41.834180Z",
     "start_time": "2022-04-06T05:46:41.449764Z"
    },
    "execution": {
     "iopub.execute_input": "2022-04-14T00:35:08.612917Z",
     "iopub.status.busy": "2022-04-14T00:35:08.612691Z",
     "iopub.status.idle": "2022-04-14T00:35:09.046377Z",
     "shell.execute_reply": "2022-04-14T00:35:09.045479Z",
     "shell.execute_reply.started": "2022-04-14T00:35:08.612891Z"
    },
    "executionInfo": {
     "elapsed": 460,
     "status": "ok",
     "timestamp": 1649225026441,
     "user": {
      "displayName": "Venkatasubramanian S",
      "userId": "06029493893713790610"
     },
     "user_tz": 420
    },
    "id": "czO2LVuHbtGx",
    "outputId": "73399c77-8e96-4a5e-c4e0-c4954ccdb5c9"
   },
   "outputs": [
    {
     "data": {
      "image/png": "[encoded data removed]",
      "text/plain": [
       "<Figure size 432x288 with 1 Axes>"
      ]
     },
     "metadata": {
      "needs_background": "light"
     },
     "output_type": "display_data"
    }
   ],
   "source": [
    "df_wc[ df_wc.user_sentiment == 'Negative' ].brand.value_counts(normalize=False, ascending=False).head().plot(kind='bar')\n",
    "plt.title(\"Top 5 negative reviews\")\n",
    "plt.xlabel(\"Brands\")\n",
    "plt.ylabel(\"Percentage\")\n",
    "plt.show()"
   ]
  },
  {
   "cell_type": "markdown",
   "metadata": {
    "id": "0vKK5rTfulcU"
   },
   "source": [
    "### Checking positive reviews"
   ]
  },
  {
   "cell_type": "code",
   "execution_count": 30,
   "metadata": {
    "ExecuteTime": {
     "end_time": "2022-04-06T05:46:42.100697Z",
     "start_time": "2022-04-06T05:46:41.836915Z"
    },
    "execution": {
     "iopub.execute_input": "2022-04-14T00:35:09.047592Z",
     "iopub.status.busy": "2022-04-14T00:35:09.047362Z",
     "iopub.status.idle": "2022-04-14T00:35:09.259330Z",
     "shell.execute_reply": "2022-04-14T00:35:09.258436Z",
     "shell.execute_reply.started": "2022-04-14T00:35:09.047563Z"
    },
    "executionInfo": {
     "elapsed": 34,
     "status": "ok",
     "timestamp": 1649225026442,
     "user": {
      "displayName": "Venkatasubramanian S",
      "userId": "06029493893713790610"
     },
     "user_tz": 420
    },
    "id": "IHEWg-tZulcY",
    "outputId": "cf654715-30bf-4d53-d264-0807a1f168d9"
   },
   "outputs": [
    {
     "data": {
      "image/png": "[encoded data removed]",
      "text/plain": [
       "<Figure size 432x288 with 1 Axes>"
      ]
     },
     "metadata": {
      "needs_background": "light"
     },
     "output_type": "display_data"
    }
   ],
   "source": [
    "df_wc[ df_wc.user_sentiment == 'Positive' ].brand.value_counts(normalize=False, ascending=False).head().plot(kind='bar')\n",
    "plt.title(\"Top 5 positive reviews\")\n",
    "plt.xlabel(\"Brands\")\n",
    "plt.ylabel(\"Percentage\")\n",
    "plt.show()"
   ]
  },
  {
   "cell_type": "markdown",
   "metadata": {
    "id": "Zhfchk3zvhY1"
   },
   "source": [
    "### Checking review counts based on year"
   ]
  },
  {
   "cell_type": "code",
   "execution_count": 31,
   "metadata": {
    "ExecuteTime": {
     "end_time": "2022-04-06T05:46:42.195601Z",
     "start_time": "2022-04-06T05:46:42.151472Z"
    },
    "execution": {
     "iopub.execute_input": "2022-04-14T00:35:09.285013Z",
     "iopub.status.busy": "2022-04-14T00:35:09.284629Z",
     "iopub.status.idle": "2022-04-14T00:35:09.310682Z",
     "shell.execute_reply": "2022-04-14T00:35:09.309851Z",
     "shell.execute_reply.started": "2022-04-14T00:35:09.284969Z"
    },
    "executionInfo": {
     "elapsed": 21,
     "status": "ok",
     "timestamp": 1649225026443,
     "user": {
      "displayName": "Venkatasubramanian S",
      "userId": "06029493893713790610"
     },
     "user_tz": 420
    },
    "id": "YJN7VlWHaf1R"
   },
   "outputs": [],
   "source": [
    "df_wc['datetime'] = pd.to_datetime(df_wc['reviews_date'], errors='coerce')"
   ]
  },
  {
   "cell_type": "code",
   "execution_count": 32,
   "metadata": {
    "ExecuteTime": {
     "end_time": "2022-04-06T05:46:42.210818Z",
     "start_time": "2022-04-06T05:46:42.198476Z"
    },
    "execution": {
     "iopub.execute_input": "2022-04-14T00:35:09.312532Z",
     "iopub.status.busy": "2022-04-14T00:35:09.311811Z",
     "iopub.status.idle": "2022-04-14T00:35:09.317981Z",
     "shell.execute_reply": "2022-04-14T00:35:09.317445Z",
     "shell.execute_reply.started": "2022-04-14T00:35:09.312483Z"
    },
    "executionInfo": {
     "elapsed": 22,
     "status": "ok",
     "timestamp": 1649225026444,
     "user": {
      "displayName": "Venkatasubramanian S",
      "userId": "06029493893713790610"
     },
     "user_tz": 420
    },
    "id": "LjLydNFrwoHy",
    "outputId": "ceebf8fd-946c-4f36-f2d9-c01427d20d47"
   },
   "outputs": [
    {
     "data": {
      "text/plain": [
       "datetime64[ns, UTC]"
      ]
     },
     "execution_count": 32,
     "metadata": {},
     "output_type": "execute_result"
    }
   ],
   "source": [
    "# After type conversion\n",
    "df_wc.datetime.dtype"
   ]
  },
  {
   "cell_type": "code",
   "execution_count": 33,
   "metadata": {
    "ExecuteTime": {
     "end_time": "2022-04-06T05:46:42.242674Z",
     "start_time": "2022-04-06T05:46:42.213476Z"
    },
    "execution": {
     "iopub.execute_input": "2022-04-14T00:35:09.319288Z",
     "iopub.status.busy": "2022-04-14T00:35:09.319047Z",
     "iopub.status.idle": "2022-04-14T00:35:09.339090Z",
     "shell.execute_reply": "2022-04-14T00:35:09.338099Z",
     "shell.execute_reply.started": "2022-04-14T00:35:09.319245Z"
    },
    "executionInfo": {
     "elapsed": 16,
     "status": "ok",
     "timestamp": 1649225026444,
     "user": {
      "displayName": "Venkatasubramanian S",
      "userId": "06029493893713790610"
     },
     "user_tz": 420
    },
    "id": "uImchCtLwvU4",
    "outputId": "008dfb94-9169-4a94-e33a-e0f8a03b7c5b"
   },
   "outputs": [
    {
     "data": {
      "text/plain": [
       "0        2012.0\n",
       "1        2017.0\n",
       "2        2017.0\n",
       "3        2016.0\n",
       "4        2016.0\n",
       "          ...  \n",
       "29995    2017.0\n",
       "29996    2017.0\n",
       "29997    2017.0\n",
       "29998    2017.0\n",
       "29999    2017.0\n",
       "Name: datetime, Length: 29748, dtype: float64"
      ]
     },
     "execution_count": 33,
     "metadata": {},
     "output_type": "execute_result"
    }
   ],
   "source": [
    "# Getting year component from date\n",
    "df_wc.datetime.dt.year"
   ]
  },
  {
   "cell_type": "code",
   "execution_count": 34,
   "metadata": {
    "ExecuteTime": {
     "end_time": "2022-04-06T05:46:43.047559Z",
     "start_time": "2022-04-06T05:46:42.245477Z"
    },
    "execution": {
     "iopub.execute_input": "2022-04-14T00:35:09.340813Z",
     "iopub.status.busy": "2022-04-14T00:35:09.340586Z",
     "iopub.status.idle": "2022-04-14T00:35:09.815022Z",
     "shell.execute_reply": "2022-04-14T00:35:09.814345Z",
     "shell.execute_reply.started": "2022-04-14T00:35:09.340788Z"
    },
    "executionInfo": {
     "elapsed": 242,
     "status": "ok",
     "timestamp": 1649225026675,
     "user": {
      "displayName": "Venkatasubramanian S",
      "userId": "06029493893713790610"
     },
     "user_tz": 420
    },
    "id": "2UoiTZpPwp2s",
    "outputId": "a10cf9e3-7597-4e6f-ce13-6c1c056fa1fe"
   },
   "outputs": [
    {
     "data": {
      "image/png": "[encoded data removed]",
      "text/plain": [
       "<Figure size 360x360 with 1 Axes>"
      ]
     },
     "metadata": {
      "needs_background": "light"
     },
     "output_type": "display_data"
    }
   ],
   "source": [
    "# Creating a distribution plot based on reviews year \n",
    "sns.displot(data=df_wc, x=df_wc.datetime.dt.year).set(title=\"reviews by year\", xlabel=\"year\", ylabel=\"count\")\n",
    "plt.show()"
   ]
  },
  {
   "cell_type": "markdown",
   "metadata": {
    "id": "6lHl3R81zna9"
   },
   "source": [
    "### Checking Movie Rating"
   ]
  },
  {
   "cell_type": "code",
   "execution_count": 35,
   "metadata": {
    "ExecuteTime": {
     "end_time": "2022-04-06T05:46:43.343700Z",
     "start_time": "2022-04-06T05:46:43.050820Z"
    },
    "execution": {
     "iopub.execute_input": "2022-04-14T00:35:09.816602Z",
     "iopub.status.busy": "2022-04-14T00:35:09.816224Z",
     "iopub.status.idle": "2022-04-14T00:35:10.073012Z",
     "shell.execute_reply": "2022-04-14T00:35:10.072183Z",
     "shell.execute_reply.started": "2022-04-14T00:35:09.816572Z"
    },
    "executionInfo": {
     "elapsed": 24,
     "status": "ok",
     "timestamp": 1649225026676,
     "user": {
      "displayName": "Venkatasubramanian S",
      "userId": "06029493893713790610"
     },
     "user_tz": 420
    },
    "id": "AJkQE6HC0XCQ",
    "outputId": "eb0ce37f-cd4e-481e-cea1-1ac35e72cdd2"
   },
   "outputs": [
    {
     "data": {
      "image/png": "[encoded data removed]",
      "text/plain": [
       "<Figure size 1080x648 with 1 Axes>"
      ]
     },
     "metadata": {
      "needs_background": "light"
     },
     "output_type": "display_data"
    }
   ],
   "source": [
    "plt.figure(figsize = [15,9])\n",
    "\n",
    "sns.boxplot(data=df_wc, x='user_sentiment', y='reviews_rating', color='green')\n",
    "plt.xticks(rotation = 45)\n",
    "\n",
    "plt.tight_layout(pad = 6)\n",
    "plt.show()"
   ]
  },
  {
   "cell_type": "code",
   "execution_count": 36,
   "metadata": {
    "ExecuteTime": {
     "end_time": "2022-04-06T05:46:43.374616Z",
     "start_time": "2022-04-06T05:46:43.345620Z"
    },
    "execution": {
     "iopub.execute_input": "2022-04-14T00:35:10.074313Z",
     "iopub.status.busy": "2022-04-14T00:35:10.074080Z",
     "iopub.status.idle": "2022-04-14T00:35:10.096978Z",
     "shell.execute_reply": "2022-04-14T00:35:10.096156Z",
     "shell.execute_reply.started": "2022-04-14T00:35:10.074286Z"
    },
    "executionInfo": {
     "elapsed": 23,
     "status": "ok",
     "timestamp": 1649225026676,
     "user": {
      "displayName": "Venkatasubramanian S",
      "userId": "06029493893713790610"
     },
     "user_tz": 420
    },
    "id": "s1kfX1jZ1ueD",
    "outputId": "5cbf1333-2bc8-48ff-ff93-be9373230a7a",
    "scrolled": true
   },
   "outputs": [
    {
     "data": {
      "text/plain": [
       "reviews_rating\n",
       "4     548\n",
       "5    1848\n",
       "Name: user_sentiment, dtype: int64"
      ]
     },
     "execution_count": 36,
     "metadata": {},
     "output_type": "execute_result"
    }
   ],
   "source": [
    "df_wc[ (df_wc.user_sentiment == 'Negative') & (df_wc.reviews_rating >= 4) ].groupby(['reviews_rating']).count().user_sentiment"
   ]
  },
  {
   "cell_type": "markdown",
   "metadata": {},
   "source": [
    "# Conversion"
   ]
  },
  {
   "cell_type": "code",
   "execution_count": 37,
   "metadata": {
    "ExecuteTime": {
     "end_time": "2022-04-06T05:46:43.405802Z",
     "start_time": "2022-04-06T05:46:43.377622Z"
    },
    "execution": {
     "iopub.execute_input": "2022-04-14T00:35:10.099066Z",
     "iopub.status.busy": "2022-04-14T00:35:10.098358Z",
     "iopub.status.idle": "2022-04-14T00:35:10.116674Z",
     "shell.execute_reply": "2022-04-14T00:35:10.115333Z",
     "shell.execute_reply.started": "2022-04-14T00:35:10.099031Z"
    },
    "executionInfo": {
     "elapsed": 16,
     "status": "ok",
     "timestamp": 1649225026677,
     "user": {
      "displayName": "Venkatasubramanian S",
      "userId": "06029493893713790610"
     },
     "user_tz": 420
    },
    "id": "KJfdEtVHDYtr"
   },
   "outputs": [],
   "source": [
    "# Convert all the text columns to string\n",
    "\n",
    "df_wc['reviews_title'] = df_wc['reviews_title'].astype(str)\n",
    "df_wc['reviews_text'] = df_wc['reviews_text'].astype(str)\n",
    "df_wc['reviews_username'] = df_wc['reviews_username'].astype(str)\n",
    "df_wc['brand'] = df_wc['brand'].astype(str)\n",
    "df_wc['manufacturer'] = df_wc['manufacturer'].astype(str)\n",
    "df_wc['name'] = df_wc['name'].astype(str)\n",
    "df_wc['categories'] = df_wc['categories'].astype(str)"
   ]
  },
  {
   "cell_type": "markdown",
   "metadata": {
    "id": "tKMBm4MKAYD7"
   },
   "source": [
    "# Pre-Processing"
   ]
  },
  {
   "cell_type": "code",
   "execution_count": 38,
   "metadata": {
    "ExecuteTime": {
     "end_time": "2022-04-06T05:46:43.421819Z",
     "start_time": "2022-04-06T05:46:43.407619Z"
    },
    "execution": {
     "iopub.execute_input": "2022-04-14T00:35:10.118240Z",
     "iopub.status.busy": "2022-04-14T00:35:10.117957Z",
     "iopub.status.idle": "2022-04-14T00:35:10.131424Z",
     "shell.execute_reply": "2022-04-14T00:35:10.130568Z",
     "shell.execute_reply.started": "2022-04-14T00:35:10.118198Z"
    },
    "executionInfo": {
     "elapsed": 15,
     "status": "ok",
     "timestamp": 1649225026677,
     "user": {
      "displayName": "Venkatasubramanian S",
      "userId": "06029493893713790610"
     },
     "user_tz": 420
    },
    "id": "gqm9l4Hp4G48"
   },
   "outputs": [],
   "source": [
    "# Getting a copy of dataframe for pre-processing\n",
    "df_new_copy = df_wc.copy()"
   ]
  },
  {
   "cell_type": "markdown",
   "metadata": {
    "id": "CRrGA0btzBvC"
   },
   "source": [
    "## Combining columns"
   ]
  },
  {
   "cell_type": "code",
   "execution_count": 39,
   "metadata": {
    "ExecuteTime": {
     "end_time": "2022-04-06T05:46:43.483726Z",
     "start_time": "2022-04-06T05:46:43.424619Z"
    },
    "execution": {
     "iopub.execute_input": "2022-04-14T00:35:10.133178Z",
     "iopub.status.busy": "2022-04-14T00:35:10.132951Z",
     "iopub.status.idle": "2022-04-14T00:35:10.180063Z",
     "shell.execute_reply": "2022-04-14T00:35:10.179200Z",
     "shell.execute_reply.started": "2022-04-14T00:35:10.133152Z"
    },
    "executionInfo": {
     "elapsed": 16,
     "status": "ok",
     "timestamp": 1649225026678,
     "user": {
      "displayName": "Venkatasubramanian S",
      "userId": "06029493893713790610"
     },
     "user_tz": 420
    },
    "id": "W7-jNp5JyCNn"
   },
   "outputs": [],
   "source": [
    "df_new_copy['reviews_combined'] = df_new_copy['reviews_text'] + \" \" + df_new_copy['reviews_title']\n",
    "df_new_copy.drop(columns=['reviews_text', 'reviews_title'], inplace=True)"
   ]
  },
  {
   "cell_type": "code",
   "execution_count": 40,
   "metadata": {
    "ExecuteTime": {
     "end_time": "2022-04-06T05:46:43.499613Z",
     "start_time": "2022-04-06T05:46:43.485613Z"
    },
    "execution": {
     "iopub.execute_input": "2022-04-14T00:35:10.181738Z",
     "iopub.status.busy": "2022-04-14T00:35:10.181400Z",
     "iopub.status.idle": "2022-04-14T00:35:10.187516Z",
     "shell.execute_reply": "2022-04-14T00:35:10.186686Z",
     "shell.execute_reply.started": "2022-04-14T00:35:10.181703Z"
    },
    "executionInfo": {
     "elapsed": 15,
     "status": "ok",
     "timestamp": 1649225026678,
     "user": {
      "displayName": "Venkatasubramanian S",
      "userId": "06029493893713790610"
     },
     "user_tz": 420
    },
    "id": "DwyArWsIyp3X",
    "outputId": "4d768fa3-d090-42bf-d240-2ac6644c35fd"
   },
   "outputs": [
    {
     "data": {
      "text/plain": [
       "(29748, 11)"
      ]
     },
     "execution_count": 40,
     "metadata": {},
     "output_type": "execute_result"
    }
   ],
   "source": [
    "df_new_copy.shape"
   ]
  },
  {
   "cell_type": "markdown",
   "metadata": {
    "id": "PkgXrNMi05kt"
   },
   "source": [
    "## Removing extra columns"
   ]
  },
  {
   "cell_type": "code",
   "execution_count": 41,
   "metadata": {
    "ExecuteTime": {
     "end_time": "2022-04-06T05:46:43.547224Z",
     "start_time": "2022-04-06T05:46:43.533150Z"
    },
    "execution": {
     "iopub.execute_input": "2022-04-14T00:35:10.211659Z",
     "iopub.status.busy": "2022-04-14T00:35:10.211259Z",
     "iopub.status.idle": "2022-04-14T00:35:10.224602Z",
     "shell.execute_reply": "2022-04-14T00:35:10.223612Z",
     "shell.execute_reply.started": "2022-04-14T00:35:10.211575Z"
    },
    "executionInfo": {
     "elapsed": 29,
     "status": "ok",
     "timestamp": 1649225027065,
     "user": {
      "displayName": "Venkatasubramanian S",
      "userId": "06029493893713790610"
     },
     "user_tz": 420
    },
    "id": "cT2tloq308SM"
   },
   "outputs": [],
   "source": [
    "df_new_copy.drop(columns=[ 'datetime', 'manufacturer', 'categories'], inplace=True)"
   ]
  },
  {
   "cell_type": "markdown",
   "metadata": {
    "id": "0IYPACgF2jDd"
   },
   "source": [
    "## Creating new dataframe"
   ]
  },
  {
   "cell_type": "code",
   "execution_count": 42,
   "metadata": {
    "ExecuteTime": {
     "end_time": "2022-04-06T05:46:43.578554Z",
     "start_time": "2022-04-06T05:46:43.565146Z"
    },
    "execution": {
     "iopub.execute_input": "2022-04-14T00:35:10.247034Z",
     "iopub.status.busy": "2022-04-14T00:35:10.246603Z",
     "iopub.status.idle": "2022-04-14T00:35:10.253699Z",
     "shell.execute_reply": "2022-04-14T00:35:10.252720Z",
     "shell.execute_reply.started": "2022-04-14T00:35:10.246987Z"
    },
    "executionInfo": {
     "elapsed": 26,
     "status": "ok",
     "timestamp": 1649225027066,
     "user": {
      "displayName": "Venkatasubramanian S",
      "userId": "06029493893713790610"
     },
     "user_tz": 420
    },
    "id": "1_8anHWH2pJP"
   },
   "outputs": [],
   "source": [
    "#df for sentiment analysis\n",
    "df_sentiment_analysis = df_new_copy[['id','name', 'user_sentiment', 'reviews_combined']]"
   ]
  },
  {
   "cell_type": "code",
   "execution_count": 43,
   "metadata": {
    "ExecuteTime": {
     "end_time": "2022-04-06T05:46:43.594144Z",
     "start_time": "2022-04-06T05:46:43.581316Z"
    },
    "execution": {
     "iopub.execute_input": "2022-04-14T00:35:10.255137Z",
     "iopub.status.busy": "2022-04-14T00:35:10.254884Z",
     "iopub.status.idle": "2022-04-14T00:35:10.268322Z",
     "shell.execute_reply": "2022-04-14T00:35:10.267441Z",
     "shell.execute_reply.started": "2022-04-14T00:35:10.255107Z"
    },
    "executionInfo": {
     "elapsed": 27,
     "status": "ok",
     "timestamp": 1649225027067,
     "user": {
      "displayName": "Venkatasubramanian S",
      "userId": "06029493893713790610"
     },
     "user_tz": 420
    },
    "id": "VEm73zoe3Gse",
    "outputId": "b0804425-8ea4-458a-86ad-632b77610e5f"
   },
   "outputs": [
    {
     "data": {
      "text/plain": [
       "(29748, 4)"
      ]
     },
     "execution_count": 43,
     "metadata": {},
     "output_type": "execute_result"
    }
   ],
   "source": [
    "df_sentiment_analysis.shape"
   ]
  },
  {
   "cell_type": "markdown",
   "metadata": {
    "id": "2KaZT7rmzh2z"
   },
   "source": [
    "## Handling punctuations"
   ]
  },
  {
   "cell_type": "code",
   "execution_count": 44,
   "metadata": {
    "ExecuteTime": {
     "end_time": "2022-04-06T05:46:43.625659Z",
     "start_time": "2022-04-06T05:46:43.613149Z"
    },
    "execution": {
     "iopub.execute_input": "2022-04-14T00:35:10.286103Z",
     "iopub.status.busy": "2022-04-14T00:35:10.285715Z",
     "iopub.status.idle": "2022-04-14T00:35:10.295200Z",
     "shell.execute_reply": "2022-04-14T00:35:10.294414Z",
     "shell.execute_reply.started": "2022-04-14T00:35:10.286056Z"
    },
    "executionInfo": {
     "elapsed": 13,
     "status": "ok",
     "timestamp": 1649225027068,
     "user": {
      "displayName": "Venkatasubramanian S",
      "userId": "06029493893713790610"
     },
     "user_tz": 420
    },
    "id": "s3_qF6qhrZjw"
   },
   "outputs": [],
   "source": [
    "# removing punctuations\n",
    "def removing_punctuations(sentence):\n",
    "    sentence = sentence.lower()\n",
    "    regex_pattern = '[^\\w\\s]'\n",
    "    sentence = re.sub(regex_pattern, '', sentence)\n",
    "    return sentence"
   ]
  },
  {
   "cell_type": "code",
   "execution_count": 45,
   "metadata": {
    "ExecuteTime": {
     "end_time": "2022-04-06T05:46:43.843785Z",
     "start_time": "2022-04-06T05:46:43.627648Z"
    },
    "execution": {
     "iopub.execute_input": "2022-04-14T00:35:10.297327Z",
     "iopub.status.busy": "2022-04-14T00:35:10.296501Z",
     "iopub.status.idle": "2022-04-14T00:35:10.596503Z",
     "shell.execute_reply": "2022-04-14T00:35:10.595587Z",
     "shell.execute_reply.started": "2022-04-14T00:35:10.297263Z"
    },
    "executionInfo": {
     "elapsed": 300,
     "status": "ok",
     "timestamp": 1649225027356,
     "user": {
      "displayName": "Venkatasubramanian S",
      "userId": "06029493893713790610"
     },
     "user_tz": 420
    },
    "id": "pxtF_fBCzmY0"
   },
   "outputs": [],
   "source": [
    "df_sentiment_analysis['reviews_cleaned'] = df_sentiment_analysis['reviews_combined'].apply(removing_punctuations)"
   ]
  },
  {
   "cell_type": "markdown",
   "metadata": {
    "id": "zky4fIxa3khS"
   },
   "source": [
    "## Stopwords removal"
   ]
  },
  {
   "cell_type": "code",
   "execution_count": 46,
   "metadata": {
    "ExecuteTime": {
     "end_time": "2022-04-06T05:46:43.890648Z",
     "start_time": "2022-04-06T05:46:43.861648Z"
    },
    "execution": {
     "iopub.execute_input": "2022-04-14T00:35:10.611719Z",
     "iopub.status.busy": "2022-04-14T00:35:10.611412Z",
     "iopub.status.idle": "2022-04-14T00:35:10.625826Z",
     "shell.execute_reply": "2022-04-14T00:35:10.624932Z",
     "shell.execute_reply.started": "2022-04-14T00:35:10.611638Z"
    },
    "executionInfo": {
     "elapsed": 41,
     "status": "ok",
     "timestamp": 1649225027358,
     "user": {
      "displayName": "Venkatasubramanian S",
      "userId": "06029493893713790610"
     },
     "user_tz": 420
    },
    "id": "Czi5fXv748pC",
    "outputId": "5c66c71c-066c-41f8-ad9a-d8c82b4b9329"
   },
   "outputs": [
    {
     "name": "stderr",
     "output_type": "stream",
     "text": [
      "[nltk_data] Downloading package stopwords to\n",
      "[nltk_data]     C:\\Users\\kous5\\AppData\\Roaming\\nltk_data...\n",
      "[nltk_data]   Package stopwords is already up-to-date!\n"
     ]
    },
    {
     "data": {
      "text/plain": [
       "True"
      ]
     },
     "execution_count": 46,
     "metadata": {},
     "output_type": "execute_result"
    }
   ],
   "source": [
    "nltk.download('stopwords')"
   ]
  },
  {
   "cell_type": "code",
   "execution_count": 47,
   "metadata": {
    "ExecuteTime": {
     "end_time": "2022-04-06T05:46:43.921577Z",
     "start_time": "2022-04-06T05:46:43.892648Z"
    },
    "execution": {
     "iopub.execute_input": "2022-04-14T00:35:10.628257Z",
     "iopub.status.busy": "2022-04-14T00:35:10.627380Z",
     "iopub.status.idle": "2022-04-14T00:35:10.635906Z",
     "shell.execute_reply": "2022-04-14T00:35:10.635002Z",
     "shell.execute_reply.started": "2022-04-14T00:35:10.628214Z"
    },
    "executionInfo": {
     "elapsed": 29,
     "status": "ok",
     "timestamp": 1649225027359,
     "user": {
      "displayName": "Venkatasubramanian S",
      "userId": "06029493893713790610"
     },
     "user_tz": 420
    },
    "id": "yazWXbIE86Dr",
    "outputId": "bb34d5aa-2d54-4824-d3c1-6cd44e7da9e3"
   },
   "outputs": [
    {
     "name": "stdout",
     "output_type": "stream",
     "text": [
      "{\"wouldn't\", 'do', 'that', 'does', 'only', 'between', 'couldn', 'few', 'why', \"won't\", 'his', 'for', 'your', 'you', 'there', 'myself', 'just', 'these', \"isn't\", 'above', 'further', 'once', 'again', 'all', \"should've\", 'down', 'but', 'did', 'a', 'her', 'before', 'into', 'this', 'what', 'more', \"that'll\", 'other', 'm', \"needn't\", \"you'll\", 'needn', 's', 'who', 'wouldn', 'no', 'ma', 'didn', 'than', 'through', 'those', 'itself', 'we', 'they', 'weren', 'has', 'y', \"hadn't\", 'doing', \"you've\", 'should', \"don't\", 'while', 'isn', 'me', 'having', 'doesn', 'their', 'was', 'off', 'from', 'were', 'my', 'himself', \"hasn't\", 'then', 'when', 'o', 're', 'an', \"wasn't\", 'not', 'had', 'yours', 'our', 'in', 'and', 'most', 'too', 'during', 'each', \"shouldn't\", 'been', \"doesn't\", 'yourselves', 'mightn', \"shan't\", 'hadn', 'aren', 'here', 'yourself', 'on', 'have', 'so', 'd', 'shan', 'by', 'wasn', 'about', 'now', 'won', 'nor', 'any', 'or', 'she', 'shouldn', \"mightn't\", \"mustn't\", 'he', 'at', 'some', 'same', 'if', 'am', 'being', \"couldn't\", 'which', 'over', \"didn't\", \"you'd\", 'to', 'how', 'below', 'own', 'where', \"she's\", 'of', \"aren't\", 'hers', 'until', 'll', 'him', 'with', 'haven', 'theirs', 'mustn', 'ain', 'up', \"it's\", 'is', 'because', 'the', 'under', 'don', 'its', 'whom', 'can', 'as', 'very', 'themselves', \"haven't\", 'it', 'herself', 'are', 'hasn', 'both', 't', \"you're\", 'ours', 'them', 'against', 'be', 'after', 'i', 'out', 'such', \"weren't\", 'will', 'ourselves', 've'}\n"
     ]
    }
   ],
   "source": [
    "from nltk.corpus import stopwords\n",
    "stopwords_list = set(stopwords.words(\"english\"))\n",
    "print(stopwords_list)"
   ]
  },
  {
   "cell_type": "code",
   "execution_count": 48,
   "metadata": {
    "ExecuteTime": {
     "end_time": "2022-04-06T05:46:43.936727Z",
     "start_time": "2022-04-06T05:46:43.924542Z"
    },
    "execution": {
     "iopub.execute_input": "2022-04-14T00:35:10.637466Z",
     "iopub.status.busy": "2022-04-14T00:35:10.637110Z",
     "iopub.status.idle": "2022-04-14T00:35:10.646334Z",
     "shell.execute_reply": "2022-04-14T00:35:10.645228Z",
     "shell.execute_reply.started": "2022-04-14T00:35:10.637423Z"
    },
    "executionInfo": {
     "elapsed": 18,
     "status": "ok",
     "timestamp": 1649225027360,
     "user": {
      "displayName": "Venkatasubramanian S",
      "userId": "06029493893713790610"
     },
     "user_tz": 420
    },
    "id": "xi71OmOn3Du4"
   },
   "outputs": [],
   "source": [
    "# stopwords removal\n",
    "def removing_stopwords(sentence):\n",
    "    sentence = sentence.lower()\n",
    "    words = word_tokenize(sentence)\n",
    "    text_nostopwords = \" \".join( [word for word in words if word not in stopwords_list] )\n",
    "    return sentence"
   ]
  },
  {
   "cell_type": "code",
   "execution_count": 49,
   "metadata": {
    "ExecuteTime": {
     "end_time": "2022-04-06T05:46:49.950881Z",
     "start_time": "2022-04-06T05:46:43.939542Z"
    },
    "execution": {
     "iopub.execute_input": "2022-04-14T00:35:10.647837Z",
     "iopub.status.busy": "2022-04-14T00:35:10.647593Z",
     "iopub.status.idle": "2022-04-14T00:35:22.147640Z",
     "shell.execute_reply": "2022-04-14T00:35:22.146729Z",
     "shell.execute_reply.started": "2022-04-14T00:35:10.647805Z"
    },
    "executionInfo": {
     "elapsed": 5707,
     "status": "ok",
     "timestamp": 1649225033050,
     "user": {
      "displayName": "Venkatasubramanian S",
      "userId": "06029493893713790610"
     },
     "user_tz": 420
    },
    "id": "Q42aqBTw9wtw"
   },
   "outputs": [],
   "source": [
    "df_sentiment_analysis['reviews_cleaned'] = df_sentiment_analysis['reviews_cleaned'].apply(removing_stopwords)"
   ]
  },
  {
   "cell_type": "markdown",
   "metadata": {
    "id": "V9qdgjNHUXi9"
   },
   "source": [
    "## Lemmatization"
   ]
  },
  {
   "cell_type": "code",
   "execution_count": 50,
   "metadata": {
    "ExecuteTime": {
     "end_time": "2022-04-06T05:46:49.982027Z",
     "start_time": "2022-04-06T05:46:49.968411Z"
    },
    "execution": {
     "iopub.execute_input": "2022-04-14T00:35:22.162415Z",
     "iopub.status.busy": "2022-04-14T00:35:22.162032Z",
     "iopub.status.idle": "2022-04-14T00:35:22.172297Z",
     "shell.execute_reply": "2022-04-14T00:35:22.171369Z",
     "shell.execute_reply.started": "2022-04-14T00:35:22.162377Z"
    },
    "executionInfo": {
     "elapsed": 12,
     "status": "ok",
     "timestamp": 1649225033052,
     "user": {
      "displayName": "Venkatasubramanian S",
      "userId": "06029493893713790610"
     },
     "user_tz": 420
    },
    "id": "G3N_b4BFUZZu"
   },
   "outputs": [],
   "source": [
    "#Lemmatizing the text\n",
    "def removing_lemma(received_text):\n",
    "    sentence = []\n",
    "    document = nlp(received_text)\n",
    "    for token in document:\n",
    "        sentence.append(token.lemma_)\n",
    "    return \" \".join(sentence)"
   ]
  },
  {
   "cell_type": "code",
   "execution_count": 51,
   "metadata": {
    "ExecuteTime": {
     "end_time": "2022-04-06T05:49:43.459373Z",
     "start_time": "2022-04-06T05:46:49.982950Z"
    },
    "execution": {
     "iopub.execute_input": "2022-04-14T00:35:22.173806Z",
     "iopub.status.busy": "2022-04-14T00:35:22.173570Z",
     "iopub.status.idle": "2022-04-14T00:38:07.401796Z",
     "shell.execute_reply": "2022-04-14T00:38:07.400499Z",
     "shell.execute_reply.started": "2022-04-14T00:35:22.173770Z"
    },
    "executionInfo": {
     "elapsed": 115677,
     "status": "ok",
     "timestamp": 1649225148718,
     "user": {
      "displayName": "Venkatasubramanian S",
      "userId": "06029493893713790610"
     },
     "user_tz": 420
    },
    "id": "pMZ94G-mUl-g"
   },
   "outputs": [],
   "source": [
    "df_sentiment_analysis['reviews_lemmatized'] = df_sentiment_analysis['reviews_cleaned'].apply(removing_lemma)"
   ]
  },
  {
   "cell_type": "code",
   "execution_count": 52,
   "metadata": {
    "ExecuteTime": {
     "end_time": "2022-04-06T05:49:43.507587Z",
     "start_time": "2022-04-06T05:49:43.478369Z"
    },
    "execution": {
     "iopub.execute_input": "2022-04-14T00:38:07.423723Z",
     "iopub.status.busy": "2022-04-14T00:38:07.423370Z",
     "iopub.status.idle": "2022-04-14T00:38:07.443357Z",
     "shell.execute_reply": "2022-04-14T00:38:07.442508Z",
     "shell.execute_reply.started": "2022-04-14T00:38:07.423676Z"
    },
    "executionInfo": {
     "elapsed": 38,
     "status": "ok",
     "timestamp": 1649225148720,
     "user": {
      "displayName": "Venkatasubramanian S",
      "userId": "06029493893713790610"
     },
     "user_tz": 420
    },
    "id": "WRuMgc4Vye_P"
   },
   "outputs": [],
   "source": [
    "df_sentiment_analysis = df_sentiment_analysis[['id','name', 'user_sentiment', 'reviews_lemmatized']]"
   ]
  },
  {
   "cell_type": "code",
   "execution_count": 53,
   "metadata": {
    "ExecuteTime": {
     "end_time": "2022-04-06T05:49:43.537565Z",
     "start_time": "2022-04-06T05:49:43.526371Z"
    },
    "execution": {
     "iopub.execute_input": "2022-04-14T00:38:07.457917Z",
     "iopub.status.busy": "2022-04-14T00:38:07.457164Z",
     "iopub.status.idle": "2022-04-14T00:38:07.463435Z",
     "shell.execute_reply": "2022-04-14T00:38:07.462679Z",
     "shell.execute_reply.started": "2022-04-14T00:38:07.457874Z"
    },
    "executionInfo": {
     "elapsed": 37,
     "status": "ok",
     "timestamp": 1649225148721,
     "user": {
      "displayName": "Venkatasubramanian S",
      "userId": "06029493893713790610"
     },
     "user_tz": 420
    },
    "id": "XjFhSLjAypZj",
    "outputId": "9f204cb4-b3ee-4c80-f480-8a41b8ae089e"
   },
   "outputs": [
    {
     "data": {
      "text/plain": [
       "(29748, 4)"
      ]
     },
     "execution_count": 53,
     "metadata": {},
     "output_type": "execute_result"
    }
   ],
   "source": [
    "df_sentiment_analysis.shape"
   ]
  },
  {
   "cell_type": "code",
   "execution_count": 54,
   "metadata": {},
   "outputs": [],
   "source": [
    "# Saving the the cleaned dataframe\n",
    "pickle.dump(df_sentiment_analysis, open(\"./models/clean_data.pkl\",\"wb\"))"
   ]
  },
  {
   "cell_type": "code",
   "execution_count": 55,
   "metadata": {
    "ExecuteTime": {
     "end_time": "2022-04-06T05:49:44.276922Z",
     "start_time": "2022-04-06T05:49:43.682965Z"
    },
    "execution": {
     "iopub.execute_input": "2022-04-14T00:38:07.505619Z",
     "iopub.status.busy": "2022-04-14T00:38:07.505323Z",
     "iopub.status.idle": "2022-04-14T00:38:07.953252Z",
     "shell.execute_reply": "2022-04-14T00:38:07.952455Z",
     "shell.execute_reply.started": "2022-04-14T00:38:07.505584Z"
    },
    "executionInfo": {
     "elapsed": 197,
     "status": "ok",
     "timestamp": 1649225149257,
     "user": {
      "displayName": "Venkatasubramanian S",
      "userId": "06029493893713790610"
     },
     "user_tz": 420
    },
    "id": "SF8p6QspgU-H",
    "outputId": "7206affa-500a-4314-ba2c-afb764bc74cd"
   },
   "outputs": [
    {
     "data": {
      "image/png": "[encoded data removed]",
      "text/plain": [
       "<Figure size 360x360 with 1 Axes>"
      ]
     },
     "metadata": {
      "needs_background": "light"
     },
     "output_type": "display_data"
    }
   ],
   "source": [
    "# Visualizing 'reviews_lemmatized' character length\n",
    "length_of_character = [len(sentence) for sentence in df_sentiment_analysis['reviews_lemmatized']]\n",
    "\n",
    "sns.displot(length_of_character, kind='hist', bins=100)\n",
    "plt.xlabel(\"Character length\")\n",
    "plt.ylabel(\"Review count\")\n",
    "plt.title(\"Reviews character length\")\n",
    "plt.show()"
   ]
  },
  {
   "cell_type": "markdown",
   "metadata": {},
   "source": [
    "## TF-IDF"
   ]
  },
  {
   "cell_type": "code",
   "execution_count": 56,
   "metadata": {
    "ExecuteTime": {
     "end_time": "2022-04-06T05:49:44.636843Z",
     "start_time": "2022-04-06T05:49:44.622733Z"
    },
    "execution": {
     "iopub.execute_input": "2022-04-14T00:38:08.212483Z",
     "iopub.status.busy": "2022-04-14T00:38:08.212124Z",
     "iopub.status.idle": "2022-04-14T00:38:08.217148Z",
     "shell.execute_reply": "2022-04-14T00:38:08.216507Z",
     "shell.execute_reply.started": "2022-04-14T00:38:08.212453Z"
    },
    "executionInfo": {
     "elapsed": 7,
     "status": "ok",
     "timestamp": 1649225149622,
     "user": {
      "displayName": "Venkatasubramanian S",
      "userId": "06029493893713790610"
     },
     "user_tz": 420
    },
    "id": "xcCRfOJ00ejP"
   },
   "outputs": [],
   "source": [
    "#TfidfVectorizer \n",
    "tfidf = TfidfVectorizer(min_df=5, max_df=0.95, stop_words='english', ngram_range=(1,2))"
   ]
  },
  {
   "cell_type": "code",
   "execution_count": 57,
   "metadata": {
    "ExecuteTime": {
     "end_time": "2022-04-06T05:49:47.560376Z",
     "start_time": "2022-04-06T05:49:44.638732Z"
    },
    "execution": {
     "iopub.execute_input": "2022-04-14T00:38:08.218853Z",
     "iopub.status.busy": "2022-04-14T00:38:08.218600Z",
     "iopub.status.idle": "2022-04-14T00:38:10.382261Z",
     "shell.execute_reply": "2022-04-14T00:38:10.381493Z",
     "shell.execute_reply.started": "2022-04-14T00:38:08.218821Z"
    },
    "executionInfo": {
     "elapsed": 1766,
     "status": "ok",
     "timestamp": 1649225151381,
     "user": {
      "displayName": "Venkatasubramanian S",
      "userId": "06029493893713790610"
     },
     "user_tz": 420
    },
    "id": "74AiC-261aOI"
   },
   "outputs": [],
   "source": [
    "X = tfidf.fit_transform(df_sentiment_analysis['reviews_lemmatized'])\n",
    "\n",
    "y= df_sentiment_analysis['user_sentiment']"
   ]
  },
  {
   "cell_type": "code",
   "execution_count": 58,
   "metadata": {},
   "outputs": [],
   "source": [
    "# Saving the the tfidf vectorizer model\n",
    "pickle.dump(tfidf, open(\"./models/tfidf.pkl\",\"wb\"))"
   ]
  },
  {
   "cell_type": "markdown",
   "metadata": {
    "id": "t0vlaZ5l4BMi"
   },
   "source": [
    "## Train, test split"
   ]
  },
  {
   "cell_type": "code",
   "execution_count": 59,
   "metadata": {
    "ExecuteTime": {
     "end_time": "2022-04-06T05:49:47.731994Z",
     "start_time": "2022-04-06T05:49:47.703228Z"
    },
    "execution": {
     "iopub.execute_input": "2022-04-14T00:38:10.383569Z",
     "iopub.status.busy": "2022-04-14T00:38:10.383354Z",
     "iopub.status.idle": "2022-04-14T00:38:10.399643Z",
     "shell.execute_reply": "2022-04-14T00:38:10.398810Z",
     "shell.execute_reply.started": "2022-04-14T00:38:10.383542Z"
    },
    "executionInfo": {
     "elapsed": 41,
     "status": "ok",
     "timestamp": 1649225151383,
     "user": {
      "displayName": "Venkatasubramanian S",
      "userId": "06029493893713790610"
     },
     "user_tz": 420
    },
    "id": "euq3KXRO4E3y"
   },
   "outputs": [],
   "source": [
    "X_train, X_test, y_train, y_test = train_test_split(X, y, random_state=42, test_size=0.25)"
   ]
  },
  {
   "cell_type": "code",
   "execution_count": 60,
   "metadata": {
    "ExecuteTime": {
     "end_time": "2022-04-06T05:49:47.747225Z",
     "start_time": "2022-04-06T05:49:47.734224Z"
    },
    "execution": {
     "iopub.execute_input": "2022-04-14T00:38:10.401531Z",
     "iopub.status.busy": "2022-04-14T00:38:10.401019Z",
     "iopub.status.idle": "2022-04-14T00:38:10.407946Z",
     "shell.execute_reply": "2022-04-14T00:38:10.407337Z",
     "shell.execute_reply.started": "2022-04-14T00:38:10.401491Z"
    },
    "executionInfo": {
     "elapsed": 40,
     "status": "ok",
     "timestamp": 1649225151384,
     "user": {
      "displayName": "Venkatasubramanian S",
      "userId": "06029493893713790610"
     },
     "user_tz": 420
    },
    "id": "8kUprVIP5usN",
    "outputId": "4719b7c2-cbfc-44de-e8c0-74a7ee98b6f8"
   },
   "outputs": [
    {
     "name": "stdout",
     "output_type": "stream",
     "text": [
      "Training data shape: (22311, 16073) (22311,)\n",
      "Test data shape: (7437, 16073) (7437,)\n"
     ]
    }
   ],
   "source": [
    "print(\"Training data shape:\", X_train.shape, y_train.shape)\n",
    "print(\"Test data shape:\", X_test.shape, y_test.shape)"
   ]
  },
  {
   "cell_type": "markdown",
   "metadata": {
    "id": "HPxiuySG4Msp"
   },
   "source": [
    "## Class Imbalance"
   ]
  },
  {
   "cell_type": "code",
   "execution_count": 61,
   "metadata": {
    "ExecuteTime": {
     "end_time": "2022-04-06T05:49:47.763325Z",
     "start_time": "2022-04-06T05:49:47.749226Z"
    },
    "execution": {
     "iopub.execute_input": "2022-04-14T00:38:10.409578Z",
     "iopub.status.busy": "2022-04-14T00:38:10.409337Z",
     "iopub.status.idle": "2022-04-14T00:38:10.429473Z",
     "shell.execute_reply": "2022-04-14T00:38:10.428704Z",
     "shell.execute_reply.started": "2022-04-14T00:38:10.409546Z"
    },
    "executionInfo": {
     "elapsed": 24,
     "status": "ok",
     "timestamp": 1649225151385,
     "user": {
      "displayName": "Venkatasubramanian S",
      "userId": "06029493893713790610"
     },
     "user_tz": 420
    },
    "id": "HUWYWbXW4OD1",
    "outputId": "6091b061-3f62-4ecf-b79f-e67fea986eca"
   },
   "outputs": [
    {
     "data": {
      "text/plain": [
       "Positive    26413\n",
       "Negative     3335\n",
       "Name: user_sentiment, dtype: int64"
      ]
     },
     "execution_count": 61,
     "metadata": {},
     "output_type": "execute_result"
    }
   ],
   "source": [
    "# Check for imbalance\n",
    "df_sentiment_analysis['user_sentiment'].value_counts(normalize=False)"
   ]
  },
  {
   "cell_type": "code",
   "execution_count": 62,
   "metadata": {
    "ExecuteTime": {
     "end_time": "2022-04-06T05:49:48.982106Z",
     "start_time": "2022-04-06T05:49:47.781221Z"
    },
    "execution": {
     "iopub.execute_input": "2022-04-14T00:38:10.446356Z",
     "iopub.status.busy": "2022-04-14T00:38:10.446092Z",
     "iopub.status.idle": "2022-04-14T00:38:10.916871Z",
     "shell.execute_reply": "2022-04-14T00:38:10.916000Z",
     "shell.execute_reply.started": "2022-04-14T00:38:10.446323Z"
    },
    "executionInfo": {
     "elapsed": 591,
     "status": "ok",
     "timestamp": 1649225151964,
     "user": {
      "displayName": "Venkatasubramanian S",
      "userId": "06029493893713790610"
     },
     "user_tz": 420
    },
    "id": "xm_gEMbX5lC4",
    "outputId": "175a119e-be42-4892-c3b5-c121a46ba72e"
   },
   "outputs": [
    {
     "name": "stdout",
     "output_type": "stream",
     "text": [
      "Without handling imbalance Counter({'Positive': 19786, 'Negative': 2525})\n",
      "With handling imbalance Counter({'Positive': 19786, 'Negative': 19786})\n"
     ]
    }
   ],
   "source": [
    "counter = Counter(y_train)\n",
    "print(\"Without handling imbalance\", counter)\n",
    "\n",
    "#oversampling using SMOTE\n",
    "smote = SMOTE(random_state=42)\n",
    "X_train_sm, y_train_sm = smote.fit_resample(X_train,y_train)\n",
    "\n",
    "counter = Counter(y_train_sm)\n",
    "print(\"With handling imbalance\", counter)"
   ]
  },
  {
   "cell_type": "markdown",
   "metadata": {},
   "source": [
    "# Building the model"
   ]
  },
  {
   "cell_type": "code",
   "execution_count": 63,
   "metadata": {
    "ExecuteTime": {
     "end_time": "2022-04-06T05:49:48.985056Z",
     "start_time": "2022-04-06T05:46:27.117Z"
    },
    "execution": {
     "iopub.execute_input": "2022-04-14T00:38:10.918325Z",
     "iopub.status.busy": "2022-04-14T00:38:10.918047Z",
     "iopub.status.idle": "2022-04-14T00:38:10.934712Z",
     "shell.execute_reply": "2022-04-14T00:38:10.933745Z",
     "shell.execute_reply.started": "2022-04-14T00:38:10.918295Z"
    },
    "executionInfo": {
     "elapsed": 6,
     "status": "ok",
     "timestamp": 1649225151965,
     "user": {
      "displayName": "Venkatasubramanian S",
      "userId": "06029493893713790610"
     },
     "user_tz": 420
    },
    "id": "wSiyk89p8RaD"
   },
   "outputs": [],
   "source": [
    "# displaying scores\n",
    "def score_calculation(classifier, X_test, y_test):\n",
    "\n",
    "  y_pred = classifier.predict(X_test)\n",
    "  conf_m = confusion_matrix(y_test, y_pred)\n",
    "  print(\"Confusion Matrix \")\n",
    "  fig, ax = plt.subplots(figsize=(6, 6))\n",
    "  ax = sns.heatmap(confusion_matrix(y_test, y_pred),\n",
    "                  annot=True,\n",
    "                  cbar=False,\n",
    "                  cmap=\"RdYlGn\", fmt = '0.1f')\n",
    "  plt.xlabel(\"Actual\")\n",
    "  plt.ylabel(\"Predicted\")\n",
    "  plt.show()\n",
    "\n",
    "  # Calculating the values of True Positives, True Negatives, False Positivies and False Negatives\n",
    "  TP = conf_m[1][1]\n",
    "  TN = conf_m[0][0]\n",
    "  FP = conf_m[0][1]\n",
    "  FN = conf_m[1][0]\n",
    "\n",
    "  print('True Positives:', TP)\n",
    "  print('True Negatives:', TN)\n",
    "  print('False Positives:', FP)\n",
    "  print('False Negatives:', FN)\n",
    "  print(\"\\n\")\n",
    "\n",
    "  accuracy_value = accuracy_score(y_test, y_pred)\n",
    "  accuracy = round(accuracy_value,3)\n",
    "  \n",
    "  sensitivity_score = (TP / float(TP + FN))\n",
    "  sensitivity = round(sensitivity_score,3)\n",
    "  \n",
    "  specificity_score = (TN / float(TN + FP))\n",
    "  specificity = round(specificity_score,3)  \n",
    "  \n",
    "  precision_score = (TN / float(TN + FP))\n",
    "  precision = round(precision_score,3)  \n",
    "  \n",
    "  F1_score = 2 * ((precision * sensitivity) / (precision + sensitivity))\n",
    "  F1_score = round(F1_score,3)  \n",
    "  \n",
    "  print(f'Accuracy Score: {accuracy}')\n",
    "  print(f'Sensitivity Score: {sensitivity}') \n",
    "  print(f'Specificity Score: {specificity}') \n",
    "  print(f'Precision: {precision}')\n",
    "  print(f'F1 Score: {F1_score}')\n",
    "\n",
    "  evaluation_metrics = []\n",
    "  evaluation_metrics.append(accuracy)\n",
    "  evaluation_metrics.append(sensitivity)\n",
    "  evaluation_metrics.append(specificity)\n",
    "  evaluation_metrics.append(precision)\n",
    "  evaluation_metrics.append(F1_score)\n",
    "  \n",
    "  return evaluation_metrics"
   ]
  },
  {
   "cell_type": "markdown",
   "metadata": {
    "id": "Cc8g7X-5Ft5n"
   },
   "source": [
    "## Logistic Regression"
   ]
  },
  {
   "cell_type": "code",
   "execution_count": 64,
   "metadata": {
    "ExecuteTime": {
     "end_time": "2022-04-06T05:49:48.985835Z",
     "start_time": "2022-04-06T05:46:27.126Z"
    },
    "execution": {
     "iopub.execute_input": "2022-04-14T00:38:10.936978Z",
     "iopub.status.busy": "2022-04-14T00:38:10.936180Z",
     "iopub.status.idle": "2022-04-14T00:38:11.672070Z",
     "shell.execute_reply": "2022-04-14T00:38:11.671042Z",
     "shell.execute_reply.started": "2022-04-14T00:38:10.936940Z"
    },
    "executionInfo": {
     "elapsed": 692,
     "status": "ok",
     "timestamp": 1649225152653,
     "user": {
      "displayName": "Venkatasubramanian S",
      "userId": "06029493893713790610"
     },
     "user_tz": 420
    },
    "id": "e5ipGWBVFv4v"
   },
   "outputs": [],
   "source": [
    "regressor = LogisticRegression(random_state=42, solver='liblinear').fit(X_train_sm, y_train_sm)"
   ]
  },
  {
   "cell_type": "code",
   "execution_count": 65,
   "metadata": {
    "ExecuteTime": {
     "end_time": "2022-04-06T05:49:48.986836Z",
     "start_time": "2022-04-06T05:46:27.132Z"
    },
    "execution": {
     "iopub.execute_input": "2022-04-14T00:38:11.674244Z",
     "iopub.status.busy": "2022-04-14T00:38:11.673748Z",
     "iopub.status.idle": "2022-04-14T00:38:11.993742Z",
     "shell.execute_reply": "2022-04-14T00:38:11.992847Z",
     "shell.execute_reply.started": "2022-04-14T00:38:11.674199Z"
    },
    "executionInfo": {
     "elapsed": 339,
     "status": "ok",
     "timestamp": 1649225152988,
     "user": {
      "displayName": "Venkatasubramanian S",
      "userId": "06029493893713790610"
     },
     "user_tz": 420
    },
    "id": "ZPKOknlzHKvs",
    "outputId": "cae3c789-3f73-4ee1-8723-bd2b30b6f6bc"
   },
   "outputs": [
    {
     "name": "stdout",
     "output_type": "stream",
     "text": [
      "Confusion Matrix \n"
     ]
    },
    {
     "data": {
      "image/png": "[encoded data removed]",
      "text/plain": [
       "<Figure size 432x432 with 1 Axes>"
      ]
     },
     "metadata": {
      "needs_background": "light"
     },
     "output_type": "display_data"
    },
    {
     "name": "stdout",
     "output_type": "stream",
     "text": [
      "True Positives: 5885\n",
      "True Negatives: 603\n",
      "False Positives: 207\n",
      "False Negatives: 742\n",
      "\n",
      "\n",
      "Accuracy Score: 0.872\n",
      "Sensitivity Score: 0.888\n",
      "Specificity Score: 0.744\n",
      "Precision: 0.744\n",
      "F1 Score: 0.81\n"
     ]
    }
   ],
   "source": [
    "logistic_regression_metrics = score_calculation(regressor, X_test, y_test)"
   ]
  },
  {
   "cell_type": "code",
   "execution_count": 66,
   "metadata": {
    "ExecuteTime": {
     "end_time": "2022-04-06T05:49:48.986836Z",
     "start_time": "2022-04-06T05:46:27.139Z"
    },
    "execution": {
     "iopub.execute_input": "2022-04-14T00:38:11.995631Z",
     "iopub.status.busy": "2022-04-14T00:38:11.995198Z",
     "iopub.status.idle": "2022-04-14T00:38:12.009696Z",
     "shell.execute_reply": "2022-04-14T00:38:12.008594Z",
     "shell.execute_reply.started": "2022-04-14T00:38:11.995587Z"
    },
    "executionInfo": {
     "elapsed": 15,
     "status": "ok",
     "timestamp": 1649225152989,
     "user": {
      "displayName": "Venkatasubramanian S",
      "userId": "06029493893713790610"
     },
     "user_tz": 420
    },
    "id": "WbLv2wsfFH0g",
    "outputId": "33fb0c03-79fc-44ee-ef38-2f9318a7a9b9"
   },
   "outputs": [
    {
     "data": {
      "text/html": [
       "<div>\n",
       "<style scoped>\n",
       "    .dataframe tbody tr th:only-of-type {\n",
       "        vertical-align: middle;\n",
       "    }\n",
       "\n",
       "    .dataframe tbody tr th {\n",
       "        vertical-align: top;\n",
       "    }\n",
       "\n",
       "    .dataframe thead th {\n",
       "        text-align: right;\n",
       "    }\n",
       "</style>\n",
       "<table border=\"1\" class=\"dataframe\">\n",
       "  <thead>\n",
       "    <tr style=\"text-align: right;\">\n",
       "      <th></th>\n",
       "      <th>Metrics</th>\n",
       "      <th>Base Model</th>\n",
       "    </tr>\n",
       "  </thead>\n",
       "  <tbody>\n",
       "    <tr>\n",
       "      <th>0</th>\n",
       "      <td>Accuracy</td>\n",
       "      <td>0.872</td>\n",
       "    </tr>\n",
       "    <tr>\n",
       "      <th>1</th>\n",
       "      <td>Sensitivity</td>\n",
       "      <td>0.888</td>\n",
       "    </tr>\n",
       "    <tr>\n",
       "      <th>2</th>\n",
       "      <td>Specificity</td>\n",
       "      <td>0.744</td>\n",
       "    </tr>\n",
       "    <tr>\n",
       "      <th>3</th>\n",
       "      <td>Precision</td>\n",
       "      <td>0.744</td>\n",
       "    </tr>\n",
       "    <tr>\n",
       "      <th>4</th>\n",
       "      <td>F1 Score</td>\n",
       "      <td>0.810</td>\n",
       "    </tr>\n",
       "  </tbody>\n",
       "</table>\n",
       "</div>"
      ],
      "text/plain": [
       "       Metrics  Base Model\n",
       "0     Accuracy       0.872\n",
       "1  Sensitivity       0.888\n",
       "2  Specificity       0.744\n",
       "3    Precision       0.744\n",
       "4     F1 Score       0.810"
      ]
     },
     "execution_count": 66,
     "metadata": {},
     "output_type": "execute_result"
    }
   ],
   "source": [
    "# Printing the scores of the base model as reference\n",
    "df_logrermat = pd.DataFrame({'Metrics': ['Accuracy','Sensitivity','Specificity','Precision','F1 Score'], 'Base Model': logistic_regression_metrics},\n",
    "                             columns = ['Metrics', 'Base Model']\n",
    "                             )\n",
    "df_logrermat"
   ]
  },
  {
   "cell_type": "markdown",
   "metadata": {
    "id": "n2wS6th5Oo_w"
   },
   "source": [
    "### HyperParameter Tuning"
   ]
  },
  {
   "cell_type": "code",
   "execution_count": 67,
   "metadata": {
    "ExecuteTime": {
     "end_time": "2022-04-06T05:49:48.988841Z",
     "start_time": "2022-04-06T05:46:27.146Z"
    },
    "execution": {
     "iopub.execute_input": "2022-04-14T00:38:12.023285Z",
     "iopub.status.busy": "2022-04-14T00:38:12.022786Z",
     "iopub.status.idle": "2022-04-14T00:38:12.027775Z",
     "shell.execute_reply": "2022-04-14T00:38:12.026822Z",
     "shell.execute_reply.started": "2022-04-14T00:38:12.023213Z"
    },
    "executionInfo": {
     "elapsed": 11,
     "status": "ok",
     "timestamp": 1649225152989,
     "user": {
      "displayName": "Venkatasubramanian S",
      "userId": "06029493893713790610"
     },
     "user_tz": 420
    },
    "id": "1DgG_23OOqz7"
   },
   "outputs": [],
   "source": [
    "logisticRegressor_grid = {\"C\": [100, 10, 5, 4, 3, 2, 1, 1.0, 0.1, 0.01],\n",
    "                \"solver\": [\"liblinear\"]}"
   ]
  },
  {
   "cell_type": "code",
   "execution_count": 68,
   "metadata": {
    "ExecuteTime": {
     "end_time": "2022-04-06T05:49:48.989838Z",
     "start_time": "2022-04-06T05:46:27.153Z"
    },
    "execution": {
     "iopub.execute_input": "2022-04-14T00:38:12.029665Z",
     "iopub.status.busy": "2022-04-14T00:38:12.029151Z",
     "iopub.status.idle": "2022-04-14T00:38:28.140556Z",
     "shell.execute_reply": "2022-04-14T00:38:28.139245Z",
     "shell.execute_reply.started": "2022-04-14T00:38:12.029616Z"
    },
    "executionInfo": {
     "elapsed": 42621,
     "status": "ok",
     "timestamp": 1649225195600,
     "user": {
      "displayName": "Venkatasubramanian S",
      "userId": "06029493893713790610"
     },
     "user_tz": 420
    },
    "id": "qQuNrpxYO1QE",
    "outputId": "6b65bc2e-4afd-42b2-d67b-0568e6c1bbaa"
   },
   "outputs": [
    {
     "name": "stdout",
     "output_type": "stream",
     "text": [
      "Fitting 5 folds for each of 10 candidates, totalling 50 fits\n"
     ]
    }
   ],
   "source": [
    "logisticRegressor_hyperparameter_tuning = GridSearchCV(LogisticRegression(random_state=42),\n",
    "                                param_grid=logisticRegressor_grid,\n",
    "                                cv=5,\n",
    "                                verbose=True,\n",
    "                                n_jobs=-1,\n",
    "                                scoring='f1')\n",
    "\n",
    "logisticRegressor_hyperparameter_tuning.fit(X_train_sm, y_train_sm);"
   ]
  },
  {
   "cell_type": "code",
   "execution_count": 69,
   "metadata": {
    "ExecuteTime": {
     "end_time": "2022-04-06T05:49:48.990835Z",
     "start_time": "2022-04-06T05:46:27.159Z"
    },
    "execution": {
     "iopub.execute_input": "2022-04-14T00:38:28.143553Z",
     "iopub.status.busy": "2022-04-14T00:38:28.142913Z",
     "iopub.status.idle": "2022-04-14T00:38:28.150856Z",
     "shell.execute_reply": "2022-04-14T00:38:28.149973Z",
     "shell.execute_reply.started": "2022-04-14T00:38:28.143500Z"
    },
    "executionInfo": {
     "elapsed": 21,
     "status": "ok",
     "timestamp": 1649225195601,
     "user": {
      "displayName": "Venkatasubramanian S",
      "userId": "06029493893713790610"
     },
     "user_tz": 420
    },
    "id": "UhXEo0JxO4o3",
    "outputId": "107acfea-ab23-44ec-eadc-64db0c54e08a"
   },
   "outputs": [
    {
     "data": {
      "text/plain": [
       "{'C': 100, 'solver': 'liblinear'}"
      ]
     },
     "execution_count": 69,
     "metadata": {},
     "output_type": "execute_result"
    }
   ],
   "source": [
    "logisticRegressor_hyperparameter_tuning.best_params_"
   ]
  },
  {
   "cell_type": "markdown",
   "metadata": {
    "id": "5GPWSGrnPMhp"
   },
   "source": [
    "### HyperParameter Tuned Model"
   ]
  },
  {
   "cell_type": "code",
   "execution_count": 70,
   "metadata": {
    "ExecuteTime": {
     "end_time": "2022-04-06T05:49:48.991837Z",
     "start_time": "2022-04-06T05:46:27.168Z"
    },
    "execution": {
     "iopub.execute_input": "2022-04-14T00:38:28.153202Z",
     "iopub.status.busy": "2022-04-14T00:38:28.152613Z",
     "iopub.status.idle": "2022-04-14T00:38:28.467708Z",
     "shell.execute_reply": "2022-04-14T00:38:28.466960Z",
     "shell.execute_reply.started": "2022-04-14T00:38:28.153157Z"
    },
    "executionInfo": {
     "elapsed": 17,
     "status": "ok",
     "timestamp": 1649225195602,
     "user": {
      "displayName": "Venkatasubramanian S",
      "userId": "06029493893713790610"
     },
     "user_tz": 420
    },
    "id": "4wNek8yjPQKu",
    "outputId": "33114337-4f98-4d2d-d978-09992dd29172"
   },
   "outputs": [
    {
     "name": "stdout",
     "output_type": "stream",
     "text": [
      "Confusion Matrix \n"
     ]
    },
    {
     "data": {
      "image/png": "[encoded data removed]",
      "text/plain": [
       "<Figure size 432x432 with 1 Axes>"
      ]
     },
     "metadata": {
      "needs_background": "light"
     },
     "output_type": "display_data"
    },
    {
     "name": "stdout",
     "output_type": "stream",
     "text": [
      "True Positives: 6123\n",
      "True Negatives: 468\n",
      "False Positives: 342\n",
      "False Negatives: 504\n",
      "\n",
      "\n",
      "Accuracy Score: 0.886\n",
      "Sensitivity Score: 0.924\n",
      "Specificity Score: 0.578\n",
      "Precision: 0.578\n",
      "F1 Score: 0.711\n"
     ]
    }
   ],
   "source": [
    "# Getting the scores of the tuned model\n",
    "logisticRegressor_tuned_metrics = score_calculation(logisticRegressor_hyperparameter_tuning, X_test, y_test)"
   ]
  },
  {
   "cell_type": "code",
   "execution_count": 71,
   "metadata": {
    "ExecuteTime": {
     "end_time": "2022-04-06T05:49:48.992837Z",
     "start_time": "2022-04-06T05:46:27.175Z"
    },
    "execution": {
     "iopub.execute_input": "2022-04-14T00:38:28.469211Z",
     "iopub.status.busy": "2022-04-14T00:38:28.468858Z",
     "iopub.status.idle": "2022-04-14T00:38:28.485553Z",
     "shell.execute_reply": "2022-04-14T00:38:28.484689Z",
     "shell.execute_reply.started": "2022-04-14T00:38:28.469183Z"
    },
    "executionInfo": {
     "elapsed": 10,
     "status": "ok",
     "timestamp": 1649225195602,
     "user": {
      "displayName": "Venkatasubramanian S",
      "userId": "06029493893713790610"
     },
     "user_tz": 420
    },
    "id": "xenL6Cs2PdI4",
    "outputId": "3d2479d6-1fd9-4152-d827-f15443546709"
   },
   "outputs": [
    {
     "data": {
      "text/html": [
       "<div>\n",
       "<style scoped>\n",
       "    .dataframe tbody tr th:only-of-type {\n",
       "        vertical-align: middle;\n",
       "    }\n",
       "\n",
       "    .dataframe tbody tr th {\n",
       "        vertical-align: top;\n",
       "    }\n",
       "\n",
       "    .dataframe thead th {\n",
       "        text-align: right;\n",
       "    }\n",
       "</style>\n",
       "<table border=\"1\" class=\"dataframe\">\n",
       "  <thead>\n",
       "    <tr style=\"text-align: right;\">\n",
       "      <th></th>\n",
       "      <th>Metrics</th>\n",
       "      <th>LR Base Model</th>\n",
       "      <th>LR Tuned Model</th>\n",
       "    </tr>\n",
       "  </thead>\n",
       "  <tbody>\n",
       "    <tr>\n",
       "      <th>0</th>\n",
       "      <td>Accuracy</td>\n",
       "      <td>0.872</td>\n",
       "      <td>0.886</td>\n",
       "    </tr>\n",
       "    <tr>\n",
       "      <th>1</th>\n",
       "      <td>Sensitivity</td>\n",
       "      <td>0.888</td>\n",
       "      <td>0.924</td>\n",
       "    </tr>\n",
       "    <tr>\n",
       "      <th>2</th>\n",
       "      <td>Specificity</td>\n",
       "      <td>0.744</td>\n",
       "      <td>0.578</td>\n",
       "    </tr>\n",
       "    <tr>\n",
       "      <th>3</th>\n",
       "      <td>Precision</td>\n",
       "      <td>0.744</td>\n",
       "      <td>0.578</td>\n",
       "    </tr>\n",
       "    <tr>\n",
       "      <th>4</th>\n",
       "      <td>F1 Score</td>\n",
       "      <td>0.810</td>\n",
       "      <td>0.711</td>\n",
       "    </tr>\n",
       "  </tbody>\n",
       "</table>\n",
       "</div>"
      ],
      "text/plain": [
       "       Metrics  LR Base Model  LR Tuned Model\n",
       "0     Accuracy          0.872           0.886\n",
       "1  Sensitivity          0.888           0.924\n",
       "2  Specificity          0.744           0.578\n",
       "3    Precision          0.744           0.578\n",
       "4     F1 Score          0.810           0.711"
      ]
     },
     "execution_count": 71,
     "metadata": {},
     "output_type": "execute_result"
    }
   ],
   "source": [
    "# Printing the scores of the base and tuned Logistic Regression model for reference\n",
    "dict_logisticRegressor_basetuned_metrics = {'Metrics': ['Accuracy','Sensitivity','Specificity','Precision','F1 Score'], \n",
    "                               'LR Base Model': logistic_regression_metrics,\n",
    "                               'LR Tuned Model': logisticRegressor_tuned_metrics}\n",
    "\n",
    "df_logisticRegressor_basetuned_metrics = pd.DataFrame(dict_logisticRegressor_basetuned_metrics, columns = ['Metrics', 'LR Base Model', 'LR Tuned Model'])\n",
    "df_logisticRegressor_basetuned_metrics"
   ]
  },
  {
   "cell_type": "code",
   "execution_count": 72,
   "metadata": {},
   "outputs": [],
   "source": [
    "lr_base_model = pickle.dump(regressor, open('./pickle/lr_base_model.pkl', 'wb'))"
   ]
  },
  {
   "cell_type": "code",
   "execution_count": 73,
   "metadata": {},
   "outputs": [],
   "source": [
    "lr_tuned_model = pickle.dump(logisticRegressor_hyperparameter_tuning, open('./pickle/lr_tuned_model.pkl', 'wb'))"
   ]
  },
  {
   "cell_type": "markdown",
   "metadata": {
    "id": "8hQNXRZGTfYg"
   },
   "source": [
    "## Random Forest Classifier"
   ]
  },
  {
   "cell_type": "code",
   "execution_count": 74,
   "metadata": {
    "ExecuteTime": {
     "end_time": "2022-04-06T05:49:48.995836Z",
     "start_time": "2022-04-06T05:46:27.204Z"
    },
    "execution": {
     "iopub.execute_input": "2022-04-14T00:38:28.488291Z",
     "iopub.status.busy": "2022-04-14T00:38:28.487116Z",
     "iopub.status.idle": "2022-04-14T00:39:18.076659Z",
     "shell.execute_reply": "2022-04-14T00:39:18.075674Z",
     "shell.execute_reply.started": "2022-04-14T00:38:28.488215Z"
    },
    "executionInfo": {
     "elapsed": 39450,
     "status": "ok",
     "timestamp": 1649225235043,
     "user": {
      "displayName": "Venkatasubramanian S",
      "userId": "06029493893713790610"
     },
     "user_tz": 420
    },
    "id": "c8-CGg_ETiYM"
   },
   "outputs": [],
   "source": [
    "randomforest = RandomForestClassifier(random_state=42).fit(X_train_sm, y_train_sm)"
   ]
  },
  {
   "cell_type": "markdown",
   "metadata": {
    "id": "tpbWakz5lGWP"
   },
   "source": [
    "### Base Model"
   ]
  },
  {
   "cell_type": "code",
   "execution_count": 75,
   "metadata": {
    "ExecuteTime": {
     "end_time": "2022-04-06T05:49:48.996837Z",
     "start_time": "2022-04-06T05:46:27.214Z"
    },
    "execution": {
     "iopub.execute_input": "2022-04-14T00:39:18.078384Z",
     "iopub.status.busy": "2022-04-14T00:39:18.078071Z",
     "iopub.status.idle": "2022-04-14T00:39:18.808080Z",
     "shell.execute_reply": "2022-04-14T00:39:18.807418Z",
     "shell.execute_reply.started": "2022-04-14T00:39:18.078349Z"
    },
    "executionInfo": {
     "elapsed": 648,
     "status": "ok",
     "timestamp": 1649225235663,
     "user": {
      "displayName": "Venkatasubramanian S",
      "userId": "06029493893713790610"
     },
     "user_tz": 420
    },
    "id": "RBA5mzsYlHko",
    "outputId": "383e6030-d901-4eaa-af72-3c6d51493b4f"
   },
   "outputs": [
    {
     "name": "stdout",
     "output_type": "stream",
     "text": [
      "Confusion Matrix \n"
     ]
    },
    {
     "data": {
      "image/png": "[encoded data removed]",
      "text/plain": [
       "<Figure size 432x432 with 1 Axes>"
      ]
     },
     "metadata": {
      "needs_background": "light"
     },
     "output_type": "display_data"
    },
    {
     "name": "stdout",
     "output_type": "stream",
     "text": [
      "True Positives: 6397\n",
      "True Negatives: 340\n",
      "False Positives: 470\n",
      "False Negatives: 230\n",
      "\n",
      "\n",
      "Accuracy Score: 0.906\n",
      "Sensitivity Score: 0.965\n",
      "Specificity Score: 0.42\n",
      "Precision: 0.42\n",
      "F1 Score: 0.585\n"
     ]
    }
   ],
   "source": [
    "# Getting the score of the base model\n",
    "randomforest_metrics = score_calculation(randomforest, X_test, y_test)"
   ]
  },
  {
   "cell_type": "code",
   "execution_count": 76,
   "metadata": {
    "ExecuteTime": {
     "end_time": "2022-04-06T05:49:48.997840Z",
     "start_time": "2022-04-06T05:46:27.222Z"
    },
    "execution": {
     "iopub.execute_input": "2022-04-14T00:39:18.809713Z",
     "iopub.status.busy": "2022-04-14T00:39:18.809453Z",
     "iopub.status.idle": "2022-04-14T00:39:18.822817Z",
     "shell.execute_reply": "2022-04-14T00:39:18.821827Z",
     "shell.execute_reply.started": "2022-04-14T00:39:18.809682Z"
    },
    "executionInfo": {
     "elapsed": 14,
     "status": "ok",
     "timestamp": 1649225235664,
     "user": {
      "displayName": "Venkatasubramanian S",
      "userId": "06029493893713790610"
     },
     "user_tz": 420
    },
    "id": "G-5_-lI8lNCP",
    "outputId": "04157439-84fa-41dd-ab9f-cc97b21664fc"
   },
   "outputs": [
    {
     "data": {
      "text/html": [
       "<div>\n",
       "<style scoped>\n",
       "    .dataframe tbody tr th:only-of-type {\n",
       "        vertical-align: middle;\n",
       "    }\n",
       "\n",
       "    .dataframe tbody tr th {\n",
       "        vertical-align: top;\n",
       "    }\n",
       "\n",
       "    .dataframe thead th {\n",
       "        text-align: right;\n",
       "    }\n",
       "</style>\n",
       "<table border=\"1\" class=\"dataframe\">\n",
       "  <thead>\n",
       "    <tr style=\"text-align: right;\">\n",
       "      <th></th>\n",
       "      <th>Metrics</th>\n",
       "      <th>RF Base Model</th>\n",
       "    </tr>\n",
       "  </thead>\n",
       "  <tbody>\n",
       "    <tr>\n",
       "      <th>0</th>\n",
       "      <td>Accuracy</td>\n",
       "      <td>0.906</td>\n",
       "    </tr>\n",
       "    <tr>\n",
       "      <th>1</th>\n",
       "      <td>Sensitivity/Recall</td>\n",
       "      <td>0.965</td>\n",
       "    </tr>\n",
       "    <tr>\n",
       "      <th>2</th>\n",
       "      <td>Specificity</td>\n",
       "      <td>0.420</td>\n",
       "    </tr>\n",
       "    <tr>\n",
       "      <th>3</th>\n",
       "      <td>Precision</td>\n",
       "      <td>0.420</td>\n",
       "    </tr>\n",
       "    <tr>\n",
       "      <th>4</th>\n",
       "      <td>F1 Score</td>\n",
       "      <td>0.585</td>\n",
       "    </tr>\n",
       "  </tbody>\n",
       "</table>\n",
       "</div>"
      ],
      "text/plain": [
       "              Metrics  RF Base Model\n",
       "0            Accuracy          0.906\n",
       "1  Sensitivity/Recall          0.965\n",
       "2         Specificity          0.420\n",
       "3           Precision          0.420\n",
       "4            F1 Score          0.585"
      ]
     },
     "execution_count": 76,
     "metadata": {},
     "output_type": "execute_result"
    }
   ],
   "source": [
    "# Printing the scores of the base model as reference\n",
    "df_randomforest_base_metrics = pd.DataFrame({'Metrics': ['Accuracy','Sensitivity/Recall','Specificity','Precision','F1 Score'], 'RF Base Model': randomforest_metrics},\n",
    "                             columns = ['Metrics', 'RF Base Model']\n",
    "                             )\n",
    "df_randomforest_base_metrics"
   ]
  },
  {
   "cell_type": "markdown",
   "metadata": {
    "id": "AfJksQ7smLMM"
   },
   "source": [
    "### HyperParameter Tuning"
   ]
  },
  {
   "cell_type": "code",
   "execution_count": 77,
   "metadata": {
    "ExecuteTime": {
     "end_time": "2022-04-06T05:49:48.999839Z",
     "start_time": "2022-04-06T05:46:27.233Z"
    },
    "execution": {
     "iopub.execute_input": "2022-04-14T00:39:18.825300Z",
     "iopub.status.busy": "2022-04-14T00:39:18.824708Z",
     "iopub.status.idle": "2022-04-14T00:39:18.835515Z",
     "shell.execute_reply": "2022-04-14T00:39:18.834561Z",
     "shell.execute_reply.started": "2022-04-14T00:39:18.825234Z"
    },
    "executionInfo": {
     "elapsed": 12,
     "status": "ok",
     "timestamp": 1649225235665,
     "user": {
      "displayName": "Venkatasubramanian S",
      "userId": "06029493893713790610"
     },
     "user_tz": 420
    },
    "id": "tPOlanthmCaI"
   },
   "outputs": [],
   "source": [
    "randomforest_grid = {\"n_estimators\": np.arange(10, 1000, 50),\n",
    "           \"max_depth\": np.arange(10, 50, 5),\n",
    "           \"min_samples_split\": np.arange(15, 500, 15),\n",
    "           \"min_samples_leaf\": np.arange(5, 50, 5)}"
   ]
  },
  {
   "cell_type": "code",
   "execution_count": 78,
   "metadata": {
    "ExecuteTime": {
     "end_time": "2022-04-06T05:49:49.000840Z",
     "start_time": "2022-04-06T05:46:27.242Z"
    },
    "execution": {
     "iopub.execute_input": "2022-04-14T00:39:18.837657Z",
     "iopub.status.busy": "2022-04-14T00:39:18.837114Z",
     "iopub.status.idle": "2022-04-14T00:45:02.952966Z",
     "shell.execute_reply": "2022-04-14T00:45:02.952016Z",
     "shell.execute_reply.started": "2022-04-14T00:39:18.837610Z"
    },
    "executionInfo": {
     "elapsed": 576863,
     "status": "ok",
     "timestamp": 1649225812518,
     "user": {
      "displayName": "Venkatasubramanian S",
      "userId": "06029493893713790610"
     },
     "user_tz": 420
    },
    "id": "QHvlDa3-mPe_",
    "outputId": "fefe58d5-6510-4f6d-e973-204022cdabfa"
   },
   "outputs": [
    {
     "name": "stdout",
     "output_type": "stream",
     "text": [
      "Fitting 5 folds for each of 10 candidates, totalling 50 fits\n"
     ]
    }
   ],
   "source": [
    "# Setup random hyperparameter search for Random Forest Classifier\n",
    "randomforest_hyperparametertune = RandomizedSearchCV(RandomForestClassifier(random_state=42),\n",
    "                                param_distributions=randomforest_grid,\n",
    "                                cv=5,\n",
    "                                verbose=True,\n",
    "                                n_jobs=-1,\n",
    "                                scoring='f1')\n",
    "\n",
    "# Fit random hyperparameter search model\n",
    "randomforest_hyperparametertune.fit(X_train_sm, y_train_sm);"
   ]
  },
  {
   "cell_type": "code",
   "execution_count": 79,
   "metadata": {
    "ExecuteTime": {
     "end_time": "2022-04-06T05:49:49.001834Z",
     "start_time": "2022-04-06T05:46:27.249Z"
    },
    "execution": {
     "iopub.execute_input": "2022-04-14T00:45:02.954898Z",
     "iopub.status.busy": "2022-04-14T00:45:02.954600Z",
     "iopub.status.idle": "2022-04-14T00:45:02.961429Z",
     "shell.execute_reply": "2022-04-14T00:45:02.960419Z",
     "shell.execute_reply.started": "2022-04-14T00:45:02.954857Z"
    },
    "executionInfo": {
     "elapsed": 41,
     "status": "ok",
     "timestamp": 1649225812519,
     "user": {
      "displayName": "Venkatasubramanian S",
      "userId": "06029493893713790610"
     },
     "user_tz": 420
    },
    "id": "RBLxu5H_mbWU",
    "outputId": "adc615ac-8dd5-4d94-9389-94f09cb268d4"
   },
   "outputs": [
    {
     "data": {
      "text/plain": [
       "{'n_estimators': 310,\n",
       " 'min_samples_split': 180,\n",
       " 'min_samples_leaf': 20,\n",
       " 'max_depth': 15}"
      ]
     },
     "execution_count": 79,
     "metadata": {},
     "output_type": "execute_result"
    }
   ],
   "source": [
    "# Check best parameters\n",
    "randomforest_hyperparametertune.best_params_"
   ]
  },
  {
   "cell_type": "code",
   "execution_count": 80,
   "metadata": {
    "ExecuteTime": {
     "end_time": "2022-04-06T05:49:49.003007Z",
     "start_time": "2022-04-06T05:46:27.255Z"
    },
    "execution": {
     "iopub.execute_input": "2022-04-14T00:45:02.963443Z",
     "iopub.status.busy": "2022-04-14T00:45:02.963012Z",
     "iopub.status.idle": "2022-04-14T00:45:04.705063Z",
     "shell.execute_reply": "2022-04-14T00:45:04.704259Z",
     "shell.execute_reply.started": "2022-04-14T00:45:02.963396Z"
    },
    "executionInfo": {
     "elapsed": 570,
     "status": "ok",
     "timestamp": 1649225813059,
     "user": {
      "displayName": "Venkatasubramanian S",
      "userId": "06029493893713790610"
     },
     "user_tz": 420
    },
    "id": "Pas0aLAcn06R",
    "outputId": "177d738b-e13e-4d82-e914-1a94226511e3"
   },
   "outputs": [
    {
     "name": "stdout",
     "output_type": "stream",
     "text": [
      "Confusion Matrix \n"
     ]
    },
    {
     "data": {
      "image/png": "[encoded data removed]",
      "text/plain": [
       "<Figure size 432x432 with 1 Axes>"
      ]
     },
     "metadata": {
      "needs_background": "light"
     },
     "output_type": "display_data"
    },
    {
     "name": "stdout",
     "output_type": "stream",
     "text": [
      "True Positives: 5876\n",
      "True Negatives: 423\n",
      "False Positives: 387\n",
      "False Negatives: 751\n",
      "\n",
      "\n",
      "Accuracy Score: 0.847\n",
      "Sensitivity Score: 0.887\n",
      "Specificity Score: 0.522\n",
      "Precision: 0.522\n",
      "F1 Score: 0.657\n"
     ]
    },
    {
     "data": {
      "text/plain": [
       "[0.847, 0.887, 0.522, 0.522, 0.657]"
      ]
     },
     "execution_count": 80,
     "metadata": {},
     "output_type": "execute_result"
    }
   ],
   "source": [
    "score_calculation(randomforest_hyperparametertune, X_test, y_test)"
   ]
  },
  {
   "cell_type": "code",
   "execution_count": 81,
   "metadata": {
    "ExecuteTime": {
     "end_time": "2022-04-06T05:49:49.003839Z",
     "start_time": "2022-04-06T05:46:27.264Z"
    },
    "execution": {
     "iopub.execute_input": "2022-04-14T00:45:04.707011Z",
     "iopub.status.busy": "2022-04-14T00:45:04.706290Z",
     "iopub.status.idle": "2022-04-14T00:45:04.710967Z",
     "shell.execute_reply": "2022-04-14T00:45:04.710316Z",
     "shell.execute_reply.started": "2022-04-14T00:45:04.706976Z"
    },
    "executionInfo": {
     "elapsed": 11,
     "status": "ok",
     "timestamp": 1649225813061,
     "user": {
      "displayName": "Venkatasubramanian S",
      "userId": "06029493893713790610"
     },
     "user_tz": 420
    },
    "id": "wcYT6lXbo_Y9"
   },
   "outputs": [],
   "source": [
    "# Fine tuning using Grid Search CV\n",
    "randomforest_grid = {\"n_estimators\": [510],\n",
    "           \"max_depth\": [20],\n",
    "           \"min_samples_split\": [350, 400],\n",
    "           \"min_samples_leaf\": [45, 50]}"
   ]
  },
  {
   "cell_type": "code",
   "execution_count": 82,
   "metadata": {
    "ExecuteTime": {
     "end_time": "2022-04-06T05:49:49.005839Z",
     "start_time": "2022-04-06T05:46:27.271Z"
    },
    "execution": {
     "iopub.execute_input": "2022-04-14T00:45:04.713008Z",
     "iopub.status.busy": "2022-04-14T00:45:04.712356Z",
     "iopub.status.idle": "2022-04-14T00:46:38.737062Z",
     "shell.execute_reply": "2022-04-14T00:46:38.736324Z",
     "shell.execute_reply.started": "2022-04-14T00:45:04.712963Z"
    },
    "executionInfo": {
     "elapsed": 189301,
     "status": "ok",
     "timestamp": 1649226002353,
     "user": {
      "displayName": "Venkatasubramanian S",
      "userId": "06029493893713790610"
     },
     "user_tz": 420
    },
    "id": "8QTX01HsoNwX",
    "outputId": "b29b2285-5ff8-44fb-ba92-84169ea6a692"
   },
   "outputs": [
    {
     "name": "stdout",
     "output_type": "stream",
     "text": [
      "Fitting 5 folds for each of 4 candidates, totalling 20 fits\n"
     ]
    }
   ],
   "source": [
    "# Setup random hyperparameter search for Random Forest Classifier\n",
    "randomforest_hyperparametertune = GridSearchCV(RandomForestClassifier(random_state=42),\n",
    "                                param_grid=randomforest_grid,\n",
    "                                cv=5,\n",
    "                                verbose=True,\n",
    "                                n_jobs=-1,\n",
    "                                scoring='f1')\n",
    "\n",
    "# Fit random hyperparameter search model\n",
    "randomforest_hyperparametertune.fit(X_train_sm, y_train_sm);"
   ]
  },
  {
   "cell_type": "markdown",
   "metadata": {
    "id": "YSWOoQdm8wN4"
   },
   "source": [
    "### HyperParameter tuned model"
   ]
  },
  {
   "cell_type": "code",
   "execution_count": 83,
   "metadata": {
    "ExecuteTime": {
     "end_time": "2022-04-06T05:49:49.006841Z",
     "start_time": "2022-04-06T05:46:27.279Z"
    },
    "execution": {
     "iopub.execute_input": "2022-04-14T00:46:38.738710Z",
     "iopub.status.busy": "2022-04-14T00:46:38.738456Z",
     "iopub.status.idle": "2022-04-14T00:46:39.650905Z",
     "shell.execute_reply": "2022-04-14T00:46:39.650079Z",
     "shell.execute_reply.started": "2022-04-14T00:46:38.738683Z"
    },
    "executionInfo": {
     "elapsed": 1221,
     "status": "ok",
     "timestamp": 1649226003485,
     "user": {
      "displayName": "Venkatasubramanian S",
      "userId": "06029493893713790610"
     },
     "user_tz": 420
    },
    "id": "SGao-yVA8yev",
    "outputId": "fb7ad800-d6be-4b4c-ba9d-aed8b897271d"
   },
   "outputs": [
    {
     "name": "stdout",
     "output_type": "stream",
     "text": [
      "Confusion Matrix \n"
     ]
    },
    {
     "data": {
      "image/png": "[encoded data removed]",
      "text/plain": [
       "<Figure size 432x432 with 1 Axes>"
      ]
     },
     "metadata": {
      "needs_background": "light"
     },
     "output_type": "display_data"
    },
    {
     "name": "stdout",
     "output_type": "stream",
     "text": [
      "True Positives: 5743\n",
      "True Negatives: 462\n",
      "False Positives: 348\n",
      "False Negatives: 884\n",
      "\n",
      "\n",
      "Accuracy Score: 0.834\n",
      "Sensitivity Score: 0.867\n",
      "Specificity Score: 0.57\n",
      "Precision: 0.57\n",
      "F1 Score: 0.688\n"
     ]
    }
   ],
   "source": [
    "# Getting the scores of the tuned model\n",
    "randomforest_tuned_metrics = score_calculation(randomforest_hyperparametertune, X_test, y_test)"
   ]
  },
  {
   "cell_type": "code",
   "execution_count": 84,
   "metadata": {
    "ExecuteTime": {
     "end_time": "2022-04-06T05:49:49.007892Z",
     "start_time": "2022-04-06T05:46:27.287Z"
    },
    "execution": {
     "iopub.execute_input": "2022-04-14T00:46:39.652443Z",
     "iopub.status.busy": "2022-04-14T00:46:39.652171Z",
     "iopub.status.idle": "2022-04-14T00:46:39.667067Z",
     "shell.execute_reply": "2022-04-14T00:46:39.666460Z",
     "shell.execute_reply.started": "2022-04-14T00:46:39.652411Z"
    },
    "executionInfo": {
     "elapsed": 24,
     "status": "ok",
     "timestamp": 1649226003486,
     "user": {
      "displayName": "Venkatasubramanian S",
      "userId": "06029493893713790610"
     },
     "user_tz": 420
    },
    "id": "lpIbE-iG814Y",
    "outputId": "465d311d-0f9e-462d-ab52-0f0e3687f69d"
   },
   "outputs": [
    {
     "data": {
      "text/html": [
       "<div>\n",
       "<style scoped>\n",
       "    .dataframe tbody tr th:only-of-type {\n",
       "        vertical-align: middle;\n",
       "    }\n",
       "\n",
       "    .dataframe tbody tr th {\n",
       "        vertical-align: top;\n",
       "    }\n",
       "\n",
       "    .dataframe thead th {\n",
       "        text-align: right;\n",
       "    }\n",
       "</style>\n",
       "<table border=\"1\" class=\"dataframe\">\n",
       "  <thead>\n",
       "    <tr style=\"text-align: right;\">\n",
       "      <th></th>\n",
       "      <th>Metrics</th>\n",
       "      <th>RF Base Model</th>\n",
       "      <th>RF Tuned Model</th>\n",
       "    </tr>\n",
       "  </thead>\n",
       "  <tbody>\n",
       "    <tr>\n",
       "      <th>0</th>\n",
       "      <td>Accuracy</td>\n",
       "      <td>0.906</td>\n",
       "      <td>0.834</td>\n",
       "    </tr>\n",
       "    <tr>\n",
       "      <th>1</th>\n",
       "      <td>Sensitivity/Recall</td>\n",
       "      <td>0.965</td>\n",
       "      <td>0.867</td>\n",
       "    </tr>\n",
       "    <tr>\n",
       "      <th>2</th>\n",
       "      <td>Specificity</td>\n",
       "      <td>0.420</td>\n",
       "      <td>0.570</td>\n",
       "    </tr>\n",
       "    <tr>\n",
       "      <th>3</th>\n",
       "      <td>Precision</td>\n",
       "      <td>0.420</td>\n",
       "      <td>0.570</td>\n",
       "    </tr>\n",
       "    <tr>\n",
       "      <th>4</th>\n",
       "      <td>F1 Score</td>\n",
       "      <td>0.585</td>\n",
       "      <td>0.688</td>\n",
       "    </tr>\n",
       "  </tbody>\n",
       "</table>\n",
       "</div>"
      ],
      "text/plain": [
       "              Metrics  RF Base Model  RF Tuned Model\n",
       "0            Accuracy          0.906           0.834\n",
       "1  Sensitivity/Recall          0.965           0.867\n",
       "2         Specificity          0.420           0.570\n",
       "3           Precision          0.420           0.570\n",
       "4            F1 Score          0.585           0.688"
      ]
     },
     "execution_count": 84,
     "metadata": {},
     "output_type": "execute_result"
    }
   ],
   "source": [
    "# Printing the scores of the base and tuned Random Forest model as reference\n",
    "dict_randomforest_basetuned_metrics = {'Metrics': ['Accuracy','Sensitivity/Recall','Specificity','Precision','F1 Score'], \n",
    "                               'RF Base Model': randomforest_metrics,\n",
    "                               'RF Tuned Model': randomforest_tuned_metrics}\n",
    "\n",
    "df_randomforest_basetuned_metrics = pd.DataFrame(dict_randomforest_basetuned_metrics, columns = ['Metrics', 'RF Base Model', 'RF Tuned Model'])\n",
    "df_randomforest_basetuned_metrics"
   ]
  },
  {
   "cell_type": "code",
   "execution_count": 85,
   "metadata": {},
   "outputs": [],
   "source": [
    "rf_base_model = pickle.dump(randomforest, open('./pickle/rf_base_model.pkl', 'wb'))"
   ]
  },
  {
   "cell_type": "code",
   "execution_count": 86,
   "metadata": {},
   "outputs": [],
   "source": [
    "rf_tuned_model = pickle.dump(randomforest_hyperparametertune, open('./pickle/rf_tuned_model.pkl', 'wb'))"
   ]
  },
  {
   "cell_type": "markdown",
   "metadata": {
    "id": "Puy38wDf9qKR"
   },
   "source": [
    "## XGBoost Classifier"
   ]
  },
  {
   "cell_type": "code",
   "execution_count": 87,
   "metadata": {
    "ExecuteTime": {
     "end_time": "2022-04-06T05:49:49.011840Z",
     "start_time": "2022-04-06T05:46:27.312Z"
    },
    "execution": {
     "iopub.execute_input": "2022-04-14T00:46:39.668616Z",
     "iopub.status.busy": "2022-04-14T00:46:39.668369Z",
     "iopub.status.idle": "2022-04-14T00:46:58.779113Z",
     "shell.execute_reply": "2022-04-14T00:46:58.778415Z",
     "shell.execute_reply.started": "2022-04-14T00:46:39.668575Z"
    },
    "executionInfo": {
     "elapsed": 16683,
     "status": "ok",
     "timestamp": 1649226020151,
     "user": {
      "displayName": "Venkatasubramanian S",
      "userId": "06029493893713790610"
     },
     "user_tz": 420
    },
    "id": "FwlT1Ty-90X1"
   },
   "outputs": [
    {
     "name": "stdout",
     "output_type": "stream",
     "text": [
      "[21:09:16] WARNING: ..\\src\\learner.cc:1115: Starting in XGBoost 1.3.0, the default evaluation metric used with the objective 'binary:logistic' was changed from 'error' to 'logloss'. Explicitly set eval_metric if you'd like to restore the old behavior.\n"
     ]
    }
   ],
   "source": [
    "xg = xgb.XGBClassifier(random_state=42).fit(X_train_sm, y_train_sm)"
   ]
  },
  {
   "cell_type": "code",
   "execution_count": 88,
   "metadata": {
    "ExecuteTime": {
     "end_time": "2022-04-06T05:49:49.012843Z",
     "start_time": "2022-04-06T05:46:27.320Z"
    },
    "execution": {
     "iopub.execute_input": "2022-04-14T00:46:58.780415Z",
     "iopub.status.busy": "2022-04-14T00:46:58.780195Z",
     "iopub.status.idle": "2022-04-14T00:46:59.069733Z",
     "shell.execute_reply": "2022-04-14T00:46:59.067973Z",
     "shell.execute_reply.started": "2022-04-14T00:46:58.780388Z"
    },
    "executionInfo": {
     "elapsed": 257,
     "status": "ok",
     "timestamp": 1649226020402,
     "user": {
      "displayName": "Venkatasubramanian S",
      "userId": "06029493893713790610"
     },
     "user_tz": 420
    },
    "id": "e-BBg11l-pqi",
    "outputId": "638964a6-c04a-4de9-8748-455002916487"
   },
   "outputs": [
    {
     "name": "stdout",
     "output_type": "stream",
     "text": [
      "Confusion Matrix \n"
     ]
    },
    {
     "data": {
      "image/png": "[encoded data removed]",
      "text/plain": [
       "<Figure size 432x432 with 1 Axes>"
      ]
     },
     "metadata": {
      "needs_background": "light"
     },
     "output_type": "display_data"
    },
    {
     "name": "stdout",
     "output_type": "stream",
     "text": [
      "True Positives: 6112\n",
      "True Negatives: 475\n",
      "False Positives: 335\n",
      "False Negatives: 515\n",
      "\n",
      "\n",
      "Accuracy Score: 0.886\n",
      "Sensitivity Score: 0.922\n",
      "Specificity Score: 0.586\n",
      "Precision: 0.586\n",
      "F1 Score: 0.717\n"
     ]
    }
   ],
   "source": [
    "# Getting the score of the base model\n",
    "xg_metrics = score_calculation(xg, X_test, y_test)"
   ]
  },
  {
   "cell_type": "code",
   "execution_count": 89,
   "metadata": {
    "ExecuteTime": {
     "end_time": "2022-04-06T05:49:49.013844Z",
     "start_time": "2022-04-06T05:46:27.327Z"
    },
    "execution": {
     "iopub.execute_input": "2022-04-14T00:46:59.071019Z",
     "iopub.status.busy": "2022-04-14T00:46:59.070820Z",
     "iopub.status.idle": "2022-04-14T00:46:59.083309Z",
     "shell.execute_reply": "2022-04-14T00:46:59.082353Z",
     "shell.execute_reply.started": "2022-04-14T00:46:59.070994Z"
    },
    "executionInfo": {
     "elapsed": 11,
     "status": "ok",
     "timestamp": 1649226020403,
     "user": {
      "displayName": "Venkatasubramanian S",
      "userId": "06029493893713790610"
     },
     "user_tz": 420
    },
    "id": "ddwC23RI-yLA",
    "outputId": "e2fc794d-5969-47a3-fce3-65c58006b0a5"
   },
   "outputs": [
    {
     "data": {
      "text/html": [
       "<div>\n",
       "<style scoped>\n",
       "    .dataframe tbody tr th:only-of-type {\n",
       "        vertical-align: middle;\n",
       "    }\n",
       "\n",
       "    .dataframe tbody tr th {\n",
       "        vertical-align: top;\n",
       "    }\n",
       "\n",
       "    .dataframe thead th {\n",
       "        text-align: right;\n",
       "    }\n",
       "</style>\n",
       "<table border=\"1\" class=\"dataframe\">\n",
       "  <thead>\n",
       "    <tr style=\"text-align: right;\">\n",
       "      <th></th>\n",
       "      <th>Metrics</th>\n",
       "      <th>XG Base Model</th>\n",
       "    </tr>\n",
       "  </thead>\n",
       "  <tbody>\n",
       "    <tr>\n",
       "      <th>0</th>\n",
       "      <td>Accuracy</td>\n",
       "      <td>0.886</td>\n",
       "    </tr>\n",
       "    <tr>\n",
       "      <th>1</th>\n",
       "      <td>Sensitivity/Recall</td>\n",
       "      <td>0.922</td>\n",
       "    </tr>\n",
       "    <tr>\n",
       "      <th>2</th>\n",
       "      <td>Specificity</td>\n",
       "      <td>0.586</td>\n",
       "    </tr>\n",
       "    <tr>\n",
       "      <th>3</th>\n",
       "      <td>Precision</td>\n",
       "      <td>0.586</td>\n",
       "    </tr>\n",
       "    <tr>\n",
       "      <th>4</th>\n",
       "      <td>F1 Score</td>\n",
       "      <td>0.717</td>\n",
       "    </tr>\n",
       "  </tbody>\n",
       "</table>\n",
       "</div>"
      ],
      "text/plain": [
       "              Metrics  XG Base Model\n",
       "0            Accuracy          0.886\n",
       "1  Sensitivity/Recall          0.922\n",
       "2         Specificity          0.586\n",
       "3           Precision          0.586\n",
       "4            F1 Score          0.717"
      ]
     },
     "execution_count": 89,
     "metadata": {},
     "output_type": "execute_result"
    }
   ],
   "source": [
    "# Printing the scores of the base model as reference\n",
    "df_xgboost_metrics = pd.DataFrame({'Metrics': ['Accuracy','Sensitivity/Recall','Specificity','Precision','F1 Score'], 'XG Base Model': xg_metrics},\n",
    "                             columns = ['Metrics', 'XG Base Model']\n",
    "                             )\n",
    "df_xgboost_metrics"
   ]
  },
  {
   "cell_type": "markdown",
   "metadata": {
    "id": "1lQsM88CDANY"
   },
   "source": [
    "### HyperParameter Tuning"
   ]
  },
  {
   "cell_type": "code",
   "execution_count": 90,
   "metadata": {
    "ExecuteTime": {
     "end_time": "2022-04-06T05:49:49.014841Z",
     "start_time": "2022-04-06T05:46:27.336Z"
    },
    "execution": {
     "iopub.execute_input": "2022-04-14T00:46:59.085471Z",
     "iopub.status.busy": "2022-04-14T00:46:59.085139Z",
     "iopub.status.idle": "2022-04-14T00:46:59.094422Z",
     "shell.execute_reply": "2022-04-14T00:46:59.093555Z",
     "shell.execute_reply.started": "2022-04-14T00:46:59.085427Z"
    },
    "executionInfo": {
     "elapsed": 9,
     "status": "ok",
     "timestamp": 1649226020404,
     "user": {
      "displayName": "Venkatasubramanian S",
      "userId": "06029493893713790610"
     },
     "user_tz": 420
    },
    "id": "SD0o9kZNDKZs"
   },
   "outputs": [],
   "source": [
    "xgboost_grid = {\"learning_rate\": np.arange(0.05, 1, 0.1),\n",
    "           \"max_depth\": np.arange(5, 20, 5)\n",
    "           }"
   ]
  },
  {
   "cell_type": "code",
   "execution_count": 91,
   "metadata": {
    "ExecuteTime": {
     "end_time": "2022-04-06T05:49:49.015842Z",
     "start_time": "2022-04-06T05:46:27.343Z"
    },
    "execution": {
     "iopub.execute_input": "2022-04-14T00:46:59.096247Z",
     "iopub.status.busy": "2022-04-14T00:46:59.096033Z",
     "iopub.status.idle": "2022-04-14T01:22:57.026477Z",
     "shell.execute_reply": "2022-04-14T01:22:57.025826Z",
     "shell.execute_reply.started": "2022-04-14T00:46:59.096222Z"
    },
    "executionInfo": {
     "elapsed": 1369721,
     "status": "ok",
     "timestamp": 1649227390117,
     "user": {
      "displayName": "Venkatasubramanian S",
      "userId": "06029493893713790610"
     },
     "user_tz": 420
    },
    "id": "rmVaCW77DKZu",
    "outputId": "9277ec8d-3a40-44b0-ed44-e600f9de9a9c"
   },
   "outputs": [
    {
     "name": "stdout",
     "output_type": "stream",
     "text": [
      "Fitting 4 folds for each of 10 candidates, totalling 40 fits\n",
      "[21:20:39] WARNING: ..\\src\\learner.cc:1115: Starting in XGBoost 1.3.0, the default evaluation metric used with the objective 'binary:logistic' was changed from 'error' to 'logloss'. Explicitly set eval_metric if you'd like to restore the old behavior.\n"
     ]
    }
   ],
   "source": [
    "# Setup random hyperparameter search for Random Forest Classifier\n",
    "xgboost_hyperparametertune = RandomizedSearchCV(XGBClassifier(random_state=42),\n",
    "                                param_distributions=xgboost_grid,\n",
    "                                cv=4,\n",
    "                                verbose=True,\n",
    "                                n_jobs=-1,\n",
    "                                scoring='f1')\n",
    "\n",
    "# Fit random hyperparameter search model\n",
    "xgboost_hyperparametertune.fit(X_train_sm, y_train_sm);"
   ]
  },
  {
   "cell_type": "code",
   "execution_count": 92,
   "metadata": {
    "ExecuteTime": {
     "end_time": "2022-04-06T05:49:49.016841Z",
     "start_time": "2022-04-06T05:46:27.350Z"
    },
    "execution": {
     "iopub.execute_input": "2022-04-14T01:22:57.028635Z",
     "iopub.status.busy": "2022-04-14T01:22:57.027797Z",
     "iopub.status.idle": "2022-04-14T01:22:57.035594Z",
     "shell.execute_reply": "2022-04-14T01:22:57.034640Z",
     "shell.execute_reply.started": "2022-04-14T01:22:57.028593Z"
    },
    "executionInfo": {
     "elapsed": 48,
     "status": "ok",
     "timestamp": 1649227390118,
     "user": {
      "displayName": "Venkatasubramanian S",
      "userId": "06029493893713790610"
     },
     "user_tz": 420
    },
    "id": "ZGUljIIDDKZv",
    "outputId": "2d52d0e5-73b8-410b-d809-c9f82669fa0d"
   },
   "outputs": [
    {
     "data": {
      "text/plain": [
       "{'max_depth': 10, 'learning_rate': 0.05}"
      ]
     },
     "execution_count": 92,
     "metadata": {},
     "output_type": "execute_result"
    }
   ],
   "source": [
    "# Check best parameters\n",
    "xgboost_hyperparametertune.best_params_"
   ]
  },
  {
   "cell_type": "code",
   "execution_count": 93,
   "metadata": {
    "ExecuteTime": {
     "end_time": "2022-04-06T05:49:49.018840Z",
     "start_time": "2022-04-06T05:46:27.357Z"
    },
    "execution": {
     "iopub.execute_input": "2022-04-14T01:22:57.037954Z",
     "iopub.status.busy": "2022-04-14T01:22:57.037504Z",
     "iopub.status.idle": "2022-04-14T01:22:57.348094Z",
     "shell.execute_reply": "2022-04-14T01:22:57.347375Z",
     "shell.execute_reply.started": "2022-04-14T01:22:57.037914Z"
    },
    "executionInfo": {
     "elapsed": 615,
     "status": "ok",
     "timestamp": 1649227390711,
     "user": {
      "displayName": "Venkatasubramanian S",
      "userId": "06029493893713790610"
     },
     "user_tz": 420
    },
    "id": "rUMnU4a99kZx",
    "outputId": "441da25e-ebce-42a4-f635-ceebb3e66cc0"
   },
   "outputs": [
    {
     "name": "stdout",
     "output_type": "stream",
     "text": [
      "Confusion Matrix \n"
     ]
    },
    {
     "data": {
      "image/png": "[encoded data removed]",
      "text/plain": [
       "<Figure size 432x432 with 1 Axes>"
      ]
     },
     "metadata": {
      "needs_background": "light"
     },
     "output_type": "display_data"
    },
    {
     "name": "stdout",
     "output_type": "stream",
     "text": [
      "True Positives: 5881\n",
      "True Negatives: 501\n",
      "False Positives: 309\n",
      "False Negatives: 746\n",
      "\n",
      "\n",
      "Accuracy Score: 0.858\n",
      "Sensitivity Score: 0.887\n",
      "Specificity Score: 0.619\n",
      "Precision: 0.619\n",
      "F1 Score: 0.729\n"
     ]
    },
    {
     "data": {
      "text/plain": [
       "[0.858, 0.887, 0.619, 0.619, 0.729]"
      ]
     },
     "execution_count": 93,
     "metadata": {},
     "output_type": "execute_result"
    }
   ],
   "source": [
    "score_calculation(xgboost_hyperparametertune, X_test, y_test)"
   ]
  },
  {
   "cell_type": "code",
   "execution_count": 94,
   "metadata": {
    "ExecuteTime": {
     "end_time": "2022-04-06T05:49:49.019841Z",
     "start_time": "2022-04-06T05:46:27.367Z"
    },
    "execution": {
     "iopub.execute_input": "2022-04-14T01:22:57.349915Z",
     "iopub.status.busy": "2022-04-14T01:22:57.349124Z",
     "iopub.status.idle": "2022-04-14T01:22:57.354010Z",
     "shell.execute_reply": "2022-04-14T01:22:57.353172Z",
     "shell.execute_reply.started": "2022-04-14T01:22:57.349880Z"
    },
    "executionInfo": {
     "elapsed": 12,
     "status": "ok",
     "timestamp": 1649227390712,
     "user": {
      "displayName": "Venkatasubramanian S",
      "userId": "06029493893713790610"
     },
     "user_tz": 420
    },
    "id": "6uO1cmrQMUfB"
   },
   "outputs": [],
   "source": [
    "# Fine tuning with Grid Search CV\n",
    "xgboost_grid = {\"learning_rate\": [0.45, 0.15],\n",
    "           \"max_depth\": [5, 10]\n",
    "           }"
   ]
  },
  {
   "cell_type": "code",
   "execution_count": 95,
   "metadata": {
    "ExecuteTime": {
     "end_time": "2022-04-06T05:49:49.020844Z",
     "start_time": "2022-04-06T05:46:27.374Z"
    },
    "execution": {
     "iopub.execute_input": "2022-04-14T01:22:57.356719Z",
     "iopub.status.busy": "2022-04-14T01:22:57.356458Z",
     "iopub.status.idle": "2022-04-14T01:38:48.100165Z",
     "shell.execute_reply": "2022-04-14T01:38:48.099506Z",
     "shell.execute_reply.started": "2022-04-14T01:22:57.356689Z"
    },
    "executionInfo": {
     "elapsed": 583973,
     "status": "ok",
     "timestamp": 1649227974676,
     "user": {
      "displayName": "Venkatasubramanian S",
      "userId": "06029493893713790610"
     },
     "user_tz": 420
    },
    "id": "Ia_CXF5J9gmR",
    "outputId": "0dd3d3fd-e679-4294-aecc-11d90525462a"
   },
   "outputs": [
    {
     "name": "stdout",
     "output_type": "stream",
     "text": [
      "Fitting 5 folds for each of 4 candidates, totalling 20 fits\n",
      "[21:23:31] WARNING: ..\\src\\learner.cc:1115: Starting in XGBoost 1.3.0, the default evaluation metric used with the objective 'binary:logistic' was changed from 'error' to 'logloss'. Explicitly set eval_metric if you'd like to restore the old behavior.\n"
     ]
    }
   ],
   "source": [
    "xgboost_hyperparametertune = GridSearchCV(XGBClassifier(random_state=42),\n",
    "                                param_grid=xgboost_grid,\n",
    "                                cv=5,\n",
    "                                verbose=True,\n",
    "                                n_jobs=-1,\n",
    "                                scoring='f1')\n",
    "\n",
    "xgboost_hyperparametertune.fit(X_train_sm, y_train_sm);"
   ]
  },
  {
   "cell_type": "code",
   "execution_count": 96,
   "metadata": {
    "ExecuteTime": {
     "end_time": "2022-04-06T05:49:49.021835Z",
     "start_time": "2022-04-06T05:46:27.381Z"
    },
    "execution": {
     "iopub.execute_input": "2022-04-14T01:38:48.102266Z",
     "iopub.status.busy": "2022-04-14T01:38:48.101577Z",
     "iopub.status.idle": "2022-04-14T01:38:48.107608Z",
     "shell.execute_reply": "2022-04-14T01:38:48.106617Z",
     "shell.execute_reply.started": "2022-04-14T01:38:48.102229Z"
    },
    "executionInfo": {
     "elapsed": 31,
     "status": "ok",
     "timestamp": 1649227974677,
     "user": {
      "displayName": "Venkatasubramanian S",
      "userId": "06029493893713790610"
     },
     "user_tz": 420
    },
    "id": "OAD0ZTDkRFmO",
    "outputId": "2f9f73bd-947e-4272-b3be-3eb247e4b19c"
   },
   "outputs": [
    {
     "data": {
      "text/plain": [
       "{'learning_rate': 0.45, 'max_depth': 5}"
      ]
     },
     "execution_count": 96,
     "metadata": {},
     "output_type": "execute_result"
    }
   ],
   "source": [
    "# Check best parameters\n",
    "xgboost_hyperparametertune.best_params_"
   ]
  },
  {
   "cell_type": "markdown",
   "metadata": {
    "id": "Ev2RSW6YPLtt"
   },
   "source": [
    "### HyperParameter tuned model"
   ]
  },
  {
   "cell_type": "code",
   "execution_count": 97,
   "metadata": {
    "ExecuteTime": {
     "end_time": "2022-04-06T05:49:49.022840Z",
     "start_time": "2022-04-06T05:46:27.391Z"
    },
    "execution": {
     "iopub.execute_input": "2022-04-14T01:38:48.109397Z",
     "iopub.status.busy": "2022-04-14T01:38:48.109146Z",
     "iopub.status.idle": "2022-04-14T01:38:48.403596Z",
     "shell.execute_reply": "2022-04-14T01:38:48.402726Z",
     "shell.execute_reply.started": "2022-04-14T01:38:48.109367Z"
    },
    "executionInfo": {
     "elapsed": 339,
     "status": "ok",
     "timestamp": 1649227974997,
     "user": {
      "displayName": "Venkatasubramanian S",
      "userId": "06029493893713790610"
     },
     "user_tz": 420
    },
    "id": "FNBaCGeXPPP0",
    "outputId": "20af7152-7f1b-45ee-876d-d5cd9e17a7a1"
   },
   "outputs": [
    {
     "name": "stdout",
     "output_type": "stream",
     "text": [
      "Confusion Matrix \n"
     ]
    },
    {
     "data": {
      "image/png": "[encoded data removed]",
      "text/plain": [
       "<Figure size 432x432 with 1 Axes>"
      ]
     },
     "metadata": {
      "needs_background": "light"
     },
     "output_type": "display_data"
    },
    {
     "name": "stdout",
     "output_type": "stream",
     "text": [
      "True Positives: 6118\n",
      "True Negatives: 474\n",
      "False Positives: 336\n",
      "False Negatives: 509\n",
      "\n",
      "\n",
      "Accuracy Score: 0.886\n",
      "Sensitivity Score: 0.923\n",
      "Specificity Score: 0.585\n",
      "Precision: 0.585\n",
      "F1 Score: 0.716\n"
     ]
    }
   ],
   "source": [
    "# Getting the scores of the tuned model\n",
    "xgboost_tuned_metrics = score_calculation(xgboost_hyperparametertune, X_test, y_test)"
   ]
  },
  {
   "cell_type": "code",
   "execution_count": 98,
   "metadata": {
    "ExecuteTime": {
     "end_time": "2022-04-06T05:49:49.023840Z",
     "start_time": "2022-04-06T05:46:27.399Z"
    },
    "execution": {
     "iopub.execute_input": "2022-04-14T01:38:48.405844Z",
     "iopub.status.busy": "2022-04-14T01:38:48.405353Z",
     "iopub.status.idle": "2022-04-14T01:38:48.420762Z",
     "shell.execute_reply": "2022-04-14T01:38:48.419826Z",
     "shell.execute_reply.started": "2022-04-14T01:38:48.405796Z"
    },
    "executionInfo": {
     "elapsed": 13,
     "status": "ok",
     "timestamp": 1649227974998,
     "user": {
      "displayName": "Venkatasubramanian S",
      "userId": "06029493893713790610"
     },
     "user_tz": 420
    },
    "id": "PF5jYOAMPTV8",
    "outputId": "57dcc143-892c-4c5d-b2f7-08dacea34d1a"
   },
   "outputs": [
    {
     "data": {
      "text/html": [
       "<div>\n",
       "<style scoped>\n",
       "    .dataframe tbody tr th:only-of-type {\n",
       "        vertical-align: middle;\n",
       "    }\n",
       "\n",
       "    .dataframe tbody tr th {\n",
       "        vertical-align: top;\n",
       "    }\n",
       "\n",
       "    .dataframe thead th {\n",
       "        text-align: right;\n",
       "    }\n",
       "</style>\n",
       "<table border=\"1\" class=\"dataframe\">\n",
       "  <thead>\n",
       "    <tr style=\"text-align: right;\">\n",
       "      <th></th>\n",
       "      <th>Metrics</th>\n",
       "      <th>XG Base Model</th>\n",
       "      <th>XG Tuned Model</th>\n",
       "    </tr>\n",
       "  </thead>\n",
       "  <tbody>\n",
       "    <tr>\n",
       "      <th>0</th>\n",
       "      <td>Accuracy</td>\n",
       "      <td>0.886</td>\n",
       "      <td>0.886</td>\n",
       "    </tr>\n",
       "    <tr>\n",
       "      <th>1</th>\n",
       "      <td>Sensitivity/Recall</td>\n",
       "      <td>0.922</td>\n",
       "      <td>0.923</td>\n",
       "    </tr>\n",
       "    <tr>\n",
       "      <th>2</th>\n",
       "      <td>Specificity</td>\n",
       "      <td>0.586</td>\n",
       "      <td>0.585</td>\n",
       "    </tr>\n",
       "    <tr>\n",
       "      <th>3</th>\n",
       "      <td>Precision</td>\n",
       "      <td>0.586</td>\n",
       "      <td>0.585</td>\n",
       "    </tr>\n",
       "    <tr>\n",
       "      <th>4</th>\n",
       "      <td>F1 Score</td>\n",
       "      <td>0.717</td>\n",
       "      <td>0.716</td>\n",
       "    </tr>\n",
       "  </tbody>\n",
       "</table>\n",
       "</div>"
      ],
      "text/plain": [
       "              Metrics  XG Base Model  XG Tuned Model\n",
       "0            Accuracy          0.886           0.886\n",
       "1  Sensitivity/Recall          0.922           0.923\n",
       "2         Specificity          0.586           0.585\n",
       "3           Precision          0.586           0.585\n",
       "4            F1 Score          0.717           0.716"
      ]
     },
     "execution_count": 98,
     "metadata": {},
     "output_type": "execute_result"
    }
   ],
   "source": [
    "# Printing the scores of the base and tuned XGBoost model as reference\n",
    "dict_xgboost_basetuned_metrics = {'Metrics': ['Accuracy','Sensitivity/Recall','Specificity','Precision','F1 Score'], \n",
    "                               'XG Base Model': xg_metrics,\n",
    "                               'XG Tuned Model': xgboost_tuned_metrics}\n",
    "\n",
    "df_xgboost_basetuned_metrics = pd.DataFrame(dict_xgboost_basetuned_metrics, columns = ['Metrics', 'XG Base Model', 'XG Tuned Model'])\n",
    "df_xgboost_basetuned_metrics"
   ]
  },
  {
   "cell_type": "code",
   "execution_count": 99,
   "metadata": {},
   "outputs": [],
   "source": [
    "xg_base_model = pickle.dump(xg, open('./pickle/xg_base_model.pkl', 'wb'))"
   ]
  },
  {
   "cell_type": "code",
   "execution_count": 100,
   "metadata": {},
   "outputs": [],
   "source": [
    "xg_tuned_model = pickle.dump(xgboost_hyperparametertune, open('./pickle/xg_tuned_model.pkl', 'wb'))"
   ]
  },
  {
   "cell_type": "markdown",
   "metadata": {
    "id": "4fGPDBynP3_x"
   },
   "source": [
    "# Model Evaluation"
   ]
  },
  {
   "cell_type": "code",
   "execution_count": 101,
   "metadata": {
    "ExecuteTime": {
     "end_time": "2022-04-06T05:49:49.026835Z",
     "start_time": "2022-04-06T05:46:27.430Z"
    },
    "execution": {
     "iopub.execute_input": "2022-04-14T01:38:48.423090Z",
     "iopub.status.busy": "2022-04-14T01:38:48.422770Z",
     "iopub.status.idle": "2022-04-14T01:38:48.444891Z",
     "shell.execute_reply": "2022-04-14T01:38:48.443957Z",
     "shell.execute_reply.started": "2022-04-14T01:38:48.423046Z"
    },
    "executionInfo": {
     "elapsed": 534,
     "status": "ok",
     "timestamp": 1649227975522,
     "user": {
      "displayName": "Venkatasubramanian S",
      "userId": "06029493893713790610"
     },
     "user_tz": 420
    },
    "id": "yfYA2gGwP6GJ",
    "outputId": "90216d4c-f7d9-4052-a7ee-ccbdf386f99f"
   },
   "outputs": [
    {
     "data": {
      "text/html": [
       "<div>\n",
       "<style scoped>\n",
       "    .dataframe tbody tr th:only-of-type {\n",
       "        vertical-align: middle;\n",
       "    }\n",
       "\n",
       "    .dataframe tbody tr th {\n",
       "        vertical-align: top;\n",
       "    }\n",
       "\n",
       "    .dataframe thead th {\n",
       "        text-align: right;\n",
       "    }\n",
       "</style>\n",
       "<table border=\"1\" class=\"dataframe\">\n",
       "  <thead>\n",
       "    <tr style=\"text-align: right;\">\n",
       "      <th></th>\n",
       "      <th>Metrics</th>\n",
       "      <th>LR Base Model</th>\n",
       "      <th>LR Tuned Model</th>\n",
       "      <th>RF Base Model</th>\n",
       "      <th>RF Tuned Model</th>\n",
       "      <th>XG Base Model</th>\n",
       "      <th>XG Tuned Model</th>\n",
       "    </tr>\n",
       "  </thead>\n",
       "  <tbody>\n",
       "    <tr>\n",
       "      <th>0</th>\n",
       "      <td>Accuracy</td>\n",
       "      <td>0.872</td>\n",
       "      <td>0.886</td>\n",
       "      <td>0.906</td>\n",
       "      <td>0.834</td>\n",
       "      <td>0.886</td>\n",
       "      <td>0.886</td>\n",
       "    </tr>\n",
       "    <tr>\n",
       "      <th>1</th>\n",
       "      <td>Sensitivity/Recall</td>\n",
       "      <td>0.888</td>\n",
       "      <td>0.924</td>\n",
       "      <td>0.965</td>\n",
       "      <td>0.867</td>\n",
       "      <td>0.922</td>\n",
       "      <td>0.923</td>\n",
       "    </tr>\n",
       "    <tr>\n",
       "      <th>2</th>\n",
       "      <td>Specificity</td>\n",
       "      <td>0.744</td>\n",
       "      <td>0.578</td>\n",
       "      <td>0.420</td>\n",
       "      <td>0.570</td>\n",
       "      <td>0.586</td>\n",
       "      <td>0.585</td>\n",
       "    </tr>\n",
       "    <tr>\n",
       "      <th>3</th>\n",
       "      <td>Precision</td>\n",
       "      <td>0.744</td>\n",
       "      <td>0.578</td>\n",
       "      <td>0.420</td>\n",
       "      <td>0.570</td>\n",
       "      <td>0.586</td>\n",
       "      <td>0.585</td>\n",
       "    </tr>\n",
       "    <tr>\n",
       "      <th>4</th>\n",
       "      <td>F1 Score</td>\n",
       "      <td>0.810</td>\n",
       "      <td>0.711</td>\n",
       "      <td>0.585</td>\n",
       "      <td>0.688</td>\n",
       "      <td>0.717</td>\n",
       "      <td>0.716</td>\n",
       "    </tr>\n",
       "  </tbody>\n",
       "</table>\n",
       "</div>"
      ],
      "text/plain": [
       "              Metrics  LR Base Model  LR Tuned Model  RF Base Model  \\\n",
       "0            Accuracy          0.872           0.886          0.906   \n",
       "1  Sensitivity/Recall          0.888           0.924          0.965   \n",
       "2         Specificity          0.744           0.578          0.420   \n",
       "3           Precision          0.744           0.578          0.420   \n",
       "4            F1 Score          0.810           0.711          0.585   \n",
       "\n",
       "   RF Tuned Model  XG Base Model  XG Tuned Model  \n",
       "0           0.834          0.886           0.886  \n",
       "1           0.867          0.922           0.923  \n",
       "2           0.570          0.586           0.585  \n",
       "3           0.570          0.586           0.585  \n",
       "4           0.688          0.717           0.716  "
      ]
     },
     "execution_count": 101,
     "metadata": {},
     "output_type": "execute_result"
    }
   ],
   "source": [
    "# Printing the scores of all the 3 Models (Base and Tuned)\n",
    "dict_basetuned_metrics = {'Metrics': ['Accuracy','Sensitivity/Recall','Specificity','Precision','F1 Score'],\n",
    "                              'LR Base Model': logistic_regression_metrics, 'LR Tuned Model': logisticRegressor_tuned_metrics,\n",
    "                              'RF Base Model': randomforest_metrics, 'RF Tuned Model': randomforest_tuned_metrics,\n",
    "                              'XG Base Model': xg_metrics, 'XG Tuned Model': xgboost_tuned_metrics}\n",
    "\n",
    "df_basetuned_metrics = pd.DataFrame(dict_basetuned_metrics, columns = ['Metrics', 'LR Base Model', 'LR Tuned Model', 'RF Base Model', 'RF Tuned Model', 'XG Base Model', 'XG Tuned Model'])\n",
    "df_basetuned_metrics"
   ]
  },
  {
   "cell_type": "code",
   "execution_count": 102,
   "metadata": {},
   "outputs": [],
   "source": [
    "best_sentiment_model = pickle.dump(regressor, open('./models/best_sentiment_model.pkl', 'wb'))"
   ]
  },
  {
   "cell_type": "markdown",
   "metadata": {
    "id": "6cDrFIjcRbc8"
   },
   "source": [
    "## Import data"
   ]
  },
  {
   "cell_type": "code",
   "execution_count": 105,
   "metadata": {
    "ExecuteTime": {
     "end_time": "2022-04-06T05:49:49.032431Z",
     "start_time": "2022-04-06T05:46:27.450Z"
    },
    "execution": {
     "iopub.execute_input": "2022-04-14T01:38:48.446374Z",
     "iopub.status.busy": "2022-04-14T01:38:48.446144Z",
     "iopub.status.idle": "2022-04-14T01:38:48.778436Z",
     "shell.execute_reply": "2022-04-14T01:38:48.777449Z",
     "shell.execute_reply.started": "2022-04-14T01:38:48.446345Z"
    },
    "executionInfo": {
     "elapsed": 328,
     "status": "ok",
     "timestamp": 1649227975848,
     "user": {
      "displayName": "Venkatasubramanian S",
      "userId": "06029493893713790610"
     },
     "user_tz": 420
    },
    "id": "ZmruPEAqQ360"
   },
   "outputs": [],
   "source": [
    "df_recommended = pd.read_csv(\"data_source/sample30.csv\")"
   ]
  },
  {
   "cell_type": "code",
   "execution_count": 106,
   "metadata": {
    "ExecuteTime": {
     "end_time": "2022-04-06T05:49:49.033842Z",
     "start_time": "2022-04-06T05:46:27.457Z"
    },
    "execution": {
     "iopub.execute_input": "2022-04-14T01:38:48.780380Z",
     "iopub.status.busy": "2022-04-14T01:38:48.779972Z",
     "iopub.status.idle": "2022-04-14T01:38:48.786548Z",
     "shell.execute_reply": "2022-04-14T01:38:48.785607Z",
     "shell.execute_reply.started": "2022-04-14T01:38:48.780194Z"
    },
    "executionInfo": {
     "elapsed": 64,
     "status": "ok",
     "timestamp": 1649227975849,
     "user": {
      "displayName": "Venkatasubramanian S",
      "userId": "06029493893713790610"
     },
     "user_tz": 420
    },
    "id": "MRyhg4bnRHGL",
    "outputId": "b70b3cff-bc99-4b5b-af31-5cd9e35e5f66"
   },
   "outputs": [
    {
     "data": {
      "text/plain": [
       "(30000, 15)"
      ]
     },
     "execution_count": 106,
     "metadata": {},
     "output_type": "execute_result"
    }
   ],
   "source": [
    "df_recommended.shape"
   ]
  },
  {
   "cell_type": "code",
   "execution_count": 107,
   "metadata": {
    "ExecuteTime": {
     "end_time": "2022-04-06T05:49:49.035838Z",
     "start_time": "2022-04-06T05:46:27.464Z"
    },
    "execution": {
     "iopub.execute_input": "2022-04-14T01:38:48.788540Z",
     "iopub.status.busy": "2022-04-14T01:38:48.788313Z",
     "iopub.status.idle": "2022-04-14T01:38:48.808380Z",
     "shell.execute_reply": "2022-04-14T01:38:48.807312Z",
     "shell.execute_reply.started": "2022-04-14T01:38:48.788509Z"
    },
    "executionInfo": {
     "elapsed": 62,
     "status": "ok",
     "timestamp": 1649227975850,
     "user": {
      "displayName": "Venkatasubramanian S",
      "userId": "06029493893713790610"
     },
     "user_tz": 420
    },
    "id": "sYHvciqQLQqP"
   },
   "outputs": [],
   "source": [
    "# We need only the below columns for building a recommendation system\n",
    "df_recommended = df_recommended[[\"id\", \"name\", \"reviews_rating\", \"reviews_username\"]]"
   ]
  },
  {
   "cell_type": "markdown",
   "metadata": {
    "id": "-R3PHLxwRe1H"
   },
   "source": [
    "## Handling NULL values"
   ]
  },
  {
   "cell_type": "code",
   "execution_count": 108,
   "metadata": {
    "ExecuteTime": {
     "end_time": "2022-04-06T05:49:49.039836Z",
     "start_time": "2022-04-06T05:46:27.488Z"
    },
    "execution": {
     "iopub.execute_input": "2022-04-14T01:38:48.846202Z",
     "iopub.status.busy": "2022-04-14T01:38:48.845471Z",
     "iopub.status.idle": "2022-04-14T01:38:48.898298Z",
     "shell.execute_reply": "2022-04-14T01:38:48.897249Z",
     "shell.execute_reply.started": "2022-04-14T01:38:48.846143Z"
    },
    "executionInfo": {
     "elapsed": 59,
     "status": "ok",
     "timestamp": 1649227975853,
     "user": {
      "displayName": "Venkatasubramanian S",
      "userId": "06029493893713790610"
     },
     "user_tz": 420
    },
    "id": "374JVOIXP3Dl",
    "outputId": "deb88222-6c04-4de7-ebd4-179d037b3d59"
   },
   "outputs": [
    {
     "data": {
      "text/html": [
       "<div>\n",
       "<style scoped>\n",
       "    .dataframe tbody tr th:only-of-type {\n",
       "        vertical-align: middle;\n",
       "    }\n",
       "\n",
       "    .dataframe tbody tr th {\n",
       "        vertical-align: top;\n",
       "    }\n",
       "\n",
       "    .dataframe thead th {\n",
       "        text-align: right;\n",
       "    }\n",
       "</style>\n",
       "<table border=\"1\" class=\"dataframe\">\n",
       "  <thead>\n",
       "    <tr style=\"text-align: right;\">\n",
       "      <th></th>\n",
       "      <th>Percentage</th>\n",
       "      <th>Count</th>\n",
       "    </tr>\n",
       "  </thead>\n",
       "  <tbody>\n",
       "    <tr>\n",
       "      <th>reviews_username</th>\n",
       "      <td>0.21</td>\n",
       "      <td>63</td>\n",
       "    </tr>\n",
       "  </tbody>\n",
       "</table>\n",
       "</div>"
      ],
      "text/plain": [
       "                  Percentage  Count\n",
       "reviews_username        0.21     63"
      ]
     },
     "execution_count": 108,
     "metadata": {},
     "output_type": "execute_result"
    }
   ],
   "source": [
    "# Getting total number of NULL values and percentage of the columns\n",
    "count_for_null = df_recommended[df_recommended.columns[df_recommended.isna().any()]].isna().sum().sort_values(ascending=True)\n",
    "percentage_of_null = (df_recommended[df_recommended.columns[df_recommended.isna().any()]].isna().sum() * 100 / df_recommended.shape[0]).sort_values(ascending=True)\n",
    "check_data = pd.concat([percentage_of_null, count_for_null ], axis=1, keys=['Percentage', 'Count' ])\n",
    "check_data"
   ]
  },
  {
   "cell_type": "code",
   "execution_count": 109,
   "metadata": {
    "ExecuteTime": {
     "end_time": "2022-04-06T05:49:49.040837Z",
     "start_time": "2022-04-06T05:46:27.495Z"
    },
    "execution": {
     "iopub.execute_input": "2022-04-14T01:38:48.900404Z",
     "iopub.status.busy": "2022-04-14T01:38:48.899901Z",
     "iopub.status.idle": "2022-04-14T01:38:48.913370Z",
     "shell.execute_reply": "2022-04-14T01:38:48.912411Z",
     "shell.execute_reply.started": "2022-04-14T01:38:48.900360Z"
    },
    "executionInfo": {
     "elapsed": 57,
     "status": "ok",
     "timestamp": 1649227975854,
     "user": {
      "displayName": "Venkatasubramanian S",
      "userId": "06029493893713790610"
     },
     "user_tz": 420
    },
    "id": "nfoSO1ZBRUno"
   },
   "outputs": [],
   "source": [
    "# Removing the rows where reviews_username is NULL\n",
    "df_recommended = df_recommended[~ df_recommended.reviews_username.isna() ]"
   ]
  },
  {
   "cell_type": "code",
   "execution_count": 110,
   "metadata": {
    "ExecuteTime": {
     "end_time": "2022-04-06T05:49:49.041835Z",
     "start_time": "2022-04-06T05:46:27.503Z"
    },
    "execution": {
     "iopub.execute_input": "2022-04-14T01:38:48.915539Z",
     "iopub.status.busy": "2022-04-14T01:38:48.914932Z",
     "iopub.status.idle": "2022-04-14T01:38:48.927106Z",
     "shell.execute_reply": "2022-04-14T01:38:48.926247Z",
     "shell.execute_reply.started": "2022-04-14T01:38:48.915490Z"
    },
    "executionInfo": {
     "elapsed": 58,
     "status": "ok",
     "timestamp": 1649227975855,
     "user": {
      "displayName": "Venkatasubramanian S",
      "userId": "06029493893713790610"
     },
     "user_tz": 420
    },
    "id": "PE5NdHkfRl2s",
    "outputId": "4bfcefb4-a1bd-40f8-abc0-bfcfb4081e93"
   },
   "outputs": [
    {
     "data": {
      "text/plain": [
       "(29937, 4)"
      ]
     },
     "execution_count": 110,
     "metadata": {},
     "output_type": "execute_result"
    }
   ],
   "source": [
    "df_recommended.shape"
   ]
  },
  {
   "cell_type": "code",
   "execution_count": 111,
   "metadata": {
    "ExecuteTime": {
     "end_time": "2022-04-06T05:49:49.042838Z",
     "start_time": "2022-04-06T05:46:27.510Z"
    },
    "execution": {
     "iopub.execute_input": "2022-04-14T01:38:48.929518Z",
     "iopub.status.busy": "2022-04-14T01:38:48.928698Z",
     "iopub.status.idle": "2022-04-14T01:38:48.968934Z",
     "shell.execute_reply": "2022-04-14T01:38:48.967968Z",
     "shell.execute_reply.started": "2022-04-14T01:38:48.929468Z"
    },
    "executionInfo": {
     "elapsed": 52,
     "status": "ok",
     "timestamp": 1649227975856,
     "user": {
      "displayName": "Venkatasubramanian S",
      "userId": "06029493893713790610"
     },
     "user_tz": 420
    },
    "id": "XUm2nb0QRn1P",
    "outputId": "a7e60984-d063-4f4e-d4dc-8ff2c36feaba"
   },
   "outputs": [
    {
     "data": {
      "text/html": [
       "<div>\n",
       "<style scoped>\n",
       "    .dataframe tbody tr th:only-of-type {\n",
       "        vertical-align: middle;\n",
       "    }\n",
       "\n",
       "    .dataframe tbody tr th {\n",
       "        vertical-align: top;\n",
       "    }\n",
       "\n",
       "    .dataframe thead th {\n",
       "        text-align: right;\n",
       "    }\n",
       "</style>\n",
       "<table border=\"1\" class=\"dataframe\">\n",
       "  <thead>\n",
       "    <tr style=\"text-align: right;\">\n",
       "      <th></th>\n",
       "      <th>Percentage</th>\n",
       "      <th>Count</th>\n",
       "    </tr>\n",
       "  </thead>\n",
       "  <tbody>\n",
       "  </tbody>\n",
       "</table>\n",
       "</div>"
      ],
      "text/plain": [
       "Empty DataFrame\n",
       "Columns: [Percentage, Count]\n",
       "Index: []"
      ]
     },
     "execution_count": 111,
     "metadata": {},
     "output_type": "execute_result"
    }
   ],
   "source": [
    "# Check if any NULL values still exist in the dataset\n",
    "count_for_null = df_recommended[df_recommended.columns[df_recommended.isna().any()]].isna().sum().sort_values(ascending=True)\n",
    "percentage_of_null = (df_recommended[df_recommended.columns[df_recommended.isna().any()]].isna().sum() * 100 / df_recommended.shape[0]).sort_values(ascending=True)\n",
    "check_data = pd.concat([percentage_of_null, count_for_null], axis=1, keys=['Percentage', 'Count' ])\n",
    "check_data"
   ]
  },
  {
   "cell_type": "markdown",
   "metadata": {
    "id": "OqTKyvvdNbHa"
   },
   "source": [
    "## Train, Test Split"
   ]
  },
  {
   "cell_type": "code",
   "execution_count": 112,
   "metadata": {
    "ExecuteTime": {
     "end_time": "2022-04-06T05:49:49.044837Z",
     "start_time": "2022-04-06T05:46:27.519Z"
    },
    "execution": {
     "iopub.execute_input": "2022-04-14T01:38:48.970880Z",
     "iopub.status.busy": "2022-04-14T01:38:48.970584Z",
     "iopub.status.idle": "2022-04-14T01:38:48.982265Z",
     "shell.execute_reply": "2022-04-14T01:38:48.981470Z",
     "shell.execute_reply.started": "2022-04-14T01:38:48.970839Z"
    },
    "executionInfo": {
     "elapsed": 51,
     "status": "ok",
     "timestamp": 1649227975856,
     "user": {
      "displayName": "Venkatasubramanian S",
      "userId": "06029493893713790610"
     },
     "user_tz": 420
    },
    "id": "WB3u-rGXNcqc"
   },
   "outputs": [],
   "source": [
    "train, test = train_test_split(df_recommended, test_size=0.30, random_state=42)"
   ]
  },
  {
   "cell_type": "code",
   "execution_count": 113,
   "metadata": {
    "ExecuteTime": {
     "end_time": "2022-04-06T05:49:49.049836Z",
     "start_time": "2022-04-06T05:46:27.540Z"
    },
    "execution": {
     "iopub.execute_input": "2022-04-14T01:38:49.011921Z",
     "iopub.status.busy": "2022-04-14T01:38:49.011395Z",
     "iopub.status.idle": "2022-04-14T01:38:49.344999Z",
     "shell.execute_reply": "2022-04-14T01:38:49.344151Z",
     "shell.execute_reply.started": "2022-04-14T01:38:49.011874Z"
    },
    "executionInfo": {
     "elapsed": 42,
     "status": "ok",
     "timestamp": 1649227975861,
     "user": {
      "displayName": "Venkatasubramanian S",
      "userId": "06029493893713790610"
     },
     "user_tz": 420
    },
    "id": "wPuL2Fx_N3ow",
    "outputId": "49ac6714-68e4-49c6-a99e-03201c545882"
   },
   "outputs": [],
   "source": [
    "df_pivot = train.pivot_table(\n",
    "    index='reviews_username',\n",
    "    columns='id',\n",
    "    values='reviews_rating'\n",
    ").fillna(0)"
   ]
  },
  {
   "cell_type": "code",
   "execution_count": 114,
   "metadata": {
    "ExecuteTime": {
     "end_time": "2022-04-06T05:49:49.050837Z",
     "start_time": "2022-04-06T05:46:27.550Z"
    },
    "execution": {
     "iopub.execute_input": "2022-04-14T01:38:49.346540Z",
     "iopub.status.busy": "2022-04-14T01:38:49.346318Z",
     "iopub.status.idle": "2022-04-14T01:38:49.351413Z",
     "shell.execute_reply": "2022-04-14T01:38:49.350565Z",
     "shell.execute_reply.started": "2022-04-14T01:38:49.346512Z"
    },
    "executionInfo": {
     "elapsed": 40,
     "status": "ok",
     "timestamp": 1649227975862,
     "user": {
      "displayName": "Venkatasubramanian S",
      "userId": "06029493893713790610"
     },
     "user_tz": 420
    },
    "id": "6ibjmmQjSSgM"
   },
   "outputs": [],
   "source": [
    "# Copy the train dataset into dummy_train\n",
    "train_dummy = train.copy()"
   ]
  },
  {
   "cell_type": "code",
   "execution_count": 115,
   "metadata": {
    "ExecuteTime": {
     "end_time": "2022-04-06T05:49:49.051834Z",
     "start_time": "2022-04-06T05:46:27.558Z"
    },
    "execution": {
     "iopub.execute_input": "2022-04-14T01:38:49.353046Z",
     "iopub.status.busy": "2022-04-14T01:38:49.352824Z",
     "iopub.status.idle": "2022-04-14T01:38:49.377497Z",
     "shell.execute_reply": "2022-04-14T01:38:49.376616Z",
     "shell.execute_reply.started": "2022-04-14T01:38:49.353019Z"
    },
    "executionInfo": {
     "elapsed": 40,
     "status": "ok",
     "timestamp": 1649227975863,
     "user": {
      "displayName": "Venkatasubramanian S",
      "userId": "06029493893713790610"
     },
     "user_tz": 420
    },
    "id": "n-TUak8GTFUq"
   },
   "outputs": [],
   "source": [
    "# The products not rated by user is marked as 1 for prediction. \n",
    "train_dummy['reviews_rating'] = train_dummy['reviews_rating'].apply(lambda x: 0 if x>=1 else 1)"
   ]
  },
  {
   "cell_type": "code",
   "execution_count": 116,
   "metadata": {
    "ExecuteTime": {
     "end_time": "2022-04-06T05:49:49.052836Z",
     "start_time": "2022-04-06T05:46:27.567Z"
    },
    "execution": {
     "iopub.execute_input": "2022-04-14T01:38:49.379396Z",
     "iopub.status.busy": "2022-04-14T01:38:49.378952Z",
     "iopub.status.idle": "2022-04-14T01:38:49.631952Z",
     "shell.execute_reply": "2022-04-14T01:38:49.630965Z",
     "shell.execute_reply.started": "2022-04-14T01:38:49.379360Z"
    },
    "executionInfo": {
     "elapsed": 448,
     "status": "ok",
     "timestamp": 1649227976272,
     "user": {
      "displayName": "Venkatasubramanian S",
      "userId": "06029493893713790610"
     },
     "user_tz": 420
    },
    "id": "RlkOQ0mSTNeG",
    "outputId": "ee7eef1f-4915-4813-853e-493afadd99b7"
   },
   "outputs": [
    {
     "data": {
      "text/html": [
       "<div>\n",
       "<style scoped>\n",
       "    .dataframe tbody tr th:only-of-type {\n",
       "        vertical-align: middle;\n",
       "    }\n",
       "\n",
       "    .dataframe tbody tr th {\n",
       "        vertical-align: top;\n",
       "    }\n",
       "\n",
       "    .dataframe thead th {\n",
       "        text-align: right;\n",
       "    }\n",
       "</style>\n",
       "<table border=\"1\" class=\"dataframe\">\n",
       "  <thead>\n",
       "    <tr style=\"text-align: right;\">\n",
       "      <th>id</th>\n",
       "      <th>AV13O1A8GV-KLJ3akUyj</th>\n",
       "      <th>AV14LG0R-jtxr-f38QfS</th>\n",
       "      <th>AV16khLE-jtxr-f38VFn</th>\n",
       "      <th>AV1YGDqsGV-KLJ3adc-O</th>\n",
       "      <th>AV1YIch7GV-KLJ3addeG</th>\n",
       "      <th>AV1YlENIglJLPUi8IHsX</th>\n",
       "      <th>AV1YmBrdGV-KLJ3adewb</th>\n",
       "      <th>AV1YmDL9vKc47QAVgr7_</th>\n",
       "      <th>AV1Ymf_rglJLPUi8II2v</th>\n",
       "      <th>AV1Yn94nvKc47QAVgtst</th>\n",
       "      <th>AV1YnUMYglJLPUi8IJpK</th>\n",
       "      <th>AV1Ynb3bglJLPUi8IJxJ</th>\n",
       "      <th>AV1YneDPglJLPUi8IJyQ</th>\n",
       "      <th>AV1YpiJvvKc47QAVguxy</th>\n",
       "      <th>AV1YqAaMGV-KLJ3adiDj</th>\n",
       "      <th>AV1Ys0kTvKc47QAVgx1C</th>\n",
       "      <th>AV1YtGjdglJLPUi8IOfJ</th>\n",
       "      <th>AV1ZSp2uglJLPUi8IQFy</th>\n",
       "      <th>AV1ZT7GLglJLPUi8IQLI</th>\n",
       "      <th>AV1ZVIgy-jtxr-f31W9N</th>\n",
       "      <th>AV1d76w7vKc47QAVhCqn</th>\n",
       "      <th>AV1h6Gu0glJLPUi8IjA_</th>\n",
       "      <th>AV1h6gSl-jtxr-f31p40</th>\n",
       "      <th>AV1l8zRZvKc47QAVhnAv</th>\n",
       "      <th>AV2AvGnjGV-KLJ3alTQH</th>\n",
       "      <th>AV2Avn5dGV-KLJ3alTjq</th>\n",
       "      <th>AVpe-M4-ilAPnD_xSF1K</th>\n",
       "      <th>AVpe-MCY1cnluZ0-bCv_</th>\n",
       "      <th>AVpe-PJnLJeJML43ziaj</th>\n",
       "      <th>AVpe-YAL1cnluZ0-bHGh</th>\n",
       "      <th>...</th>\n",
       "      <th>AVpfksililAPnD_xePx_</th>\n",
       "      <th>AVpfl6baLJeJML43AEQq</th>\n",
       "      <th>AVpfl6sF1cnluZ0-nmwC</th>\n",
       "      <th>AVpfldDlLJeJML43_7s_</th>\n",
       "      <th>AVpfliCoilAPnD_xegIr</th>\n",
       "      <th>AVpfluP1ilAPnD_xejxO</th>\n",
       "      <th>AVpfm8yiLJeJML43AYyu</th>\n",
       "      <th>AVpfmVnVLJeJML43AMqC</th>\n",
       "      <th>AVpfmjXGLJeJML43AQ5_</th>\n",
       "      <th>AVpfnRuSilAPnD_xfB8l</th>\n",
       "      <th>AVpfnS4eLJeJML43AfZe</th>\n",
       "      <th>AVpfnUcwLJeJML43Af2U</th>\n",
       "      <th>AVpfnjBILJeJML43AkO3</th>\n",
       "      <th>AVpfoSS51cnluZ0-oVH9</th>\n",
       "      <th>AVpfov9TLJeJML43A7B0</th>\n",
       "      <th>AVpfozgyilAPnD_xfe0r</th>\n",
       "      <th>AVpfpM2yilAPnD_xfmDG</th>\n",
       "      <th>AVpfpoUCLJeJML43BLXv</th>\n",
       "      <th>AVpfqW4WilAPnD_xf7a_</th>\n",
       "      <th>AVpfr5cb1cnluZ0-pZFp</th>\n",
       "      <th>AVpfrFDZLJeJML43Bmv0</th>\n",
       "      <th>AVpfrTyiLJeJML43BrSI</th>\n",
       "      <th>AVpfrfHF1cnluZ0-pRai</th>\n",
       "      <th>AVpfrgjFLJeJML43BvCc</th>\n",
       "      <th>AVpfsQoeilAPnD_xgfx5</th>\n",
       "      <th>AVpfshNsLJeJML43CB8q</th>\n",
       "      <th>AVpfthSailAPnD_xg3ON</th>\n",
       "      <th>AVpftikC1cnluZ0-p31V</th>\n",
       "      <th>AVpfv4TlilAPnD_xhjNS</th>\n",
       "      <th>AVpfvieo1cnluZ0-qdnu</th>\n",
       "    </tr>\n",
       "    <tr>\n",
       "      <th>reviews_username</th>\n",
       "      <th></th>\n",
       "      <th></th>\n",
       "      <th></th>\n",
       "      <th></th>\n",
       "      <th></th>\n",
       "      <th></th>\n",
       "      <th></th>\n",
       "      <th></th>\n",
       "      <th></th>\n",
       "      <th></th>\n",
       "      <th></th>\n",
       "      <th></th>\n",
       "      <th></th>\n",
       "      <th></th>\n",
       "      <th></th>\n",
       "      <th></th>\n",
       "      <th></th>\n",
       "      <th></th>\n",
       "      <th></th>\n",
       "      <th></th>\n",
       "      <th></th>\n",
       "      <th></th>\n",
       "      <th></th>\n",
       "      <th></th>\n",
       "      <th></th>\n",
       "      <th></th>\n",
       "      <th></th>\n",
       "      <th></th>\n",
       "      <th></th>\n",
       "      <th></th>\n",
       "      <th></th>\n",
       "      <th></th>\n",
       "      <th></th>\n",
       "      <th></th>\n",
       "      <th></th>\n",
       "      <th></th>\n",
       "      <th></th>\n",
       "      <th></th>\n",
       "      <th></th>\n",
       "      <th></th>\n",
       "      <th></th>\n",
       "      <th></th>\n",
       "      <th></th>\n",
       "      <th></th>\n",
       "      <th></th>\n",
       "      <th></th>\n",
       "      <th></th>\n",
       "      <th></th>\n",
       "      <th></th>\n",
       "      <th></th>\n",
       "      <th></th>\n",
       "      <th></th>\n",
       "      <th></th>\n",
       "      <th></th>\n",
       "      <th></th>\n",
       "      <th></th>\n",
       "      <th></th>\n",
       "      <th></th>\n",
       "      <th></th>\n",
       "      <th></th>\n",
       "      <th></th>\n",
       "    </tr>\n",
       "  </thead>\n",
       "  <tbody>\n",
       "    <tr>\n",
       "      <th>00sab00</th>\n",
       "      <td>1.0</td>\n",
       "      <td>1.0</td>\n",
       "      <td>1.0</td>\n",
       "      <td>1.0</td>\n",
       "      <td>1.0</td>\n",
       "      <td>1.0</td>\n",
       "      <td>1.0</td>\n",
       "      <td>1.0</td>\n",
       "      <td>1.0</td>\n",
       "      <td>1.0</td>\n",
       "      <td>1.0</td>\n",
       "      <td>1.0</td>\n",
       "      <td>1.0</td>\n",
       "      <td>1.0</td>\n",
       "      <td>1.0</td>\n",
       "      <td>1.0</td>\n",
       "      <td>1.0</td>\n",
       "      <td>1.0</td>\n",
       "      <td>1.0</td>\n",
       "      <td>1.0</td>\n",
       "      <td>1.0</td>\n",
       "      <td>1.0</td>\n",
       "      <td>1.0</td>\n",
       "      <td>1.0</td>\n",
       "      <td>1.0</td>\n",
       "      <td>1.0</td>\n",
       "      <td>1.0</td>\n",
       "      <td>1.0</td>\n",
       "      <td>1.0</td>\n",
       "      <td>1.0</td>\n",
       "      <td>...</td>\n",
       "      <td>1.0</td>\n",
       "      <td>1.0</td>\n",
       "      <td>1.0</td>\n",
       "      <td>1.0</td>\n",
       "      <td>1.0</td>\n",
       "      <td>1.0</td>\n",
       "      <td>1.0</td>\n",
       "      <td>1.0</td>\n",
       "      <td>1.0</td>\n",
       "      <td>1.0</td>\n",
       "      <td>1.0</td>\n",
       "      <td>1.0</td>\n",
       "      <td>1.0</td>\n",
       "      <td>1.0</td>\n",
       "      <td>1.0</td>\n",
       "      <td>1.0</td>\n",
       "      <td>1.0</td>\n",
       "      <td>1.0</td>\n",
       "      <td>1.0</td>\n",
       "      <td>1.0</td>\n",
       "      <td>1.0</td>\n",
       "      <td>1.0</td>\n",
       "      <td>1.0</td>\n",
       "      <td>1.0</td>\n",
       "      <td>1.0</td>\n",
       "      <td>1.0</td>\n",
       "      <td>1.0</td>\n",
       "      <td>1.0</td>\n",
       "      <td>1.0</td>\n",
       "      <td>1.0</td>\n",
       "    </tr>\n",
       "    <tr>\n",
       "      <th>01impala</th>\n",
       "      <td>1.0</td>\n",
       "      <td>1.0</td>\n",
       "      <td>1.0</td>\n",
       "      <td>1.0</td>\n",
       "      <td>1.0</td>\n",
       "      <td>1.0</td>\n",
       "      <td>1.0</td>\n",
       "      <td>1.0</td>\n",
       "      <td>1.0</td>\n",
       "      <td>1.0</td>\n",
       "      <td>1.0</td>\n",
       "      <td>1.0</td>\n",
       "      <td>1.0</td>\n",
       "      <td>1.0</td>\n",
       "      <td>1.0</td>\n",
       "      <td>1.0</td>\n",
       "      <td>1.0</td>\n",
       "      <td>1.0</td>\n",
       "      <td>1.0</td>\n",
       "      <td>1.0</td>\n",
       "      <td>1.0</td>\n",
       "      <td>1.0</td>\n",
       "      <td>1.0</td>\n",
       "      <td>1.0</td>\n",
       "      <td>1.0</td>\n",
       "      <td>1.0</td>\n",
       "      <td>1.0</td>\n",
       "      <td>1.0</td>\n",
       "      <td>1.0</td>\n",
       "      <td>1.0</td>\n",
       "      <td>...</td>\n",
       "      <td>1.0</td>\n",
       "      <td>1.0</td>\n",
       "      <td>1.0</td>\n",
       "      <td>1.0</td>\n",
       "      <td>1.0</td>\n",
       "      <td>1.0</td>\n",
       "      <td>1.0</td>\n",
       "      <td>1.0</td>\n",
       "      <td>1.0</td>\n",
       "      <td>1.0</td>\n",
       "      <td>1.0</td>\n",
       "      <td>1.0</td>\n",
       "      <td>1.0</td>\n",
       "      <td>1.0</td>\n",
       "      <td>1.0</td>\n",
       "      <td>1.0</td>\n",
       "      <td>1.0</td>\n",
       "      <td>1.0</td>\n",
       "      <td>1.0</td>\n",
       "      <td>1.0</td>\n",
       "      <td>1.0</td>\n",
       "      <td>1.0</td>\n",
       "      <td>1.0</td>\n",
       "      <td>1.0</td>\n",
       "      <td>1.0</td>\n",
       "      <td>1.0</td>\n",
       "      <td>1.0</td>\n",
       "      <td>1.0</td>\n",
       "      <td>1.0</td>\n",
       "      <td>1.0</td>\n",
       "    </tr>\n",
       "    <tr>\n",
       "      <th>02dakota</th>\n",
       "      <td>1.0</td>\n",
       "      <td>1.0</td>\n",
       "      <td>1.0</td>\n",
       "      <td>1.0</td>\n",
       "      <td>1.0</td>\n",
       "      <td>1.0</td>\n",
       "      <td>1.0</td>\n",
       "      <td>1.0</td>\n",
       "      <td>1.0</td>\n",
       "      <td>1.0</td>\n",
       "      <td>1.0</td>\n",
       "      <td>1.0</td>\n",
       "      <td>1.0</td>\n",
       "      <td>1.0</td>\n",
       "      <td>1.0</td>\n",
       "      <td>1.0</td>\n",
       "      <td>1.0</td>\n",
       "      <td>1.0</td>\n",
       "      <td>1.0</td>\n",
       "      <td>1.0</td>\n",
       "      <td>1.0</td>\n",
       "      <td>1.0</td>\n",
       "      <td>1.0</td>\n",
       "      <td>1.0</td>\n",
       "      <td>1.0</td>\n",
       "      <td>1.0</td>\n",
       "      <td>1.0</td>\n",
       "      <td>1.0</td>\n",
       "      <td>1.0</td>\n",
       "      <td>1.0</td>\n",
       "      <td>...</td>\n",
       "      <td>1.0</td>\n",
       "      <td>1.0</td>\n",
       "      <td>1.0</td>\n",
       "      <td>1.0</td>\n",
       "      <td>1.0</td>\n",
       "      <td>1.0</td>\n",
       "      <td>1.0</td>\n",
       "      <td>1.0</td>\n",
       "      <td>1.0</td>\n",
       "      <td>1.0</td>\n",
       "      <td>1.0</td>\n",
       "      <td>1.0</td>\n",
       "      <td>1.0</td>\n",
       "      <td>1.0</td>\n",
       "      <td>1.0</td>\n",
       "      <td>1.0</td>\n",
       "      <td>1.0</td>\n",
       "      <td>1.0</td>\n",
       "      <td>1.0</td>\n",
       "      <td>1.0</td>\n",
       "      <td>1.0</td>\n",
       "      <td>1.0</td>\n",
       "      <td>1.0</td>\n",
       "      <td>1.0</td>\n",
       "      <td>1.0</td>\n",
       "      <td>1.0</td>\n",
       "      <td>1.0</td>\n",
       "      <td>1.0</td>\n",
       "      <td>1.0</td>\n",
       "      <td>1.0</td>\n",
       "    </tr>\n",
       "  </tbody>\n",
       "</table>\n",
       "<p>3 rows × 256 columns</p>\n",
       "</div>"
      ],
      "text/plain": [
       "id                AV13O1A8GV-KLJ3akUyj  AV14LG0R-jtxr-f38QfS  \\\n",
       "reviews_username                                               \n",
       "00sab00                            1.0                   1.0   \n",
       "01impala                           1.0                   1.0   \n",
       "02dakota                           1.0                   1.0   \n",
       "\n",
       "id                AV16khLE-jtxr-f38VFn  AV1YGDqsGV-KLJ3adc-O  \\\n",
       "reviews_username                                               \n",
       "00sab00                            1.0                   1.0   \n",
       "01impala                           1.0                   1.0   \n",
       "02dakota                           1.0                   1.0   \n",
       "\n",
       "id                AV1YIch7GV-KLJ3addeG  AV1YlENIglJLPUi8IHsX  \\\n",
       "reviews_username                                               \n",
       "00sab00                            1.0                   1.0   \n",
       "01impala                           1.0                   1.0   \n",
       "02dakota                           1.0                   1.0   \n",
       "\n",
       "id                AV1YmBrdGV-KLJ3adewb  AV1YmDL9vKc47QAVgr7_  \\\n",
       "reviews_username                                               \n",
       "00sab00                            1.0                   1.0   \n",
       "01impala                           1.0                   1.0   \n",
       "02dakota                           1.0                   1.0   \n",
       "\n",
       "id                AV1Ymf_rglJLPUi8II2v  AV1Yn94nvKc47QAVgtst  \\\n",
       "reviews_username                                               \n",
       "00sab00                            1.0                   1.0   \n",
       "01impala                           1.0                   1.0   \n",
       "02dakota                           1.0                   1.0   \n",
       "\n",
       "id                AV1YnUMYglJLPUi8IJpK  AV1Ynb3bglJLPUi8IJxJ  \\\n",
       "reviews_username                                               \n",
       "00sab00                            1.0                   1.0   \n",
       "01impala                           1.0                   1.0   \n",
       "02dakota                           1.0                   1.0   \n",
       "\n",
       "id                AV1YneDPglJLPUi8IJyQ  AV1YpiJvvKc47QAVguxy  \\\n",
       "reviews_username                                               \n",
       "00sab00                            1.0                   1.0   \n",
       "01impala                           1.0                   1.0   \n",
       "02dakota                           1.0                   1.0   \n",
       "\n",
       "id                AV1YqAaMGV-KLJ3adiDj  AV1Ys0kTvKc47QAVgx1C  \\\n",
       "reviews_username                                               \n",
       "00sab00                            1.0                   1.0   \n",
       "01impala                           1.0                   1.0   \n",
       "02dakota                           1.0                   1.0   \n",
       "\n",
       "id                AV1YtGjdglJLPUi8IOfJ  AV1ZSp2uglJLPUi8IQFy  \\\n",
       "reviews_username                                               \n",
       "00sab00                            1.0                   1.0   \n",
       "01impala                           1.0                   1.0   \n",
       "02dakota                           1.0                   1.0   \n",
       "\n",
       "id                AV1ZT7GLglJLPUi8IQLI  AV1ZVIgy-jtxr-f31W9N  \\\n",
       "reviews_username                                               \n",
       "00sab00                            1.0                   1.0   \n",
       "01impala                           1.0                   1.0   \n",
       "02dakota                           1.0                   1.0   \n",
       "\n",
       "id                AV1d76w7vKc47QAVhCqn  AV1h6Gu0glJLPUi8IjA_  \\\n",
       "reviews_username                                               \n",
       "00sab00                            1.0                   1.0   \n",
       "01impala                           1.0                   1.0   \n",
       "02dakota                           1.0                   1.0   \n",
       "\n",
       "id                AV1h6gSl-jtxr-f31p40  AV1l8zRZvKc47QAVhnAv  \\\n",
       "reviews_username                                               \n",
       "00sab00                            1.0                   1.0   \n",
       "01impala                           1.0                   1.0   \n",
       "02dakota                           1.0                   1.0   \n",
       "\n",
       "id                AV2AvGnjGV-KLJ3alTQH  AV2Avn5dGV-KLJ3alTjq  \\\n",
       "reviews_username                                               \n",
       "00sab00                            1.0                   1.0   \n",
       "01impala                           1.0                   1.0   \n",
       "02dakota                           1.0                   1.0   \n",
       "\n",
       "id                AVpe-M4-ilAPnD_xSF1K  AVpe-MCY1cnluZ0-bCv_  \\\n",
       "reviews_username                                               \n",
       "00sab00                            1.0                   1.0   \n",
       "01impala                           1.0                   1.0   \n",
       "02dakota                           1.0                   1.0   \n",
       "\n",
       "id                AVpe-PJnLJeJML43ziaj  AVpe-YAL1cnluZ0-bHGh  ...  \\\n",
       "reviews_username                                              ...   \n",
       "00sab00                            1.0                   1.0  ...   \n",
       "01impala                           1.0                   1.0  ...   \n",
       "02dakota                           1.0                   1.0  ...   \n",
       "\n",
       "id                AVpfksililAPnD_xePx_  AVpfl6baLJeJML43AEQq  \\\n",
       "reviews_username                                               \n",
       "00sab00                            1.0                   1.0   \n",
       "01impala                           1.0                   1.0   \n",
       "02dakota                           1.0                   1.0   \n",
       "\n",
       "id                AVpfl6sF1cnluZ0-nmwC  AVpfldDlLJeJML43_7s_  \\\n",
       "reviews_username                                               \n",
       "00sab00                            1.0                   1.0   \n",
       "01impala                           1.0                   1.0   \n",
       "02dakota                           1.0                   1.0   \n",
       "\n",
       "id                AVpfliCoilAPnD_xegIr  AVpfluP1ilAPnD_xejxO  \\\n",
       "reviews_username                                               \n",
       "00sab00                            1.0                   1.0   \n",
       "01impala                           1.0                   1.0   \n",
       "02dakota                           1.0                   1.0   \n",
       "\n",
       "id                AVpfm8yiLJeJML43AYyu  AVpfmVnVLJeJML43AMqC  \\\n",
       "reviews_username                                               \n",
       "00sab00                            1.0                   1.0   \n",
       "01impala                           1.0                   1.0   \n",
       "02dakota                           1.0                   1.0   \n",
       "\n",
       "id                AVpfmjXGLJeJML43AQ5_  AVpfnRuSilAPnD_xfB8l  \\\n",
       "reviews_username                                               \n",
       "00sab00                            1.0                   1.0   \n",
       "01impala                           1.0                   1.0   \n",
       "02dakota                           1.0                   1.0   \n",
       "\n",
       "id                AVpfnS4eLJeJML43AfZe  AVpfnUcwLJeJML43Af2U  \\\n",
       "reviews_username                                               \n",
       "00sab00                            1.0                   1.0   \n",
       "01impala                           1.0                   1.0   \n",
       "02dakota                           1.0                   1.0   \n",
       "\n",
       "id                AVpfnjBILJeJML43AkO3  AVpfoSS51cnluZ0-oVH9  \\\n",
       "reviews_username                                               \n",
       "00sab00                            1.0                   1.0   \n",
       "01impala                           1.0                   1.0   \n",
       "02dakota                           1.0                   1.0   \n",
       "\n",
       "id                AVpfov9TLJeJML43A7B0  AVpfozgyilAPnD_xfe0r  \\\n",
       "reviews_username                                               \n",
       "00sab00                            1.0                   1.0   \n",
       "01impala                           1.0                   1.0   \n",
       "02dakota                           1.0                   1.0   \n",
       "\n",
       "id                AVpfpM2yilAPnD_xfmDG  AVpfpoUCLJeJML43BLXv  \\\n",
       "reviews_username                                               \n",
       "00sab00                            1.0                   1.0   \n",
       "01impala                           1.0                   1.0   \n",
       "02dakota                           1.0                   1.0   \n",
       "\n",
       "id                AVpfqW4WilAPnD_xf7a_  AVpfr5cb1cnluZ0-pZFp  \\\n",
       "reviews_username                                               \n",
       "00sab00                            1.0                   1.0   \n",
       "01impala                           1.0                   1.0   \n",
       "02dakota                           1.0                   1.0   \n",
       "\n",
       "id                AVpfrFDZLJeJML43Bmv0  AVpfrTyiLJeJML43BrSI  \\\n",
       "reviews_username                                               \n",
       "00sab00                            1.0                   1.0   \n",
       "01impala                           1.0                   1.0   \n",
       "02dakota                           1.0                   1.0   \n",
       "\n",
       "id                AVpfrfHF1cnluZ0-pRai  AVpfrgjFLJeJML43BvCc  \\\n",
       "reviews_username                                               \n",
       "00sab00                            1.0                   1.0   \n",
       "01impala                           1.0                   1.0   \n",
       "02dakota                           1.0                   1.0   \n",
       "\n",
       "id                AVpfsQoeilAPnD_xgfx5  AVpfshNsLJeJML43CB8q  \\\n",
       "reviews_username                                               \n",
       "00sab00                            1.0                   1.0   \n",
       "01impala                           1.0                   1.0   \n",
       "02dakota                           1.0                   1.0   \n",
       "\n",
       "id                AVpfthSailAPnD_xg3ON  AVpftikC1cnluZ0-p31V  \\\n",
       "reviews_username                                               \n",
       "00sab00                            1.0                   1.0   \n",
       "01impala                           1.0                   1.0   \n",
       "02dakota                           1.0                   1.0   \n",
       "\n",
       "id                AVpfv4TlilAPnD_xhjNS  AVpfvieo1cnluZ0-qdnu  \n",
       "reviews_username                                              \n",
       "00sab00                            1.0                   1.0  \n",
       "01impala                           1.0                   1.0  \n",
       "02dakota                           1.0                   1.0  \n",
       "\n",
       "[3 rows x 256 columns]"
      ]
     },
     "execution_count": 116,
     "metadata": {},
     "output_type": "execute_result"
    }
   ],
   "source": [
    "# Convert the dummy train dataset into matrix format\n",
    "train_dummy = train_dummy.pivot_table(\n",
    "    index='reviews_username',\n",
    "    columns='id',\n",
    "    values='reviews_rating'\n",
    ").fillna(1)\n",
    "\n",
    "train_dummy.head(3)"
   ]
  },
  {
   "cell_type": "code",
   "execution_count": 117,
   "metadata": {
    "ExecuteTime": {
     "end_time": "2022-04-06T05:49:49.054838Z",
     "start_time": "2022-04-06T05:46:27.587Z"
    },
    "execution": {
     "iopub.execute_input": "2022-04-14T01:38:49.682459Z",
     "iopub.status.busy": "2022-04-14T01:38:49.681552Z",
     "iopub.status.idle": "2022-04-14T01:38:49.855770Z",
     "shell.execute_reply": "2022-04-14T01:38:49.854847Z",
     "shell.execute_reply.started": "2022-04-14T01:38:49.682414Z"
    },
    "executionInfo": {
     "elapsed": 382,
     "status": "ok",
     "timestamp": 1649227976642,
     "user": {
      "displayName": "Venkatasubramanian S",
      "userId": "06029493893713790610"
     },
     "user_tz": 420
    },
    "id": "6woToTQeVGTD"
   },
   "outputs": [],
   "source": [
    "# Pivot the train ratings' dataset into matrix format in which columns are Products and the rows are usernames.\n",
    "df_pivot = train.pivot_table(\n",
    "    index='reviews_username',\n",
    "    columns='id',\n",
    "    values='reviews_rating'\n",
    ")"
   ]
  },
  {
   "cell_type": "code",
   "execution_count": 118,
   "metadata": {
    "ExecuteTime": {
     "end_time": "2022-04-06T05:49:49.056117Z",
     "start_time": "2022-04-06T05:46:27.594Z"
    },
    "execution": {
     "iopub.execute_input": "2022-04-14T01:38:49.857328Z",
     "iopub.status.busy": "2022-04-14T01:38:49.856990Z",
     "iopub.status.idle": "2022-04-14T01:38:49.895912Z",
     "shell.execute_reply": "2022-04-14T01:38:49.895315Z",
     "shell.execute_reply.started": "2022-04-14T01:38:49.857295Z"
    },
    "executionInfo": {
     "elapsed": 11,
     "status": "ok",
     "timestamp": 1649227976643,
     "user": {
      "displayName": "Venkatasubramanian S",
      "userId": "06029493893713790610"
     },
     "user_tz": 420
    },
    "id": "6p_tCQSBVBF5",
    "outputId": "eb3f9ddd-e186-41e1-eae2-12ff84628694"
   },
   "outputs": [
    {
     "data": {
      "text/html": [
       "<div>\n",
       "<style scoped>\n",
       "    .dataframe tbody tr th:only-of-type {\n",
       "        vertical-align: middle;\n",
       "    }\n",
       "\n",
       "    .dataframe tbody tr th {\n",
       "        vertical-align: top;\n",
       "    }\n",
       "\n",
       "    .dataframe thead th {\n",
       "        text-align: right;\n",
       "    }\n",
       "</style>\n",
       "<table border=\"1\" class=\"dataframe\">\n",
       "  <thead>\n",
       "    <tr style=\"text-align: right;\">\n",
       "      <th>id</th>\n",
       "      <th>AV13O1A8GV-KLJ3akUyj</th>\n",
       "      <th>AV14LG0R-jtxr-f38QfS</th>\n",
       "      <th>AV16khLE-jtxr-f38VFn</th>\n",
       "      <th>AV1YGDqsGV-KLJ3adc-O</th>\n",
       "      <th>AV1YIch7GV-KLJ3addeG</th>\n",
       "      <th>AV1YlENIglJLPUi8IHsX</th>\n",
       "      <th>AV1YmBrdGV-KLJ3adewb</th>\n",
       "      <th>AV1YmDL9vKc47QAVgr7_</th>\n",
       "      <th>AV1Ymf_rglJLPUi8II2v</th>\n",
       "      <th>AV1Yn94nvKc47QAVgtst</th>\n",
       "      <th>AV1YnUMYglJLPUi8IJpK</th>\n",
       "      <th>AV1Ynb3bglJLPUi8IJxJ</th>\n",
       "      <th>AV1YneDPglJLPUi8IJyQ</th>\n",
       "      <th>AV1YpiJvvKc47QAVguxy</th>\n",
       "      <th>AV1YqAaMGV-KLJ3adiDj</th>\n",
       "      <th>AV1Ys0kTvKc47QAVgx1C</th>\n",
       "      <th>AV1YtGjdglJLPUi8IOfJ</th>\n",
       "      <th>AV1ZSp2uglJLPUi8IQFy</th>\n",
       "      <th>AV1ZT7GLglJLPUi8IQLI</th>\n",
       "      <th>AV1ZVIgy-jtxr-f31W9N</th>\n",
       "      <th>AV1d76w7vKc47QAVhCqn</th>\n",
       "      <th>AV1h6Gu0glJLPUi8IjA_</th>\n",
       "      <th>AV1h6gSl-jtxr-f31p40</th>\n",
       "      <th>AV1l8zRZvKc47QAVhnAv</th>\n",
       "      <th>AV2AvGnjGV-KLJ3alTQH</th>\n",
       "      <th>AV2Avn5dGV-KLJ3alTjq</th>\n",
       "      <th>AVpe-M4-ilAPnD_xSF1K</th>\n",
       "      <th>AVpe-MCY1cnluZ0-bCv_</th>\n",
       "      <th>AVpe-PJnLJeJML43ziaj</th>\n",
       "      <th>AVpe-YAL1cnluZ0-bHGh</th>\n",
       "      <th>...</th>\n",
       "      <th>AVpfksililAPnD_xePx_</th>\n",
       "      <th>AVpfl6baLJeJML43AEQq</th>\n",
       "      <th>AVpfl6sF1cnluZ0-nmwC</th>\n",
       "      <th>AVpfldDlLJeJML43_7s_</th>\n",
       "      <th>AVpfliCoilAPnD_xegIr</th>\n",
       "      <th>AVpfluP1ilAPnD_xejxO</th>\n",
       "      <th>AVpfm8yiLJeJML43AYyu</th>\n",
       "      <th>AVpfmVnVLJeJML43AMqC</th>\n",
       "      <th>AVpfmjXGLJeJML43AQ5_</th>\n",
       "      <th>AVpfnRuSilAPnD_xfB8l</th>\n",
       "      <th>AVpfnS4eLJeJML43AfZe</th>\n",
       "      <th>AVpfnUcwLJeJML43Af2U</th>\n",
       "      <th>AVpfnjBILJeJML43AkO3</th>\n",
       "      <th>AVpfoSS51cnluZ0-oVH9</th>\n",
       "      <th>AVpfov9TLJeJML43A7B0</th>\n",
       "      <th>AVpfozgyilAPnD_xfe0r</th>\n",
       "      <th>AVpfpM2yilAPnD_xfmDG</th>\n",
       "      <th>AVpfpoUCLJeJML43BLXv</th>\n",
       "      <th>AVpfqW4WilAPnD_xf7a_</th>\n",
       "      <th>AVpfr5cb1cnluZ0-pZFp</th>\n",
       "      <th>AVpfrFDZLJeJML43Bmv0</th>\n",
       "      <th>AVpfrTyiLJeJML43BrSI</th>\n",
       "      <th>AVpfrfHF1cnluZ0-pRai</th>\n",
       "      <th>AVpfrgjFLJeJML43BvCc</th>\n",
       "      <th>AVpfsQoeilAPnD_xgfx5</th>\n",
       "      <th>AVpfshNsLJeJML43CB8q</th>\n",
       "      <th>AVpfthSailAPnD_xg3ON</th>\n",
       "      <th>AVpftikC1cnluZ0-p31V</th>\n",
       "      <th>AVpfv4TlilAPnD_xhjNS</th>\n",
       "      <th>AVpfvieo1cnluZ0-qdnu</th>\n",
       "    </tr>\n",
       "    <tr>\n",
       "      <th>reviews_username</th>\n",
       "      <th></th>\n",
       "      <th></th>\n",
       "      <th></th>\n",
       "      <th></th>\n",
       "      <th></th>\n",
       "      <th></th>\n",
       "      <th></th>\n",
       "      <th></th>\n",
       "      <th></th>\n",
       "      <th></th>\n",
       "      <th></th>\n",
       "      <th></th>\n",
       "      <th></th>\n",
       "      <th></th>\n",
       "      <th></th>\n",
       "      <th></th>\n",
       "      <th></th>\n",
       "      <th></th>\n",
       "      <th></th>\n",
       "      <th></th>\n",
       "      <th></th>\n",
       "      <th></th>\n",
       "      <th></th>\n",
       "      <th></th>\n",
       "      <th></th>\n",
       "      <th></th>\n",
       "      <th></th>\n",
       "      <th></th>\n",
       "      <th></th>\n",
       "      <th></th>\n",
       "      <th></th>\n",
       "      <th></th>\n",
       "      <th></th>\n",
       "      <th></th>\n",
       "      <th></th>\n",
       "      <th></th>\n",
       "      <th></th>\n",
       "      <th></th>\n",
       "      <th></th>\n",
       "      <th></th>\n",
       "      <th></th>\n",
       "      <th></th>\n",
       "      <th></th>\n",
       "      <th></th>\n",
       "      <th></th>\n",
       "      <th></th>\n",
       "      <th></th>\n",
       "      <th></th>\n",
       "      <th></th>\n",
       "      <th></th>\n",
       "      <th></th>\n",
       "      <th></th>\n",
       "      <th></th>\n",
       "      <th></th>\n",
       "      <th></th>\n",
       "      <th></th>\n",
       "      <th></th>\n",
       "      <th></th>\n",
       "      <th></th>\n",
       "      <th></th>\n",
       "      <th></th>\n",
       "    </tr>\n",
       "  </thead>\n",
       "  <tbody>\n",
       "    <tr>\n",
       "      <th>joshua</th>\n",
       "      <td>5.0</td>\n",
       "      <td>NaN</td>\n",
       "      <td>NaN</td>\n",
       "      <td>NaN</td>\n",
       "      <td>NaN</td>\n",
       "      <td>NaN</td>\n",
       "      <td>NaN</td>\n",
       "      <td>NaN</td>\n",
       "      <td>NaN</td>\n",
       "      <td>NaN</td>\n",
       "      <td>NaN</td>\n",
       "      <td>NaN</td>\n",
       "      <td>NaN</td>\n",
       "      <td>NaN</td>\n",
       "      <td>NaN</td>\n",
       "      <td>NaN</td>\n",
       "      <td>NaN</td>\n",
       "      <td>NaN</td>\n",
       "      <td>NaN</td>\n",
       "      <td>NaN</td>\n",
       "      <td>NaN</td>\n",
       "      <td>NaN</td>\n",
       "      <td>NaN</td>\n",
       "      <td>NaN</td>\n",
       "      <td>NaN</td>\n",
       "      <td>NaN</td>\n",
       "      <td>NaN</td>\n",
       "      <td>NaN</td>\n",
       "      <td>NaN</td>\n",
       "      <td>NaN</td>\n",
       "      <td>...</td>\n",
       "      <td>NaN</td>\n",
       "      <td>NaN</td>\n",
       "      <td>NaN</td>\n",
       "      <td>NaN</td>\n",
       "      <td>NaN</td>\n",
       "      <td>NaN</td>\n",
       "      <td>NaN</td>\n",
       "      <td>NaN</td>\n",
       "      <td>NaN</td>\n",
       "      <td>NaN</td>\n",
       "      <td>NaN</td>\n",
       "      <td>NaN</td>\n",
       "      <td>NaN</td>\n",
       "      <td>5.0</td>\n",
       "      <td>NaN</td>\n",
       "      <td>NaN</td>\n",
       "      <td>NaN</td>\n",
       "      <td>NaN</td>\n",
       "      <td>NaN</td>\n",
       "      <td>NaN</td>\n",
       "      <td>NaN</td>\n",
       "      <td>NaN</td>\n",
       "      <td>NaN</td>\n",
       "      <td>NaN</td>\n",
       "      <td>NaN</td>\n",
       "      <td>NaN</td>\n",
       "      <td>NaN</td>\n",
       "      <td>NaN</td>\n",
       "      <td>NaN</td>\n",
       "      <td>NaN</td>\n",
       "    </tr>\n",
       "  </tbody>\n",
       "</table>\n",
       "<p>1 rows × 256 columns</p>\n",
       "</div>"
      ],
      "text/plain": [
       "id                AV13O1A8GV-KLJ3akUyj  AV14LG0R-jtxr-f38QfS  \\\n",
       "reviews_username                                               \n",
       "joshua                             5.0                   NaN   \n",
       "\n",
       "id                AV16khLE-jtxr-f38VFn  AV1YGDqsGV-KLJ3adc-O  \\\n",
       "reviews_username                                               \n",
       "joshua                             NaN                   NaN   \n",
       "\n",
       "id                AV1YIch7GV-KLJ3addeG  AV1YlENIglJLPUi8IHsX  \\\n",
       "reviews_username                                               \n",
       "joshua                             NaN                   NaN   \n",
       "\n",
       "id                AV1YmBrdGV-KLJ3adewb  AV1YmDL9vKc47QAVgr7_  \\\n",
       "reviews_username                                               \n",
       "joshua                             NaN                   NaN   \n",
       "\n",
       "id                AV1Ymf_rglJLPUi8II2v  AV1Yn94nvKc47QAVgtst  \\\n",
       "reviews_username                                               \n",
       "joshua                             NaN                   NaN   \n",
       "\n",
       "id                AV1YnUMYglJLPUi8IJpK  AV1Ynb3bglJLPUi8IJxJ  \\\n",
       "reviews_username                                               \n",
       "joshua                             NaN                   NaN   \n",
       "\n",
       "id                AV1YneDPglJLPUi8IJyQ  AV1YpiJvvKc47QAVguxy  \\\n",
       "reviews_username                                               \n",
       "joshua                             NaN                   NaN   \n",
       "\n",
       "id                AV1YqAaMGV-KLJ3adiDj  AV1Ys0kTvKc47QAVgx1C  \\\n",
       "reviews_username                                               \n",
       "joshua                             NaN                   NaN   \n",
       "\n",
       "id                AV1YtGjdglJLPUi8IOfJ  AV1ZSp2uglJLPUi8IQFy  \\\n",
       "reviews_username                                               \n",
       "joshua                             NaN                   NaN   \n",
       "\n",
       "id                AV1ZT7GLglJLPUi8IQLI  AV1ZVIgy-jtxr-f31W9N  \\\n",
       "reviews_username                                               \n",
       "joshua                             NaN                   NaN   \n",
       "\n",
       "id                AV1d76w7vKc47QAVhCqn  AV1h6Gu0glJLPUi8IjA_  \\\n",
       "reviews_username                                               \n",
       "joshua                             NaN                   NaN   \n",
       "\n",
       "id                AV1h6gSl-jtxr-f31p40  AV1l8zRZvKc47QAVhnAv  \\\n",
       "reviews_username                                               \n",
       "joshua                             NaN                   NaN   \n",
       "\n",
       "id                AV2AvGnjGV-KLJ3alTQH  AV2Avn5dGV-KLJ3alTjq  \\\n",
       "reviews_username                                               \n",
       "joshua                             NaN                   NaN   \n",
       "\n",
       "id                AVpe-M4-ilAPnD_xSF1K  AVpe-MCY1cnluZ0-bCv_  \\\n",
       "reviews_username                                               \n",
       "joshua                             NaN                   NaN   \n",
       "\n",
       "id                AVpe-PJnLJeJML43ziaj  AVpe-YAL1cnluZ0-bHGh  ...  \\\n",
       "reviews_username                                              ...   \n",
       "joshua                             NaN                   NaN  ...   \n",
       "\n",
       "id                AVpfksililAPnD_xePx_  AVpfl6baLJeJML43AEQq  \\\n",
       "reviews_username                                               \n",
       "joshua                             NaN                   NaN   \n",
       "\n",
       "id                AVpfl6sF1cnluZ0-nmwC  AVpfldDlLJeJML43_7s_  \\\n",
       "reviews_username                                               \n",
       "joshua                             NaN                   NaN   \n",
       "\n",
       "id                AVpfliCoilAPnD_xegIr  AVpfluP1ilAPnD_xejxO  \\\n",
       "reviews_username                                               \n",
       "joshua                             NaN                   NaN   \n",
       "\n",
       "id                AVpfm8yiLJeJML43AYyu  AVpfmVnVLJeJML43AMqC  \\\n",
       "reviews_username                                               \n",
       "joshua                             NaN                   NaN   \n",
       "\n",
       "id                AVpfmjXGLJeJML43AQ5_  AVpfnRuSilAPnD_xfB8l  \\\n",
       "reviews_username                                               \n",
       "joshua                             NaN                   NaN   \n",
       "\n",
       "id                AVpfnS4eLJeJML43AfZe  AVpfnUcwLJeJML43Af2U  \\\n",
       "reviews_username                                               \n",
       "joshua                             NaN                   NaN   \n",
       "\n",
       "id                AVpfnjBILJeJML43AkO3  AVpfoSS51cnluZ0-oVH9  \\\n",
       "reviews_username                                               \n",
       "joshua                             NaN                   5.0   \n",
       "\n",
       "id                AVpfov9TLJeJML43A7B0  AVpfozgyilAPnD_xfe0r  \\\n",
       "reviews_username                                               \n",
       "joshua                             NaN                   NaN   \n",
       "\n",
       "id                AVpfpM2yilAPnD_xfmDG  AVpfpoUCLJeJML43BLXv  \\\n",
       "reviews_username                                               \n",
       "joshua                             NaN                   NaN   \n",
       "\n",
       "id                AVpfqW4WilAPnD_xf7a_  AVpfr5cb1cnluZ0-pZFp  \\\n",
       "reviews_username                                               \n",
       "joshua                             NaN                   NaN   \n",
       "\n",
       "id                AVpfrFDZLJeJML43Bmv0  AVpfrTyiLJeJML43BrSI  \\\n",
       "reviews_username                                               \n",
       "joshua                             NaN                   NaN   \n",
       "\n",
       "id                AVpfrfHF1cnluZ0-pRai  AVpfrgjFLJeJML43BvCc  \\\n",
       "reviews_username                                               \n",
       "joshua                             NaN                   NaN   \n",
       "\n",
       "id                AVpfsQoeilAPnD_xgfx5  AVpfshNsLJeJML43CB8q  \\\n",
       "reviews_username                                               \n",
       "joshua                             NaN                   NaN   \n",
       "\n",
       "id                AVpfthSailAPnD_xg3ON  AVpftikC1cnluZ0-p31V  \\\n",
       "reviews_username                                               \n",
       "joshua                             NaN                   NaN   \n",
       "\n",
       "id                AVpfv4TlilAPnD_xhjNS  AVpfvieo1cnluZ0-qdnu  \n",
       "reviews_username                                              \n",
       "joshua                             NaN                   NaN  \n",
       "\n",
       "[1 rows x 256 columns]"
      ]
     },
     "execution_count": 118,
     "metadata": {},
     "output_type": "execute_result"
    }
   ],
   "source": [
    "# For verification purpose, we do have cases where the rating is not NaN\n",
    "df_pivot[~df_pivot['AV13O1A8GV-KLJ3akUyj'].isna()]"
   ]
  },
  {
   "cell_type": "markdown",
   "metadata": {
    "id": "rvbxOD4bWI7O"
   },
   "source": [
    "### Normalising the rating of the product for each user around 0 mean"
   ]
  },
  {
   "cell_type": "code",
   "execution_count": 119,
   "metadata": {
    "ExecuteTime": {
     "end_time": "2022-04-06T05:49:49.056836Z",
     "start_time": "2022-04-06T05:46:27.603Z"
    },
    "execution": {
     "iopub.execute_input": "2022-04-14T01:38:49.897261Z",
     "iopub.status.busy": "2022-04-14T01:38:49.896876Z",
     "iopub.status.idle": "2022-04-14T01:38:49.952610Z",
     "shell.execute_reply": "2022-04-14T01:38:49.951772Z",
     "shell.execute_reply.started": "2022-04-14T01:38:49.897228Z"
    },
    "executionInfo": {
     "elapsed": 10,
     "status": "ok",
     "timestamp": 1649227976644,
     "user": {
      "displayName": "Venkatasubramanian S",
      "userId": "06029493893713790610"
     },
     "user_tz": 420
    },
    "id": "SCPLIVCOWLmZ"
   },
   "outputs": [],
   "source": [
    "mean = np.nanmean(df_pivot, axis=1)\n",
    "df_subtracted = (df_pivot.T-mean).T"
   ]
  },
  {
   "cell_type": "code",
   "execution_count": 120,
   "metadata": {
    "ExecuteTime": {
     "end_time": "2022-04-06T05:49:49.057836Z",
     "start_time": "2022-04-06T05:46:27.610Z"
    },
    "execution": {
     "iopub.execute_input": "2022-04-14T01:38:49.953973Z",
     "iopub.status.busy": "2022-04-14T01:38:49.953739Z",
     "iopub.status.idle": "2022-04-14T01:38:49.997938Z",
     "shell.execute_reply": "2022-04-14T01:38:49.997094Z",
     "shell.execute_reply.started": "2022-04-14T01:38:49.953943Z"
    },
    "executionInfo": {
     "elapsed": 10,
     "status": "ok",
     "timestamp": 1649227976645,
     "user": {
      "displayName": "Venkatasubramanian S",
      "userId": "06029493893713790610"
     },
     "user_tz": 420
    },
    "id": "0VwHBnYGWNX-",
    "outputId": "3ced5ac7-be23-448d-c417-19a9d8c27a19"
   },
   "outputs": [
    {
     "data": {
      "text/html": [
       "<div>\n",
       "<style scoped>\n",
       "    .dataframe tbody tr th:only-of-type {\n",
       "        vertical-align: middle;\n",
       "    }\n",
       "\n",
       "    .dataframe tbody tr th {\n",
       "        vertical-align: top;\n",
       "    }\n",
       "\n",
       "    .dataframe thead th {\n",
       "        text-align: right;\n",
       "    }\n",
       "</style>\n",
       "<table border=\"1\" class=\"dataframe\">\n",
       "  <thead>\n",
       "    <tr style=\"text-align: right;\">\n",
       "      <th>id</th>\n",
       "      <th>AV13O1A8GV-KLJ3akUyj</th>\n",
       "      <th>AV14LG0R-jtxr-f38QfS</th>\n",
       "      <th>AV16khLE-jtxr-f38VFn</th>\n",
       "      <th>AV1YGDqsGV-KLJ3adc-O</th>\n",
       "      <th>AV1YIch7GV-KLJ3addeG</th>\n",
       "      <th>AV1YlENIglJLPUi8IHsX</th>\n",
       "      <th>AV1YmBrdGV-KLJ3adewb</th>\n",
       "      <th>AV1YmDL9vKc47QAVgr7_</th>\n",
       "      <th>AV1Ymf_rglJLPUi8II2v</th>\n",
       "      <th>AV1Yn94nvKc47QAVgtst</th>\n",
       "      <th>AV1YnUMYglJLPUi8IJpK</th>\n",
       "      <th>AV1Ynb3bglJLPUi8IJxJ</th>\n",
       "      <th>AV1YneDPglJLPUi8IJyQ</th>\n",
       "      <th>AV1YpiJvvKc47QAVguxy</th>\n",
       "      <th>AV1YqAaMGV-KLJ3adiDj</th>\n",
       "      <th>AV1Ys0kTvKc47QAVgx1C</th>\n",
       "      <th>AV1YtGjdglJLPUi8IOfJ</th>\n",
       "      <th>AV1ZSp2uglJLPUi8IQFy</th>\n",
       "      <th>AV1ZT7GLglJLPUi8IQLI</th>\n",
       "      <th>AV1ZVIgy-jtxr-f31W9N</th>\n",
       "      <th>AV1d76w7vKc47QAVhCqn</th>\n",
       "      <th>AV1h6Gu0glJLPUi8IjA_</th>\n",
       "      <th>AV1h6gSl-jtxr-f31p40</th>\n",
       "      <th>AV1l8zRZvKc47QAVhnAv</th>\n",
       "      <th>AV2AvGnjGV-KLJ3alTQH</th>\n",
       "      <th>AV2Avn5dGV-KLJ3alTjq</th>\n",
       "      <th>AVpe-M4-ilAPnD_xSF1K</th>\n",
       "      <th>AVpe-MCY1cnluZ0-bCv_</th>\n",
       "      <th>AVpe-PJnLJeJML43ziaj</th>\n",
       "      <th>AVpe-YAL1cnluZ0-bHGh</th>\n",
       "      <th>...</th>\n",
       "      <th>AVpfksililAPnD_xePx_</th>\n",
       "      <th>AVpfl6baLJeJML43AEQq</th>\n",
       "      <th>AVpfl6sF1cnluZ0-nmwC</th>\n",
       "      <th>AVpfldDlLJeJML43_7s_</th>\n",
       "      <th>AVpfliCoilAPnD_xegIr</th>\n",
       "      <th>AVpfluP1ilAPnD_xejxO</th>\n",
       "      <th>AVpfm8yiLJeJML43AYyu</th>\n",
       "      <th>AVpfmVnVLJeJML43AMqC</th>\n",
       "      <th>AVpfmjXGLJeJML43AQ5_</th>\n",
       "      <th>AVpfnRuSilAPnD_xfB8l</th>\n",
       "      <th>AVpfnS4eLJeJML43AfZe</th>\n",
       "      <th>AVpfnUcwLJeJML43Af2U</th>\n",
       "      <th>AVpfnjBILJeJML43AkO3</th>\n",
       "      <th>AVpfoSS51cnluZ0-oVH9</th>\n",
       "      <th>AVpfov9TLJeJML43A7B0</th>\n",
       "      <th>AVpfozgyilAPnD_xfe0r</th>\n",
       "      <th>AVpfpM2yilAPnD_xfmDG</th>\n",
       "      <th>AVpfpoUCLJeJML43BLXv</th>\n",
       "      <th>AVpfqW4WilAPnD_xf7a_</th>\n",
       "      <th>AVpfr5cb1cnluZ0-pZFp</th>\n",
       "      <th>AVpfrFDZLJeJML43Bmv0</th>\n",
       "      <th>AVpfrTyiLJeJML43BrSI</th>\n",
       "      <th>AVpfrfHF1cnluZ0-pRai</th>\n",
       "      <th>AVpfrgjFLJeJML43BvCc</th>\n",
       "      <th>AVpfsQoeilAPnD_xgfx5</th>\n",
       "      <th>AVpfshNsLJeJML43CB8q</th>\n",
       "      <th>AVpfthSailAPnD_xg3ON</th>\n",
       "      <th>AVpftikC1cnluZ0-p31V</th>\n",
       "      <th>AVpfv4TlilAPnD_xhjNS</th>\n",
       "      <th>AVpfvieo1cnluZ0-qdnu</th>\n",
       "    </tr>\n",
       "    <tr>\n",
       "      <th>reviews_username</th>\n",
       "      <th></th>\n",
       "      <th></th>\n",
       "      <th></th>\n",
       "      <th></th>\n",
       "      <th></th>\n",
       "      <th></th>\n",
       "      <th></th>\n",
       "      <th></th>\n",
       "      <th></th>\n",
       "      <th></th>\n",
       "      <th></th>\n",
       "      <th></th>\n",
       "      <th></th>\n",
       "      <th></th>\n",
       "      <th></th>\n",
       "      <th></th>\n",
       "      <th></th>\n",
       "      <th></th>\n",
       "      <th></th>\n",
       "      <th></th>\n",
       "      <th></th>\n",
       "      <th></th>\n",
       "      <th></th>\n",
       "      <th></th>\n",
       "      <th></th>\n",
       "      <th></th>\n",
       "      <th></th>\n",
       "      <th></th>\n",
       "      <th></th>\n",
       "      <th></th>\n",
       "      <th></th>\n",
       "      <th></th>\n",
       "      <th></th>\n",
       "      <th></th>\n",
       "      <th></th>\n",
       "      <th></th>\n",
       "      <th></th>\n",
       "      <th></th>\n",
       "      <th></th>\n",
       "      <th></th>\n",
       "      <th></th>\n",
       "      <th></th>\n",
       "      <th></th>\n",
       "      <th></th>\n",
       "      <th></th>\n",
       "      <th></th>\n",
       "      <th></th>\n",
       "      <th></th>\n",
       "      <th></th>\n",
       "      <th></th>\n",
       "      <th></th>\n",
       "      <th></th>\n",
       "      <th></th>\n",
       "      <th></th>\n",
       "      <th></th>\n",
       "      <th></th>\n",
       "      <th></th>\n",
       "      <th></th>\n",
       "      <th></th>\n",
       "      <th></th>\n",
       "      <th></th>\n",
       "    </tr>\n",
       "  </thead>\n",
       "  <tbody>\n",
       "    <tr>\n",
       "      <th>00sab00</th>\n",
       "      <td>NaN</td>\n",
       "      <td>NaN</td>\n",
       "      <td>NaN</td>\n",
       "      <td>NaN</td>\n",
       "      <td>NaN</td>\n",
       "      <td>NaN</td>\n",
       "      <td>NaN</td>\n",
       "      <td>NaN</td>\n",
       "      <td>NaN</td>\n",
       "      <td>NaN</td>\n",
       "      <td>NaN</td>\n",
       "      <td>NaN</td>\n",
       "      <td>NaN</td>\n",
       "      <td>NaN</td>\n",
       "      <td>NaN</td>\n",
       "      <td>NaN</td>\n",
       "      <td>NaN</td>\n",
       "      <td>NaN</td>\n",
       "      <td>NaN</td>\n",
       "      <td>NaN</td>\n",
       "      <td>NaN</td>\n",
       "      <td>NaN</td>\n",
       "      <td>NaN</td>\n",
       "      <td>NaN</td>\n",
       "      <td>NaN</td>\n",
       "      <td>NaN</td>\n",
       "      <td>NaN</td>\n",
       "      <td>NaN</td>\n",
       "      <td>NaN</td>\n",
       "      <td>NaN</td>\n",
       "      <td>...</td>\n",
       "      <td>NaN</td>\n",
       "      <td>NaN</td>\n",
       "      <td>NaN</td>\n",
       "      <td>NaN</td>\n",
       "      <td>NaN</td>\n",
       "      <td>NaN</td>\n",
       "      <td>NaN</td>\n",
       "      <td>NaN</td>\n",
       "      <td>NaN</td>\n",
       "      <td>NaN</td>\n",
       "      <td>NaN</td>\n",
       "      <td>NaN</td>\n",
       "      <td>NaN</td>\n",
       "      <td>NaN</td>\n",
       "      <td>NaN</td>\n",
       "      <td>NaN</td>\n",
       "      <td>NaN</td>\n",
       "      <td>NaN</td>\n",
       "      <td>NaN</td>\n",
       "      <td>NaN</td>\n",
       "      <td>NaN</td>\n",
       "      <td>NaN</td>\n",
       "      <td>NaN</td>\n",
       "      <td>NaN</td>\n",
       "      <td>NaN</td>\n",
       "      <td>NaN</td>\n",
       "      <td>NaN</td>\n",
       "      <td>NaN</td>\n",
       "      <td>NaN</td>\n",
       "      <td>NaN</td>\n",
       "    </tr>\n",
       "    <tr>\n",
       "      <th>01impala</th>\n",
       "      <td>NaN</td>\n",
       "      <td>NaN</td>\n",
       "      <td>NaN</td>\n",
       "      <td>NaN</td>\n",
       "      <td>NaN</td>\n",
       "      <td>NaN</td>\n",
       "      <td>NaN</td>\n",
       "      <td>NaN</td>\n",
       "      <td>NaN</td>\n",
       "      <td>NaN</td>\n",
       "      <td>NaN</td>\n",
       "      <td>NaN</td>\n",
       "      <td>NaN</td>\n",
       "      <td>NaN</td>\n",
       "      <td>NaN</td>\n",
       "      <td>NaN</td>\n",
       "      <td>NaN</td>\n",
       "      <td>NaN</td>\n",
       "      <td>NaN</td>\n",
       "      <td>NaN</td>\n",
       "      <td>NaN</td>\n",
       "      <td>NaN</td>\n",
       "      <td>NaN</td>\n",
       "      <td>NaN</td>\n",
       "      <td>NaN</td>\n",
       "      <td>NaN</td>\n",
       "      <td>NaN</td>\n",
       "      <td>NaN</td>\n",
       "      <td>NaN</td>\n",
       "      <td>NaN</td>\n",
       "      <td>...</td>\n",
       "      <td>NaN</td>\n",
       "      <td>NaN</td>\n",
       "      <td>NaN</td>\n",
       "      <td>NaN</td>\n",
       "      <td>NaN</td>\n",
       "      <td>NaN</td>\n",
       "      <td>NaN</td>\n",
       "      <td>NaN</td>\n",
       "      <td>NaN</td>\n",
       "      <td>NaN</td>\n",
       "      <td>NaN</td>\n",
       "      <td>NaN</td>\n",
       "      <td>NaN</td>\n",
       "      <td>NaN</td>\n",
       "      <td>NaN</td>\n",
       "      <td>NaN</td>\n",
       "      <td>NaN</td>\n",
       "      <td>NaN</td>\n",
       "      <td>NaN</td>\n",
       "      <td>NaN</td>\n",
       "      <td>NaN</td>\n",
       "      <td>NaN</td>\n",
       "      <td>NaN</td>\n",
       "      <td>NaN</td>\n",
       "      <td>NaN</td>\n",
       "      <td>NaN</td>\n",
       "      <td>NaN</td>\n",
       "      <td>NaN</td>\n",
       "      <td>NaN</td>\n",
       "      <td>NaN</td>\n",
       "    </tr>\n",
       "    <tr>\n",
       "      <th>02dakota</th>\n",
       "      <td>NaN</td>\n",
       "      <td>NaN</td>\n",
       "      <td>NaN</td>\n",
       "      <td>NaN</td>\n",
       "      <td>NaN</td>\n",
       "      <td>NaN</td>\n",
       "      <td>NaN</td>\n",
       "      <td>NaN</td>\n",
       "      <td>NaN</td>\n",
       "      <td>NaN</td>\n",
       "      <td>NaN</td>\n",
       "      <td>NaN</td>\n",
       "      <td>NaN</td>\n",
       "      <td>NaN</td>\n",
       "      <td>NaN</td>\n",
       "      <td>NaN</td>\n",
       "      <td>NaN</td>\n",
       "      <td>NaN</td>\n",
       "      <td>NaN</td>\n",
       "      <td>NaN</td>\n",
       "      <td>NaN</td>\n",
       "      <td>NaN</td>\n",
       "      <td>NaN</td>\n",
       "      <td>NaN</td>\n",
       "      <td>NaN</td>\n",
       "      <td>NaN</td>\n",
       "      <td>NaN</td>\n",
       "      <td>NaN</td>\n",
       "      <td>NaN</td>\n",
       "      <td>NaN</td>\n",
       "      <td>...</td>\n",
       "      <td>NaN</td>\n",
       "      <td>NaN</td>\n",
       "      <td>NaN</td>\n",
       "      <td>NaN</td>\n",
       "      <td>NaN</td>\n",
       "      <td>NaN</td>\n",
       "      <td>NaN</td>\n",
       "      <td>NaN</td>\n",
       "      <td>NaN</td>\n",
       "      <td>NaN</td>\n",
       "      <td>NaN</td>\n",
       "      <td>NaN</td>\n",
       "      <td>NaN</td>\n",
       "      <td>NaN</td>\n",
       "      <td>NaN</td>\n",
       "      <td>NaN</td>\n",
       "      <td>NaN</td>\n",
       "      <td>NaN</td>\n",
       "      <td>NaN</td>\n",
       "      <td>NaN</td>\n",
       "      <td>NaN</td>\n",
       "      <td>NaN</td>\n",
       "      <td>NaN</td>\n",
       "      <td>NaN</td>\n",
       "      <td>NaN</td>\n",
       "      <td>NaN</td>\n",
       "      <td>NaN</td>\n",
       "      <td>NaN</td>\n",
       "      <td>NaN</td>\n",
       "      <td>NaN</td>\n",
       "    </tr>\n",
       "    <tr>\n",
       "      <th>02deuce</th>\n",
       "      <td>NaN</td>\n",
       "      <td>NaN</td>\n",
       "      <td>NaN</td>\n",
       "      <td>NaN</td>\n",
       "      <td>NaN</td>\n",
       "      <td>NaN</td>\n",
       "      <td>NaN</td>\n",
       "      <td>NaN</td>\n",
       "      <td>NaN</td>\n",
       "      <td>NaN</td>\n",
       "      <td>NaN</td>\n",
       "      <td>NaN</td>\n",
       "      <td>NaN</td>\n",
       "      <td>NaN</td>\n",
       "      <td>NaN</td>\n",
       "      <td>NaN</td>\n",
       "      <td>NaN</td>\n",
       "      <td>NaN</td>\n",
       "      <td>NaN</td>\n",
       "      <td>NaN</td>\n",
       "      <td>NaN</td>\n",
       "      <td>NaN</td>\n",
       "      <td>NaN</td>\n",
       "      <td>NaN</td>\n",
       "      <td>NaN</td>\n",
       "      <td>NaN</td>\n",
       "      <td>NaN</td>\n",
       "      <td>NaN</td>\n",
       "      <td>NaN</td>\n",
       "      <td>NaN</td>\n",
       "      <td>...</td>\n",
       "      <td>NaN</td>\n",
       "      <td>NaN</td>\n",
       "      <td>NaN</td>\n",
       "      <td>NaN</td>\n",
       "      <td>NaN</td>\n",
       "      <td>NaN</td>\n",
       "      <td>NaN</td>\n",
       "      <td>NaN</td>\n",
       "      <td>NaN</td>\n",
       "      <td>NaN</td>\n",
       "      <td>NaN</td>\n",
       "      <td>NaN</td>\n",
       "      <td>NaN</td>\n",
       "      <td>NaN</td>\n",
       "      <td>NaN</td>\n",
       "      <td>NaN</td>\n",
       "      <td>NaN</td>\n",
       "      <td>NaN</td>\n",
       "      <td>NaN</td>\n",
       "      <td>NaN</td>\n",
       "      <td>NaN</td>\n",
       "      <td>NaN</td>\n",
       "      <td>NaN</td>\n",
       "      <td>NaN</td>\n",
       "      <td>NaN</td>\n",
       "      <td>NaN</td>\n",
       "      <td>NaN</td>\n",
       "      <td>NaN</td>\n",
       "      <td>NaN</td>\n",
       "      <td>NaN</td>\n",
       "    </tr>\n",
       "    <tr>\n",
       "      <th>0325home</th>\n",
       "      <td>NaN</td>\n",
       "      <td>NaN</td>\n",
       "      <td>NaN</td>\n",
       "      <td>NaN</td>\n",
       "      <td>NaN</td>\n",
       "      <td>NaN</td>\n",
       "      <td>NaN</td>\n",
       "      <td>NaN</td>\n",
       "      <td>NaN</td>\n",
       "      <td>NaN</td>\n",
       "      <td>NaN</td>\n",
       "      <td>NaN</td>\n",
       "      <td>NaN</td>\n",
       "      <td>NaN</td>\n",
       "      <td>NaN</td>\n",
       "      <td>NaN</td>\n",
       "      <td>NaN</td>\n",
       "      <td>NaN</td>\n",
       "      <td>NaN</td>\n",
       "      <td>NaN</td>\n",
       "      <td>NaN</td>\n",
       "      <td>NaN</td>\n",
       "      <td>NaN</td>\n",
       "      <td>NaN</td>\n",
       "      <td>NaN</td>\n",
       "      <td>NaN</td>\n",
       "      <td>NaN</td>\n",
       "      <td>NaN</td>\n",
       "      <td>NaN</td>\n",
       "      <td>NaN</td>\n",
       "      <td>...</td>\n",
       "      <td>NaN</td>\n",
       "      <td>NaN</td>\n",
       "      <td>NaN</td>\n",
       "      <td>NaN</td>\n",
       "      <td>NaN</td>\n",
       "      <td>NaN</td>\n",
       "      <td>NaN</td>\n",
       "      <td>NaN</td>\n",
       "      <td>NaN</td>\n",
       "      <td>NaN</td>\n",
       "      <td>NaN</td>\n",
       "      <td>NaN</td>\n",
       "      <td>NaN</td>\n",
       "      <td>NaN</td>\n",
       "      <td>NaN</td>\n",
       "      <td>NaN</td>\n",
       "      <td>NaN</td>\n",
       "      <td>NaN</td>\n",
       "      <td>NaN</td>\n",
       "      <td>NaN</td>\n",
       "      <td>NaN</td>\n",
       "      <td>NaN</td>\n",
       "      <td>NaN</td>\n",
       "      <td>NaN</td>\n",
       "      <td>NaN</td>\n",
       "      <td>NaN</td>\n",
       "      <td>NaN</td>\n",
       "      <td>NaN</td>\n",
       "      <td>NaN</td>\n",
       "      <td>NaN</td>\n",
       "    </tr>\n",
       "  </tbody>\n",
       "</table>\n",
       "<p>5 rows × 256 columns</p>\n",
       "</div>"
      ],
      "text/plain": [
       "id                AV13O1A8GV-KLJ3akUyj  AV14LG0R-jtxr-f38QfS  \\\n",
       "reviews_username                                               \n",
       "00sab00                            NaN                   NaN   \n",
       "01impala                           NaN                   NaN   \n",
       "02dakota                           NaN                   NaN   \n",
       "02deuce                            NaN                   NaN   \n",
       "0325home                           NaN                   NaN   \n",
       "\n",
       "id                AV16khLE-jtxr-f38VFn  AV1YGDqsGV-KLJ3adc-O  \\\n",
       "reviews_username                                               \n",
       "00sab00                            NaN                   NaN   \n",
       "01impala                           NaN                   NaN   \n",
       "02dakota                           NaN                   NaN   \n",
       "02deuce                            NaN                   NaN   \n",
       "0325home                           NaN                   NaN   \n",
       "\n",
       "id                AV1YIch7GV-KLJ3addeG  AV1YlENIglJLPUi8IHsX  \\\n",
       "reviews_username                                               \n",
       "00sab00                            NaN                   NaN   \n",
       "01impala                           NaN                   NaN   \n",
       "02dakota                           NaN                   NaN   \n",
       "02deuce                            NaN                   NaN   \n",
       "0325home                           NaN                   NaN   \n",
       "\n",
       "id                AV1YmBrdGV-KLJ3adewb  AV1YmDL9vKc47QAVgr7_  \\\n",
       "reviews_username                                               \n",
       "00sab00                            NaN                   NaN   \n",
       "01impala                           NaN                   NaN   \n",
       "02dakota                           NaN                   NaN   \n",
       "02deuce                            NaN                   NaN   \n",
       "0325home                           NaN                   NaN   \n",
       "\n",
       "id                AV1Ymf_rglJLPUi8II2v  AV1Yn94nvKc47QAVgtst  \\\n",
       "reviews_username                                               \n",
       "00sab00                            NaN                   NaN   \n",
       "01impala                           NaN                   NaN   \n",
       "02dakota                           NaN                   NaN   \n",
       "02deuce                            NaN                   NaN   \n",
       "0325home                           NaN                   NaN   \n",
       "\n",
       "id                AV1YnUMYglJLPUi8IJpK  AV1Ynb3bglJLPUi8IJxJ  \\\n",
       "reviews_username                                               \n",
       "00sab00                            NaN                   NaN   \n",
       "01impala                           NaN                   NaN   \n",
       "02dakota                           NaN                   NaN   \n",
       "02deuce                            NaN                   NaN   \n",
       "0325home                           NaN                   NaN   \n",
       "\n",
       "id                AV1YneDPglJLPUi8IJyQ  AV1YpiJvvKc47QAVguxy  \\\n",
       "reviews_username                                               \n",
       "00sab00                            NaN                   NaN   \n",
       "01impala                           NaN                   NaN   \n",
       "02dakota                           NaN                   NaN   \n",
       "02deuce                            NaN                   NaN   \n",
       "0325home                           NaN                   NaN   \n",
       "\n",
       "id                AV1YqAaMGV-KLJ3adiDj  AV1Ys0kTvKc47QAVgx1C  \\\n",
       "reviews_username                                               \n",
       "00sab00                            NaN                   NaN   \n",
       "01impala                           NaN                   NaN   \n",
       "02dakota                           NaN                   NaN   \n",
       "02deuce                            NaN                   NaN   \n",
       "0325home                           NaN                   NaN   \n",
       "\n",
       "id                AV1YtGjdglJLPUi8IOfJ  AV1ZSp2uglJLPUi8IQFy  \\\n",
       "reviews_username                                               \n",
       "00sab00                            NaN                   NaN   \n",
       "01impala                           NaN                   NaN   \n",
       "02dakota                           NaN                   NaN   \n",
       "02deuce                            NaN                   NaN   \n",
       "0325home                           NaN                   NaN   \n",
       "\n",
       "id                AV1ZT7GLglJLPUi8IQLI  AV1ZVIgy-jtxr-f31W9N  \\\n",
       "reviews_username                                               \n",
       "00sab00                            NaN                   NaN   \n",
       "01impala                           NaN                   NaN   \n",
       "02dakota                           NaN                   NaN   \n",
       "02deuce                            NaN                   NaN   \n",
       "0325home                           NaN                   NaN   \n",
       "\n",
       "id                AV1d76w7vKc47QAVhCqn  AV1h6Gu0glJLPUi8IjA_  \\\n",
       "reviews_username                                               \n",
       "00sab00                            NaN                   NaN   \n",
       "01impala                           NaN                   NaN   \n",
       "02dakota                           NaN                   NaN   \n",
       "02deuce                            NaN                   NaN   \n",
       "0325home                           NaN                   NaN   \n",
       "\n",
       "id                AV1h6gSl-jtxr-f31p40  AV1l8zRZvKc47QAVhnAv  \\\n",
       "reviews_username                                               \n",
       "00sab00                            NaN                   NaN   \n",
       "01impala                           NaN                   NaN   \n",
       "02dakota                           NaN                   NaN   \n",
       "02deuce                            NaN                   NaN   \n",
       "0325home                           NaN                   NaN   \n",
       "\n",
       "id                AV2AvGnjGV-KLJ3alTQH  AV2Avn5dGV-KLJ3alTjq  \\\n",
       "reviews_username                                               \n",
       "00sab00                            NaN                   NaN   \n",
       "01impala                           NaN                   NaN   \n",
       "02dakota                           NaN                   NaN   \n",
       "02deuce                            NaN                   NaN   \n",
       "0325home                           NaN                   NaN   \n",
       "\n",
       "id                AVpe-M4-ilAPnD_xSF1K  AVpe-MCY1cnluZ0-bCv_  \\\n",
       "reviews_username                                               \n",
       "00sab00                            NaN                   NaN   \n",
       "01impala                           NaN                   NaN   \n",
       "02dakota                           NaN                   NaN   \n",
       "02deuce                            NaN                   NaN   \n",
       "0325home                           NaN                   NaN   \n",
       "\n",
       "id                AVpe-PJnLJeJML43ziaj  AVpe-YAL1cnluZ0-bHGh  ...  \\\n",
       "reviews_username                                              ...   \n",
       "00sab00                            NaN                   NaN  ...   \n",
       "01impala                           NaN                   NaN  ...   \n",
       "02dakota                           NaN                   NaN  ...   \n",
       "02deuce                            NaN                   NaN  ...   \n",
       "0325home                           NaN                   NaN  ...   \n",
       "\n",
       "id                AVpfksililAPnD_xePx_  AVpfl6baLJeJML43AEQq  \\\n",
       "reviews_username                                               \n",
       "00sab00                            NaN                   NaN   \n",
       "01impala                           NaN                   NaN   \n",
       "02dakota                           NaN                   NaN   \n",
       "02deuce                            NaN                   NaN   \n",
       "0325home                           NaN                   NaN   \n",
       "\n",
       "id                AVpfl6sF1cnluZ0-nmwC  AVpfldDlLJeJML43_7s_  \\\n",
       "reviews_username                                               \n",
       "00sab00                            NaN                   NaN   \n",
       "01impala                           NaN                   NaN   \n",
       "02dakota                           NaN                   NaN   \n",
       "02deuce                            NaN                   NaN   \n",
       "0325home                           NaN                   NaN   \n",
       "\n",
       "id                AVpfliCoilAPnD_xegIr  AVpfluP1ilAPnD_xejxO  \\\n",
       "reviews_username                                               \n",
       "00sab00                            NaN                   NaN   \n",
       "01impala                           NaN                   NaN   \n",
       "02dakota                           NaN                   NaN   \n",
       "02deuce                            NaN                   NaN   \n",
       "0325home                           NaN                   NaN   \n",
       "\n",
       "id                AVpfm8yiLJeJML43AYyu  AVpfmVnVLJeJML43AMqC  \\\n",
       "reviews_username                                               \n",
       "00sab00                            NaN                   NaN   \n",
       "01impala                           NaN                   NaN   \n",
       "02dakota                           NaN                   NaN   \n",
       "02deuce                            NaN                   NaN   \n",
       "0325home                           NaN                   NaN   \n",
       "\n",
       "id                AVpfmjXGLJeJML43AQ5_  AVpfnRuSilAPnD_xfB8l  \\\n",
       "reviews_username                                               \n",
       "00sab00                            NaN                   NaN   \n",
       "01impala                           NaN                   NaN   \n",
       "02dakota                           NaN                   NaN   \n",
       "02deuce                            NaN                   NaN   \n",
       "0325home                           NaN                   NaN   \n",
       "\n",
       "id                AVpfnS4eLJeJML43AfZe  AVpfnUcwLJeJML43Af2U  \\\n",
       "reviews_username                                               \n",
       "00sab00                            NaN                   NaN   \n",
       "01impala                           NaN                   NaN   \n",
       "02dakota                           NaN                   NaN   \n",
       "02deuce                            NaN                   NaN   \n",
       "0325home                           NaN                   NaN   \n",
       "\n",
       "id                AVpfnjBILJeJML43AkO3  AVpfoSS51cnluZ0-oVH9  \\\n",
       "reviews_username                                               \n",
       "00sab00                            NaN                   NaN   \n",
       "01impala                           NaN                   NaN   \n",
       "02dakota                           NaN                   NaN   \n",
       "02deuce                            NaN                   NaN   \n",
       "0325home                           NaN                   NaN   \n",
       "\n",
       "id                AVpfov9TLJeJML43A7B0  AVpfozgyilAPnD_xfe0r  \\\n",
       "reviews_username                                               \n",
       "00sab00                            NaN                   NaN   \n",
       "01impala                           NaN                   NaN   \n",
       "02dakota                           NaN                   NaN   \n",
       "02deuce                            NaN                   NaN   \n",
       "0325home                           NaN                   NaN   \n",
       "\n",
       "id                AVpfpM2yilAPnD_xfmDG  AVpfpoUCLJeJML43BLXv  \\\n",
       "reviews_username                                               \n",
       "00sab00                            NaN                   NaN   \n",
       "01impala                           NaN                   NaN   \n",
       "02dakota                           NaN                   NaN   \n",
       "02deuce                            NaN                   NaN   \n",
       "0325home                           NaN                   NaN   \n",
       "\n",
       "id                AVpfqW4WilAPnD_xf7a_  AVpfr5cb1cnluZ0-pZFp  \\\n",
       "reviews_username                                               \n",
       "00sab00                            NaN                   NaN   \n",
       "01impala                           NaN                   NaN   \n",
       "02dakota                           NaN                   NaN   \n",
       "02deuce                            NaN                   NaN   \n",
       "0325home                           NaN                   NaN   \n",
       "\n",
       "id                AVpfrFDZLJeJML43Bmv0  AVpfrTyiLJeJML43BrSI  \\\n",
       "reviews_username                                               \n",
       "00sab00                            NaN                   NaN   \n",
       "01impala                           NaN                   NaN   \n",
       "02dakota                           NaN                   NaN   \n",
       "02deuce                            NaN                   NaN   \n",
       "0325home                           NaN                   NaN   \n",
       "\n",
       "id                AVpfrfHF1cnluZ0-pRai  AVpfrgjFLJeJML43BvCc  \\\n",
       "reviews_username                                               \n",
       "00sab00                            NaN                   NaN   \n",
       "01impala                           NaN                   NaN   \n",
       "02dakota                           NaN                   NaN   \n",
       "02deuce                            NaN                   NaN   \n",
       "0325home                           NaN                   NaN   \n",
       "\n",
       "id                AVpfsQoeilAPnD_xgfx5  AVpfshNsLJeJML43CB8q  \\\n",
       "reviews_username                                               \n",
       "00sab00                            NaN                   NaN   \n",
       "01impala                           NaN                   NaN   \n",
       "02dakota                           NaN                   NaN   \n",
       "02deuce                            NaN                   NaN   \n",
       "0325home                           NaN                   NaN   \n",
       "\n",
       "id                AVpfthSailAPnD_xg3ON  AVpftikC1cnluZ0-p31V  \\\n",
       "reviews_username                                               \n",
       "00sab00                            NaN                   NaN   \n",
       "01impala                           NaN                   NaN   \n",
       "02dakota                           NaN                   NaN   \n",
       "02deuce                            NaN                   NaN   \n",
       "0325home                           NaN                   NaN   \n",
       "\n",
       "id                AVpfv4TlilAPnD_xhjNS  AVpfvieo1cnluZ0-qdnu  \n",
       "reviews_username                                              \n",
       "00sab00                            NaN                   NaN  \n",
       "01impala                           NaN                   NaN  \n",
       "02dakota                           NaN                   NaN  \n",
       "02deuce                            NaN                   NaN  \n",
       "0325home                           NaN                   NaN  \n",
       "\n",
       "[5 rows x 256 columns]"
      ]
     },
     "execution_count": 120,
     "metadata": {},
     "output_type": "execute_result"
    }
   ],
   "source": [
    "df_subtracted.head()"
   ]
  },
  {
   "cell_type": "markdown",
   "metadata": {
    "id": "xgP2T6upWUQv"
   },
   "source": [
    "### Finding cosine similarity"
   ]
  },
  {
   "cell_type": "code",
   "execution_count": 121,
   "metadata": {
    "ExecuteTime": {
     "end_time": "2022-04-06T05:49:49.058838Z",
     "start_time": "2022-04-06T05:46:27.618Z"
    },
    "execution": {
     "iopub.execute_input": "2022-04-14T01:38:50.000078Z",
     "iopub.status.busy": "2022-04-14T01:38:49.999579Z",
     "iopub.status.idle": "2022-04-14T01:38:55.798547Z",
     "shell.execute_reply": "2022-04-14T01:38:55.797606Z",
     "shell.execute_reply.started": "2022-04-14T01:38:50.000045Z"
    },
    "executionInfo": {
     "elapsed": 8287,
     "status": "ok",
     "timestamp": 1649227984923,
     "user": {
      "displayName": "Venkatasubramanian S",
      "userId": "06029493893713790610"
     },
     "user_tz": 420
    },
    "id": "McTwHyTpWU0s",
    "outputId": "fff2e94f-f0f0-4519-d721-fde09d9be86e"
   },
   "outputs": [
    {
     "name": "stdout",
     "output_type": "stream",
     "text": [
      "[[1. 0. 0. ... 0. 0. 0.]\n",
      " [0. 0. 0. ... 0. 0. 0.]\n",
      " [0. 0. 0. ... 0. 0. 0.]\n",
      " ...\n",
      " [0. 0. 0. ... 0. 0. 0.]\n",
      " [0. 0. 0. ... 0. 0. 0.]\n",
      " [0. 0. 0. ... 0. 0. 0.]]\n"
     ]
    }
   ],
   "source": [
    "user_corr = 1 - pairwise_distances(df_subtracted.fillna(0), metric='cosine')\n",
    "user_corr[np.isnan(user_corr)] = 0\n",
    "print(user_corr)"
   ]
  },
  {
   "cell_type": "code",
   "execution_count": 122,
   "metadata": {
    "ExecuteTime": {
     "end_time": "2022-04-06T05:49:49.060841Z",
     "start_time": "2022-04-06T05:46:27.627Z"
    },
    "execution": {
     "iopub.execute_input": "2022-04-14T01:38:55.800246Z",
     "iopub.status.busy": "2022-04-14T01:38:55.799942Z",
     "iopub.status.idle": "2022-04-14T01:38:55.806581Z",
     "shell.execute_reply": "2022-04-14T01:38:55.805686Z",
     "shell.execute_reply.started": "2022-04-14T01:38:55.800202Z"
    },
    "executionInfo": {
     "elapsed": 17,
     "status": "ok",
     "timestamp": 1649227984924,
     "user": {
      "displayName": "Venkatasubramanian S",
      "userId": "06029493893713790610"
     },
     "user_tz": 420
    },
    "id": "zCKSAfpVWb_K",
    "outputId": "bd3fca99-c469-4e86-ca70-ab3d18e38c7c"
   },
   "outputs": [
    {
     "data": {
      "text/plain": [
       "(18275, 18275)"
      ]
     },
     "execution_count": 122,
     "metadata": {},
     "output_type": "execute_result"
    }
   ],
   "source": [
    "user_corr.shape"
   ]
  },
  {
   "cell_type": "markdown",
   "metadata": {
    "id": "mAdrOYiZWktX"
   },
   "source": [
    "## Prediction - User User"
   ]
  },
  {
   "cell_type": "code",
   "execution_count": 123,
   "metadata": {
    "ExecuteTime": {
     "end_time": "2022-04-06T05:49:49.061841Z",
     "start_time": "2022-04-06T05:46:27.637Z"
    },
    "execution": {
     "iopub.execute_input": "2022-04-14T01:38:55.808361Z",
     "iopub.status.busy": "2022-04-14T01:38:55.808022Z",
     "iopub.status.idle": "2022-04-14T01:38:56.211506Z",
     "shell.execute_reply": "2022-04-14T01:38:56.210607Z",
     "shell.execute_reply.started": "2022-04-14T01:38:55.808318Z"
    },
    "executionInfo": {
     "elapsed": 452,
     "status": "ok",
     "timestamp": 1649227985363,
     "user": {
      "displayName": "Venkatasubramanian S",
      "userId": "06029493893713790610"
     },
     "user_tz": 420
    },
    "id": "G-Fhx8FxWsQu",
    "outputId": "145b434c-fa18-450a-8b95-78945b47a3e5"
   },
   "outputs": [
    {
     "data": {
      "text/plain": [
       "array([[1., 0., 0., ..., 0., 0., 0.],\n",
       "       [0., 0., 0., ..., 0., 0., 0.],\n",
       "       [0., 0., 0., ..., 0., 0., 0.],\n",
       "       ...,\n",
       "       [0., 0., 0., ..., 0., 0., 0.],\n",
       "       [0., 0., 0., ..., 0., 0., 0.],\n",
       "       [0., 0., 0., ..., 0., 0., 0.]])"
      ]
     },
     "execution_count": 123,
     "metadata": {},
     "output_type": "execute_result"
    }
   ],
   "source": [
    "user_corr[user_corr<0]=0\n",
    "user_corr"
   ]
  },
  {
   "cell_type": "code",
   "execution_count": 124,
   "metadata": {
    "ExecuteTime": {
     "end_time": "2022-04-06T05:49:49.062834Z",
     "start_time": "2022-04-06T05:46:27.646Z"
    },
    "execution": {
     "iopub.execute_input": "2022-04-14T01:38:56.212902Z",
     "iopub.status.busy": "2022-04-14T01:38:56.212687Z",
     "iopub.status.idle": "2022-04-14T01:38:59.169193Z",
     "shell.execute_reply": "2022-04-14T01:38:59.168397Z",
     "shell.execute_reply.started": "2022-04-14T01:38:56.212873Z"
    },
    "executionInfo": {
     "elapsed": 6217,
     "status": "ok",
     "timestamp": 1649227991575,
     "user": {
      "displayName": "Venkatasubramanian S",
      "userId": "06029493893713790610"
     },
     "user_tz": 420
    },
    "id": "DHIQ0yPTW1xo",
    "outputId": "b62834e1-e889-406e-c775-f1d878c82dfd"
   },
   "outputs": [
    {
     "data": {
      "text/plain": [
       "array([[0.        , 0.        , 2.5       , ..., 1.46525748, 1.88982237,\n",
       "        0.20412415],\n",
       "       [0.        , 0.        , 0.        , ..., 0.        , 0.        ,\n",
       "        0.        ],\n",
       "       [0.        , 0.        , 0.        , ..., 0.        , 0.        ,\n",
       "        0.        ],\n",
       "       ...,\n",
       "       [0.        , 0.        , 0.        , ..., 0.        , 0.        ,\n",
       "        0.        ],\n",
       "       [0.        , 0.        , 0.        , ..., 0.        , 0.        ,\n",
       "        0.        ],\n",
       "       [0.        , 0.        , 0.        , ..., 0.        , 0.        ,\n",
       "        0.        ]])"
      ]
     },
     "execution_count": 124,
     "metadata": {},
     "output_type": "execute_result"
    }
   ],
   "source": [
    "user_predicted_ratings = np.dot(user_corr, df_pivot.fillna(0))\n",
    "user_predicted_ratings"
   ]
  },
  {
   "cell_type": "code",
   "execution_count": 125,
   "metadata": {
    "ExecuteTime": {
     "end_time": "2022-04-06T05:49:49.064839Z",
     "start_time": "2022-04-06T05:46:27.653Z"
    },
    "execution": {
     "iopub.execute_input": "2022-04-14T01:38:59.170895Z",
     "iopub.status.busy": "2022-04-14T01:38:59.170584Z",
     "iopub.status.idle": "2022-04-14T01:38:59.185069Z",
     "shell.execute_reply": "2022-04-14T01:38:59.184128Z",
     "shell.execute_reply.started": "2022-04-14T01:38:59.170846Z"
    },
    "executionInfo": {
     "elapsed": 31,
     "status": "ok",
     "timestamp": 1649227991576,
     "user": {
      "displayName": "Venkatasubramanian S",
      "userId": "06029493893713790610"
     },
     "user_tz": 420
    },
    "id": "igROSmFJW3pV",
    "outputId": "cf144365-d14d-4971-eb92-bffb86854451"
   },
   "outputs": [
    {
     "data": {
      "text/plain": [
       "(18275, 256)"
      ]
     },
     "execution_count": 125,
     "metadata": {},
     "output_type": "execute_result"
    }
   ],
   "source": [
    "user_predicted_ratings.shape"
   ]
  },
  {
   "cell_type": "code",
   "execution_count": 126,
   "metadata": {
    "ExecuteTime": {
     "end_time": "2022-04-06T05:49:49.066840Z",
     "start_time": "2022-04-06T05:46:27.662Z"
    },
    "execution": {
     "iopub.execute_input": "2022-04-14T01:38:59.192239Z",
     "iopub.status.busy": "2022-04-14T01:38:59.191580Z",
     "iopub.status.idle": "2022-04-14T01:38:59.302715Z",
     "shell.execute_reply": "2022-04-14T01:38:59.301860Z",
     "shell.execute_reply.started": "2022-04-14T01:38:59.192186Z"
    },
    "executionInfo": {
     "elapsed": 307,
     "status": "ok",
     "timestamp": 1649227991862,
     "user": {
      "displayName": "Venkatasubramanian S",
      "userId": "06029493893713790610"
     },
     "user_tz": 420
    },
    "id": "IBlDHV8sW_Gx",
    "outputId": "a26eb58b-ef62-442b-8456-dfa438b96aa4"
   },
   "outputs": [
    {
     "data": {
      "text/html": [
       "<div>\n",
       "<style scoped>\n",
       "    .dataframe tbody tr th:only-of-type {\n",
       "        vertical-align: middle;\n",
       "    }\n",
       "\n",
       "    .dataframe tbody tr th {\n",
       "        vertical-align: top;\n",
       "    }\n",
       "\n",
       "    .dataframe thead th {\n",
       "        text-align: right;\n",
       "    }\n",
       "</style>\n",
       "<table border=\"1\" class=\"dataframe\">\n",
       "  <thead>\n",
       "    <tr style=\"text-align: right;\">\n",
       "      <th>id</th>\n",
       "      <th>AV13O1A8GV-KLJ3akUyj</th>\n",
       "      <th>AV14LG0R-jtxr-f38QfS</th>\n",
       "      <th>AV16khLE-jtxr-f38VFn</th>\n",
       "      <th>AV1YGDqsGV-KLJ3adc-O</th>\n",
       "      <th>AV1YIch7GV-KLJ3addeG</th>\n",
       "      <th>AV1YlENIglJLPUi8IHsX</th>\n",
       "      <th>AV1YmBrdGV-KLJ3adewb</th>\n",
       "      <th>AV1YmDL9vKc47QAVgr7_</th>\n",
       "      <th>AV1Ymf_rglJLPUi8II2v</th>\n",
       "      <th>AV1Yn94nvKc47QAVgtst</th>\n",
       "      <th>AV1YnUMYglJLPUi8IJpK</th>\n",
       "      <th>AV1Ynb3bglJLPUi8IJxJ</th>\n",
       "      <th>AV1YneDPglJLPUi8IJyQ</th>\n",
       "      <th>AV1YpiJvvKc47QAVguxy</th>\n",
       "      <th>AV1YqAaMGV-KLJ3adiDj</th>\n",
       "      <th>AV1Ys0kTvKc47QAVgx1C</th>\n",
       "      <th>AV1YtGjdglJLPUi8IOfJ</th>\n",
       "      <th>AV1ZSp2uglJLPUi8IQFy</th>\n",
       "      <th>AV1ZT7GLglJLPUi8IQLI</th>\n",
       "      <th>AV1ZVIgy-jtxr-f31W9N</th>\n",
       "      <th>AV1d76w7vKc47QAVhCqn</th>\n",
       "      <th>AV1h6Gu0glJLPUi8IjA_</th>\n",
       "      <th>AV1h6gSl-jtxr-f31p40</th>\n",
       "      <th>AV1l8zRZvKc47QAVhnAv</th>\n",
       "      <th>AV2AvGnjGV-KLJ3alTQH</th>\n",
       "      <th>AV2Avn5dGV-KLJ3alTjq</th>\n",
       "      <th>AVpe-M4-ilAPnD_xSF1K</th>\n",
       "      <th>AVpe-MCY1cnluZ0-bCv_</th>\n",
       "      <th>AVpe-PJnLJeJML43ziaj</th>\n",
       "      <th>AVpe-YAL1cnluZ0-bHGh</th>\n",
       "      <th>...</th>\n",
       "      <th>AVpfksililAPnD_xePx_</th>\n",
       "      <th>AVpfl6baLJeJML43AEQq</th>\n",
       "      <th>AVpfl6sF1cnluZ0-nmwC</th>\n",
       "      <th>AVpfldDlLJeJML43_7s_</th>\n",
       "      <th>AVpfliCoilAPnD_xegIr</th>\n",
       "      <th>AVpfluP1ilAPnD_xejxO</th>\n",
       "      <th>AVpfm8yiLJeJML43AYyu</th>\n",
       "      <th>AVpfmVnVLJeJML43AMqC</th>\n",
       "      <th>AVpfmjXGLJeJML43AQ5_</th>\n",
       "      <th>AVpfnRuSilAPnD_xfB8l</th>\n",
       "      <th>AVpfnS4eLJeJML43AfZe</th>\n",
       "      <th>AVpfnUcwLJeJML43Af2U</th>\n",
       "      <th>AVpfnjBILJeJML43AkO3</th>\n",
       "      <th>AVpfoSS51cnluZ0-oVH9</th>\n",
       "      <th>AVpfov9TLJeJML43A7B0</th>\n",
       "      <th>AVpfozgyilAPnD_xfe0r</th>\n",
       "      <th>AVpfpM2yilAPnD_xfmDG</th>\n",
       "      <th>AVpfpoUCLJeJML43BLXv</th>\n",
       "      <th>AVpfqW4WilAPnD_xf7a_</th>\n",
       "      <th>AVpfr5cb1cnluZ0-pZFp</th>\n",
       "      <th>AVpfrFDZLJeJML43Bmv0</th>\n",
       "      <th>AVpfrTyiLJeJML43BrSI</th>\n",
       "      <th>AVpfrfHF1cnluZ0-pRai</th>\n",
       "      <th>AVpfrgjFLJeJML43BvCc</th>\n",
       "      <th>AVpfsQoeilAPnD_xgfx5</th>\n",
       "      <th>AVpfshNsLJeJML43CB8q</th>\n",
       "      <th>AVpfthSailAPnD_xg3ON</th>\n",
       "      <th>AVpftikC1cnluZ0-p31V</th>\n",
       "      <th>AVpfv4TlilAPnD_xhjNS</th>\n",
       "      <th>AVpfvieo1cnluZ0-qdnu</th>\n",
       "    </tr>\n",
       "    <tr>\n",
       "      <th>reviews_username</th>\n",
       "      <th></th>\n",
       "      <th></th>\n",
       "      <th></th>\n",
       "      <th></th>\n",
       "      <th></th>\n",
       "      <th></th>\n",
       "      <th></th>\n",
       "      <th></th>\n",
       "      <th></th>\n",
       "      <th></th>\n",
       "      <th></th>\n",
       "      <th></th>\n",
       "      <th></th>\n",
       "      <th></th>\n",
       "      <th></th>\n",
       "      <th></th>\n",
       "      <th></th>\n",
       "      <th></th>\n",
       "      <th></th>\n",
       "      <th></th>\n",
       "      <th></th>\n",
       "      <th></th>\n",
       "      <th></th>\n",
       "      <th></th>\n",
       "      <th></th>\n",
       "      <th></th>\n",
       "      <th></th>\n",
       "      <th></th>\n",
       "      <th></th>\n",
       "      <th></th>\n",
       "      <th></th>\n",
       "      <th></th>\n",
       "      <th></th>\n",
       "      <th></th>\n",
       "      <th></th>\n",
       "      <th></th>\n",
       "      <th></th>\n",
       "      <th></th>\n",
       "      <th></th>\n",
       "      <th></th>\n",
       "      <th></th>\n",
       "      <th></th>\n",
       "      <th></th>\n",
       "      <th></th>\n",
       "      <th></th>\n",
       "      <th></th>\n",
       "      <th></th>\n",
       "      <th></th>\n",
       "      <th></th>\n",
       "      <th></th>\n",
       "      <th></th>\n",
       "      <th></th>\n",
       "      <th></th>\n",
       "      <th></th>\n",
       "      <th></th>\n",
       "      <th></th>\n",
       "      <th></th>\n",
       "      <th></th>\n",
       "      <th></th>\n",
       "      <th></th>\n",
       "      <th></th>\n",
       "    </tr>\n",
       "  </thead>\n",
       "  <tbody>\n",
       "    <tr>\n",
       "      <th>00sab00</th>\n",
       "      <td>0.0</td>\n",
       "      <td>0.0</td>\n",
       "      <td>2.5</td>\n",
       "      <td>3.596</td>\n",
       "      <td>0.0</td>\n",
       "      <td>0.0</td>\n",
       "      <td>0.0</td>\n",
       "      <td>0.0</td>\n",
       "      <td>2.582</td>\n",
       "      <td>1.018</td>\n",
       "      <td>0.0</td>\n",
       "      <td>0.0</td>\n",
       "      <td>0.0</td>\n",
       "      <td>0.0</td>\n",
       "      <td>0.0</td>\n",
       "      <td>0.0</td>\n",
       "      <td>0.0</td>\n",
       "      <td>0.0</td>\n",
       "      <td>0.0</td>\n",
       "      <td>0.0</td>\n",
       "      <td>0.0</td>\n",
       "      <td>0.0</td>\n",
       "      <td>1.155</td>\n",
       "      <td>0.0</td>\n",
       "      <td>0.0</td>\n",
       "      <td>0.0</td>\n",
       "      <td>0.0</td>\n",
       "      <td>0.0</td>\n",
       "      <td>0.0</td>\n",
       "      <td>0.0</td>\n",
       "      <td>...</td>\n",
       "      <td>0.0</td>\n",
       "      <td>0.0</td>\n",
       "      <td>0.0</td>\n",
       "      <td>0.0</td>\n",
       "      <td>0.0</td>\n",
       "      <td>0.0</td>\n",
       "      <td>2.588</td>\n",
       "      <td>0.0</td>\n",
       "      <td>0.0</td>\n",
       "      <td>0.0</td>\n",
       "      <td>0.0</td>\n",
       "      <td>0.0</td>\n",
       "      <td>0.0</td>\n",
       "      <td>0.0</td>\n",
       "      <td>6.623</td>\n",
       "      <td>0.0</td>\n",
       "      <td>2.5</td>\n",
       "      <td>0.0</td>\n",
       "      <td>0.0</td>\n",
       "      <td>0.645</td>\n",
       "      <td>1.667</td>\n",
       "      <td>0.189</td>\n",
       "      <td>0.0</td>\n",
       "      <td>0.0</td>\n",
       "      <td>0.0</td>\n",
       "      <td>0.0</td>\n",
       "      <td>0.0</td>\n",
       "      <td>1.465</td>\n",
       "      <td>1.89</td>\n",
       "      <td>0.204</td>\n",
       "    </tr>\n",
       "    <tr>\n",
       "      <th>01impala</th>\n",
       "      <td>0.0</td>\n",
       "      <td>0.0</td>\n",
       "      <td>0.0</td>\n",
       "      <td>0.000</td>\n",
       "      <td>0.0</td>\n",
       "      <td>0.0</td>\n",
       "      <td>0.0</td>\n",
       "      <td>0.0</td>\n",
       "      <td>0.000</td>\n",
       "      <td>0.000</td>\n",
       "      <td>0.0</td>\n",
       "      <td>0.0</td>\n",
       "      <td>0.0</td>\n",
       "      <td>0.0</td>\n",
       "      <td>0.0</td>\n",
       "      <td>0.0</td>\n",
       "      <td>0.0</td>\n",
       "      <td>0.0</td>\n",
       "      <td>0.0</td>\n",
       "      <td>0.0</td>\n",
       "      <td>0.0</td>\n",
       "      <td>0.0</td>\n",
       "      <td>0.000</td>\n",
       "      <td>0.0</td>\n",
       "      <td>0.0</td>\n",
       "      <td>0.0</td>\n",
       "      <td>0.0</td>\n",
       "      <td>0.0</td>\n",
       "      <td>0.0</td>\n",
       "      <td>0.0</td>\n",
       "      <td>...</td>\n",
       "      <td>0.0</td>\n",
       "      <td>0.0</td>\n",
       "      <td>0.0</td>\n",
       "      <td>0.0</td>\n",
       "      <td>0.0</td>\n",
       "      <td>0.0</td>\n",
       "      <td>0.000</td>\n",
       "      <td>0.0</td>\n",
       "      <td>0.0</td>\n",
       "      <td>0.0</td>\n",
       "      <td>0.0</td>\n",
       "      <td>0.0</td>\n",
       "      <td>0.0</td>\n",
       "      <td>0.0</td>\n",
       "      <td>0.000</td>\n",
       "      <td>0.0</td>\n",
       "      <td>0.0</td>\n",
       "      <td>0.0</td>\n",
       "      <td>0.0</td>\n",
       "      <td>0.000</td>\n",
       "      <td>0.000</td>\n",
       "      <td>0.000</td>\n",
       "      <td>0.0</td>\n",
       "      <td>0.0</td>\n",
       "      <td>0.0</td>\n",
       "      <td>0.0</td>\n",
       "      <td>0.0</td>\n",
       "      <td>0.000</td>\n",
       "      <td>0.00</td>\n",
       "      <td>0.000</td>\n",
       "    </tr>\n",
       "    <tr>\n",
       "      <th>02dakota</th>\n",
       "      <td>0.0</td>\n",
       "      <td>0.0</td>\n",
       "      <td>0.0</td>\n",
       "      <td>0.000</td>\n",
       "      <td>0.0</td>\n",
       "      <td>0.0</td>\n",
       "      <td>0.0</td>\n",
       "      <td>0.0</td>\n",
       "      <td>0.000</td>\n",
       "      <td>0.000</td>\n",
       "      <td>0.0</td>\n",
       "      <td>0.0</td>\n",
       "      <td>0.0</td>\n",
       "      <td>0.0</td>\n",
       "      <td>0.0</td>\n",
       "      <td>0.0</td>\n",
       "      <td>0.0</td>\n",
       "      <td>0.0</td>\n",
       "      <td>0.0</td>\n",
       "      <td>0.0</td>\n",
       "      <td>0.0</td>\n",
       "      <td>0.0</td>\n",
       "      <td>0.000</td>\n",
       "      <td>0.0</td>\n",
       "      <td>0.0</td>\n",
       "      <td>0.0</td>\n",
       "      <td>0.0</td>\n",
       "      <td>0.0</td>\n",
       "      <td>0.0</td>\n",
       "      <td>0.0</td>\n",
       "      <td>...</td>\n",
       "      <td>0.0</td>\n",
       "      <td>0.0</td>\n",
       "      <td>0.0</td>\n",
       "      <td>0.0</td>\n",
       "      <td>0.0</td>\n",
       "      <td>0.0</td>\n",
       "      <td>0.000</td>\n",
       "      <td>0.0</td>\n",
       "      <td>0.0</td>\n",
       "      <td>0.0</td>\n",
       "      <td>0.0</td>\n",
       "      <td>0.0</td>\n",
       "      <td>0.0</td>\n",
       "      <td>0.0</td>\n",
       "      <td>0.000</td>\n",
       "      <td>0.0</td>\n",
       "      <td>0.0</td>\n",
       "      <td>0.0</td>\n",
       "      <td>0.0</td>\n",
       "      <td>0.000</td>\n",
       "      <td>0.000</td>\n",
       "      <td>0.000</td>\n",
       "      <td>0.0</td>\n",
       "      <td>0.0</td>\n",
       "      <td>0.0</td>\n",
       "      <td>0.0</td>\n",
       "      <td>0.0</td>\n",
       "      <td>0.000</td>\n",
       "      <td>0.00</td>\n",
       "      <td>0.000</td>\n",
       "    </tr>\n",
       "    <tr>\n",
       "      <th>02deuce</th>\n",
       "      <td>0.0</td>\n",
       "      <td>0.0</td>\n",
       "      <td>0.0</td>\n",
       "      <td>0.000</td>\n",
       "      <td>0.0</td>\n",
       "      <td>0.0</td>\n",
       "      <td>0.0</td>\n",
       "      <td>0.0</td>\n",
       "      <td>0.000</td>\n",
       "      <td>0.000</td>\n",
       "      <td>0.0</td>\n",
       "      <td>0.0</td>\n",
       "      <td>0.0</td>\n",
       "      <td>0.0</td>\n",
       "      <td>0.0</td>\n",
       "      <td>0.0</td>\n",
       "      <td>0.0</td>\n",
       "      <td>0.0</td>\n",
       "      <td>0.0</td>\n",
       "      <td>0.0</td>\n",
       "      <td>0.0</td>\n",
       "      <td>0.0</td>\n",
       "      <td>0.000</td>\n",
       "      <td>0.0</td>\n",
       "      <td>0.0</td>\n",
       "      <td>0.0</td>\n",
       "      <td>0.0</td>\n",
       "      <td>0.0</td>\n",
       "      <td>0.0</td>\n",
       "      <td>0.0</td>\n",
       "      <td>...</td>\n",
       "      <td>0.0</td>\n",
       "      <td>0.0</td>\n",
       "      <td>0.0</td>\n",
       "      <td>0.0</td>\n",
       "      <td>0.0</td>\n",
       "      <td>0.0</td>\n",
       "      <td>0.000</td>\n",
       "      <td>0.0</td>\n",
       "      <td>0.0</td>\n",
       "      <td>0.0</td>\n",
       "      <td>0.0</td>\n",
       "      <td>0.0</td>\n",
       "      <td>0.0</td>\n",
       "      <td>0.0</td>\n",
       "      <td>0.000</td>\n",
       "      <td>0.0</td>\n",
       "      <td>0.0</td>\n",
       "      <td>0.0</td>\n",
       "      <td>0.0</td>\n",
       "      <td>0.000</td>\n",
       "      <td>0.000</td>\n",
       "      <td>0.000</td>\n",
       "      <td>0.0</td>\n",
       "      <td>0.0</td>\n",
       "      <td>0.0</td>\n",
       "      <td>0.0</td>\n",
       "      <td>0.0</td>\n",
       "      <td>0.000</td>\n",
       "      <td>0.00</td>\n",
       "      <td>0.000</td>\n",
       "    </tr>\n",
       "    <tr>\n",
       "      <th>0325home</th>\n",
       "      <td>0.0</td>\n",
       "      <td>0.0</td>\n",
       "      <td>0.0</td>\n",
       "      <td>0.000</td>\n",
       "      <td>0.0</td>\n",
       "      <td>0.0</td>\n",
       "      <td>0.0</td>\n",
       "      <td>0.0</td>\n",
       "      <td>0.000</td>\n",
       "      <td>0.000</td>\n",
       "      <td>0.0</td>\n",
       "      <td>0.0</td>\n",
       "      <td>0.0</td>\n",
       "      <td>0.0</td>\n",
       "      <td>0.0</td>\n",
       "      <td>0.0</td>\n",
       "      <td>0.0</td>\n",
       "      <td>0.0</td>\n",
       "      <td>0.0</td>\n",
       "      <td>0.0</td>\n",
       "      <td>0.0</td>\n",
       "      <td>0.0</td>\n",
       "      <td>0.000</td>\n",
       "      <td>0.0</td>\n",
       "      <td>0.0</td>\n",
       "      <td>0.0</td>\n",
       "      <td>0.0</td>\n",
       "      <td>0.0</td>\n",
       "      <td>0.0</td>\n",
       "      <td>0.0</td>\n",
       "      <td>...</td>\n",
       "      <td>0.0</td>\n",
       "      <td>0.0</td>\n",
       "      <td>0.0</td>\n",
       "      <td>0.0</td>\n",
       "      <td>0.0</td>\n",
       "      <td>0.0</td>\n",
       "      <td>0.000</td>\n",
       "      <td>0.0</td>\n",
       "      <td>0.0</td>\n",
       "      <td>0.0</td>\n",
       "      <td>0.0</td>\n",
       "      <td>0.0</td>\n",
       "      <td>0.0</td>\n",
       "      <td>0.0</td>\n",
       "      <td>0.000</td>\n",
       "      <td>0.0</td>\n",
       "      <td>0.0</td>\n",
       "      <td>0.0</td>\n",
       "      <td>0.0</td>\n",
       "      <td>0.000</td>\n",
       "      <td>0.000</td>\n",
       "      <td>0.000</td>\n",
       "      <td>0.0</td>\n",
       "      <td>0.0</td>\n",
       "      <td>0.0</td>\n",
       "      <td>0.0</td>\n",
       "      <td>0.0</td>\n",
       "      <td>0.000</td>\n",
       "      <td>0.00</td>\n",
       "      <td>0.000</td>\n",
       "    </tr>\n",
       "  </tbody>\n",
       "</table>\n",
       "<p>5 rows × 256 columns</p>\n",
       "</div>"
      ],
      "text/plain": [
       "id                AV13O1A8GV-KLJ3akUyj  AV14LG0R-jtxr-f38QfS  \\\n",
       "reviews_username                                               \n",
       "00sab00                            0.0                   0.0   \n",
       "01impala                           0.0                   0.0   \n",
       "02dakota                           0.0                   0.0   \n",
       "02deuce                            0.0                   0.0   \n",
       "0325home                           0.0                   0.0   \n",
       "\n",
       "id                AV16khLE-jtxr-f38VFn  AV1YGDqsGV-KLJ3adc-O  \\\n",
       "reviews_username                                               \n",
       "00sab00                            2.5                 3.596   \n",
       "01impala                           0.0                 0.000   \n",
       "02dakota                           0.0                 0.000   \n",
       "02deuce                            0.0                 0.000   \n",
       "0325home                           0.0                 0.000   \n",
       "\n",
       "id                AV1YIch7GV-KLJ3addeG  AV1YlENIglJLPUi8IHsX  \\\n",
       "reviews_username                                               \n",
       "00sab00                            0.0                   0.0   \n",
       "01impala                           0.0                   0.0   \n",
       "02dakota                           0.0                   0.0   \n",
       "02deuce                            0.0                   0.0   \n",
       "0325home                           0.0                   0.0   \n",
       "\n",
       "id                AV1YmBrdGV-KLJ3adewb  AV1YmDL9vKc47QAVgr7_  \\\n",
       "reviews_username                                               \n",
       "00sab00                            0.0                   0.0   \n",
       "01impala                           0.0                   0.0   \n",
       "02dakota                           0.0                   0.0   \n",
       "02deuce                            0.0                   0.0   \n",
       "0325home                           0.0                   0.0   \n",
       "\n",
       "id                AV1Ymf_rglJLPUi8II2v  AV1Yn94nvKc47QAVgtst  \\\n",
       "reviews_username                                               \n",
       "00sab00                          2.582                 1.018   \n",
       "01impala                         0.000                 0.000   \n",
       "02dakota                         0.000                 0.000   \n",
       "02deuce                          0.000                 0.000   \n",
       "0325home                         0.000                 0.000   \n",
       "\n",
       "id                AV1YnUMYglJLPUi8IJpK  AV1Ynb3bglJLPUi8IJxJ  \\\n",
       "reviews_username                                               \n",
       "00sab00                            0.0                   0.0   \n",
       "01impala                           0.0                   0.0   \n",
       "02dakota                           0.0                   0.0   \n",
       "02deuce                            0.0                   0.0   \n",
       "0325home                           0.0                   0.0   \n",
       "\n",
       "id                AV1YneDPglJLPUi8IJyQ  AV1YpiJvvKc47QAVguxy  \\\n",
       "reviews_username                                               \n",
       "00sab00                            0.0                   0.0   \n",
       "01impala                           0.0                   0.0   \n",
       "02dakota                           0.0                   0.0   \n",
       "02deuce                            0.0                   0.0   \n",
       "0325home                           0.0                   0.0   \n",
       "\n",
       "id                AV1YqAaMGV-KLJ3adiDj  AV1Ys0kTvKc47QAVgx1C  \\\n",
       "reviews_username                                               \n",
       "00sab00                            0.0                   0.0   \n",
       "01impala                           0.0                   0.0   \n",
       "02dakota                           0.0                   0.0   \n",
       "02deuce                            0.0                   0.0   \n",
       "0325home                           0.0                   0.0   \n",
       "\n",
       "id                AV1YtGjdglJLPUi8IOfJ  AV1ZSp2uglJLPUi8IQFy  \\\n",
       "reviews_username                                               \n",
       "00sab00                            0.0                   0.0   \n",
       "01impala                           0.0                   0.0   \n",
       "02dakota                           0.0                   0.0   \n",
       "02deuce                            0.0                   0.0   \n",
       "0325home                           0.0                   0.0   \n",
       "\n",
       "id                AV1ZT7GLglJLPUi8IQLI  AV1ZVIgy-jtxr-f31W9N  \\\n",
       "reviews_username                                               \n",
       "00sab00                            0.0                   0.0   \n",
       "01impala                           0.0                   0.0   \n",
       "02dakota                           0.0                   0.0   \n",
       "02deuce                            0.0                   0.0   \n",
       "0325home                           0.0                   0.0   \n",
       "\n",
       "id                AV1d76w7vKc47QAVhCqn  AV1h6Gu0glJLPUi8IjA_  \\\n",
       "reviews_username                                               \n",
       "00sab00                            0.0                   0.0   \n",
       "01impala                           0.0                   0.0   \n",
       "02dakota                           0.0                   0.0   \n",
       "02deuce                            0.0                   0.0   \n",
       "0325home                           0.0                   0.0   \n",
       "\n",
       "id                AV1h6gSl-jtxr-f31p40  AV1l8zRZvKc47QAVhnAv  \\\n",
       "reviews_username                                               \n",
       "00sab00                          1.155                   0.0   \n",
       "01impala                         0.000                   0.0   \n",
       "02dakota                         0.000                   0.0   \n",
       "02deuce                          0.000                   0.0   \n",
       "0325home                         0.000                   0.0   \n",
       "\n",
       "id                AV2AvGnjGV-KLJ3alTQH  AV2Avn5dGV-KLJ3alTjq  \\\n",
       "reviews_username                                               \n",
       "00sab00                            0.0                   0.0   \n",
       "01impala                           0.0                   0.0   \n",
       "02dakota                           0.0                   0.0   \n",
       "02deuce                            0.0                   0.0   \n",
       "0325home                           0.0                   0.0   \n",
       "\n",
       "id                AVpe-M4-ilAPnD_xSF1K  AVpe-MCY1cnluZ0-bCv_  \\\n",
       "reviews_username                                               \n",
       "00sab00                            0.0                   0.0   \n",
       "01impala                           0.0                   0.0   \n",
       "02dakota                           0.0                   0.0   \n",
       "02deuce                            0.0                   0.0   \n",
       "0325home                           0.0                   0.0   \n",
       "\n",
       "id                AVpe-PJnLJeJML43ziaj  AVpe-YAL1cnluZ0-bHGh  ...  \\\n",
       "reviews_username                                              ...   \n",
       "00sab00                            0.0                   0.0  ...   \n",
       "01impala                           0.0                   0.0  ...   \n",
       "02dakota                           0.0                   0.0  ...   \n",
       "02deuce                            0.0                   0.0  ...   \n",
       "0325home                           0.0                   0.0  ...   \n",
       "\n",
       "id                AVpfksililAPnD_xePx_  AVpfl6baLJeJML43AEQq  \\\n",
       "reviews_username                                               \n",
       "00sab00                            0.0                   0.0   \n",
       "01impala                           0.0                   0.0   \n",
       "02dakota                           0.0                   0.0   \n",
       "02deuce                            0.0                   0.0   \n",
       "0325home                           0.0                   0.0   \n",
       "\n",
       "id                AVpfl6sF1cnluZ0-nmwC  AVpfldDlLJeJML43_7s_  \\\n",
       "reviews_username                                               \n",
       "00sab00                            0.0                   0.0   \n",
       "01impala                           0.0                   0.0   \n",
       "02dakota                           0.0                   0.0   \n",
       "02deuce                            0.0                   0.0   \n",
       "0325home                           0.0                   0.0   \n",
       "\n",
       "id                AVpfliCoilAPnD_xegIr  AVpfluP1ilAPnD_xejxO  \\\n",
       "reviews_username                                               \n",
       "00sab00                            0.0                   0.0   \n",
       "01impala                           0.0                   0.0   \n",
       "02dakota                           0.0                   0.0   \n",
       "02deuce                            0.0                   0.0   \n",
       "0325home                           0.0                   0.0   \n",
       "\n",
       "id                AVpfm8yiLJeJML43AYyu  AVpfmVnVLJeJML43AMqC  \\\n",
       "reviews_username                                               \n",
       "00sab00                          2.588                   0.0   \n",
       "01impala                         0.000                   0.0   \n",
       "02dakota                         0.000                   0.0   \n",
       "02deuce                          0.000                   0.0   \n",
       "0325home                         0.000                   0.0   \n",
       "\n",
       "id                AVpfmjXGLJeJML43AQ5_  AVpfnRuSilAPnD_xfB8l  \\\n",
       "reviews_username                                               \n",
       "00sab00                            0.0                   0.0   \n",
       "01impala                           0.0                   0.0   \n",
       "02dakota                           0.0                   0.0   \n",
       "02deuce                            0.0                   0.0   \n",
       "0325home                           0.0                   0.0   \n",
       "\n",
       "id                AVpfnS4eLJeJML43AfZe  AVpfnUcwLJeJML43Af2U  \\\n",
       "reviews_username                                               \n",
       "00sab00                            0.0                   0.0   \n",
       "01impala                           0.0                   0.0   \n",
       "02dakota                           0.0                   0.0   \n",
       "02deuce                            0.0                   0.0   \n",
       "0325home                           0.0                   0.0   \n",
       "\n",
       "id                AVpfnjBILJeJML43AkO3  AVpfoSS51cnluZ0-oVH9  \\\n",
       "reviews_username                                               \n",
       "00sab00                            0.0                   0.0   \n",
       "01impala                           0.0                   0.0   \n",
       "02dakota                           0.0                   0.0   \n",
       "02deuce                            0.0                   0.0   \n",
       "0325home                           0.0                   0.0   \n",
       "\n",
       "id                AVpfov9TLJeJML43A7B0  AVpfozgyilAPnD_xfe0r  \\\n",
       "reviews_username                                               \n",
       "00sab00                          6.623                   0.0   \n",
       "01impala                         0.000                   0.0   \n",
       "02dakota                         0.000                   0.0   \n",
       "02deuce                          0.000                   0.0   \n",
       "0325home                         0.000                   0.0   \n",
       "\n",
       "id                AVpfpM2yilAPnD_xfmDG  AVpfpoUCLJeJML43BLXv  \\\n",
       "reviews_username                                               \n",
       "00sab00                            2.5                   0.0   \n",
       "01impala                           0.0                   0.0   \n",
       "02dakota                           0.0                   0.0   \n",
       "02deuce                            0.0                   0.0   \n",
       "0325home                           0.0                   0.0   \n",
       "\n",
       "id                AVpfqW4WilAPnD_xf7a_  AVpfr5cb1cnluZ0-pZFp  \\\n",
       "reviews_username                                               \n",
       "00sab00                            0.0                 0.645   \n",
       "01impala                           0.0                 0.000   \n",
       "02dakota                           0.0                 0.000   \n",
       "02deuce                            0.0                 0.000   \n",
       "0325home                           0.0                 0.000   \n",
       "\n",
       "id                AVpfrFDZLJeJML43Bmv0  AVpfrTyiLJeJML43BrSI  \\\n",
       "reviews_username                                               \n",
       "00sab00                          1.667                 0.189   \n",
       "01impala                         0.000                 0.000   \n",
       "02dakota                         0.000                 0.000   \n",
       "02deuce                          0.000                 0.000   \n",
       "0325home                         0.000                 0.000   \n",
       "\n",
       "id                AVpfrfHF1cnluZ0-pRai  AVpfrgjFLJeJML43BvCc  \\\n",
       "reviews_username                                               \n",
       "00sab00                            0.0                   0.0   \n",
       "01impala                           0.0                   0.0   \n",
       "02dakota                           0.0                   0.0   \n",
       "02deuce                            0.0                   0.0   \n",
       "0325home                           0.0                   0.0   \n",
       "\n",
       "id                AVpfsQoeilAPnD_xgfx5  AVpfshNsLJeJML43CB8q  \\\n",
       "reviews_username                                               \n",
       "00sab00                            0.0                   0.0   \n",
       "01impala                           0.0                   0.0   \n",
       "02dakota                           0.0                   0.0   \n",
       "02deuce                            0.0                   0.0   \n",
       "0325home                           0.0                   0.0   \n",
       "\n",
       "id                AVpfthSailAPnD_xg3ON  AVpftikC1cnluZ0-p31V  \\\n",
       "reviews_username                                               \n",
       "00sab00                            0.0                 1.465   \n",
       "01impala                           0.0                 0.000   \n",
       "02dakota                           0.0                 0.000   \n",
       "02deuce                            0.0                 0.000   \n",
       "0325home                           0.0                 0.000   \n",
       "\n",
       "id                AVpfv4TlilAPnD_xhjNS  AVpfvieo1cnluZ0-qdnu  \n",
       "reviews_username                                              \n",
       "00sab00                           1.89                 0.204  \n",
       "01impala                          0.00                 0.000  \n",
       "02dakota                          0.00                 0.000  \n",
       "02deuce                           0.00                 0.000  \n",
       "0325home                          0.00                 0.000  \n",
       "\n",
       "[5 rows x 256 columns]"
      ]
     },
     "execution_count": 126,
     "metadata": {},
     "output_type": "execute_result"
    }
   ],
   "source": [
    "user_final_rating = np.multiply(user_predicted_ratings,train_dummy)\n",
    "user_final_rating.head()"
   ]
  },
  {
   "cell_type": "markdown",
   "metadata": {
    "id": "MqARNM3rXKQo"
   },
   "source": [
    "## Finding the Top 20 products that a user is most likely to purchase based on the ratings"
   ]
  },
  {
   "cell_type": "code",
   "execution_count": 127,
   "metadata": {
    "ExecuteTime": {
     "end_time": "2022-04-06T05:49:49.067838Z",
     "start_time": "2022-04-06T05:46:27.671Z"
    },
    "execution": {
     "iopub.execute_input": "2022-04-14T01:38:59.304947Z",
     "iopub.status.busy": "2022-04-14T01:38:59.304033Z",
     "iopub.status.idle": "2022-04-14T01:38:59.309266Z",
     "shell.execute_reply": "2022-04-14T01:38:59.308263Z",
     "shell.execute_reply.started": "2022-04-14T01:38:59.304903Z"
    },
    "executionInfo": {
     "elapsed": 36,
     "status": "ok",
     "timestamp": 1649227991863,
     "user": {
      "displayName": "Venkatasubramanian S",
      "userId": "06029493893713790610"
     },
     "user_tz": 420
    },
    "id": "4LZZ4nWvXR6p"
   },
   "outputs": [],
   "source": [
    "# Take a sample username as input.\n",
    "user_input = '00sab00'"
   ]
  },
  {
   "cell_type": "code",
   "execution_count": 128,
   "metadata": {
    "ExecuteTime": {
     "end_time": "2022-04-06T05:49:49.068834Z",
     "start_time": "2022-04-06T05:46:27.678Z"
    },
    "execution": {
     "iopub.execute_input": "2022-04-14T01:38:59.311086Z",
     "iopub.status.busy": "2022-04-14T01:38:59.310738Z",
     "iopub.status.idle": "2022-04-14T01:38:59.334599Z",
     "shell.execute_reply": "2022-04-14T01:38:59.333874Z",
     "shell.execute_reply.started": "2022-04-14T01:38:59.311059Z"
    },
    "executionInfo": {
     "elapsed": 33,
     "status": "ok",
     "timestamp": 1649227991864,
     "user": {
      "displayName": "Venkatasubramanian S",
      "userId": "06029493893713790610"
     },
     "user_tz": 420
    },
    "id": "eY67nO7QXw_a",
    "outputId": "0b63cc33-02cb-4473-a397-7bc1c7e32a35"
   },
   "outputs": [
    {
     "data": {
      "text/html": [
       "<div>\n",
       "<style scoped>\n",
       "    .dataframe tbody tr th:only-of-type {\n",
       "        vertical-align: middle;\n",
       "    }\n",
       "\n",
       "    .dataframe tbody tr th {\n",
       "        vertical-align: top;\n",
       "    }\n",
       "\n",
       "    .dataframe thead th {\n",
       "        text-align: right;\n",
       "    }\n",
       "</style>\n",
       "<table border=\"1\" class=\"dataframe\">\n",
       "  <thead>\n",
       "    <tr style=\"text-align: right;\">\n",
       "      <th></th>\n",
       "      <th>Product Id</th>\n",
       "      <th>cosine_similarity_score</th>\n",
       "    </tr>\n",
       "  </thead>\n",
       "  <tbody>\n",
       "    <tr>\n",
       "      <th>0</th>\n",
       "      <td>AVpfPaoqLJeJML435Xk9</td>\n",
       "      <td>37.473</td>\n",
       "    </tr>\n",
       "    <tr>\n",
       "      <th>1</th>\n",
       "      <td>AVpfRTh1ilAPnD_xYic2</td>\n",
       "      <td>29.191</td>\n",
       "    </tr>\n",
       "    <tr>\n",
       "      <th>2</th>\n",
       "      <td>AVpf0eb2LJeJML43EVSt</td>\n",
       "      <td>14.259</td>\n",
       "    </tr>\n",
       "    <tr>\n",
       "      <th>3</th>\n",
       "      <td>AVpf3VOfilAPnD_xjpun</td>\n",
       "      <td>12.314</td>\n",
       "    </tr>\n",
       "    <tr>\n",
       "      <th>4</th>\n",
       "      <td>AVpf2tw1ilAPnD_xjflC</td>\n",
       "      <td>11.178</td>\n",
       "    </tr>\n",
       "    <tr>\n",
       "      <th>5</th>\n",
       "      <td>AVpfBrUZilAPnD_xTUly</td>\n",
       "      <td>7.832</td>\n",
       "    </tr>\n",
       "    <tr>\n",
       "      <th>6</th>\n",
       "      <td>AVpfov9TLJeJML43A7B0</td>\n",
       "      <td>6.623</td>\n",
       "    </tr>\n",
       "    <tr>\n",
       "      <th>7</th>\n",
       "      <td>AVpf385g1cnluZ0-s0_t</td>\n",
       "      <td>6.254</td>\n",
       "    </tr>\n",
       "    <tr>\n",
       "      <th>8</th>\n",
       "      <td>AVpfM_ytilAPnD_xXIJb</td>\n",
       "      <td>6.155</td>\n",
       "    </tr>\n",
       "    <tr>\n",
       "      <th>9</th>\n",
       "      <td>AVpfR5m0LJeJML436K3W</td>\n",
       "      <td>5.651</td>\n",
       "    </tr>\n",
       "    <tr>\n",
       "      <th>10</th>\n",
       "      <td>AVpfOIrkilAPnD_xXgDG</td>\n",
       "      <td>5.431</td>\n",
       "    </tr>\n",
       "    <tr>\n",
       "      <th>11</th>\n",
       "      <td>AVpfPnrU1cnluZ0-g9rL</td>\n",
       "      <td>4.685</td>\n",
       "    </tr>\n",
       "    <tr>\n",
       "      <th>12</th>\n",
       "      <td>AVpf0thK1cnluZ0-r8vR</td>\n",
       "      <td>3.653</td>\n",
       "    </tr>\n",
       "    <tr>\n",
       "      <th>13</th>\n",
       "      <td>AV1YGDqsGV-KLJ3adc-O</td>\n",
       "      <td>3.596</td>\n",
       "    </tr>\n",
       "    <tr>\n",
       "      <th>14</th>\n",
       "      <td>AVpfazX31cnluZ0-kbdl</td>\n",
       "      <td>3.348</td>\n",
       "    </tr>\n",
       "    <tr>\n",
       "      <th>15</th>\n",
       "      <td>AVpfJP1C1cnluZ0-e3Xy</td>\n",
       "      <td>3.316</td>\n",
       "    </tr>\n",
       "    <tr>\n",
       "      <th>16</th>\n",
       "      <td>AVpe8gsILJeJML43y6Ed</td>\n",
       "      <td>2.958</td>\n",
       "    </tr>\n",
       "    <tr>\n",
       "      <th>17</th>\n",
       "      <td>AVpfN6Z71cnluZ0-gZmO</td>\n",
       "      <td>2.926</td>\n",
       "    </tr>\n",
       "    <tr>\n",
       "      <th>18</th>\n",
       "      <td>AVpfMpZ51cnluZ0-f_L9</td>\n",
       "      <td>2.913</td>\n",
       "    </tr>\n",
       "    <tr>\n",
       "      <th>19</th>\n",
       "      <td>AVpf5Z1zLJeJML43FpB-</td>\n",
       "      <td>2.887</td>\n",
       "    </tr>\n",
       "  </tbody>\n",
       "</table>\n",
       "</div>"
      ],
      "text/plain": [
       "              Product Id  cosine_similarity_score\n",
       "0   AVpfPaoqLJeJML435Xk9                   37.473\n",
       "1   AVpfRTh1ilAPnD_xYic2                   29.191\n",
       "2   AVpf0eb2LJeJML43EVSt                   14.259\n",
       "3   AVpf3VOfilAPnD_xjpun                   12.314\n",
       "4   AVpf2tw1ilAPnD_xjflC                   11.178\n",
       "5   AVpfBrUZilAPnD_xTUly                    7.832\n",
       "6   AVpfov9TLJeJML43A7B0                    6.623\n",
       "7   AVpf385g1cnluZ0-s0_t                    6.254\n",
       "8   AVpfM_ytilAPnD_xXIJb                    6.155\n",
       "9   AVpfR5m0LJeJML436K3W                    5.651\n",
       "10  AVpfOIrkilAPnD_xXgDG                    5.431\n",
       "11  AVpfPnrU1cnluZ0-g9rL                    4.685\n",
       "12  AVpf0thK1cnluZ0-r8vR                    3.653\n",
       "13  AV1YGDqsGV-KLJ3adc-O                    3.596\n",
       "14  AVpfazX31cnluZ0-kbdl                    3.348\n",
       "15  AVpfJP1C1cnluZ0-e3Xy                    3.316\n",
       "16  AVpe8gsILJeJML43y6Ed                    2.958\n",
       "17  AVpfN6Z71cnluZ0-gZmO                    2.926\n",
       "18  AVpfMpZ51cnluZ0-f_L9                    2.913\n",
       "19  AVpf5Z1zLJeJML43FpB-                    2.887"
      ]
     },
     "execution_count": 128,
     "metadata": {},
     "output_type": "execute_result"
    }
   ],
   "source": [
    "top20_reco = user_final_rating.loc[user_input].sort_values(ascending=False)[0:20]\n",
    "df_top20_reco = pd.DataFrame({'Product Id': top20_reco.index, 'cosine_similarity_score' : top20_reco})\n",
    "df_top20_reco.reset_index(drop=True, inplace=True)\n",
    "df_top20_reco"
   ]
  },
  {
   "cell_type": "code",
   "execution_count": 129,
   "metadata": {
    "ExecuteTime": {
     "end_time": "2022-04-06T05:49:49.069834Z",
     "start_time": "2022-04-06T05:46:27.686Z"
    },
    "execution": {
     "iopub.execute_input": "2022-04-14T01:38:59.336366Z",
     "iopub.status.busy": "2022-04-14T01:38:59.335822Z",
     "iopub.status.idle": "2022-04-14T01:38:59.373369Z",
     "shell.execute_reply": "2022-04-14T01:38:59.372571Z",
     "shell.execute_reply.started": "2022-04-14T01:38:59.336333Z"
    },
    "executionInfo": {
     "elapsed": 25,
     "status": "ok",
     "timestamp": 1649227991865,
     "user": {
      "displayName": "Venkatasubramanian S",
      "userId": "06029493893713790610"
     },
     "user_tz": 420
    },
    "id": "n_84JT1bZA2b",
    "outputId": "28c69d6f-8391-4d5a-bb15-018237e55d3e"
   },
   "outputs": [
    {
     "data": {
      "text/html": [
       "<div>\n",
       "<style scoped>\n",
       "    .dataframe tbody tr th:only-of-type {\n",
       "        vertical-align: middle;\n",
       "    }\n",
       "\n",
       "    .dataframe tbody tr th {\n",
       "        vertical-align: top;\n",
       "    }\n",
       "\n",
       "    .dataframe thead th {\n",
       "        text-align: right;\n",
       "    }\n",
       "</style>\n",
       "<table border=\"1\" class=\"dataframe\">\n",
       "  <thead>\n",
       "    <tr style=\"text-align: right;\">\n",
       "      <th></th>\n",
       "      <th>Product Id</th>\n",
       "      <th>name</th>\n",
       "      <th>cosine_similarity_score</th>\n",
       "    </tr>\n",
       "  </thead>\n",
       "  <tbody>\n",
       "    <tr>\n",
       "      <th>16</th>\n",
       "      <td>AVpfPaoqLJeJML435Xk9</td>\n",
       "      <td>Godzilla 3d Includes Digital Copy Ultraviolet 3d/2d Blu-Ray/dvd</td>\n",
       "      <td>37.473</td>\n",
       "    </tr>\n",
       "    <tr>\n",
       "      <th>19</th>\n",
       "      <td>AVpfRTh1ilAPnD_xYic2</td>\n",
       "      <td>Planes: Fire Rescue (2 Discs) (includes Digital Copy) (blu-Ray/dvd)</td>\n",
       "      <td>29.191</td>\n",
       "    </tr>\n",
       "    <tr>\n",
       "      <th>2</th>\n",
       "      <td>AVpf0eb2LJeJML43EVSt</td>\n",
       "      <td>The Resident Evil Collection 5 Discs (blu-Ray)</td>\n",
       "      <td>14.259</td>\n",
       "    </tr>\n",
       "    <tr>\n",
       "      <th>6</th>\n",
       "      <td>AVpf3VOfilAPnD_xjpun</td>\n",
       "      <td>Clorox Disinfecting Wipes Value Pack Scented 150 Ct Total</td>\n",
       "      <td>12.314</td>\n",
       "    </tr>\n",
       "    <tr>\n",
       "      <th>4</th>\n",
       "      <td>AVpf2tw1ilAPnD_xjflC</td>\n",
       "      <td>Red (special Edition) (dvdvideo)</td>\n",
       "      <td>11.178</td>\n",
       "    </tr>\n",
       "    <tr>\n",
       "      <th>9</th>\n",
       "      <td>AVpfBrUZilAPnD_xTUly</td>\n",
       "      <td>Coty Airspun Face Powder, Translucent Extra Coverage</td>\n",
       "      <td>7.832</td>\n",
       "    </tr>\n",
       "    <tr>\n",
       "      <th>15</th>\n",
       "      <td>AVpfov9TLJeJML43A7B0</td>\n",
       "      <td>Bisquick Original Pancake And Baking Mix - 40oz</td>\n",
       "      <td>6.623</td>\n",
       "    </tr>\n",
       "    <tr>\n",
       "      <th>5</th>\n",
       "      <td>AVpf385g1cnluZ0-s0_t</td>\n",
       "      <td>Hormel Chili, No Beans</td>\n",
       "      <td>6.254</td>\n",
       "    </tr>\n",
       "    <tr>\n",
       "      <th>11</th>\n",
       "      <td>AVpfM_ytilAPnD_xXIJb</td>\n",
       "      <td>Tostitos Bite Size Tortilla Chips</td>\n",
       "      <td>6.155</td>\n",
       "    </tr>\n",
       "    <tr>\n",
       "      <th>18</th>\n",
       "      <td>AVpfR5m0LJeJML436K3W</td>\n",
       "      <td>Jason Aldean - They Don't Know</td>\n",
       "      <td>5.651</td>\n",
       "    </tr>\n",
       "    <tr>\n",
       "      <th>14</th>\n",
       "      <td>AVpfOIrkilAPnD_xXgDG</td>\n",
       "      <td>Alex Cross (dvdvideo)</td>\n",
       "      <td>5.431</td>\n",
       "    </tr>\n",
       "    <tr>\n",
       "      <th>17</th>\n",
       "      <td>AVpfPnrU1cnluZ0-g9rL</td>\n",
       "      <td>Stargate (ws) (ultimate Edition) (director's Cut) (dvdvideo)</td>\n",
       "      <td>4.685</td>\n",
       "    </tr>\n",
       "    <tr>\n",
       "      <th>3</th>\n",
       "      <td>AVpf0thK1cnluZ0-r8vR</td>\n",
       "      <td>100:Complete First Season (blu-Ray)</td>\n",
       "      <td>3.653</td>\n",
       "    </tr>\n",
       "    <tr>\n",
       "      <th>0</th>\n",
       "      <td>AV1YGDqsGV-KLJ3adc-O</td>\n",
       "      <td>Windex Original Glass Cleaner Refill 67.6oz (2 Liter)</td>\n",
       "      <td>3.596</td>\n",
       "    </tr>\n",
       "    <tr>\n",
       "      <th>8</th>\n",
       "      <td>AVpfazX31cnluZ0-kbdl</td>\n",
       "      <td>Just For Men Touch Of Gray Gray Hair Treatment, Black T-55</td>\n",
       "      <td>3.348</td>\n",
       "    </tr>\n",
       "    <tr>\n",
       "      <th>10</th>\n",
       "      <td>AVpfJP1C1cnluZ0-e3Xy</td>\n",
       "      <td>Clorox Disinfecting Bathroom Cleaner</td>\n",
       "      <td>3.316</td>\n",
       "    </tr>\n",
       "    <tr>\n",
       "      <th>1</th>\n",
       "      <td>AVpe8gsILJeJML43y6Ed</td>\n",
       "      <td>Pendaflex174 Divide It Up File Folder, Multi Section, Letter, Assorted, 12/pack</td>\n",
       "      <td>2.958</td>\n",
       "    </tr>\n",
       "    <tr>\n",
       "      <th>13</th>\n",
       "      <td>AVpfN6Z71cnluZ0-gZmO</td>\n",
       "      <td>Caress Moisturizing Body Bar Natural Silk, 4.75oz</td>\n",
       "      <td>2.926</td>\n",
       "    </tr>\n",
       "    <tr>\n",
       "      <th>12</th>\n",
       "      <td>AVpfMpZ51cnluZ0-f_L9</td>\n",
       "      <td>Chips Ahoy! Original Chocolate Chip - Cookies - Family Size 18.2oz</td>\n",
       "      <td>2.913</td>\n",
       "    </tr>\n",
       "    <tr>\n",
       "      <th>7</th>\n",
       "      <td>AVpf5Z1zLJeJML43FpB-</td>\n",
       "      <td>Lysol Concentrate Deodorizing Cleaner, Original Scent</td>\n",
       "      <td>2.887</td>\n",
       "    </tr>\n",
       "  </tbody>\n",
       "</table>\n",
       "</div>"
      ],
      "text/plain": [
       "              Product Id  \\\n",
       "16  AVpfPaoqLJeJML435Xk9   \n",
       "19  AVpfRTh1ilAPnD_xYic2   \n",
       "2   AVpf0eb2LJeJML43EVSt   \n",
       "6   AVpf3VOfilAPnD_xjpun   \n",
       "4   AVpf2tw1ilAPnD_xjflC   \n",
       "9   AVpfBrUZilAPnD_xTUly   \n",
       "15  AVpfov9TLJeJML43A7B0   \n",
       "5   AVpf385g1cnluZ0-s0_t   \n",
       "11  AVpfM_ytilAPnD_xXIJb   \n",
       "18  AVpfR5m0LJeJML436K3W   \n",
       "14  AVpfOIrkilAPnD_xXgDG   \n",
       "17  AVpfPnrU1cnluZ0-g9rL   \n",
       "3   AVpf0thK1cnluZ0-r8vR   \n",
       "0   AV1YGDqsGV-KLJ3adc-O   \n",
       "8   AVpfazX31cnluZ0-kbdl   \n",
       "10  AVpfJP1C1cnluZ0-e3Xy   \n",
       "1   AVpe8gsILJeJML43y6Ed   \n",
       "13  AVpfN6Z71cnluZ0-gZmO   \n",
       "12  AVpfMpZ51cnluZ0-f_L9   \n",
       "7   AVpf5Z1zLJeJML43FpB-   \n",
       "\n",
       "                                                                               name  \\\n",
       "16                  Godzilla 3d Includes Digital Copy Ultraviolet 3d/2d Blu-Ray/dvd   \n",
       "19              Planes: Fire Rescue (2 Discs) (includes Digital Copy) (blu-Ray/dvd)   \n",
       "2                                    The Resident Evil Collection 5 Discs (blu-Ray)   \n",
       "6                         Clorox Disinfecting Wipes Value Pack Scented 150 Ct Total   \n",
       "4                                                  Red (special Edition) (dvdvideo)   \n",
       "9                              Coty Airspun Face Powder, Translucent Extra Coverage   \n",
       "15                                  Bisquick Original Pancake And Baking Mix - 40oz   \n",
       "5                                                            Hormel Chili, No Beans   \n",
       "11                                                Tostitos Bite Size Tortilla Chips   \n",
       "18                                                   Jason Aldean - They Don't Know   \n",
       "14                                                            Alex Cross (dvdvideo)   \n",
       "17                     Stargate (ws) (ultimate Edition) (director's Cut) (dvdvideo)   \n",
       "3                                               100:Complete First Season (blu-Ray)   \n",
       "0                             Windex Original Glass Cleaner Refill 67.6oz (2 Liter)   \n",
       "8                        Just For Men Touch Of Gray Gray Hair Treatment, Black T-55   \n",
       "10                                             Clorox Disinfecting Bathroom Cleaner   \n",
       "1   Pendaflex174 Divide It Up File Folder, Multi Section, Letter, Assorted, 12/pack   \n",
       "13                                Caress Moisturizing Body Bar Natural Silk, 4.75oz   \n",
       "12               Chips Ahoy! Original Chocolate Chip - Cookies - Family Size 18.2oz   \n",
       "7                             Lysol Concentrate Deodorizing Cleaner, Original Scent   \n",
       "\n",
       "    cosine_similarity_score  \n",
       "16                   37.473  \n",
       "19                   29.191  \n",
       "2                    14.259  \n",
       "6                    12.314  \n",
       "4                    11.178  \n",
       "9                     7.832  \n",
       "15                    6.623  \n",
       "5                     6.254  \n",
       "11                    6.155  \n",
       "18                    5.651  \n",
       "14                    5.431  \n",
       "17                    4.685  \n",
       "3                     3.653  \n",
       "0                     3.596  \n",
       "8                     3.348  \n",
       "10                    3.316  \n",
       "1                     2.958  \n",
       "13                    2.926  \n",
       "12                    2.913  \n",
       "7                     2.887  "
      ]
     },
     "execution_count": 129,
     "metadata": {},
     "output_type": "execute_result"
    }
   ],
   "source": [
    "top20_rec = pd.merge(df_recommended, df_top20_reco,left_on='id',right_on='Product Id', how = 'inner')[['Product Id', 'name', 'cosine_similarity_score']].drop_duplicates()\n",
    "top20_rec.reset_index(drop=True, inplace=True)\n",
    "top20_rec.sort_values(by='cosine_similarity_score', ascending=False)"
   ]
  },
  {
   "cell_type": "code",
   "execution_count": 130,
   "metadata": {
    "ExecuteTime": {
     "end_time": "2022-04-06T05:49:49.071846Z",
     "start_time": "2022-04-06T05:46:27.703Z"
    },
    "execution": {
     "iopub.execute_input": "2022-04-14T01:38:59.386410Z",
     "iopub.status.busy": "2022-04-14T01:38:59.385663Z",
     "iopub.status.idle": "2022-04-14T01:38:59.405655Z",
     "shell.execute_reply": "2022-04-14T01:38:59.404830Z",
     "shell.execute_reply.started": "2022-04-14T01:38:59.386365Z"
    },
    "executionInfo": {
     "elapsed": 23,
     "status": "ok",
     "timestamp": 1649227992171,
     "user": {
      "displayName": "Venkatasubramanian S",
      "userId": "06029493893713790610"
     },
     "user_tz": 420
    },
    "id": "Zj-IRB7AcB0_",
    "outputId": "11ee460d-6ffe-4dfe-8ea7-7fb7781152b5"
   },
   "outputs": [
    {
     "data": {
      "text/plain": [
       "(2051, 4)"
      ]
     },
     "execution_count": 130,
     "metadata": {},
     "output_type": "execute_result"
    }
   ],
   "source": [
    "# Find out the common users of test and train dataset.\n",
    "common = test[test.reviews_username.isin(train.reviews_username)]\n",
    "common.shape"
   ]
  },
  {
   "cell_type": "code",
   "execution_count": 131,
   "metadata": {
    "ExecuteTime": {
     "end_time": "2022-04-06T05:49:49.072841Z",
     "start_time": "2022-04-06T05:46:27.711Z"
    },
    "execution": {
     "iopub.execute_input": "2022-04-14T01:38:59.407624Z",
     "iopub.status.busy": "2022-04-14T01:38:59.407219Z",
     "iopub.status.idle": "2022-04-14T01:38:59.422857Z",
     "shell.execute_reply": "2022-04-14T01:38:59.421988Z",
     "shell.execute_reply.started": "2022-04-14T01:38:59.407553Z"
    },
    "executionInfo": {
     "elapsed": 14,
     "status": "ok",
     "timestamp": 1649227992172,
     "user": {
      "displayName": "Venkatasubramanian S",
      "userId": "06029493893713790610"
     },
     "user_tz": 420
    },
    "id": "SegqLKYYcY33",
    "outputId": "cfbd5287-1d19-47b5-84e8-53b88b56cd74"
   },
   "outputs": [
    {
     "data": {
      "text/html": [
       "<div>\n",
       "<style scoped>\n",
       "    .dataframe tbody tr th:only-of-type {\n",
       "        vertical-align: middle;\n",
       "    }\n",
       "\n",
       "    .dataframe tbody tr th {\n",
       "        vertical-align: top;\n",
       "    }\n",
       "\n",
       "    .dataframe thead th {\n",
       "        text-align: right;\n",
       "    }\n",
       "</style>\n",
       "<table border=\"1\" class=\"dataframe\">\n",
       "  <thead>\n",
       "    <tr style=\"text-align: right;\">\n",
       "      <th></th>\n",
       "      <th>id</th>\n",
       "      <th>name</th>\n",
       "      <th>reviews_rating</th>\n",
       "      <th>reviews_username</th>\n",
       "    </tr>\n",
       "  </thead>\n",
       "  <tbody>\n",
       "    <tr>\n",
       "      <th>12875</th>\n",
       "      <td>AVpf3VOfilAPnD_xjpun</td>\n",
       "      <td>Clorox Disinfecting Wipes Value Pack Scented 150 Ct Total</td>\n",
       "      <td>5</td>\n",
       "      <td>jessica</td>\n",
       "    </tr>\n",
       "    <tr>\n",
       "      <th>21657</th>\n",
       "      <td>AVpfm8yiLJeJML43AYyu</td>\n",
       "      <td>Nexxus Exxtra Gel Style Creation Sculptor</td>\n",
       "      <td>1</td>\n",
       "      <td>romance318</td>\n",
       "    </tr>\n",
       "  </tbody>\n",
       "</table>\n",
       "</div>"
      ],
      "text/plain": [
       "                         id  \\\n",
       "12875  AVpf3VOfilAPnD_xjpun   \n",
       "21657  AVpfm8yiLJeJML43AYyu   \n",
       "\n",
       "                                                            name  \\\n",
       "12875  Clorox Disinfecting Wipes Value Pack Scented 150 Ct Total   \n",
       "21657                  Nexxus Exxtra Gel Style Creation Sculptor   \n",
       "\n",
       "       reviews_rating reviews_username  \n",
       "12875               5          jessica  \n",
       "21657               1       romance318  "
      ]
     },
     "execution_count": 131,
     "metadata": {},
     "output_type": "execute_result"
    }
   ],
   "source": [
    "common.head(2)"
   ]
  },
  {
   "cell_type": "code",
   "execution_count": 132,
   "metadata": {
    "ExecuteTime": {
     "end_time": "2022-04-06T05:49:49.073843Z",
     "start_time": "2022-04-06T05:46:27.718Z"
    },
    "execution": {
     "iopub.execute_input": "2022-04-14T01:38:59.424769Z",
     "iopub.status.busy": "2022-04-14T01:38:59.424470Z",
     "iopub.status.idle": "2022-04-14T01:38:59.447567Z",
     "shell.execute_reply": "2022-04-14T01:38:59.446748Z",
     "shell.execute_reply.started": "2022-04-14T01:38:59.424728Z"
    },
    "executionInfo": {
     "elapsed": 13,
     "status": "ok",
     "timestamp": 1649227992173,
     "user": {
      "displayName": "Venkatasubramanian S",
      "userId": "06029493893713790610"
     },
     "user_tz": 420
    },
    "id": "s3IyvhTycOYz"
   },
   "outputs": [],
   "source": [
    "common_user_based_matrix = common.pivot_table(index='reviews_username', columns='id', values='reviews_rating')"
   ]
  },
  {
   "cell_type": "code",
   "execution_count": 133,
   "metadata": {
    "ExecuteTime": {
     "end_time": "2022-04-06T05:49:49.074841Z",
     "start_time": "2022-04-06T05:46:27.725Z"
    },
    "execution": {
     "iopub.execute_input": "2022-04-14T01:38:59.449376Z",
     "iopub.status.busy": "2022-04-14T01:38:59.448880Z",
     "iopub.status.idle": "2022-04-14T01:38:59.491938Z",
     "shell.execute_reply": "2022-04-14T01:38:59.491059Z",
     "shell.execute_reply.started": "2022-04-14T01:38:59.449331Z"
    },
    "executionInfo": {
     "elapsed": 11,
     "status": "ok",
     "timestamp": 1649227992173,
     "user": {
      "displayName": "Venkatasubramanian S",
      "userId": "06029493893713790610"
     },
     "user_tz": 420
    },
    "id": "xpK6rPlucvPN",
    "outputId": "d959d9eb-716d-45e3-c3ac-997c1539a2b4"
   },
   "outputs": [
    {
     "data": {
      "text/html": [
       "<div>\n",
       "<style scoped>\n",
       "    .dataframe tbody tr th:only-of-type {\n",
       "        vertical-align: middle;\n",
       "    }\n",
       "\n",
       "    .dataframe tbody tr th {\n",
       "        vertical-align: top;\n",
       "    }\n",
       "\n",
       "    .dataframe thead th {\n",
       "        text-align: right;\n",
       "    }\n",
       "</style>\n",
       "<table border=\"1\" class=\"dataframe\">\n",
       "  <thead>\n",
       "    <tr style=\"text-align: right;\">\n",
       "      <th>id</th>\n",
       "      <th>AV16khLE-jtxr-f38VFn</th>\n",
       "      <th>AV1YGDqsGV-KLJ3adc-O</th>\n",
       "      <th>AV1YlENIglJLPUi8IHsX</th>\n",
       "      <th>AV1YmDL9vKc47QAVgr7_</th>\n",
       "      <th>AV1Ymf_rglJLPUi8II2v</th>\n",
       "      <th>AV1Yn94nvKc47QAVgtst</th>\n",
       "      <th>AV1YneDPglJLPUi8IJyQ</th>\n",
       "      <th>AV1Ys0kTvKc47QAVgx1C</th>\n",
       "      <th>AV1YtGjdglJLPUi8IOfJ</th>\n",
       "      <th>AV1ZT7GLglJLPUi8IQLI</th>\n",
       "      <th>AV1ZVIgy-jtxr-f31W9N</th>\n",
       "      <th>AV1h6Gu0glJLPUi8IjA_</th>\n",
       "      <th>AV1l8zRZvKc47QAVhnAv</th>\n",
       "      <th>AVpe-PJnLJeJML43ziaj</th>\n",
       "      <th>AVpe-ltS1cnluZ0-bL8w</th>\n",
       "      <th>AVpe31o71cnluZ0-YrSD</th>\n",
       "      <th>AVpe41TqilAPnD_xQH3d</th>\n",
       "      <th>AVpe4hlXLJeJML43xbrB</th>\n",
       "      <th>AVpe59io1cnluZ0-ZgDU</th>\n",
       "      <th>AVpe5JOgilAPnD_xQPfE</th>\n",
       "      <th>AVpe5c23LJeJML43xybi</th>\n",
       "      <th>AVpe5s3RLJeJML43x4eA</th>\n",
       "      <th>AVpe6CHv1cnluZ0-ZhwN</th>\n",
       "      <th>AVpe6FfKilAPnD_xQmHi</th>\n",
       "      <th>AVpe6FpaLJeJML43yBuP</th>\n",
       "      <th>AVpe6PCDLJeJML43yFQH</th>\n",
       "      <th>AVpe6n2_LJeJML43yOgE</th>\n",
       "      <th>AVpe71Vk1cnluZ0-aL_Z</th>\n",
       "      <th>AVpe78stLJeJML43ytOY</th>\n",
       "      <th>AVpe7GIELJeJML43yZfu</th>\n",
       "      <th>...</th>\n",
       "      <th>AVpfUJu_ilAPnD_xZdDr</th>\n",
       "      <th>AVpfUN2nilAPnD_xZeY3</th>\n",
       "      <th>AVpfVPh3ilAPnD_xZzW9</th>\n",
       "      <th>AVpfW8y_LJeJML437ySW</th>\n",
       "      <th>AVpfazX31cnluZ0-kbdl</th>\n",
       "      <th>AVpfbkyr1cnluZ0-kozI</th>\n",
       "      <th>AVpfcu821cnluZ0-k8ep</th>\n",
       "      <th>AVpfdYUZilAPnD_xcHuK</th>\n",
       "      <th>AVpfi79RLJeJML43_Jo0</th>\n",
       "      <th>AVpfiUrfLJeJML43-9nY</th>\n",
       "      <th>AVpfk4y7ilAPnD_xeTgd</th>\n",
       "      <th>AVpfkak01cnluZ0-nJj6</th>\n",
       "      <th>AVpfl6baLJeJML43AEQq</th>\n",
       "      <th>AVpfl6sF1cnluZ0-nmwC</th>\n",
       "      <th>AVpflENxilAPnD_xeXFF</th>\n",
       "      <th>AVpfliCoilAPnD_xegIr</th>\n",
       "      <th>AVpfluP1ilAPnD_xejxO</th>\n",
       "      <th>AVpfm8yiLJeJML43AYyu</th>\n",
       "      <th>AVpfmjXGLJeJML43AQ5_</th>\n",
       "      <th>AVpfoSS51cnluZ0-oVH9</th>\n",
       "      <th>AVpfov9TLJeJML43A7B0</th>\n",
       "      <th>AVpfpM2yilAPnD_xfmDG</th>\n",
       "      <th>AVpfr5cb1cnluZ0-pZFp</th>\n",
       "      <th>AVpfrFDZLJeJML43Bmv0</th>\n",
       "      <th>AVpfrTyiLJeJML43BrSI</th>\n",
       "      <th>AVpfrgjFLJeJML43BvCc</th>\n",
       "      <th>AVpfs0tUilAPnD_xgqN2</th>\n",
       "      <th>AVpfthSailAPnD_xg3ON</th>\n",
       "      <th>AVpftikC1cnluZ0-p31V</th>\n",
       "      <th>AVpfv4TlilAPnD_xhjNS</th>\n",
       "    </tr>\n",
       "    <tr>\n",
       "      <th>reviews_username</th>\n",
       "      <th></th>\n",
       "      <th></th>\n",
       "      <th></th>\n",
       "      <th></th>\n",
       "      <th></th>\n",
       "      <th></th>\n",
       "      <th></th>\n",
       "      <th></th>\n",
       "      <th></th>\n",
       "      <th></th>\n",
       "      <th></th>\n",
       "      <th></th>\n",
       "      <th></th>\n",
       "      <th></th>\n",
       "      <th></th>\n",
       "      <th></th>\n",
       "      <th></th>\n",
       "      <th></th>\n",
       "      <th></th>\n",
       "      <th></th>\n",
       "      <th></th>\n",
       "      <th></th>\n",
       "      <th></th>\n",
       "      <th></th>\n",
       "      <th></th>\n",
       "      <th></th>\n",
       "      <th></th>\n",
       "      <th></th>\n",
       "      <th></th>\n",
       "      <th></th>\n",
       "      <th></th>\n",
       "      <th></th>\n",
       "      <th></th>\n",
       "      <th></th>\n",
       "      <th></th>\n",
       "      <th></th>\n",
       "      <th></th>\n",
       "      <th></th>\n",
       "      <th></th>\n",
       "      <th></th>\n",
       "      <th></th>\n",
       "      <th></th>\n",
       "      <th></th>\n",
       "      <th></th>\n",
       "      <th></th>\n",
       "      <th></th>\n",
       "      <th></th>\n",
       "      <th></th>\n",
       "      <th></th>\n",
       "      <th></th>\n",
       "      <th></th>\n",
       "      <th></th>\n",
       "      <th></th>\n",
       "      <th></th>\n",
       "      <th></th>\n",
       "      <th></th>\n",
       "      <th></th>\n",
       "      <th></th>\n",
       "      <th></th>\n",
       "      <th></th>\n",
       "      <th></th>\n",
       "    </tr>\n",
       "  </thead>\n",
       "  <tbody>\n",
       "    <tr>\n",
       "      <th>1234</th>\n",
       "      <td>NaN</td>\n",
       "      <td>NaN</td>\n",
       "      <td>NaN</td>\n",
       "      <td>NaN</td>\n",
       "      <td>NaN</td>\n",
       "      <td>NaN</td>\n",
       "      <td>NaN</td>\n",
       "      <td>NaN</td>\n",
       "      <td>NaN</td>\n",
       "      <td>NaN</td>\n",
       "      <td>NaN</td>\n",
       "      <td>NaN</td>\n",
       "      <td>NaN</td>\n",
       "      <td>NaN</td>\n",
       "      <td>NaN</td>\n",
       "      <td>NaN</td>\n",
       "      <td>5.0</td>\n",
       "      <td>NaN</td>\n",
       "      <td>NaN</td>\n",
       "      <td>NaN</td>\n",
       "      <td>NaN</td>\n",
       "      <td>NaN</td>\n",
       "      <td>NaN</td>\n",
       "      <td>NaN</td>\n",
       "      <td>NaN</td>\n",
       "      <td>NaN</td>\n",
       "      <td>NaN</td>\n",
       "      <td>NaN</td>\n",
       "      <td>NaN</td>\n",
       "      <td>NaN</td>\n",
       "      <td>...</td>\n",
       "      <td>NaN</td>\n",
       "      <td>NaN</td>\n",
       "      <td>NaN</td>\n",
       "      <td>NaN</td>\n",
       "      <td>NaN</td>\n",
       "      <td>NaN</td>\n",
       "      <td>NaN</td>\n",
       "      <td>NaN</td>\n",
       "      <td>NaN</td>\n",
       "      <td>NaN</td>\n",
       "      <td>NaN</td>\n",
       "      <td>NaN</td>\n",
       "      <td>NaN</td>\n",
       "      <td>NaN</td>\n",
       "      <td>NaN</td>\n",
       "      <td>NaN</td>\n",
       "      <td>NaN</td>\n",
       "      <td>NaN</td>\n",
       "      <td>NaN</td>\n",
       "      <td>NaN</td>\n",
       "      <td>NaN</td>\n",
       "      <td>NaN</td>\n",
       "      <td>NaN</td>\n",
       "      <td>NaN</td>\n",
       "      <td>NaN</td>\n",
       "      <td>NaN</td>\n",
       "      <td>NaN</td>\n",
       "      <td>NaN</td>\n",
       "      <td>NaN</td>\n",
       "      <td>NaN</td>\n",
       "    </tr>\n",
       "    <tr>\n",
       "      <th>1234567</th>\n",
       "      <td>NaN</td>\n",
       "      <td>NaN</td>\n",
       "      <td>NaN</td>\n",
       "      <td>NaN</td>\n",
       "      <td>NaN</td>\n",
       "      <td>NaN</td>\n",
       "      <td>NaN</td>\n",
       "      <td>NaN</td>\n",
       "      <td>NaN</td>\n",
       "      <td>NaN</td>\n",
       "      <td>NaN</td>\n",
       "      <td>NaN</td>\n",
       "      <td>NaN</td>\n",
       "      <td>NaN</td>\n",
       "      <td>NaN</td>\n",
       "      <td>NaN</td>\n",
       "      <td>NaN</td>\n",
       "      <td>NaN</td>\n",
       "      <td>NaN</td>\n",
       "      <td>NaN</td>\n",
       "      <td>NaN</td>\n",
       "      <td>NaN</td>\n",
       "      <td>NaN</td>\n",
       "      <td>NaN</td>\n",
       "      <td>NaN</td>\n",
       "      <td>NaN</td>\n",
       "      <td>NaN</td>\n",
       "      <td>NaN</td>\n",
       "      <td>NaN</td>\n",
       "      <td>NaN</td>\n",
       "      <td>...</td>\n",
       "      <td>NaN</td>\n",
       "      <td>NaN</td>\n",
       "      <td>NaN</td>\n",
       "      <td>NaN</td>\n",
       "      <td>NaN</td>\n",
       "      <td>NaN</td>\n",
       "      <td>NaN</td>\n",
       "      <td>NaN</td>\n",
       "      <td>NaN</td>\n",
       "      <td>NaN</td>\n",
       "      <td>NaN</td>\n",
       "      <td>NaN</td>\n",
       "      <td>NaN</td>\n",
       "      <td>NaN</td>\n",
       "      <td>NaN</td>\n",
       "      <td>NaN</td>\n",
       "      <td>NaN</td>\n",
       "      <td>NaN</td>\n",
       "      <td>NaN</td>\n",
       "      <td>NaN</td>\n",
       "      <td>NaN</td>\n",
       "      <td>NaN</td>\n",
       "      <td>NaN</td>\n",
       "      <td>NaN</td>\n",
       "      <td>NaN</td>\n",
       "      <td>NaN</td>\n",
       "      <td>NaN</td>\n",
       "      <td>NaN</td>\n",
       "      <td>NaN</td>\n",
       "      <td>NaN</td>\n",
       "    </tr>\n",
       "  </tbody>\n",
       "</table>\n",
       "<p>2 rows × 140 columns</p>\n",
       "</div>"
      ],
      "text/plain": [
       "id                AV16khLE-jtxr-f38VFn  AV1YGDqsGV-KLJ3adc-O  \\\n",
       "reviews_username                                               \n",
       "1234                               NaN                   NaN   \n",
       "1234567                            NaN                   NaN   \n",
       "\n",
       "id                AV1YlENIglJLPUi8IHsX  AV1YmDL9vKc47QAVgr7_  \\\n",
       "reviews_username                                               \n",
       "1234                               NaN                   NaN   \n",
       "1234567                            NaN                   NaN   \n",
       "\n",
       "id                AV1Ymf_rglJLPUi8II2v  AV1Yn94nvKc47QAVgtst  \\\n",
       "reviews_username                                               \n",
       "1234                               NaN                   NaN   \n",
       "1234567                            NaN                   NaN   \n",
       "\n",
       "id                AV1YneDPglJLPUi8IJyQ  AV1Ys0kTvKc47QAVgx1C  \\\n",
       "reviews_username                                               \n",
       "1234                               NaN                   NaN   \n",
       "1234567                            NaN                   NaN   \n",
       "\n",
       "id                AV1YtGjdglJLPUi8IOfJ  AV1ZT7GLglJLPUi8IQLI  \\\n",
       "reviews_username                                               \n",
       "1234                               NaN                   NaN   \n",
       "1234567                            NaN                   NaN   \n",
       "\n",
       "id                AV1ZVIgy-jtxr-f31W9N  AV1h6Gu0glJLPUi8IjA_  \\\n",
       "reviews_username                                               \n",
       "1234                               NaN                   NaN   \n",
       "1234567                            NaN                   NaN   \n",
       "\n",
       "id                AV1l8zRZvKc47QAVhnAv  AVpe-PJnLJeJML43ziaj  \\\n",
       "reviews_username                                               \n",
       "1234                               NaN                   NaN   \n",
       "1234567                            NaN                   NaN   \n",
       "\n",
       "id                AVpe-ltS1cnluZ0-bL8w  AVpe31o71cnluZ0-YrSD  \\\n",
       "reviews_username                                               \n",
       "1234                               NaN                   NaN   \n",
       "1234567                            NaN                   NaN   \n",
       "\n",
       "id                AVpe41TqilAPnD_xQH3d  AVpe4hlXLJeJML43xbrB  \\\n",
       "reviews_username                                               \n",
       "1234                               5.0                   NaN   \n",
       "1234567                            NaN                   NaN   \n",
       "\n",
       "id                AVpe59io1cnluZ0-ZgDU  AVpe5JOgilAPnD_xQPfE  \\\n",
       "reviews_username                                               \n",
       "1234                               NaN                   NaN   \n",
       "1234567                            NaN                   NaN   \n",
       "\n",
       "id                AVpe5c23LJeJML43xybi  AVpe5s3RLJeJML43x4eA  \\\n",
       "reviews_username                                               \n",
       "1234                               NaN                   NaN   \n",
       "1234567                            NaN                   NaN   \n",
       "\n",
       "id                AVpe6CHv1cnluZ0-ZhwN  AVpe6FfKilAPnD_xQmHi  \\\n",
       "reviews_username                                               \n",
       "1234                               NaN                   NaN   \n",
       "1234567                            NaN                   NaN   \n",
       "\n",
       "id                AVpe6FpaLJeJML43yBuP  AVpe6PCDLJeJML43yFQH  \\\n",
       "reviews_username                                               \n",
       "1234                               NaN                   NaN   \n",
       "1234567                            NaN                   NaN   \n",
       "\n",
       "id                AVpe6n2_LJeJML43yOgE  AVpe71Vk1cnluZ0-aL_Z  \\\n",
       "reviews_username                                               \n",
       "1234                               NaN                   NaN   \n",
       "1234567                            NaN                   NaN   \n",
       "\n",
       "id                AVpe78stLJeJML43ytOY  AVpe7GIELJeJML43yZfu  ...  \\\n",
       "reviews_username                                              ...   \n",
       "1234                               NaN                   NaN  ...   \n",
       "1234567                            NaN                   NaN  ...   \n",
       "\n",
       "id                AVpfUJu_ilAPnD_xZdDr  AVpfUN2nilAPnD_xZeY3  \\\n",
       "reviews_username                                               \n",
       "1234                               NaN                   NaN   \n",
       "1234567                            NaN                   NaN   \n",
       "\n",
       "id                AVpfVPh3ilAPnD_xZzW9  AVpfW8y_LJeJML437ySW  \\\n",
       "reviews_username                                               \n",
       "1234                               NaN                   NaN   \n",
       "1234567                            NaN                   NaN   \n",
       "\n",
       "id                AVpfazX31cnluZ0-kbdl  AVpfbkyr1cnluZ0-kozI  \\\n",
       "reviews_username                                               \n",
       "1234                               NaN                   NaN   \n",
       "1234567                            NaN                   NaN   \n",
       "\n",
       "id                AVpfcu821cnluZ0-k8ep  AVpfdYUZilAPnD_xcHuK  \\\n",
       "reviews_username                                               \n",
       "1234                               NaN                   NaN   \n",
       "1234567                            NaN                   NaN   \n",
       "\n",
       "id                AVpfi79RLJeJML43_Jo0  AVpfiUrfLJeJML43-9nY  \\\n",
       "reviews_username                                               \n",
       "1234                               NaN                   NaN   \n",
       "1234567                            NaN                   NaN   \n",
       "\n",
       "id                AVpfk4y7ilAPnD_xeTgd  AVpfkak01cnluZ0-nJj6  \\\n",
       "reviews_username                                               \n",
       "1234                               NaN                   NaN   \n",
       "1234567                            NaN                   NaN   \n",
       "\n",
       "id                AVpfl6baLJeJML43AEQq  AVpfl6sF1cnluZ0-nmwC  \\\n",
       "reviews_username                                               \n",
       "1234                               NaN                   NaN   \n",
       "1234567                            NaN                   NaN   \n",
       "\n",
       "id                AVpflENxilAPnD_xeXFF  AVpfliCoilAPnD_xegIr  \\\n",
       "reviews_username                                               \n",
       "1234                               NaN                   NaN   \n",
       "1234567                            NaN                   NaN   \n",
       "\n",
       "id                AVpfluP1ilAPnD_xejxO  AVpfm8yiLJeJML43AYyu  \\\n",
       "reviews_username                                               \n",
       "1234                               NaN                   NaN   \n",
       "1234567                            NaN                   NaN   \n",
       "\n",
       "id                AVpfmjXGLJeJML43AQ5_  AVpfoSS51cnluZ0-oVH9  \\\n",
       "reviews_username                                               \n",
       "1234                               NaN                   NaN   \n",
       "1234567                            NaN                   NaN   \n",
       "\n",
       "id                AVpfov9TLJeJML43A7B0  AVpfpM2yilAPnD_xfmDG  \\\n",
       "reviews_username                                               \n",
       "1234                               NaN                   NaN   \n",
       "1234567                            NaN                   NaN   \n",
       "\n",
       "id                AVpfr5cb1cnluZ0-pZFp  AVpfrFDZLJeJML43Bmv0  \\\n",
       "reviews_username                                               \n",
       "1234                               NaN                   NaN   \n",
       "1234567                            NaN                   NaN   \n",
       "\n",
       "id                AVpfrTyiLJeJML43BrSI  AVpfrgjFLJeJML43BvCc  \\\n",
       "reviews_username                                               \n",
       "1234                               NaN                   NaN   \n",
       "1234567                            NaN                   NaN   \n",
       "\n",
       "id                AVpfs0tUilAPnD_xgqN2  AVpfthSailAPnD_xg3ON  \\\n",
       "reviews_username                                               \n",
       "1234                               NaN                   NaN   \n",
       "1234567                            NaN                   NaN   \n",
       "\n",
       "id                AVpftikC1cnluZ0-p31V  AVpfv4TlilAPnD_xhjNS  \n",
       "reviews_username                                              \n",
       "1234                               NaN                   NaN  \n",
       "1234567                            NaN                   NaN  \n",
       "\n",
       "[2 rows x 140 columns]"
      ]
     },
     "execution_count": 133,
     "metadata": {},
     "output_type": "execute_result"
    }
   ],
   "source": [
    "common_user_based_matrix.head(2)"
   ]
  },
  {
   "cell_type": "code",
   "execution_count": 134,
   "metadata": {
    "ExecuteTime": {
     "end_time": "2022-04-06T05:49:49.076837Z",
     "start_time": "2022-04-06T05:46:27.732Z"
    },
    "execution": {
     "iopub.execute_input": "2022-04-14T01:38:59.494140Z",
     "iopub.status.busy": "2022-04-14T01:38:59.493831Z",
     "iopub.status.idle": "2022-04-14T01:38:59.498879Z",
     "shell.execute_reply": "2022-04-14T01:38:59.498303Z",
     "shell.execute_reply.started": "2022-04-14T01:38:59.494098Z"
    },
    "executionInfo": {
     "elapsed": 11,
     "status": "ok",
     "timestamp": 1649227992174,
     "user": {
      "displayName": "Venkatasubramanian S",
      "userId": "06029493893713790610"
     },
     "user_tz": 420
    },
    "id": "9gIKC5BFcn5f"
   },
   "outputs": [],
   "source": [
    "# Convert the user_correlation matrix into dataframe.\n",
    "user_correlation_df = pd.DataFrame(user_corr)"
   ]
  },
  {
   "cell_type": "code",
   "execution_count": 135,
   "metadata": {
    "ExecuteTime": {
     "end_time": "2022-04-06T05:49:49.077840Z",
     "start_time": "2022-04-06T05:46:27.738Z"
    },
    "execution": {
     "iopub.execute_input": "2022-04-14T01:38:59.500735Z",
     "iopub.status.busy": "2022-04-14T01:38:59.500130Z",
     "iopub.status.idle": "2022-04-14T01:38:59.552100Z",
     "shell.execute_reply": "2022-04-14T01:38:59.551082Z",
     "shell.execute_reply.started": "2022-04-14T01:38:59.500689Z"
    },
    "executionInfo": {
     "elapsed": 502,
     "status": "ok",
     "timestamp": 1649227992666,
     "user": {
      "displayName": "Venkatasubramanian S",
      "userId": "06029493893713790610"
     },
     "user_tz": 420
    },
    "id": "pBP9yIYlcqcd",
    "outputId": "23fa060b-21ca-4913-958a-8a82cf60d528"
   },
   "outputs": [
    {
     "data": {
      "text/html": [
       "<div>\n",
       "<style scoped>\n",
       "    .dataframe tbody tr th:only-of-type {\n",
       "        vertical-align: middle;\n",
       "    }\n",
       "\n",
       "    .dataframe tbody tr th {\n",
       "        vertical-align: top;\n",
       "    }\n",
       "\n",
       "    .dataframe thead th {\n",
       "        text-align: right;\n",
       "    }\n",
       "</style>\n",
       "<table border=\"1\" class=\"dataframe\">\n",
       "  <thead>\n",
       "    <tr style=\"text-align: right;\">\n",
       "      <th></th>\n",
       "      <th>0</th>\n",
       "      <th>1</th>\n",
       "      <th>2</th>\n",
       "      <th>3</th>\n",
       "      <th>4</th>\n",
       "      <th>5</th>\n",
       "      <th>6</th>\n",
       "      <th>7</th>\n",
       "      <th>8</th>\n",
       "      <th>9</th>\n",
       "      <th>10</th>\n",
       "      <th>11</th>\n",
       "      <th>12</th>\n",
       "      <th>13</th>\n",
       "      <th>14</th>\n",
       "      <th>15</th>\n",
       "      <th>16</th>\n",
       "      <th>17</th>\n",
       "      <th>18</th>\n",
       "      <th>19</th>\n",
       "      <th>20</th>\n",
       "      <th>21</th>\n",
       "      <th>22</th>\n",
       "      <th>23</th>\n",
       "      <th>24</th>\n",
       "      <th>25</th>\n",
       "      <th>26</th>\n",
       "      <th>27</th>\n",
       "      <th>28</th>\n",
       "      <th>29</th>\n",
       "      <th>...</th>\n",
       "      <th>18245</th>\n",
       "      <th>18246</th>\n",
       "      <th>18247</th>\n",
       "      <th>18248</th>\n",
       "      <th>18249</th>\n",
       "      <th>18250</th>\n",
       "      <th>18251</th>\n",
       "      <th>18252</th>\n",
       "      <th>18253</th>\n",
       "      <th>18254</th>\n",
       "      <th>18255</th>\n",
       "      <th>18256</th>\n",
       "      <th>18257</th>\n",
       "      <th>18258</th>\n",
       "      <th>18259</th>\n",
       "      <th>18260</th>\n",
       "      <th>18261</th>\n",
       "      <th>18262</th>\n",
       "      <th>18263</th>\n",
       "      <th>18264</th>\n",
       "      <th>18265</th>\n",
       "      <th>18266</th>\n",
       "      <th>18267</th>\n",
       "      <th>18268</th>\n",
       "      <th>18269</th>\n",
       "      <th>18270</th>\n",
       "      <th>18271</th>\n",
       "      <th>18272</th>\n",
       "      <th>18273</th>\n",
       "      <th>18274</th>\n",
       "    </tr>\n",
       "  </thead>\n",
       "  <tbody>\n",
       "    <tr>\n",
       "      <th>0</th>\n",
       "      <td>1.0</td>\n",
       "      <td>0.0</td>\n",
       "      <td>0.0</td>\n",
       "      <td>0.0</td>\n",
       "      <td>0.0</td>\n",
       "      <td>0.0</td>\n",
       "      <td>0.0</td>\n",
       "      <td>0.0</td>\n",
       "      <td>0.0</td>\n",
       "      <td>0.0</td>\n",
       "      <td>0.0</td>\n",
       "      <td>0.0</td>\n",
       "      <td>0.0</td>\n",
       "      <td>0.0</td>\n",
       "      <td>0.0</td>\n",
       "      <td>0.0</td>\n",
       "      <td>0.0</td>\n",
       "      <td>0.0</td>\n",
       "      <td>0.0</td>\n",
       "      <td>0.0</td>\n",
       "      <td>0.0</td>\n",
       "      <td>0.0</td>\n",
       "      <td>0.0</td>\n",
       "      <td>0.0</td>\n",
       "      <td>0.0</td>\n",
       "      <td>0.0</td>\n",
       "      <td>0.0</td>\n",
       "      <td>0.0</td>\n",
       "      <td>0.0</td>\n",
       "      <td>0.0</td>\n",
       "      <td>...</td>\n",
       "      <td>0.0</td>\n",
       "      <td>0.0</td>\n",
       "      <td>0.0</td>\n",
       "      <td>0.0</td>\n",
       "      <td>0.0</td>\n",
       "      <td>0.0</td>\n",
       "      <td>0.0</td>\n",
       "      <td>0.0</td>\n",
       "      <td>0.0</td>\n",
       "      <td>0.0</td>\n",
       "      <td>0.0</td>\n",
       "      <td>0.0</td>\n",
       "      <td>0.0</td>\n",
       "      <td>0.0</td>\n",
       "      <td>0.0</td>\n",
       "      <td>0.0</td>\n",
       "      <td>0.0</td>\n",
       "      <td>0.0</td>\n",
       "      <td>0.0</td>\n",
       "      <td>0.0</td>\n",
       "      <td>0.0</td>\n",
       "      <td>0.0</td>\n",
       "      <td>0.0</td>\n",
       "      <td>0.0</td>\n",
       "      <td>0.0</td>\n",
       "      <td>0.0</td>\n",
       "      <td>0.0</td>\n",
       "      <td>0.0</td>\n",
       "      <td>0.0</td>\n",
       "      <td>0.0</td>\n",
       "    </tr>\n",
       "    <tr>\n",
       "      <th>1</th>\n",
       "      <td>0.0</td>\n",
       "      <td>0.0</td>\n",
       "      <td>0.0</td>\n",
       "      <td>0.0</td>\n",
       "      <td>0.0</td>\n",
       "      <td>0.0</td>\n",
       "      <td>0.0</td>\n",
       "      <td>0.0</td>\n",
       "      <td>0.0</td>\n",
       "      <td>0.0</td>\n",
       "      <td>0.0</td>\n",
       "      <td>0.0</td>\n",
       "      <td>0.0</td>\n",
       "      <td>0.0</td>\n",
       "      <td>0.0</td>\n",
       "      <td>0.0</td>\n",
       "      <td>0.0</td>\n",
       "      <td>0.0</td>\n",
       "      <td>0.0</td>\n",
       "      <td>0.0</td>\n",
       "      <td>0.0</td>\n",
       "      <td>0.0</td>\n",
       "      <td>0.0</td>\n",
       "      <td>0.0</td>\n",
       "      <td>0.0</td>\n",
       "      <td>0.0</td>\n",
       "      <td>0.0</td>\n",
       "      <td>0.0</td>\n",
       "      <td>0.0</td>\n",
       "      <td>0.0</td>\n",
       "      <td>...</td>\n",
       "      <td>0.0</td>\n",
       "      <td>0.0</td>\n",
       "      <td>0.0</td>\n",
       "      <td>0.0</td>\n",
       "      <td>0.0</td>\n",
       "      <td>0.0</td>\n",
       "      <td>0.0</td>\n",
       "      <td>0.0</td>\n",
       "      <td>0.0</td>\n",
       "      <td>0.0</td>\n",
       "      <td>0.0</td>\n",
       "      <td>0.0</td>\n",
       "      <td>0.0</td>\n",
       "      <td>0.0</td>\n",
       "      <td>0.0</td>\n",
       "      <td>0.0</td>\n",
       "      <td>0.0</td>\n",
       "      <td>0.0</td>\n",
       "      <td>0.0</td>\n",
       "      <td>0.0</td>\n",
       "      <td>0.0</td>\n",
       "      <td>0.0</td>\n",
       "      <td>0.0</td>\n",
       "      <td>0.0</td>\n",
       "      <td>0.0</td>\n",
       "      <td>0.0</td>\n",
       "      <td>0.0</td>\n",
       "      <td>0.0</td>\n",
       "      <td>0.0</td>\n",
       "      <td>0.0</td>\n",
       "    </tr>\n",
       "  </tbody>\n",
       "</table>\n",
       "<p>2 rows × 18275 columns</p>\n",
       "</div>"
      ],
      "text/plain": [
       "   0      1      2      3      4      5      6      7      8      9      \\\n",
       "0    1.0    0.0    0.0    0.0    0.0    0.0    0.0    0.0    0.0    0.0   \n",
       "1    0.0    0.0    0.0    0.0    0.0    0.0    0.0    0.0    0.0    0.0   \n",
       "\n",
       "   10     11     12     13     14     15     16     17     18     19     \\\n",
       "0    0.0    0.0    0.0    0.0    0.0    0.0    0.0    0.0    0.0    0.0   \n",
       "1    0.0    0.0    0.0    0.0    0.0    0.0    0.0    0.0    0.0    0.0   \n",
       "\n",
       "   20     21     22     23     24     25     26     27     28     29     ...  \\\n",
       "0    0.0    0.0    0.0    0.0    0.0    0.0    0.0    0.0    0.0    0.0  ...   \n",
       "1    0.0    0.0    0.0    0.0    0.0    0.0    0.0    0.0    0.0    0.0  ...   \n",
       "\n",
       "   18245  18246  18247  18248  18249  18250  18251  18252  18253  18254  \\\n",
       "0    0.0    0.0    0.0    0.0    0.0    0.0    0.0    0.0    0.0    0.0   \n",
       "1    0.0    0.0    0.0    0.0    0.0    0.0    0.0    0.0    0.0    0.0   \n",
       "\n",
       "   18255  18256  18257  18258  18259  18260  18261  18262  18263  18264  \\\n",
       "0    0.0    0.0    0.0    0.0    0.0    0.0    0.0    0.0    0.0    0.0   \n",
       "1    0.0    0.0    0.0    0.0    0.0    0.0    0.0    0.0    0.0    0.0   \n",
       "\n",
       "   18265  18266  18267  18268  18269  18270  18271  18272  18273  18274  \n",
       "0    0.0    0.0    0.0    0.0    0.0    0.0    0.0    0.0    0.0    0.0  \n",
       "1    0.0    0.0    0.0    0.0    0.0    0.0    0.0    0.0    0.0    0.0  \n",
       "\n",
       "[2 rows x 18275 columns]"
      ]
     },
     "execution_count": 135,
     "metadata": {},
     "output_type": "execute_result"
    }
   ],
   "source": [
    "user_correlation_df.head(2)"
   ]
  },
  {
   "cell_type": "code",
   "execution_count": 136,
   "metadata": {
    "ExecuteTime": {
     "end_time": "2022-04-06T05:49:49.078838Z",
     "start_time": "2022-04-06T05:46:27.745Z"
    },
    "execution": {
     "iopub.execute_input": "2022-04-14T01:38:59.553568Z",
     "iopub.status.busy": "2022-04-14T01:38:59.553352Z",
     "iopub.status.idle": "2022-04-14T01:38:59.594497Z",
     "shell.execute_reply": "2022-04-14T01:38:59.593689Z",
     "shell.execute_reply.started": "2022-04-14T01:38:59.553542Z"
    },
    "executionInfo": {
     "elapsed": 52,
     "status": "ok",
     "timestamp": 1649227992668,
     "user": {
      "displayName": "Venkatasubramanian S",
      "userId": "06029493893713790610"
     },
     "user_tz": 420
    },
    "id": "G39MXXhfb9kN",
    "outputId": "041537f9-c667-4c91-90f6-b3dfb9fc332a"
   },
   "outputs": [
    {
     "data": {
      "text/html": [
       "<div>\n",
       "<style scoped>\n",
       "    .dataframe tbody tr th:only-of-type {\n",
       "        vertical-align: middle;\n",
       "    }\n",
       "\n",
       "    .dataframe tbody tr th {\n",
       "        vertical-align: top;\n",
       "    }\n",
       "\n",
       "    .dataframe thead th {\n",
       "        text-align: right;\n",
       "    }\n",
       "</style>\n",
       "<table border=\"1\" class=\"dataframe\">\n",
       "  <thead>\n",
       "    <tr style=\"text-align: right;\">\n",
       "      <th>id</th>\n",
       "      <th>AV13O1A8GV-KLJ3akUyj</th>\n",
       "      <th>AV14LG0R-jtxr-f38QfS</th>\n",
       "      <th>AV16khLE-jtxr-f38VFn</th>\n",
       "      <th>AV1YGDqsGV-KLJ3adc-O</th>\n",
       "      <th>AV1YIch7GV-KLJ3addeG</th>\n",
       "      <th>AV1YlENIglJLPUi8IHsX</th>\n",
       "      <th>AV1YmBrdGV-KLJ3adewb</th>\n",
       "      <th>AV1YmDL9vKc47QAVgr7_</th>\n",
       "      <th>AV1Ymf_rglJLPUi8II2v</th>\n",
       "      <th>AV1Yn94nvKc47QAVgtst</th>\n",
       "      <th>AV1YnUMYglJLPUi8IJpK</th>\n",
       "      <th>AV1Ynb3bglJLPUi8IJxJ</th>\n",
       "      <th>AV1YneDPglJLPUi8IJyQ</th>\n",
       "      <th>AV1YpiJvvKc47QAVguxy</th>\n",
       "      <th>AV1YqAaMGV-KLJ3adiDj</th>\n",
       "      <th>AV1Ys0kTvKc47QAVgx1C</th>\n",
       "      <th>AV1YtGjdglJLPUi8IOfJ</th>\n",
       "      <th>AV1ZSp2uglJLPUi8IQFy</th>\n",
       "      <th>AV1ZT7GLglJLPUi8IQLI</th>\n",
       "      <th>AV1ZVIgy-jtxr-f31W9N</th>\n",
       "      <th>AV1d76w7vKc47QAVhCqn</th>\n",
       "      <th>AV1h6Gu0glJLPUi8IjA_</th>\n",
       "      <th>AV1h6gSl-jtxr-f31p40</th>\n",
       "      <th>AV1l8zRZvKc47QAVhnAv</th>\n",
       "      <th>AV2AvGnjGV-KLJ3alTQH</th>\n",
       "      <th>AV2Avn5dGV-KLJ3alTjq</th>\n",
       "      <th>AVpe-M4-ilAPnD_xSF1K</th>\n",
       "      <th>AVpe-MCY1cnluZ0-bCv_</th>\n",
       "      <th>AVpe-PJnLJeJML43ziaj</th>\n",
       "      <th>AVpe-YAL1cnluZ0-bHGh</th>\n",
       "      <th>...</th>\n",
       "      <th>AVpfksililAPnD_xePx_</th>\n",
       "      <th>AVpfl6baLJeJML43AEQq</th>\n",
       "      <th>AVpfl6sF1cnluZ0-nmwC</th>\n",
       "      <th>AVpfldDlLJeJML43_7s_</th>\n",
       "      <th>AVpfliCoilAPnD_xegIr</th>\n",
       "      <th>AVpfluP1ilAPnD_xejxO</th>\n",
       "      <th>AVpfm8yiLJeJML43AYyu</th>\n",
       "      <th>AVpfmVnVLJeJML43AMqC</th>\n",
       "      <th>AVpfmjXGLJeJML43AQ5_</th>\n",
       "      <th>AVpfnRuSilAPnD_xfB8l</th>\n",
       "      <th>AVpfnS4eLJeJML43AfZe</th>\n",
       "      <th>AVpfnUcwLJeJML43Af2U</th>\n",
       "      <th>AVpfnjBILJeJML43AkO3</th>\n",
       "      <th>AVpfoSS51cnluZ0-oVH9</th>\n",
       "      <th>AVpfov9TLJeJML43A7B0</th>\n",
       "      <th>AVpfozgyilAPnD_xfe0r</th>\n",
       "      <th>AVpfpM2yilAPnD_xfmDG</th>\n",
       "      <th>AVpfpoUCLJeJML43BLXv</th>\n",
       "      <th>AVpfqW4WilAPnD_xf7a_</th>\n",
       "      <th>AVpfr5cb1cnluZ0-pZFp</th>\n",
       "      <th>AVpfrFDZLJeJML43Bmv0</th>\n",
       "      <th>AVpfrTyiLJeJML43BrSI</th>\n",
       "      <th>AVpfrfHF1cnluZ0-pRai</th>\n",
       "      <th>AVpfrgjFLJeJML43BvCc</th>\n",
       "      <th>AVpfsQoeilAPnD_xgfx5</th>\n",
       "      <th>AVpfshNsLJeJML43CB8q</th>\n",
       "      <th>AVpfthSailAPnD_xg3ON</th>\n",
       "      <th>AVpftikC1cnluZ0-p31V</th>\n",
       "      <th>AVpfv4TlilAPnD_xhjNS</th>\n",
       "      <th>AVpfvieo1cnluZ0-qdnu</th>\n",
       "    </tr>\n",
       "    <tr>\n",
       "      <th>reviews_username</th>\n",
       "      <th></th>\n",
       "      <th></th>\n",
       "      <th></th>\n",
       "      <th></th>\n",
       "      <th></th>\n",
       "      <th></th>\n",
       "      <th></th>\n",
       "      <th></th>\n",
       "      <th></th>\n",
       "      <th></th>\n",
       "      <th></th>\n",
       "      <th></th>\n",
       "      <th></th>\n",
       "      <th></th>\n",
       "      <th></th>\n",
       "      <th></th>\n",
       "      <th></th>\n",
       "      <th></th>\n",
       "      <th></th>\n",
       "      <th></th>\n",
       "      <th></th>\n",
       "      <th></th>\n",
       "      <th></th>\n",
       "      <th></th>\n",
       "      <th></th>\n",
       "      <th></th>\n",
       "      <th></th>\n",
       "      <th></th>\n",
       "      <th></th>\n",
       "      <th></th>\n",
       "      <th></th>\n",
       "      <th></th>\n",
       "      <th></th>\n",
       "      <th></th>\n",
       "      <th></th>\n",
       "      <th></th>\n",
       "      <th></th>\n",
       "      <th></th>\n",
       "      <th></th>\n",
       "      <th></th>\n",
       "      <th></th>\n",
       "      <th></th>\n",
       "      <th></th>\n",
       "      <th></th>\n",
       "      <th></th>\n",
       "      <th></th>\n",
       "      <th></th>\n",
       "      <th></th>\n",
       "      <th></th>\n",
       "      <th></th>\n",
       "      <th></th>\n",
       "      <th></th>\n",
       "      <th></th>\n",
       "      <th></th>\n",
       "      <th></th>\n",
       "      <th></th>\n",
       "      <th></th>\n",
       "      <th></th>\n",
       "      <th></th>\n",
       "      <th></th>\n",
       "      <th></th>\n",
       "    </tr>\n",
       "  </thead>\n",
       "  <tbody>\n",
       "    <tr>\n",
       "      <th>00sab00</th>\n",
       "      <td>NaN</td>\n",
       "      <td>NaN</td>\n",
       "      <td>NaN</td>\n",
       "      <td>NaN</td>\n",
       "      <td>NaN</td>\n",
       "      <td>NaN</td>\n",
       "      <td>NaN</td>\n",
       "      <td>NaN</td>\n",
       "      <td>NaN</td>\n",
       "      <td>NaN</td>\n",
       "      <td>NaN</td>\n",
       "      <td>NaN</td>\n",
       "      <td>NaN</td>\n",
       "      <td>NaN</td>\n",
       "      <td>NaN</td>\n",
       "      <td>NaN</td>\n",
       "      <td>NaN</td>\n",
       "      <td>NaN</td>\n",
       "      <td>NaN</td>\n",
       "      <td>NaN</td>\n",
       "      <td>NaN</td>\n",
       "      <td>NaN</td>\n",
       "      <td>NaN</td>\n",
       "      <td>NaN</td>\n",
       "      <td>NaN</td>\n",
       "      <td>NaN</td>\n",
       "      <td>NaN</td>\n",
       "      <td>NaN</td>\n",
       "      <td>NaN</td>\n",
       "      <td>NaN</td>\n",
       "      <td>...</td>\n",
       "      <td>NaN</td>\n",
       "      <td>NaN</td>\n",
       "      <td>NaN</td>\n",
       "      <td>NaN</td>\n",
       "      <td>NaN</td>\n",
       "      <td>NaN</td>\n",
       "      <td>NaN</td>\n",
       "      <td>NaN</td>\n",
       "      <td>NaN</td>\n",
       "      <td>NaN</td>\n",
       "      <td>NaN</td>\n",
       "      <td>NaN</td>\n",
       "      <td>NaN</td>\n",
       "      <td>NaN</td>\n",
       "      <td>NaN</td>\n",
       "      <td>NaN</td>\n",
       "      <td>NaN</td>\n",
       "      <td>NaN</td>\n",
       "      <td>NaN</td>\n",
       "      <td>NaN</td>\n",
       "      <td>NaN</td>\n",
       "      <td>NaN</td>\n",
       "      <td>NaN</td>\n",
       "      <td>NaN</td>\n",
       "      <td>NaN</td>\n",
       "      <td>NaN</td>\n",
       "      <td>NaN</td>\n",
       "      <td>NaN</td>\n",
       "      <td>NaN</td>\n",
       "      <td>NaN</td>\n",
       "    </tr>\n",
       "  </tbody>\n",
       "</table>\n",
       "<p>1 rows × 256 columns</p>\n",
       "</div>"
      ],
      "text/plain": [
       "id                AV13O1A8GV-KLJ3akUyj  AV14LG0R-jtxr-f38QfS  \\\n",
       "reviews_username                                               \n",
       "00sab00                            NaN                   NaN   \n",
       "\n",
       "id                AV16khLE-jtxr-f38VFn  AV1YGDqsGV-KLJ3adc-O  \\\n",
       "reviews_username                                               \n",
       "00sab00                            NaN                   NaN   \n",
       "\n",
       "id                AV1YIch7GV-KLJ3addeG  AV1YlENIglJLPUi8IHsX  \\\n",
       "reviews_username                                               \n",
       "00sab00                            NaN                   NaN   \n",
       "\n",
       "id                AV1YmBrdGV-KLJ3adewb  AV1YmDL9vKc47QAVgr7_  \\\n",
       "reviews_username                                               \n",
       "00sab00                            NaN                   NaN   \n",
       "\n",
       "id                AV1Ymf_rglJLPUi8II2v  AV1Yn94nvKc47QAVgtst  \\\n",
       "reviews_username                                               \n",
       "00sab00                            NaN                   NaN   \n",
       "\n",
       "id                AV1YnUMYglJLPUi8IJpK  AV1Ynb3bglJLPUi8IJxJ  \\\n",
       "reviews_username                                               \n",
       "00sab00                            NaN                   NaN   \n",
       "\n",
       "id                AV1YneDPglJLPUi8IJyQ  AV1YpiJvvKc47QAVguxy  \\\n",
       "reviews_username                                               \n",
       "00sab00                            NaN                   NaN   \n",
       "\n",
       "id                AV1YqAaMGV-KLJ3adiDj  AV1Ys0kTvKc47QAVgx1C  \\\n",
       "reviews_username                                               \n",
       "00sab00                            NaN                   NaN   \n",
       "\n",
       "id                AV1YtGjdglJLPUi8IOfJ  AV1ZSp2uglJLPUi8IQFy  \\\n",
       "reviews_username                                               \n",
       "00sab00                            NaN                   NaN   \n",
       "\n",
       "id                AV1ZT7GLglJLPUi8IQLI  AV1ZVIgy-jtxr-f31W9N  \\\n",
       "reviews_username                                               \n",
       "00sab00                            NaN                   NaN   \n",
       "\n",
       "id                AV1d76w7vKc47QAVhCqn  AV1h6Gu0glJLPUi8IjA_  \\\n",
       "reviews_username                                               \n",
       "00sab00                            NaN                   NaN   \n",
       "\n",
       "id                AV1h6gSl-jtxr-f31p40  AV1l8zRZvKc47QAVhnAv  \\\n",
       "reviews_username                                               \n",
       "00sab00                            NaN                   NaN   \n",
       "\n",
       "id                AV2AvGnjGV-KLJ3alTQH  AV2Avn5dGV-KLJ3alTjq  \\\n",
       "reviews_username                                               \n",
       "00sab00                            NaN                   NaN   \n",
       "\n",
       "id                AVpe-M4-ilAPnD_xSF1K  AVpe-MCY1cnluZ0-bCv_  \\\n",
       "reviews_username                                               \n",
       "00sab00                            NaN                   NaN   \n",
       "\n",
       "id                AVpe-PJnLJeJML43ziaj  AVpe-YAL1cnluZ0-bHGh  ...  \\\n",
       "reviews_username                                              ...   \n",
       "00sab00                            NaN                   NaN  ...   \n",
       "\n",
       "id                AVpfksililAPnD_xePx_  AVpfl6baLJeJML43AEQq  \\\n",
       "reviews_username                                               \n",
       "00sab00                            NaN                   NaN   \n",
       "\n",
       "id                AVpfl6sF1cnluZ0-nmwC  AVpfldDlLJeJML43_7s_  \\\n",
       "reviews_username                                               \n",
       "00sab00                            NaN                   NaN   \n",
       "\n",
       "id                AVpfliCoilAPnD_xegIr  AVpfluP1ilAPnD_xejxO  \\\n",
       "reviews_username                                               \n",
       "00sab00                            NaN                   NaN   \n",
       "\n",
       "id                AVpfm8yiLJeJML43AYyu  AVpfmVnVLJeJML43AMqC  \\\n",
       "reviews_username                                               \n",
       "00sab00                            NaN                   NaN   \n",
       "\n",
       "id                AVpfmjXGLJeJML43AQ5_  AVpfnRuSilAPnD_xfB8l  \\\n",
       "reviews_username                                               \n",
       "00sab00                            NaN                   NaN   \n",
       "\n",
       "id                AVpfnS4eLJeJML43AfZe  AVpfnUcwLJeJML43Af2U  \\\n",
       "reviews_username                                               \n",
       "00sab00                            NaN                   NaN   \n",
       "\n",
       "id                AVpfnjBILJeJML43AkO3  AVpfoSS51cnluZ0-oVH9  \\\n",
       "reviews_username                                               \n",
       "00sab00                            NaN                   NaN   \n",
       "\n",
       "id                AVpfov9TLJeJML43A7B0  AVpfozgyilAPnD_xfe0r  \\\n",
       "reviews_username                                               \n",
       "00sab00                            NaN                   NaN   \n",
       "\n",
       "id                AVpfpM2yilAPnD_xfmDG  AVpfpoUCLJeJML43BLXv  \\\n",
       "reviews_username                                               \n",
       "00sab00                            NaN                   NaN   \n",
       "\n",
       "id                AVpfqW4WilAPnD_xf7a_  AVpfr5cb1cnluZ0-pZFp  \\\n",
       "reviews_username                                               \n",
       "00sab00                            NaN                   NaN   \n",
       "\n",
       "id                AVpfrFDZLJeJML43Bmv0  AVpfrTyiLJeJML43BrSI  \\\n",
       "reviews_username                                               \n",
       "00sab00                            NaN                   NaN   \n",
       "\n",
       "id                AVpfrfHF1cnluZ0-pRai  AVpfrgjFLJeJML43BvCc  \\\n",
       "reviews_username                                               \n",
       "00sab00                            NaN                   NaN   \n",
       "\n",
       "id                AVpfsQoeilAPnD_xgfx5  AVpfshNsLJeJML43CB8q  \\\n",
       "reviews_username                                               \n",
       "00sab00                            NaN                   NaN   \n",
       "\n",
       "id                AVpfthSailAPnD_xg3ON  AVpftikC1cnluZ0-p31V  \\\n",
       "reviews_username                                               \n",
       "00sab00                            NaN                   NaN   \n",
       "\n",
       "id                AVpfv4TlilAPnD_xhjNS  AVpfvieo1cnluZ0-qdnu  \n",
       "reviews_username                                              \n",
       "00sab00                            NaN                   NaN  \n",
       "\n",
       "[1 rows x 256 columns]"
      ]
     },
     "execution_count": 136,
     "metadata": {},
     "output_type": "execute_result"
    }
   ],
   "source": [
    "df_subtracted.head(1)"
   ]
  },
  {
   "cell_type": "code",
   "execution_count": 137,
   "metadata": {
    "ExecuteTime": {
     "end_time": "2022-04-06T05:49:49.079838Z",
     "start_time": "2022-04-06T05:46:27.752Z"
    },
    "execution": {
     "iopub.execute_input": "2022-04-14T01:38:59.596386Z",
     "iopub.status.busy": "2022-04-14T01:38:59.596005Z",
     "iopub.status.idle": "2022-04-14T01:38:59.655668Z",
     "shell.execute_reply": "2022-04-14T01:38:59.654692Z",
     "shell.execute_reply.started": "2022-04-14T01:38:59.596337Z"
    },
    "executionInfo": {
     "elapsed": 51,
     "status": "ok",
     "timestamp": 1649227992669,
     "user": {
      "displayName": "Venkatasubramanian S",
      "userId": "06029493893713790610"
     },
     "user_tz": 420
    },
    "id": "y5WPIfF_c2dN",
    "outputId": "fbda0716-c3ab-4000-ceb0-efb6b420c7b8"
   },
   "outputs": [
    {
     "data": {
      "text/html": [
       "<div>\n",
       "<style scoped>\n",
       "    .dataframe tbody tr th:only-of-type {\n",
       "        vertical-align: middle;\n",
       "    }\n",
       "\n",
       "    .dataframe tbody tr th {\n",
       "        vertical-align: top;\n",
       "    }\n",
       "\n",
       "    .dataframe thead th {\n",
       "        text-align: right;\n",
       "    }\n",
       "</style>\n",
       "<table border=\"1\" class=\"dataframe\">\n",
       "  <thead>\n",
       "    <tr style=\"text-align: right;\">\n",
       "      <th></th>\n",
       "      <th>0</th>\n",
       "      <th>1</th>\n",
       "      <th>2</th>\n",
       "      <th>3</th>\n",
       "      <th>4</th>\n",
       "      <th>5</th>\n",
       "      <th>6</th>\n",
       "      <th>7</th>\n",
       "      <th>8</th>\n",
       "      <th>9</th>\n",
       "      <th>10</th>\n",
       "      <th>11</th>\n",
       "      <th>12</th>\n",
       "      <th>13</th>\n",
       "      <th>14</th>\n",
       "      <th>15</th>\n",
       "      <th>16</th>\n",
       "      <th>17</th>\n",
       "      <th>18</th>\n",
       "      <th>19</th>\n",
       "      <th>20</th>\n",
       "      <th>21</th>\n",
       "      <th>22</th>\n",
       "      <th>23</th>\n",
       "      <th>24</th>\n",
       "      <th>25</th>\n",
       "      <th>26</th>\n",
       "      <th>27</th>\n",
       "      <th>28</th>\n",
       "      <th>29</th>\n",
       "      <th>...</th>\n",
       "      <th>18245</th>\n",
       "      <th>18246</th>\n",
       "      <th>18247</th>\n",
       "      <th>18248</th>\n",
       "      <th>18249</th>\n",
       "      <th>18250</th>\n",
       "      <th>18251</th>\n",
       "      <th>18252</th>\n",
       "      <th>18253</th>\n",
       "      <th>18254</th>\n",
       "      <th>18255</th>\n",
       "      <th>18256</th>\n",
       "      <th>18257</th>\n",
       "      <th>18258</th>\n",
       "      <th>18259</th>\n",
       "      <th>18260</th>\n",
       "      <th>18261</th>\n",
       "      <th>18262</th>\n",
       "      <th>18263</th>\n",
       "      <th>18264</th>\n",
       "      <th>18265</th>\n",
       "      <th>18266</th>\n",
       "      <th>18267</th>\n",
       "      <th>18268</th>\n",
       "      <th>18269</th>\n",
       "      <th>18270</th>\n",
       "      <th>18271</th>\n",
       "      <th>18272</th>\n",
       "      <th>18273</th>\n",
       "      <th>18274</th>\n",
       "    </tr>\n",
       "    <tr>\n",
       "      <th>userId</th>\n",
       "      <th></th>\n",
       "      <th></th>\n",
       "      <th></th>\n",
       "      <th></th>\n",
       "      <th></th>\n",
       "      <th></th>\n",
       "      <th></th>\n",
       "      <th></th>\n",
       "      <th></th>\n",
       "      <th></th>\n",
       "      <th></th>\n",
       "      <th></th>\n",
       "      <th></th>\n",
       "      <th></th>\n",
       "      <th></th>\n",
       "      <th></th>\n",
       "      <th></th>\n",
       "      <th></th>\n",
       "      <th></th>\n",
       "      <th></th>\n",
       "      <th></th>\n",
       "      <th></th>\n",
       "      <th></th>\n",
       "      <th></th>\n",
       "      <th></th>\n",
       "      <th></th>\n",
       "      <th></th>\n",
       "      <th></th>\n",
       "      <th></th>\n",
       "      <th></th>\n",
       "      <th></th>\n",
       "      <th></th>\n",
       "      <th></th>\n",
       "      <th></th>\n",
       "      <th></th>\n",
       "      <th></th>\n",
       "      <th></th>\n",
       "      <th></th>\n",
       "      <th></th>\n",
       "      <th></th>\n",
       "      <th></th>\n",
       "      <th></th>\n",
       "      <th></th>\n",
       "      <th></th>\n",
       "      <th></th>\n",
       "      <th></th>\n",
       "      <th></th>\n",
       "      <th></th>\n",
       "      <th></th>\n",
       "      <th></th>\n",
       "      <th></th>\n",
       "      <th></th>\n",
       "      <th></th>\n",
       "      <th></th>\n",
       "      <th></th>\n",
       "      <th></th>\n",
       "      <th></th>\n",
       "      <th></th>\n",
       "      <th></th>\n",
       "      <th></th>\n",
       "      <th></th>\n",
       "    </tr>\n",
       "  </thead>\n",
       "  <tbody>\n",
       "    <tr>\n",
       "      <th>00sab00</th>\n",
       "      <td>1.0</td>\n",
       "      <td>0.0</td>\n",
       "      <td>0.0</td>\n",
       "      <td>0.0</td>\n",
       "      <td>0.0</td>\n",
       "      <td>0.0</td>\n",
       "      <td>0.0</td>\n",
       "      <td>0.0</td>\n",
       "      <td>0.0</td>\n",
       "      <td>0.0</td>\n",
       "      <td>0.0</td>\n",
       "      <td>0.0</td>\n",
       "      <td>0.0</td>\n",
       "      <td>0.0</td>\n",
       "      <td>0.0</td>\n",
       "      <td>0.0</td>\n",
       "      <td>0.0</td>\n",
       "      <td>0.0</td>\n",
       "      <td>0.0</td>\n",
       "      <td>0.0</td>\n",
       "      <td>0.0</td>\n",
       "      <td>0.0</td>\n",
       "      <td>0.0</td>\n",
       "      <td>0.0</td>\n",
       "      <td>0.0</td>\n",
       "      <td>0.0</td>\n",
       "      <td>0.0</td>\n",
       "      <td>0.0</td>\n",
       "      <td>0.0</td>\n",
       "      <td>0.0</td>\n",
       "      <td>...</td>\n",
       "      <td>0.0</td>\n",
       "      <td>0.0</td>\n",
       "      <td>0.0</td>\n",
       "      <td>0.0</td>\n",
       "      <td>0.0</td>\n",
       "      <td>0.0</td>\n",
       "      <td>0.0</td>\n",
       "      <td>0.0</td>\n",
       "      <td>0.0</td>\n",
       "      <td>0.0</td>\n",
       "      <td>0.0</td>\n",
       "      <td>0.0</td>\n",
       "      <td>0.0</td>\n",
       "      <td>0.0</td>\n",
       "      <td>0.0</td>\n",
       "      <td>0.0</td>\n",
       "      <td>0.0</td>\n",
       "      <td>0.0</td>\n",
       "      <td>0.0</td>\n",
       "      <td>0.0</td>\n",
       "      <td>0.0</td>\n",
       "      <td>0.0</td>\n",
       "      <td>0.0</td>\n",
       "      <td>0.0</td>\n",
       "      <td>0.0</td>\n",
       "      <td>0.0</td>\n",
       "      <td>0.0</td>\n",
       "      <td>0.0</td>\n",
       "      <td>0.0</td>\n",
       "      <td>0.0</td>\n",
       "    </tr>\n",
       "    <tr>\n",
       "      <th>01impala</th>\n",
       "      <td>0.0</td>\n",
       "      <td>0.0</td>\n",
       "      <td>0.0</td>\n",
       "      <td>0.0</td>\n",
       "      <td>0.0</td>\n",
       "      <td>0.0</td>\n",
       "      <td>0.0</td>\n",
       "      <td>0.0</td>\n",
       "      <td>0.0</td>\n",
       "      <td>0.0</td>\n",
       "      <td>0.0</td>\n",
       "      <td>0.0</td>\n",
       "      <td>0.0</td>\n",
       "      <td>0.0</td>\n",
       "      <td>0.0</td>\n",
       "      <td>0.0</td>\n",
       "      <td>0.0</td>\n",
       "      <td>0.0</td>\n",
       "      <td>0.0</td>\n",
       "      <td>0.0</td>\n",
       "      <td>0.0</td>\n",
       "      <td>0.0</td>\n",
       "      <td>0.0</td>\n",
       "      <td>0.0</td>\n",
       "      <td>0.0</td>\n",
       "      <td>0.0</td>\n",
       "      <td>0.0</td>\n",
       "      <td>0.0</td>\n",
       "      <td>0.0</td>\n",
       "      <td>0.0</td>\n",
       "      <td>...</td>\n",
       "      <td>0.0</td>\n",
       "      <td>0.0</td>\n",
       "      <td>0.0</td>\n",
       "      <td>0.0</td>\n",
       "      <td>0.0</td>\n",
       "      <td>0.0</td>\n",
       "      <td>0.0</td>\n",
       "      <td>0.0</td>\n",
       "      <td>0.0</td>\n",
       "      <td>0.0</td>\n",
       "      <td>0.0</td>\n",
       "      <td>0.0</td>\n",
       "      <td>0.0</td>\n",
       "      <td>0.0</td>\n",
       "      <td>0.0</td>\n",
       "      <td>0.0</td>\n",
       "      <td>0.0</td>\n",
       "      <td>0.0</td>\n",
       "      <td>0.0</td>\n",
       "      <td>0.0</td>\n",
       "      <td>0.0</td>\n",
       "      <td>0.0</td>\n",
       "      <td>0.0</td>\n",
       "      <td>0.0</td>\n",
       "      <td>0.0</td>\n",
       "      <td>0.0</td>\n",
       "      <td>0.0</td>\n",
       "      <td>0.0</td>\n",
       "      <td>0.0</td>\n",
       "      <td>0.0</td>\n",
       "    </tr>\n",
       "  </tbody>\n",
       "</table>\n",
       "<p>2 rows × 18275 columns</p>\n",
       "</div>"
      ],
      "text/plain": [
       "          0      1      2      3      4      5      6      7      8      \\\n",
       "userId                                                                    \n",
       "00sab00     1.0    0.0    0.0    0.0    0.0    0.0    0.0    0.0    0.0   \n",
       "01impala    0.0    0.0    0.0    0.0    0.0    0.0    0.0    0.0    0.0   \n",
       "\n",
       "          9      10     11     12     13     14     15     16     17     \\\n",
       "userId                                                                    \n",
       "00sab00     0.0    0.0    0.0    0.0    0.0    0.0    0.0    0.0    0.0   \n",
       "01impala    0.0    0.0    0.0    0.0    0.0    0.0    0.0    0.0    0.0   \n",
       "\n",
       "          18     19     20     21     22     23     24     25     26     \\\n",
       "userId                                                                    \n",
       "00sab00     0.0    0.0    0.0    0.0    0.0    0.0    0.0    0.0    0.0   \n",
       "01impala    0.0    0.0    0.0    0.0    0.0    0.0    0.0    0.0    0.0   \n",
       "\n",
       "          27     28     29     ...  18245  18246  18247  18248  18249  18250  \\\n",
       "userId                         ...                                             \n",
       "00sab00     0.0    0.0    0.0  ...    0.0    0.0    0.0    0.0    0.0    0.0   \n",
       "01impala    0.0    0.0    0.0  ...    0.0    0.0    0.0    0.0    0.0    0.0   \n",
       "\n",
       "          18251  18252  18253  18254  18255  18256  18257  18258  18259  \\\n",
       "userId                                                                    \n",
       "00sab00     0.0    0.0    0.0    0.0    0.0    0.0    0.0    0.0    0.0   \n",
       "01impala    0.0    0.0    0.0    0.0    0.0    0.0    0.0    0.0    0.0   \n",
       "\n",
       "          18260  18261  18262  18263  18264  18265  18266  18267  18268  \\\n",
       "userId                                                                    \n",
       "00sab00     0.0    0.0    0.0    0.0    0.0    0.0    0.0    0.0    0.0   \n",
       "01impala    0.0    0.0    0.0    0.0    0.0    0.0    0.0    0.0    0.0   \n",
       "\n",
       "          18269  18270  18271  18272  18273  18274  \n",
       "userId                                              \n",
       "00sab00     0.0    0.0    0.0    0.0    0.0    0.0  \n",
       "01impala    0.0    0.0    0.0    0.0    0.0    0.0  \n",
       "\n",
       "[2 rows x 18275 columns]"
      ]
     },
     "execution_count": 137,
     "metadata": {},
     "output_type": "execute_result"
    }
   ],
   "source": [
    "user_correlation_df['userId'] = df_subtracted.index\n",
    "user_correlation_df.set_index('userId',inplace=True)\n",
    "user_correlation_df.head(2)"
   ]
  },
  {
   "cell_type": "code",
   "execution_count": 138,
   "metadata": {
    "ExecuteTime": {
     "end_time": "2022-04-06T05:49:49.080894Z",
     "start_time": "2022-04-06T05:46:27.758Z"
    },
    "execution": {
     "iopub.execute_input": "2022-04-14T01:38:59.657386Z",
     "iopub.status.busy": "2022-04-14T01:38:59.657059Z",
     "iopub.status.idle": "2022-04-14T01:38:59.667127Z",
     "shell.execute_reply": "2022-04-14T01:38:59.666345Z",
     "shell.execute_reply.started": "2022-04-14T01:38:59.657330Z"
    },
    "executionInfo": {
     "elapsed": 47,
     "status": "ok",
     "timestamp": 1649227992671,
     "user": {
      "displayName": "Venkatasubramanian S",
      "userId": "06029493893713790610"
     },
     "user_tz": 420
    },
    "id": "EmC23ogZc72w",
    "outputId": "d847d791-157d-4597-99d1-a9fffb7a45a0"
   },
   "outputs": [
    {
     "data": {
      "text/html": [
       "<div>\n",
       "<style scoped>\n",
       "    .dataframe tbody tr th:only-of-type {\n",
       "        vertical-align: middle;\n",
       "    }\n",
       "\n",
       "    .dataframe tbody tr th {\n",
       "        vertical-align: top;\n",
       "    }\n",
       "\n",
       "    .dataframe thead th {\n",
       "        text-align: right;\n",
       "    }\n",
       "</style>\n",
       "<table border=\"1\" class=\"dataframe\">\n",
       "  <thead>\n",
       "    <tr style=\"text-align: right;\">\n",
       "      <th></th>\n",
       "      <th>id</th>\n",
       "      <th>name</th>\n",
       "      <th>reviews_rating</th>\n",
       "      <th>reviews_username</th>\n",
       "    </tr>\n",
       "  </thead>\n",
       "  <tbody>\n",
       "    <tr>\n",
       "      <th>12875</th>\n",
       "      <td>AVpf3VOfilAPnD_xjpun</td>\n",
       "      <td>Clorox Disinfecting Wipes Value Pack Scented 150 Ct Total</td>\n",
       "      <td>5</td>\n",
       "      <td>jessica</td>\n",
       "    </tr>\n",
       "  </tbody>\n",
       "</table>\n",
       "</div>"
      ],
      "text/plain": [
       "                         id  \\\n",
       "12875  AVpf3VOfilAPnD_xjpun   \n",
       "\n",
       "                                                            name  \\\n",
       "12875  Clorox Disinfecting Wipes Value Pack Scented 150 Ct Total   \n",
       "\n",
       "       reviews_rating reviews_username  \n",
       "12875               5          jessica  "
      ]
     },
     "execution_count": 138,
     "metadata": {},
     "output_type": "execute_result"
    }
   ],
   "source": [
    "common.head(1)"
   ]
  },
  {
   "cell_type": "code",
   "execution_count": 139,
   "metadata": {
    "ExecuteTime": {
     "end_time": "2022-04-06T05:49:49.082836Z",
     "start_time": "2022-04-06T05:46:27.766Z"
    },
    "execution": {
     "iopub.execute_input": "2022-04-14T01:38:59.668912Z",
     "iopub.status.busy": "2022-04-14T01:38:59.668690Z",
     "iopub.status.idle": "2022-04-14T01:38:59.761984Z",
     "shell.execute_reply": "2022-04-14T01:38:59.761127Z",
     "shell.execute_reply.started": "2022-04-14T01:38:59.668886Z"
    },
    "executionInfo": {
     "elapsed": 217,
     "status": "ok",
     "timestamp": 1649227992844,
     "user": {
      "displayName": "Venkatasubramanian S",
      "userId": "06029493893713790610"
     },
     "user_tz": 420
    },
    "id": "wDtwW8I2c9vI"
   },
   "outputs": [],
   "source": [
    "common_name = common.reviews_username.tolist()\n",
    "\n",
    "user_correlation_df.columns = df_pivot.index.tolist()\n",
    "user_correlation_df_1 =  user_correlation_df[user_correlation_df.index.isin(common_name)]"
   ]
  },
  {
   "cell_type": "code",
   "execution_count": 140,
   "metadata": {
    "ExecuteTime": {
     "end_time": "2022-04-06T05:49:49.083896Z",
     "start_time": "2022-04-06T05:46:27.772Z"
    },
    "execution": {
     "iopub.execute_input": "2022-04-14T01:38:59.763490Z",
     "iopub.status.busy": "2022-04-14T01:38:59.763249Z",
     "iopub.status.idle": "2022-04-14T01:38:59.769826Z",
     "shell.execute_reply": "2022-04-14T01:38:59.768998Z",
     "shell.execute_reply.started": "2022-04-14T01:38:59.763455Z"
    },
    "executionInfo": {
     "elapsed": 14,
     "status": "ok",
     "timestamp": 1649227992845,
     "user": {
      "displayName": "Venkatasubramanian S",
      "userId": "06029493893713790610"
     },
     "user_tz": 420
    },
    "id": "i6GGSuoqdQUP",
    "outputId": "60bf382c-9173-43d8-924e-af9c63ec6622"
   },
   "outputs": [
    {
     "data": {
      "text/plain": [
       "(1693, 18275)"
      ]
     },
     "execution_count": 140,
     "metadata": {},
     "output_type": "execute_result"
    }
   ],
   "source": [
    "user_correlation_df_1.shape"
   ]
  },
  {
   "cell_type": "code",
   "execution_count": 141,
   "metadata": {
    "ExecuteTime": {
     "end_time": "2022-04-06T05:49:49.084836Z",
     "start_time": "2022-04-06T05:46:27.779Z"
    },
    "execution": {
     "iopub.execute_input": "2022-04-14T01:38:59.772241Z",
     "iopub.status.busy": "2022-04-14T01:38:59.771708Z",
     "iopub.status.idle": "2022-04-14T01:38:59.813854Z",
     "shell.execute_reply": "2022-04-14T01:38:59.813059Z",
     "shell.execute_reply.started": "2022-04-14T01:38:59.772199Z"
    },
    "executionInfo": {
     "elapsed": 176,
     "status": "ok",
     "timestamp": 1649227993013,
     "user": {
      "displayName": "Venkatasubramanian S",
      "userId": "06029493893713790610"
     },
     "user_tz": 420
    },
    "id": "wBrf5Fp8dT1u"
   },
   "outputs": [],
   "source": [
    "user_correlation_df_2 = user_correlation_df_1.T[user_correlation_df_1.T.index.isin(common_name)]"
   ]
  },
  {
   "cell_type": "code",
   "execution_count": 142,
   "metadata": {
    "ExecuteTime": {
     "end_time": "2022-04-06T05:49:49.086837Z",
     "start_time": "2022-04-06T05:46:27.785Z"
    },
    "execution": {
     "iopub.execute_input": "2022-04-14T01:38:59.815850Z",
     "iopub.status.busy": "2022-04-14T01:38:59.815367Z",
     "iopub.status.idle": "2022-04-14T01:38:59.822030Z",
     "shell.execute_reply": "2022-04-14T01:38:59.821481Z",
     "shell.execute_reply.started": "2022-04-14T01:38:59.815807Z"
    },
    "executionInfo": {
     "elapsed": 340,
     "status": "ok",
     "timestamp": 1649227993346,
     "user": {
      "displayName": "Venkatasubramanian S",
      "userId": "06029493893713790610"
     },
     "user_tz": 420
    },
    "id": "JilEPg_4dasV"
   },
   "outputs": [],
   "source": [
    "user_correlation_df_3 = user_correlation_df_2.T"
   ]
  },
  {
   "cell_type": "code",
   "execution_count": 143,
   "metadata": {
    "ExecuteTime": {
     "end_time": "2022-04-06T05:49:49.087840Z",
     "start_time": "2022-04-06T05:46:27.792Z"
    },
    "execution": {
     "iopub.execute_input": "2022-04-14T01:38:59.823742Z",
     "iopub.status.busy": "2022-04-14T01:38:59.823443Z",
     "iopub.status.idle": "2022-04-14T01:38:59.882795Z",
     "shell.execute_reply": "2022-04-14T01:38:59.881972Z",
     "shell.execute_reply.started": "2022-04-14T01:38:59.823704Z"
    },
    "executionInfo": {
     "elapsed": 58,
     "status": "ok",
     "timestamp": 1649227993347,
     "user": {
      "displayName": "Venkatasubramanian S",
      "userId": "06029493893713790610"
     },
     "user_tz": 420
    },
    "id": "hTAAfSzCdcNk",
    "outputId": "6649215d-95ab-4aaa-8c41-ef6667e595f9"
   },
   "outputs": [
    {
     "data": {
      "text/html": [
       "<div>\n",
       "<style scoped>\n",
       "    .dataframe tbody tr th:only-of-type {\n",
       "        vertical-align: middle;\n",
       "    }\n",
       "\n",
       "    .dataframe tbody tr th {\n",
       "        vertical-align: top;\n",
       "    }\n",
       "\n",
       "    .dataframe thead th {\n",
       "        text-align: right;\n",
       "    }\n",
       "</style>\n",
       "<table border=\"1\" class=\"dataframe\">\n",
       "  <thead>\n",
       "    <tr style=\"text-align: right;\">\n",
       "      <th></th>\n",
       "      <th>1234</th>\n",
       "      <th>1234567</th>\n",
       "      <th>123charlie</th>\n",
       "      <th>1943</th>\n",
       "      <th>1witch</th>\n",
       "      <th>4 rooms 1 dog lotsa fur</th>\n",
       "      <th>85lisa</th>\n",
       "      <th>a hutch</th>\n",
       "      <th>aac06002</th>\n",
       "      <th>aalyah</th>\n",
       "      <th>aaron</th>\n",
       "      <th>abcgator</th>\n",
       "      <th>abismomy</th>\n",
       "      <th>abret</th>\n",
       "      <th>ac94</th>\n",
       "      <th>acg1</th>\n",
       "      <th>acjuarez08</th>\n",
       "      <th>aclass</th>\n",
       "      <th>adam</th>\n",
       "      <th>adizzione</th>\n",
       "      <th>adma2</th>\n",
       "      <th>adriana9999</th>\n",
       "      <th>ael26</th>\n",
       "      <th>afooey</th>\n",
       "      <th>afwifey2003</th>\n",
       "      <th>agmt</th>\n",
       "      <th>ah78</th>\n",
       "      <th>aj</th>\n",
       "      <th>aj1135</th>\n",
       "      <th>ajay</th>\n",
       "      <th>...</th>\n",
       "      <th>voxemluth</th>\n",
       "      <th>wackibanan</th>\n",
       "      <th>wally</th>\n",
       "      <th>watson28</th>\n",
       "      <th>wcgirl</th>\n",
       "      <th>wendy</th>\n",
       "      <th>wernigcourtney</th>\n",
       "      <th>weston t</th>\n",
       "      <th>wildchild23</th>\n",
       "      <th>wildman</th>\n",
       "      <th>willy</th>\n",
       "      <th>wimbly</th>\n",
       "      <th>wjb1</th>\n",
       "      <th>wolfie</th>\n",
       "      <th>wolverine</th>\n",
       "      <th>wonster67</th>\n",
       "      <th>woody</th>\n",
       "      <th>woowoo</th>\n",
       "      <th>wowiezowie</th>\n",
       "      <th>wren113</th>\n",
       "      <th>xavier</th>\n",
       "      <th>yamel97</th>\n",
       "      <th>yayawomack</th>\n",
       "      <th>yorkielvr</th>\n",
       "      <th>yummy</th>\n",
       "      <th>yvonne</th>\n",
       "      <th>zach</th>\n",
       "      <th>zebras</th>\n",
       "      <th>zippy</th>\n",
       "      <th>zxcsdfd</th>\n",
       "    </tr>\n",
       "    <tr>\n",
       "      <th>userId</th>\n",
       "      <th></th>\n",
       "      <th></th>\n",
       "      <th></th>\n",
       "      <th></th>\n",
       "      <th></th>\n",
       "      <th></th>\n",
       "      <th></th>\n",
       "      <th></th>\n",
       "      <th></th>\n",
       "      <th></th>\n",
       "      <th></th>\n",
       "      <th></th>\n",
       "      <th></th>\n",
       "      <th></th>\n",
       "      <th></th>\n",
       "      <th></th>\n",
       "      <th></th>\n",
       "      <th></th>\n",
       "      <th></th>\n",
       "      <th></th>\n",
       "      <th></th>\n",
       "      <th></th>\n",
       "      <th></th>\n",
       "      <th></th>\n",
       "      <th></th>\n",
       "      <th></th>\n",
       "      <th></th>\n",
       "      <th></th>\n",
       "      <th></th>\n",
       "      <th></th>\n",
       "      <th></th>\n",
       "      <th></th>\n",
       "      <th></th>\n",
       "      <th></th>\n",
       "      <th></th>\n",
       "      <th></th>\n",
       "      <th></th>\n",
       "      <th></th>\n",
       "      <th></th>\n",
       "      <th></th>\n",
       "      <th></th>\n",
       "      <th></th>\n",
       "      <th></th>\n",
       "      <th></th>\n",
       "      <th></th>\n",
       "      <th></th>\n",
       "      <th></th>\n",
       "      <th></th>\n",
       "      <th></th>\n",
       "      <th></th>\n",
       "      <th></th>\n",
       "      <th></th>\n",
       "      <th></th>\n",
       "      <th></th>\n",
       "      <th></th>\n",
       "      <th></th>\n",
       "      <th></th>\n",
       "      <th></th>\n",
       "      <th></th>\n",
       "      <th></th>\n",
       "      <th></th>\n",
       "    </tr>\n",
       "  </thead>\n",
       "  <tbody>\n",
       "    <tr>\n",
       "      <th>1234</th>\n",
       "      <td>0.0</td>\n",
       "      <td>0.0</td>\n",
       "      <td>0.0</td>\n",
       "      <td>0.0</td>\n",
       "      <td>0.0</td>\n",
       "      <td>0.0</td>\n",
       "      <td>0.0</td>\n",
       "      <td>0.0</td>\n",
       "      <td>0.0</td>\n",
       "      <td>0.0</td>\n",
       "      <td>0.0</td>\n",
       "      <td>0.0</td>\n",
       "      <td>0.0</td>\n",
       "      <td>0.0</td>\n",
       "      <td>0.0</td>\n",
       "      <td>0.0</td>\n",
       "      <td>0.0</td>\n",
       "      <td>0.0</td>\n",
       "      <td>0.0</td>\n",
       "      <td>0.0</td>\n",
       "      <td>0.0</td>\n",
       "      <td>0.0</td>\n",
       "      <td>0.0</td>\n",
       "      <td>0.0</td>\n",
       "      <td>0.0</td>\n",
       "      <td>0.0</td>\n",
       "      <td>0.0</td>\n",
       "      <td>0.0</td>\n",
       "      <td>0.0</td>\n",
       "      <td>0.0</td>\n",
       "      <td>...</td>\n",
       "      <td>0.0</td>\n",
       "      <td>0.0</td>\n",
       "      <td>0.0</td>\n",
       "      <td>0.0</td>\n",
       "      <td>0.0</td>\n",
       "      <td>0.0</td>\n",
       "      <td>0.0</td>\n",
       "      <td>0.0</td>\n",
       "      <td>0.0</td>\n",
       "      <td>0.0</td>\n",
       "      <td>0.0</td>\n",
       "      <td>0.0</td>\n",
       "      <td>0.0</td>\n",
       "      <td>0.0</td>\n",
       "      <td>0.0</td>\n",
       "      <td>0.0</td>\n",
       "      <td>0.0</td>\n",
       "      <td>0.0</td>\n",
       "      <td>0.0</td>\n",
       "      <td>0.0</td>\n",
       "      <td>0.0</td>\n",
       "      <td>0.0</td>\n",
       "      <td>0.0</td>\n",
       "      <td>0.0</td>\n",
       "      <td>0.0</td>\n",
       "      <td>0.0</td>\n",
       "      <td>0.0</td>\n",
       "      <td>0.0</td>\n",
       "      <td>0.0</td>\n",
       "      <td>0.0</td>\n",
       "    </tr>\n",
       "    <tr>\n",
       "      <th>1234567</th>\n",
       "      <td>0.0</td>\n",
       "      <td>0.0</td>\n",
       "      <td>0.0</td>\n",
       "      <td>0.0</td>\n",
       "      <td>0.0</td>\n",
       "      <td>0.0</td>\n",
       "      <td>0.0</td>\n",
       "      <td>0.0</td>\n",
       "      <td>0.0</td>\n",
       "      <td>0.0</td>\n",
       "      <td>0.0</td>\n",
       "      <td>0.0</td>\n",
       "      <td>0.0</td>\n",
       "      <td>0.0</td>\n",
       "      <td>0.0</td>\n",
       "      <td>0.0</td>\n",
       "      <td>0.0</td>\n",
       "      <td>0.0</td>\n",
       "      <td>0.0</td>\n",
       "      <td>0.0</td>\n",
       "      <td>0.0</td>\n",
       "      <td>0.0</td>\n",
       "      <td>0.0</td>\n",
       "      <td>0.0</td>\n",
       "      <td>0.0</td>\n",
       "      <td>0.0</td>\n",
       "      <td>0.0</td>\n",
       "      <td>0.0</td>\n",
       "      <td>0.0</td>\n",
       "      <td>0.0</td>\n",
       "      <td>...</td>\n",
       "      <td>0.0</td>\n",
       "      <td>0.0</td>\n",
       "      <td>0.0</td>\n",
       "      <td>0.0</td>\n",
       "      <td>0.0</td>\n",
       "      <td>0.0</td>\n",
       "      <td>0.0</td>\n",
       "      <td>0.0</td>\n",
       "      <td>0.0</td>\n",
       "      <td>0.0</td>\n",
       "      <td>0.0</td>\n",
       "      <td>0.0</td>\n",
       "      <td>0.0</td>\n",
       "      <td>0.0</td>\n",
       "      <td>0.0</td>\n",
       "      <td>0.0</td>\n",
       "      <td>0.0</td>\n",
       "      <td>0.0</td>\n",
       "      <td>0.0</td>\n",
       "      <td>0.0</td>\n",
       "      <td>0.0</td>\n",
       "      <td>0.0</td>\n",
       "      <td>0.0</td>\n",
       "      <td>0.0</td>\n",
       "      <td>0.0</td>\n",
       "      <td>0.0</td>\n",
       "      <td>0.0</td>\n",
       "      <td>0.0</td>\n",
       "      <td>0.0</td>\n",
       "      <td>0.0</td>\n",
       "    </tr>\n",
       "    <tr>\n",
       "      <th>123charlie</th>\n",
       "      <td>0.0</td>\n",
       "      <td>0.0</td>\n",
       "      <td>0.0</td>\n",
       "      <td>0.0</td>\n",
       "      <td>0.0</td>\n",
       "      <td>0.0</td>\n",
       "      <td>0.0</td>\n",
       "      <td>0.0</td>\n",
       "      <td>0.0</td>\n",
       "      <td>0.0</td>\n",
       "      <td>0.0</td>\n",
       "      <td>0.0</td>\n",
       "      <td>0.0</td>\n",
       "      <td>0.0</td>\n",
       "      <td>0.0</td>\n",
       "      <td>0.0</td>\n",
       "      <td>0.0</td>\n",
       "      <td>0.0</td>\n",
       "      <td>0.0</td>\n",
       "      <td>0.0</td>\n",
       "      <td>0.0</td>\n",
       "      <td>0.0</td>\n",
       "      <td>0.0</td>\n",
       "      <td>0.0</td>\n",
       "      <td>0.0</td>\n",
       "      <td>0.0</td>\n",
       "      <td>0.0</td>\n",
       "      <td>0.0</td>\n",
       "      <td>0.0</td>\n",
       "      <td>0.0</td>\n",
       "      <td>...</td>\n",
       "      <td>0.0</td>\n",
       "      <td>0.0</td>\n",
       "      <td>0.0</td>\n",
       "      <td>0.0</td>\n",
       "      <td>0.0</td>\n",
       "      <td>0.0</td>\n",
       "      <td>0.0</td>\n",
       "      <td>0.0</td>\n",
       "      <td>0.0</td>\n",
       "      <td>0.0</td>\n",
       "      <td>0.0</td>\n",
       "      <td>0.0</td>\n",
       "      <td>0.0</td>\n",
       "      <td>0.0</td>\n",
       "      <td>0.0</td>\n",
       "      <td>0.0</td>\n",
       "      <td>0.0</td>\n",
       "      <td>0.0</td>\n",
       "      <td>0.0</td>\n",
       "      <td>0.0</td>\n",
       "      <td>0.0</td>\n",
       "      <td>0.0</td>\n",
       "      <td>0.0</td>\n",
       "      <td>0.0</td>\n",
       "      <td>0.0</td>\n",
       "      <td>0.0</td>\n",
       "      <td>0.0</td>\n",
       "      <td>0.0</td>\n",
       "      <td>0.0</td>\n",
       "      <td>0.0</td>\n",
       "    </tr>\n",
       "    <tr>\n",
       "      <th>1943</th>\n",
       "      <td>0.0</td>\n",
       "      <td>0.0</td>\n",
       "      <td>0.0</td>\n",
       "      <td>0.0</td>\n",
       "      <td>0.0</td>\n",
       "      <td>0.0</td>\n",
       "      <td>0.0</td>\n",
       "      <td>0.0</td>\n",
       "      <td>0.0</td>\n",
       "      <td>0.0</td>\n",
       "      <td>0.0</td>\n",
       "      <td>0.0</td>\n",
       "      <td>0.0</td>\n",
       "      <td>0.0</td>\n",
       "      <td>0.0</td>\n",
       "      <td>0.0</td>\n",
       "      <td>0.0</td>\n",
       "      <td>0.0</td>\n",
       "      <td>0.0</td>\n",
       "      <td>0.0</td>\n",
       "      <td>0.0</td>\n",
       "      <td>0.0</td>\n",
       "      <td>0.0</td>\n",
       "      <td>0.0</td>\n",
       "      <td>0.0</td>\n",
       "      <td>0.0</td>\n",
       "      <td>0.0</td>\n",
       "      <td>0.0</td>\n",
       "      <td>0.0</td>\n",
       "      <td>0.0</td>\n",
       "      <td>...</td>\n",
       "      <td>0.0</td>\n",
       "      <td>0.0</td>\n",
       "      <td>0.0</td>\n",
       "      <td>0.0</td>\n",
       "      <td>0.0</td>\n",
       "      <td>0.0</td>\n",
       "      <td>0.0</td>\n",
       "      <td>0.0</td>\n",
       "      <td>0.0</td>\n",
       "      <td>0.0</td>\n",
       "      <td>0.0</td>\n",
       "      <td>0.0</td>\n",
       "      <td>0.0</td>\n",
       "      <td>0.0</td>\n",
       "      <td>0.0</td>\n",
       "      <td>0.0</td>\n",
       "      <td>0.0</td>\n",
       "      <td>0.0</td>\n",
       "      <td>0.0</td>\n",
       "      <td>0.0</td>\n",
       "      <td>0.0</td>\n",
       "      <td>0.0</td>\n",
       "      <td>0.0</td>\n",
       "      <td>0.0</td>\n",
       "      <td>0.0</td>\n",
       "      <td>0.0</td>\n",
       "      <td>0.0</td>\n",
       "      <td>0.0</td>\n",
       "      <td>0.0</td>\n",
       "      <td>0.0</td>\n",
       "    </tr>\n",
       "    <tr>\n",
       "      <th>1witch</th>\n",
       "      <td>0.0</td>\n",
       "      <td>0.0</td>\n",
       "      <td>0.0</td>\n",
       "      <td>0.0</td>\n",
       "      <td>0.0</td>\n",
       "      <td>0.0</td>\n",
       "      <td>0.0</td>\n",
       "      <td>0.0</td>\n",
       "      <td>0.0</td>\n",
       "      <td>0.0</td>\n",
       "      <td>0.0</td>\n",
       "      <td>0.0</td>\n",
       "      <td>0.0</td>\n",
       "      <td>0.0</td>\n",
       "      <td>0.0</td>\n",
       "      <td>0.0</td>\n",
       "      <td>0.0</td>\n",
       "      <td>0.0</td>\n",
       "      <td>0.0</td>\n",
       "      <td>0.0</td>\n",
       "      <td>0.0</td>\n",
       "      <td>0.0</td>\n",
       "      <td>0.0</td>\n",
       "      <td>0.0</td>\n",
       "      <td>0.0</td>\n",
       "      <td>0.0</td>\n",
       "      <td>0.0</td>\n",
       "      <td>0.0</td>\n",
       "      <td>0.0</td>\n",
       "      <td>0.0</td>\n",
       "      <td>...</td>\n",
       "      <td>0.0</td>\n",
       "      <td>0.0</td>\n",
       "      <td>0.0</td>\n",
       "      <td>0.0</td>\n",
       "      <td>0.0</td>\n",
       "      <td>0.0</td>\n",
       "      <td>0.0</td>\n",
       "      <td>0.0</td>\n",
       "      <td>0.0</td>\n",
       "      <td>0.0</td>\n",
       "      <td>0.0</td>\n",
       "      <td>0.0</td>\n",
       "      <td>0.0</td>\n",
       "      <td>0.0</td>\n",
       "      <td>0.0</td>\n",
       "      <td>0.0</td>\n",
       "      <td>0.0</td>\n",
       "      <td>0.0</td>\n",
       "      <td>0.0</td>\n",
       "      <td>0.0</td>\n",
       "      <td>0.0</td>\n",
       "      <td>0.0</td>\n",
       "      <td>0.0</td>\n",
       "      <td>0.0</td>\n",
       "      <td>0.0</td>\n",
       "      <td>0.0</td>\n",
       "      <td>0.0</td>\n",
       "      <td>0.0</td>\n",
       "      <td>0.0</td>\n",
       "      <td>0.0</td>\n",
       "    </tr>\n",
       "  </tbody>\n",
       "</table>\n",
       "<p>5 rows × 1693 columns</p>\n",
       "</div>"
      ],
      "text/plain": [
       "            1234  1234567  123charlie  1943  1witch  4 rooms 1 dog lotsa fur  \\\n",
       "userId                                                                         \n",
       "1234         0.0      0.0         0.0   0.0     0.0                      0.0   \n",
       "1234567      0.0      0.0         0.0   0.0     0.0                      0.0   \n",
       "123charlie   0.0      0.0         0.0   0.0     0.0                      0.0   \n",
       "1943         0.0      0.0         0.0   0.0     0.0                      0.0   \n",
       "1witch       0.0      0.0         0.0   0.0     0.0                      0.0   \n",
       "\n",
       "            85lisa  a hutch  aac06002  aalyah  aaron  abcgator  abismomy  \\\n",
       "userId                                                                     \n",
       "1234           0.0      0.0       0.0     0.0    0.0       0.0       0.0   \n",
       "1234567        0.0      0.0       0.0     0.0    0.0       0.0       0.0   \n",
       "123charlie     0.0      0.0       0.0     0.0    0.0       0.0       0.0   \n",
       "1943           0.0      0.0       0.0     0.0    0.0       0.0       0.0   \n",
       "1witch         0.0      0.0       0.0     0.0    0.0       0.0       0.0   \n",
       "\n",
       "            abret  ac94  acg1  acjuarez08  aclass  adam  adizzione  adma2  \\\n",
       "userId                                                                      \n",
       "1234          0.0   0.0   0.0         0.0     0.0   0.0        0.0    0.0   \n",
       "1234567       0.0   0.0   0.0         0.0     0.0   0.0        0.0    0.0   \n",
       "123charlie    0.0   0.0   0.0         0.0     0.0   0.0        0.0    0.0   \n",
       "1943          0.0   0.0   0.0         0.0     0.0   0.0        0.0    0.0   \n",
       "1witch        0.0   0.0   0.0         0.0     0.0   0.0        0.0    0.0   \n",
       "\n",
       "            adriana9999  ael26  afooey  afwifey2003  agmt  ah78   aj  aj1135  \\\n",
       "userId                                                                         \n",
       "1234                0.0    0.0     0.0          0.0   0.0   0.0  0.0     0.0   \n",
       "1234567             0.0    0.0     0.0          0.0   0.0   0.0  0.0     0.0   \n",
       "123charlie          0.0    0.0     0.0          0.0   0.0   0.0  0.0     0.0   \n",
       "1943                0.0    0.0     0.0          0.0   0.0   0.0  0.0     0.0   \n",
       "1witch              0.0    0.0     0.0          0.0   0.0   0.0  0.0     0.0   \n",
       "\n",
       "            ajay  ...  voxemluth  wackibanan  wally  watson28  wcgirl  wendy  \\\n",
       "userId            ...                                                          \n",
       "1234         0.0  ...        0.0         0.0    0.0       0.0     0.0    0.0   \n",
       "1234567      0.0  ...        0.0         0.0    0.0       0.0     0.0    0.0   \n",
       "123charlie   0.0  ...        0.0         0.0    0.0       0.0     0.0    0.0   \n",
       "1943         0.0  ...        0.0         0.0    0.0       0.0     0.0    0.0   \n",
       "1witch       0.0  ...        0.0         0.0    0.0       0.0     0.0    0.0   \n",
       "\n",
       "            wernigcourtney  weston t  wildchild23  wildman  willy  wimbly  \\\n",
       "userId                                                                      \n",
       "1234                   0.0       0.0          0.0      0.0    0.0     0.0   \n",
       "1234567                0.0       0.0          0.0      0.0    0.0     0.0   \n",
       "123charlie             0.0       0.0          0.0      0.0    0.0     0.0   \n",
       "1943                   0.0       0.0          0.0      0.0    0.0     0.0   \n",
       "1witch                 0.0       0.0          0.0      0.0    0.0     0.0   \n",
       "\n",
       "            wjb1  wolfie  wolverine  wonster67  woody  woowoo  wowiezowie  \\\n",
       "userId                                                                      \n",
       "1234         0.0     0.0        0.0        0.0    0.0     0.0         0.0   \n",
       "1234567      0.0     0.0        0.0        0.0    0.0     0.0         0.0   \n",
       "123charlie   0.0     0.0        0.0        0.0    0.0     0.0         0.0   \n",
       "1943         0.0     0.0        0.0        0.0    0.0     0.0         0.0   \n",
       "1witch       0.0     0.0        0.0        0.0    0.0     0.0         0.0   \n",
       "\n",
       "            wren113  xavier  yamel97  yayawomack  yorkielvr  yummy  yvonne  \\\n",
       "userId                                                                       \n",
       "1234            0.0     0.0      0.0         0.0        0.0    0.0     0.0   \n",
       "1234567         0.0     0.0      0.0         0.0        0.0    0.0     0.0   \n",
       "123charlie      0.0     0.0      0.0         0.0        0.0    0.0     0.0   \n",
       "1943            0.0     0.0      0.0         0.0        0.0    0.0     0.0   \n",
       "1witch          0.0     0.0      0.0         0.0        0.0    0.0     0.0   \n",
       "\n",
       "            zach  zebras  zippy  zxcsdfd  \n",
       "userId                                    \n",
       "1234         0.0     0.0    0.0      0.0  \n",
       "1234567      0.0     0.0    0.0      0.0  \n",
       "123charlie   0.0     0.0    0.0      0.0  \n",
       "1943         0.0     0.0    0.0      0.0  \n",
       "1witch       0.0     0.0    0.0      0.0  \n",
       "\n",
       "[5 rows x 1693 columns]"
      ]
     },
     "execution_count": 143,
     "metadata": {},
     "output_type": "execute_result"
    }
   ],
   "source": [
    "user_correlation_df_3.head()"
   ]
  },
  {
   "cell_type": "code",
   "execution_count": 144,
   "metadata": {
    "ExecuteTime": {
     "end_time": "2022-04-06T05:49:49.088838Z",
     "start_time": "2022-04-06T05:46:27.799Z"
    },
    "execution": {
     "iopub.execute_input": "2022-04-14T01:38:59.884924Z",
     "iopub.status.busy": "2022-04-14T01:38:59.884433Z",
     "iopub.status.idle": "2022-04-14T01:38:59.891273Z",
     "shell.execute_reply": "2022-04-14T01:38:59.890512Z",
     "shell.execute_reply.started": "2022-04-14T01:38:59.884876Z"
    },
    "executionInfo": {
     "elapsed": 37,
     "status": "ok",
     "timestamp": 1649227993347,
     "user": {
      "displayName": "Venkatasubramanian S",
      "userId": "06029493893713790610"
     },
     "user_tz": 420
    },
    "id": "m0eR0uL5ddcF",
    "outputId": "3470c586-a744-4c93-c147-e24ef8d6d71a"
   },
   "outputs": [
    {
     "data": {
      "text/plain": [
       "(1693, 1693)"
      ]
     },
     "execution_count": 144,
     "metadata": {},
     "output_type": "execute_result"
    }
   ],
   "source": [
    "user_correlation_df_3.shape"
   ]
  },
  {
   "cell_type": "code",
   "execution_count": 145,
   "metadata": {
    "ExecuteTime": {
     "end_time": "2022-04-06T05:49:49.090837Z",
     "start_time": "2022-04-06T05:46:27.805Z"
    },
    "execution": {
     "iopub.execute_input": "2022-04-14T01:38:59.893503Z",
     "iopub.status.busy": "2022-04-14T01:38:59.892724Z",
     "iopub.status.idle": "2022-04-14T01:38:59.957192Z",
     "shell.execute_reply": "2022-04-14T01:38:59.956384Z",
     "shell.execute_reply.started": "2022-04-14T01:38:59.893460Z"
    },
    "executionInfo": {
     "elapsed": 276,
     "status": "ok",
     "timestamp": 1649227993598,
     "user": {
      "displayName": "Venkatasubramanian S",
      "userId": "06029493893713790610"
     },
     "user_tz": 420
    },
    "id": "DxKL8fbtde_h",
    "outputId": "c93683e6-68bd-48a3-9a03-63cc984274ea"
   },
   "outputs": [
    {
     "data": {
      "text/plain": [
       "array([[0., 0., 0., ..., 0., 0., 0.],\n",
       "       [0., 0., 0., ..., 0., 0., 0.],\n",
       "       [0., 0., 0., ..., 0., 0., 0.],\n",
       "       ...,\n",
       "       [0., 0., 0., ..., 0., 0., 0.],\n",
       "       [0., 0., 0., ..., 0., 0., 0.],\n",
       "       [0., 0., 0., ..., 0., 0., 0.]])"
      ]
     },
     "execution_count": 145,
     "metadata": {},
     "output_type": "execute_result"
    }
   ],
   "source": [
    "user_correlation_df_3[user_correlation_df_3<0]=0\n",
    "\n",
    "common_user_predicted_ratings = np.dot(user_correlation_df_3, common_user_based_matrix.fillna(0))\n",
    "common_user_predicted_ratings"
   ]
  },
  {
   "cell_type": "code",
   "execution_count": 146,
   "metadata": {
    "ExecuteTime": {
     "end_time": "2022-04-06T05:49:49.091835Z",
     "start_time": "2022-04-06T05:46:27.814Z"
    },
    "execution": {
     "iopub.execute_input": "2022-04-14T01:38:59.959449Z",
     "iopub.status.busy": "2022-04-14T01:38:59.958949Z",
     "iopub.status.idle": "2022-04-14T01:38:59.977473Z",
     "shell.execute_reply": "2022-04-14T01:38:59.976640Z",
     "shell.execute_reply.started": "2022-04-14T01:38:59.959404Z"
    },
    "executionInfo": {
     "elapsed": 14,
     "status": "ok",
     "timestamp": 1649227993599,
     "user": {
      "displayName": "Venkatasubramanian S",
      "userId": "06029493893713790610"
     },
     "user_tz": 420
    },
    "id": "J0zxQXvIdvro",
    "outputId": "a9a31ce0-ec6b-4ea4-8c48-6822e0ec5bcf"
   },
   "outputs": [
    {
     "data": {
      "text/html": [
       "<div>\n",
       "<style scoped>\n",
       "    .dataframe tbody tr th:only-of-type {\n",
       "        vertical-align: middle;\n",
       "    }\n",
       "\n",
       "    .dataframe tbody tr th {\n",
       "        vertical-align: top;\n",
       "    }\n",
       "\n",
       "    .dataframe thead th {\n",
       "        text-align: right;\n",
       "    }\n",
       "</style>\n",
       "<table border=\"1\" class=\"dataframe\">\n",
       "  <thead>\n",
       "    <tr style=\"text-align: right;\">\n",
       "      <th></th>\n",
       "      <th>id</th>\n",
       "      <th>name</th>\n",
       "      <th>reviews_rating</th>\n",
       "      <th>reviews_username</th>\n",
       "    </tr>\n",
       "  </thead>\n",
       "  <tbody>\n",
       "    <tr>\n",
       "      <th>12875</th>\n",
       "      <td>AVpf3VOfilAPnD_xjpun</td>\n",
       "      <td>Clorox Disinfecting Wipes Value Pack Scented 150 Ct Total</td>\n",
       "      <td>5</td>\n",
       "      <td>jessica</td>\n",
       "    </tr>\n",
       "    <tr>\n",
       "      <th>21657</th>\n",
       "      <td>AVpfm8yiLJeJML43AYyu</td>\n",
       "      <td>Nexxus Exxtra Gel Style Creation Sculptor</td>\n",
       "      <td>1</td>\n",
       "      <td>romance318</td>\n",
       "    </tr>\n",
       "  </tbody>\n",
       "</table>\n",
       "</div>"
      ],
      "text/plain": [
       "                         id  \\\n",
       "12875  AVpf3VOfilAPnD_xjpun   \n",
       "21657  AVpfm8yiLJeJML43AYyu   \n",
       "\n",
       "                                                            name  \\\n",
       "12875  Clorox Disinfecting Wipes Value Pack Scented 150 Ct Total   \n",
       "21657                  Nexxus Exxtra Gel Style Creation Sculptor   \n",
       "\n",
       "       reviews_rating reviews_username  \n",
       "12875               5          jessica  \n",
       "21657               1       romance318  "
      ]
     },
     "execution_count": 146,
     "metadata": {},
     "output_type": "execute_result"
    }
   ],
   "source": [
    "common.head(2)"
   ]
  },
  {
   "cell_type": "code",
   "execution_count": 147,
   "metadata": {
    "ExecuteTime": {
     "end_time": "2022-04-06T05:49:49.093840Z",
     "start_time": "2022-04-06T05:46:27.821Z"
    },
    "execution": {
     "iopub.execute_input": "2022-04-14T01:38:59.985714Z",
     "iopub.status.busy": "2022-04-14T01:38:59.982979Z",
     "iopub.status.idle": "2022-04-14T01:39:00.028444Z",
     "shell.execute_reply": "2022-04-14T01:39:00.027429Z",
     "shell.execute_reply.started": "2022-04-14T01:38:59.985652Z"
    },
    "executionInfo": {
     "elapsed": 13,
     "status": "ok",
     "timestamp": 1649227993599,
     "user": {
      "displayName": "Venkatasubramanian S",
      "userId": "06029493893713790610"
     },
     "user_tz": 420
    },
    "id": "mOtSB-TVdg6U"
   },
   "outputs": [],
   "source": [
    "# Creating dummy test dataframe\n",
    "dummy_test = common.copy()\n",
    "\n",
    "dummy_test['reviews_rating'] = dummy_test['reviews_rating'].apply(lambda x: 1 if x>=1 else 0)\n",
    "\n",
    "dummy_test = dummy_test.pivot_table(index='reviews_username', columns='id', values='reviews_rating').fillna(0)"
   ]
  },
  {
   "cell_type": "code",
   "execution_count": 148,
   "metadata": {
    "ExecuteTime": {
     "end_time": "2022-04-06T05:49:49.094838Z",
     "start_time": "2022-04-06T05:46:27.827Z"
    },
    "execution": {
     "iopub.execute_input": "2022-04-14T01:39:00.037995Z",
     "iopub.status.busy": "2022-04-14T01:39:00.034991Z",
     "iopub.status.idle": "2022-04-14T01:39:00.045903Z",
     "shell.execute_reply": "2022-04-14T01:39:00.045025Z",
     "shell.execute_reply.started": "2022-04-14T01:39:00.037930Z"
    },
    "executionInfo": {
     "elapsed": 12,
     "status": "ok",
     "timestamp": 1649227993599,
     "user": {
      "displayName": "Venkatasubramanian S",
      "userId": "06029493893713790610"
     },
     "user_tz": 420
    },
    "id": "EZl4kjrRd7wQ",
    "outputId": "0b63d149-498a-43cd-d104-f8f01c590306"
   },
   "outputs": [
    {
     "data": {
      "text/plain": [
       "(1693, 140)"
      ]
     },
     "execution_count": 148,
     "metadata": {},
     "output_type": "execute_result"
    }
   ],
   "source": [
    "dummy_test.shape"
   ]
  },
  {
   "cell_type": "code",
   "execution_count": 149,
   "metadata": {
    "ExecuteTime": {
     "end_time": "2022-04-06T05:49:49.095834Z",
     "start_time": "2022-04-06T05:46:27.833Z"
    },
    "execution": {
     "iopub.execute_input": "2022-04-14T01:39:00.048064Z",
     "iopub.status.busy": "2022-04-14T01:39:00.047497Z",
     "iopub.status.idle": "2022-04-14T01:39:00.059920Z",
     "shell.execute_reply": "2022-04-14T01:39:00.058968Z",
     "shell.execute_reply.started": "2022-04-14T01:39:00.048013Z"
    },
    "executionInfo": {
     "elapsed": 7,
     "status": "ok",
     "timestamp": 1649227993600,
     "user": {
      "displayName": "Venkatasubramanian S",
      "userId": "06029493893713790610"
     },
     "user_tz": 420
    },
    "id": "sSwzF5Zqd91X"
   },
   "outputs": [],
   "source": [
    "common_user_predicted_ratings = np.multiply(common_user_predicted_ratings,dummy_test)"
   ]
  },
  {
   "cell_type": "code",
   "execution_count": 150,
   "metadata": {
    "ExecuteTime": {
     "end_time": "2022-04-06T05:49:49.097839Z",
     "start_time": "2022-04-06T05:46:27.839Z"
    },
    "execution": {
     "iopub.execute_input": "2022-04-14T01:39:00.062395Z",
     "iopub.status.busy": "2022-04-14T01:39:00.061778Z",
     "iopub.status.idle": "2022-04-14T01:39:00.112009Z",
     "shell.execute_reply": "2022-04-14T01:39:00.111158Z",
     "shell.execute_reply.started": "2022-04-14T01:39:00.062341Z"
    },
    "executionInfo": {
     "elapsed": 590,
     "status": "ok",
     "timestamp": 1649227994183,
     "user": {
      "displayName": "Venkatasubramanian S",
      "userId": "06029493893713790610"
     },
     "user_tz": 420
    },
    "id": "o-JVn07Ld_Rl",
    "outputId": "c1a02975-246b-4bd1-92bc-357be90c09c1"
   },
   "outputs": [
    {
     "data": {
      "text/html": [
       "<div>\n",
       "<style scoped>\n",
       "    .dataframe tbody tr th:only-of-type {\n",
       "        vertical-align: middle;\n",
       "    }\n",
       "\n",
       "    .dataframe tbody tr th {\n",
       "        vertical-align: top;\n",
       "    }\n",
       "\n",
       "    .dataframe thead th {\n",
       "        text-align: right;\n",
       "    }\n",
       "</style>\n",
       "<table border=\"1\" class=\"dataframe\">\n",
       "  <thead>\n",
       "    <tr style=\"text-align: right;\">\n",
       "      <th>id</th>\n",
       "      <th>AV16khLE-jtxr-f38VFn</th>\n",
       "      <th>AV1YGDqsGV-KLJ3adc-O</th>\n",
       "      <th>AV1YlENIglJLPUi8IHsX</th>\n",
       "      <th>AV1YmDL9vKc47QAVgr7_</th>\n",
       "      <th>AV1Ymf_rglJLPUi8II2v</th>\n",
       "      <th>AV1Yn94nvKc47QAVgtst</th>\n",
       "      <th>AV1YneDPglJLPUi8IJyQ</th>\n",
       "      <th>AV1Ys0kTvKc47QAVgx1C</th>\n",
       "      <th>AV1YtGjdglJLPUi8IOfJ</th>\n",
       "      <th>AV1ZT7GLglJLPUi8IQLI</th>\n",
       "      <th>AV1ZVIgy-jtxr-f31W9N</th>\n",
       "      <th>AV1h6Gu0glJLPUi8IjA_</th>\n",
       "      <th>AV1l8zRZvKc47QAVhnAv</th>\n",
       "      <th>AVpe-PJnLJeJML43ziaj</th>\n",
       "      <th>AVpe-ltS1cnluZ0-bL8w</th>\n",
       "      <th>AVpe31o71cnluZ0-YrSD</th>\n",
       "      <th>AVpe41TqilAPnD_xQH3d</th>\n",
       "      <th>AVpe4hlXLJeJML43xbrB</th>\n",
       "      <th>AVpe59io1cnluZ0-ZgDU</th>\n",
       "      <th>AVpe5JOgilAPnD_xQPfE</th>\n",
       "      <th>AVpe5c23LJeJML43xybi</th>\n",
       "      <th>AVpe5s3RLJeJML43x4eA</th>\n",
       "      <th>AVpe6CHv1cnluZ0-ZhwN</th>\n",
       "      <th>AVpe6FfKilAPnD_xQmHi</th>\n",
       "      <th>AVpe6FpaLJeJML43yBuP</th>\n",
       "      <th>AVpe6PCDLJeJML43yFQH</th>\n",
       "      <th>AVpe6n2_LJeJML43yOgE</th>\n",
       "      <th>AVpe71Vk1cnluZ0-aL_Z</th>\n",
       "      <th>AVpe78stLJeJML43ytOY</th>\n",
       "      <th>AVpe7GIELJeJML43yZfu</th>\n",
       "      <th>...</th>\n",
       "      <th>AVpfUJu_ilAPnD_xZdDr</th>\n",
       "      <th>AVpfUN2nilAPnD_xZeY3</th>\n",
       "      <th>AVpfVPh3ilAPnD_xZzW9</th>\n",
       "      <th>AVpfW8y_LJeJML437ySW</th>\n",
       "      <th>AVpfazX31cnluZ0-kbdl</th>\n",
       "      <th>AVpfbkyr1cnluZ0-kozI</th>\n",
       "      <th>AVpfcu821cnluZ0-k8ep</th>\n",
       "      <th>AVpfdYUZilAPnD_xcHuK</th>\n",
       "      <th>AVpfi79RLJeJML43_Jo0</th>\n",
       "      <th>AVpfiUrfLJeJML43-9nY</th>\n",
       "      <th>AVpfk4y7ilAPnD_xeTgd</th>\n",
       "      <th>AVpfkak01cnluZ0-nJj6</th>\n",
       "      <th>AVpfl6baLJeJML43AEQq</th>\n",
       "      <th>AVpfl6sF1cnluZ0-nmwC</th>\n",
       "      <th>AVpflENxilAPnD_xeXFF</th>\n",
       "      <th>AVpfliCoilAPnD_xegIr</th>\n",
       "      <th>AVpfluP1ilAPnD_xejxO</th>\n",
       "      <th>AVpfm8yiLJeJML43AYyu</th>\n",
       "      <th>AVpfmjXGLJeJML43AQ5_</th>\n",
       "      <th>AVpfoSS51cnluZ0-oVH9</th>\n",
       "      <th>AVpfov9TLJeJML43A7B0</th>\n",
       "      <th>AVpfpM2yilAPnD_xfmDG</th>\n",
       "      <th>AVpfr5cb1cnluZ0-pZFp</th>\n",
       "      <th>AVpfrFDZLJeJML43Bmv0</th>\n",
       "      <th>AVpfrTyiLJeJML43BrSI</th>\n",
       "      <th>AVpfrgjFLJeJML43BvCc</th>\n",
       "      <th>AVpfs0tUilAPnD_xgqN2</th>\n",
       "      <th>AVpfthSailAPnD_xg3ON</th>\n",
       "      <th>AVpftikC1cnluZ0-p31V</th>\n",
       "      <th>AVpfv4TlilAPnD_xhjNS</th>\n",
       "    </tr>\n",
       "    <tr>\n",
       "      <th>reviews_username</th>\n",
       "      <th></th>\n",
       "      <th></th>\n",
       "      <th></th>\n",
       "      <th></th>\n",
       "      <th></th>\n",
       "      <th></th>\n",
       "      <th></th>\n",
       "      <th></th>\n",
       "      <th></th>\n",
       "      <th></th>\n",
       "      <th></th>\n",
       "      <th></th>\n",
       "      <th></th>\n",
       "      <th></th>\n",
       "      <th></th>\n",
       "      <th></th>\n",
       "      <th></th>\n",
       "      <th></th>\n",
       "      <th></th>\n",
       "      <th></th>\n",
       "      <th></th>\n",
       "      <th></th>\n",
       "      <th></th>\n",
       "      <th></th>\n",
       "      <th></th>\n",
       "      <th></th>\n",
       "      <th></th>\n",
       "      <th></th>\n",
       "      <th></th>\n",
       "      <th></th>\n",
       "      <th></th>\n",
       "      <th></th>\n",
       "      <th></th>\n",
       "      <th></th>\n",
       "      <th></th>\n",
       "      <th></th>\n",
       "      <th></th>\n",
       "      <th></th>\n",
       "      <th></th>\n",
       "      <th></th>\n",
       "      <th></th>\n",
       "      <th></th>\n",
       "      <th></th>\n",
       "      <th></th>\n",
       "      <th></th>\n",
       "      <th></th>\n",
       "      <th></th>\n",
       "      <th></th>\n",
       "      <th></th>\n",
       "      <th></th>\n",
       "      <th></th>\n",
       "      <th></th>\n",
       "      <th></th>\n",
       "      <th></th>\n",
       "      <th></th>\n",
       "      <th></th>\n",
       "      <th></th>\n",
       "      <th></th>\n",
       "      <th></th>\n",
       "      <th></th>\n",
       "      <th></th>\n",
       "    </tr>\n",
       "  </thead>\n",
       "  <tbody>\n",
       "    <tr>\n",
       "      <th>1234</th>\n",
       "      <td>0.0</td>\n",
       "      <td>0.0</td>\n",
       "      <td>0.0</td>\n",
       "      <td>0.0</td>\n",
       "      <td>0.0</td>\n",
       "      <td>0.0</td>\n",
       "      <td>0.0</td>\n",
       "      <td>0.0</td>\n",
       "      <td>0.0</td>\n",
       "      <td>0.0</td>\n",
       "      <td>0.0</td>\n",
       "      <td>0.0</td>\n",
       "      <td>0.0</td>\n",
       "      <td>0.0</td>\n",
       "      <td>0.0</td>\n",
       "      <td>0.0</td>\n",
       "      <td>0.0</td>\n",
       "      <td>0.0</td>\n",
       "      <td>0.0</td>\n",
       "      <td>0.0</td>\n",
       "      <td>0.0</td>\n",
       "      <td>0.0</td>\n",
       "      <td>0.0</td>\n",
       "      <td>0.0</td>\n",
       "      <td>0.0</td>\n",
       "      <td>0.0</td>\n",
       "      <td>0.0</td>\n",
       "      <td>0.0</td>\n",
       "      <td>0.0</td>\n",
       "      <td>0.0</td>\n",
       "      <td>...</td>\n",
       "      <td>0.0</td>\n",
       "      <td>0.0</td>\n",
       "      <td>0.0</td>\n",
       "      <td>0.0</td>\n",
       "      <td>0.0</td>\n",
       "      <td>0.0</td>\n",
       "      <td>0.0</td>\n",
       "      <td>0.0</td>\n",
       "      <td>0.0</td>\n",
       "      <td>0.0</td>\n",
       "      <td>0.0</td>\n",
       "      <td>0.0</td>\n",
       "      <td>0.0</td>\n",
       "      <td>0.0</td>\n",
       "      <td>0.0</td>\n",
       "      <td>0.0</td>\n",
       "      <td>0.0</td>\n",
       "      <td>0.0</td>\n",
       "      <td>0.0</td>\n",
       "      <td>0.0</td>\n",
       "      <td>0.0</td>\n",
       "      <td>0.0</td>\n",
       "      <td>0.0</td>\n",
       "      <td>0.0</td>\n",
       "      <td>0.0</td>\n",
       "      <td>0.0</td>\n",
       "      <td>0.0</td>\n",
       "      <td>0.0</td>\n",
       "      <td>0.0</td>\n",
       "      <td>0.0</td>\n",
       "    </tr>\n",
       "    <tr>\n",
       "      <th>1234567</th>\n",
       "      <td>0.0</td>\n",
       "      <td>0.0</td>\n",
       "      <td>0.0</td>\n",
       "      <td>0.0</td>\n",
       "      <td>0.0</td>\n",
       "      <td>0.0</td>\n",
       "      <td>0.0</td>\n",
       "      <td>0.0</td>\n",
       "      <td>0.0</td>\n",
       "      <td>0.0</td>\n",
       "      <td>0.0</td>\n",
       "      <td>0.0</td>\n",
       "      <td>0.0</td>\n",
       "      <td>0.0</td>\n",
       "      <td>0.0</td>\n",
       "      <td>0.0</td>\n",
       "      <td>0.0</td>\n",
       "      <td>0.0</td>\n",
       "      <td>0.0</td>\n",
       "      <td>0.0</td>\n",
       "      <td>0.0</td>\n",
       "      <td>0.0</td>\n",
       "      <td>0.0</td>\n",
       "      <td>0.0</td>\n",
       "      <td>0.0</td>\n",
       "      <td>0.0</td>\n",
       "      <td>0.0</td>\n",
       "      <td>0.0</td>\n",
       "      <td>0.0</td>\n",
       "      <td>0.0</td>\n",
       "      <td>...</td>\n",
       "      <td>0.0</td>\n",
       "      <td>0.0</td>\n",
       "      <td>0.0</td>\n",
       "      <td>0.0</td>\n",
       "      <td>0.0</td>\n",
       "      <td>0.0</td>\n",
       "      <td>0.0</td>\n",
       "      <td>0.0</td>\n",
       "      <td>0.0</td>\n",
       "      <td>0.0</td>\n",
       "      <td>0.0</td>\n",
       "      <td>0.0</td>\n",
       "      <td>0.0</td>\n",
       "      <td>0.0</td>\n",
       "      <td>0.0</td>\n",
       "      <td>0.0</td>\n",
       "      <td>0.0</td>\n",
       "      <td>0.0</td>\n",
       "      <td>0.0</td>\n",
       "      <td>0.0</td>\n",
       "      <td>0.0</td>\n",
       "      <td>0.0</td>\n",
       "      <td>0.0</td>\n",
       "      <td>0.0</td>\n",
       "      <td>0.0</td>\n",
       "      <td>0.0</td>\n",
       "      <td>0.0</td>\n",
       "      <td>0.0</td>\n",
       "      <td>0.0</td>\n",
       "      <td>0.0</td>\n",
       "    </tr>\n",
       "  </tbody>\n",
       "</table>\n",
       "<p>2 rows × 140 columns</p>\n",
       "</div>"
      ],
      "text/plain": [
       "id                AV16khLE-jtxr-f38VFn  AV1YGDqsGV-KLJ3adc-O  \\\n",
       "reviews_username                                               \n",
       "1234                               0.0                   0.0   \n",
       "1234567                            0.0                   0.0   \n",
       "\n",
       "id                AV1YlENIglJLPUi8IHsX  AV1YmDL9vKc47QAVgr7_  \\\n",
       "reviews_username                                               \n",
       "1234                               0.0                   0.0   \n",
       "1234567                            0.0                   0.0   \n",
       "\n",
       "id                AV1Ymf_rglJLPUi8II2v  AV1Yn94nvKc47QAVgtst  \\\n",
       "reviews_username                                               \n",
       "1234                               0.0                   0.0   \n",
       "1234567                            0.0                   0.0   \n",
       "\n",
       "id                AV1YneDPglJLPUi8IJyQ  AV1Ys0kTvKc47QAVgx1C  \\\n",
       "reviews_username                                               \n",
       "1234                               0.0                   0.0   \n",
       "1234567                            0.0                   0.0   \n",
       "\n",
       "id                AV1YtGjdglJLPUi8IOfJ  AV1ZT7GLglJLPUi8IQLI  \\\n",
       "reviews_username                                               \n",
       "1234                               0.0                   0.0   \n",
       "1234567                            0.0                   0.0   \n",
       "\n",
       "id                AV1ZVIgy-jtxr-f31W9N  AV1h6Gu0glJLPUi8IjA_  \\\n",
       "reviews_username                                               \n",
       "1234                               0.0                   0.0   \n",
       "1234567                            0.0                   0.0   \n",
       "\n",
       "id                AV1l8zRZvKc47QAVhnAv  AVpe-PJnLJeJML43ziaj  \\\n",
       "reviews_username                                               \n",
       "1234                               0.0                   0.0   \n",
       "1234567                            0.0                   0.0   \n",
       "\n",
       "id                AVpe-ltS1cnluZ0-bL8w  AVpe31o71cnluZ0-YrSD  \\\n",
       "reviews_username                                               \n",
       "1234                               0.0                   0.0   \n",
       "1234567                            0.0                   0.0   \n",
       "\n",
       "id                AVpe41TqilAPnD_xQH3d  AVpe4hlXLJeJML43xbrB  \\\n",
       "reviews_username                                               \n",
       "1234                               0.0                   0.0   \n",
       "1234567                            0.0                   0.0   \n",
       "\n",
       "id                AVpe59io1cnluZ0-ZgDU  AVpe5JOgilAPnD_xQPfE  \\\n",
       "reviews_username                                               \n",
       "1234                               0.0                   0.0   \n",
       "1234567                            0.0                   0.0   \n",
       "\n",
       "id                AVpe5c23LJeJML43xybi  AVpe5s3RLJeJML43x4eA  \\\n",
       "reviews_username                                               \n",
       "1234                               0.0                   0.0   \n",
       "1234567                            0.0                   0.0   \n",
       "\n",
       "id                AVpe6CHv1cnluZ0-ZhwN  AVpe6FfKilAPnD_xQmHi  \\\n",
       "reviews_username                                               \n",
       "1234                               0.0                   0.0   \n",
       "1234567                            0.0                   0.0   \n",
       "\n",
       "id                AVpe6FpaLJeJML43yBuP  AVpe6PCDLJeJML43yFQH  \\\n",
       "reviews_username                                               \n",
       "1234                               0.0                   0.0   \n",
       "1234567                            0.0                   0.0   \n",
       "\n",
       "id                AVpe6n2_LJeJML43yOgE  AVpe71Vk1cnluZ0-aL_Z  \\\n",
       "reviews_username                                               \n",
       "1234                               0.0                   0.0   \n",
       "1234567                            0.0                   0.0   \n",
       "\n",
       "id                AVpe78stLJeJML43ytOY  AVpe7GIELJeJML43yZfu  ...  \\\n",
       "reviews_username                                              ...   \n",
       "1234                               0.0                   0.0  ...   \n",
       "1234567                            0.0                   0.0  ...   \n",
       "\n",
       "id                AVpfUJu_ilAPnD_xZdDr  AVpfUN2nilAPnD_xZeY3  \\\n",
       "reviews_username                                               \n",
       "1234                               0.0                   0.0   \n",
       "1234567                            0.0                   0.0   \n",
       "\n",
       "id                AVpfVPh3ilAPnD_xZzW9  AVpfW8y_LJeJML437ySW  \\\n",
       "reviews_username                                               \n",
       "1234                               0.0                   0.0   \n",
       "1234567                            0.0                   0.0   \n",
       "\n",
       "id                AVpfazX31cnluZ0-kbdl  AVpfbkyr1cnluZ0-kozI  \\\n",
       "reviews_username                                               \n",
       "1234                               0.0                   0.0   \n",
       "1234567                            0.0                   0.0   \n",
       "\n",
       "id                AVpfcu821cnluZ0-k8ep  AVpfdYUZilAPnD_xcHuK  \\\n",
       "reviews_username                                               \n",
       "1234                               0.0                   0.0   \n",
       "1234567                            0.0                   0.0   \n",
       "\n",
       "id                AVpfi79RLJeJML43_Jo0  AVpfiUrfLJeJML43-9nY  \\\n",
       "reviews_username                                               \n",
       "1234                               0.0                   0.0   \n",
       "1234567                            0.0                   0.0   \n",
       "\n",
       "id                AVpfk4y7ilAPnD_xeTgd  AVpfkak01cnluZ0-nJj6  \\\n",
       "reviews_username                                               \n",
       "1234                               0.0                   0.0   \n",
       "1234567                            0.0                   0.0   \n",
       "\n",
       "id                AVpfl6baLJeJML43AEQq  AVpfl6sF1cnluZ0-nmwC  \\\n",
       "reviews_username                                               \n",
       "1234                               0.0                   0.0   \n",
       "1234567                            0.0                   0.0   \n",
       "\n",
       "id                AVpflENxilAPnD_xeXFF  AVpfliCoilAPnD_xegIr  \\\n",
       "reviews_username                                               \n",
       "1234                               0.0                   0.0   \n",
       "1234567                            0.0                   0.0   \n",
       "\n",
       "id                AVpfluP1ilAPnD_xejxO  AVpfm8yiLJeJML43AYyu  \\\n",
       "reviews_username                                               \n",
       "1234                               0.0                   0.0   \n",
       "1234567                            0.0                   0.0   \n",
       "\n",
       "id                AVpfmjXGLJeJML43AQ5_  AVpfoSS51cnluZ0-oVH9  \\\n",
       "reviews_username                                               \n",
       "1234                               0.0                   0.0   \n",
       "1234567                            0.0                   0.0   \n",
       "\n",
       "id                AVpfov9TLJeJML43A7B0  AVpfpM2yilAPnD_xfmDG  \\\n",
       "reviews_username                                               \n",
       "1234                               0.0                   0.0   \n",
       "1234567                            0.0                   0.0   \n",
       "\n",
       "id                AVpfr5cb1cnluZ0-pZFp  AVpfrFDZLJeJML43Bmv0  \\\n",
       "reviews_username                                               \n",
       "1234                               0.0                   0.0   \n",
       "1234567                            0.0                   0.0   \n",
       "\n",
       "id                AVpfrTyiLJeJML43BrSI  AVpfrgjFLJeJML43BvCc  \\\n",
       "reviews_username                                               \n",
       "1234                               0.0                   0.0   \n",
       "1234567                            0.0                   0.0   \n",
       "\n",
       "id                AVpfs0tUilAPnD_xgqN2  AVpfthSailAPnD_xg3ON  \\\n",
       "reviews_username                                               \n",
       "1234                               0.0                   0.0   \n",
       "1234567                            0.0                   0.0   \n",
       "\n",
       "id                AVpftikC1cnluZ0-p31V  AVpfv4TlilAPnD_xhjNS  \n",
       "reviews_username                                              \n",
       "1234                               0.0                   0.0  \n",
       "1234567                            0.0                   0.0  \n",
       "\n",
       "[2 rows x 140 columns]"
      ]
     },
     "execution_count": 150,
     "metadata": {},
     "output_type": "execute_result"
    }
   ],
   "source": [
    "common_user_predicted_ratings.head(2)"
   ]
  },
  {
   "cell_type": "code",
   "execution_count": 151,
   "metadata": {
    "ExecuteTime": {
     "end_time": "2022-04-06T05:49:49.098839Z",
     "start_time": "2022-04-06T05:46:27.845Z"
    },
    "execution": {
     "iopub.execute_input": "2022-04-14T01:39:00.113447Z",
     "iopub.status.busy": "2022-04-14T01:39:00.113128Z",
     "iopub.status.idle": "2022-04-14T01:39:00.139801Z",
     "shell.execute_reply": "2022-04-14T01:39:00.138832Z",
     "shell.execute_reply.started": "2022-04-14T01:39:00.113413Z"
    },
    "executionInfo": {
     "elapsed": 248,
     "status": "ok",
     "timestamp": 1649227994184,
     "user": {
      "displayName": "Venkatasubramanian S",
      "userId": "06029493893713790610"
     },
     "user_tz": 420
    },
    "id": "iud5d5oVeG3l",
    "outputId": "01f76d8c-5540-40f1-86b9-81b7ad6f78de"
   },
   "outputs": [
    {
     "name": "stdout",
     "output_type": "stream",
     "text": [
      "MinMaxScaler(feature_range=(1, 5))\n",
      "[[nan nan nan ... nan nan nan]\n",
      " [nan nan nan ... nan nan nan]\n",
      " [nan nan nan ... nan nan nan]\n",
      " ...\n",
      " [nan nan nan ... nan nan nan]\n",
      " [nan nan nan ... nan nan nan]\n",
      " [nan nan nan ... nan nan nan]]\n"
     ]
    }
   ],
   "source": [
    "from sklearn.preprocessing import MinMaxScaler\n",
    "from numpy import *\n",
    "\n",
    "X  = common_user_predicted_ratings.copy() \n",
    "X = X[X>0]\n",
    "\n",
    "scaler = MinMaxScaler(feature_range=(1, 5))\n",
    "print(scaler.fit(X))\n",
    "y = (scaler.transform(X))\n",
    "\n",
    "print(y)"
   ]
  },
  {
   "cell_type": "code",
   "execution_count": 152,
   "metadata": {
    "ExecuteTime": {
     "end_time": "2022-04-06T05:49:49.100839Z",
     "start_time": "2022-04-06T05:46:27.851Z"
    },
    "execution": {
     "iopub.execute_input": "2022-04-14T01:39:00.141356Z",
     "iopub.status.busy": "2022-04-14T01:39:00.141131Z",
     "iopub.status.idle": "2022-04-14T01:39:00.165235Z",
     "shell.execute_reply": "2022-04-14T01:39:00.164481Z",
     "shell.execute_reply.started": "2022-04-14T01:39:00.141329Z"
    },
    "executionInfo": {
     "elapsed": 31,
     "status": "ok",
     "timestamp": 1649227994185,
     "user": {
      "displayName": "Venkatasubramanian S",
      "userId": "06029493893713790610"
     },
     "user_tz": 420
    },
    "id": "q1gmy_urePCj"
   },
   "outputs": [],
   "source": [
    "common_ = common.pivot_table(index='reviews_username', columns='id', values='reviews_rating')"
   ]
  },
  {
   "cell_type": "code",
   "execution_count": 153,
   "metadata": {
    "ExecuteTime": {
     "end_time": "2022-04-06T05:49:49.101840Z",
     "start_time": "2022-04-06T05:46:27.857Z"
    },
    "execution": {
     "iopub.execute_input": "2022-04-14T01:39:00.166833Z",
     "iopub.status.busy": "2022-04-14T01:39:00.166587Z",
     "iopub.status.idle": "2022-04-14T01:39:00.171870Z",
     "shell.execute_reply": "2022-04-14T01:39:00.170841Z",
     "shell.execute_reply.started": "2022-04-14T01:39:00.166805Z"
    },
    "executionInfo": {
     "elapsed": 32,
     "status": "ok",
     "timestamp": 1649227994187,
     "user": {
      "displayName": "Venkatasubramanian S",
      "userId": "06029493893713790610"
     },
     "user_tz": 420
    },
    "id": "vs0hj-4eeWaJ"
   },
   "outputs": [],
   "source": [
    "# Finding total non-NaN value\n",
    "total_non_NaN = np.count_nonzero(~np.isnan(y))"
   ]
  },
  {
   "cell_type": "markdown",
   "metadata": {
    "id": "1FiqzfxLeuuU"
   },
   "source": [
    "RMSE (Root Mean Square Error) for User-User recommendation system"
   ]
  },
  {
   "cell_type": "code",
   "execution_count": 154,
   "metadata": {
    "ExecuteTime": {
     "end_time": "2022-04-06T05:49:49.102838Z",
     "start_time": "2022-04-06T05:46:27.865Z"
    },
    "execution": {
     "iopub.execute_input": "2022-04-14T01:39:00.174204Z",
     "iopub.status.busy": "2022-04-14T01:39:00.173755Z",
     "iopub.status.idle": "2022-04-14T01:39:00.187074Z",
     "shell.execute_reply": "2022-04-14T01:39:00.186471Z",
     "shell.execute_reply.started": "2022-04-14T01:39:00.174159Z"
    },
    "executionInfo": {
     "elapsed": 30,
     "status": "ok",
     "timestamp": 1649227994188,
     "user": {
      "displayName": "Venkatasubramanian S",
      "userId": "06029493893713790610"
     },
     "user_tz": 420
    },
    "id": "186hVwNPeX1Q",
    "outputId": "6a0cc360-368b-4f12-9eeb-4108a07e76f4"
   },
   "outputs": [
    {
     "name": "stdout",
     "output_type": "stream",
     "text": [
      "2.551419404666111\n"
     ]
    }
   ],
   "source": [
    "rmse_user_user = (sum(sum((common_ - y )**2))/total_non_NaN)**0.5\n",
    "print(rmse_user_user)"
   ]
  },
  {
   "cell_type": "markdown",
   "metadata": {
    "id": "Rg0NYi8qkovk"
   },
   "source": [
    "## Using Item Similarity"
   ]
  },
  {
   "cell_type": "code",
   "execution_count": 155,
   "metadata": {
    "ExecuteTime": {
     "end_time": "2022-04-06T05:49:49.103839Z",
     "start_time": "2022-04-06T05:46:27.877Z"
    },
    "execution": {
     "iopub.execute_input": "2022-04-14T01:39:00.191203Z",
     "iopub.status.busy": "2022-04-14T01:39:00.190670Z",
     "iopub.status.idle": "2022-04-14T01:39:00.367712Z",
     "shell.execute_reply": "2022-04-14T01:39:00.366777Z",
     "shell.execute_reply.started": "2022-04-14T01:39:00.191151Z"
    },
    "executionInfo": {
     "elapsed": 454,
     "status": "ok",
     "timestamp": 1649227994624,
     "user": {
      "displayName": "Venkatasubramanian S",
      "userId": "06029493893713790610"
     },
     "user_tz": 420
    },
    "id": "wtg0sBrvk3Dh"
   },
   "outputs": [],
   "source": [
    "df_pivot = train.pivot_table(\n",
    "    index='reviews_username',\n",
    "    columns='id',\n",
    "    values='reviews_rating'\n",
    ").T"
   ]
  },
  {
   "cell_type": "code",
   "execution_count": 156,
   "metadata": {
    "ExecuteTime": {
     "end_time": "2022-04-06T05:49:49.104836Z",
     "start_time": "2022-04-06T05:46:27.884Z"
    },
    "execution": {
     "iopub.execute_input": "2022-04-14T01:39:00.369145Z",
     "iopub.status.busy": "2022-04-14T01:39:00.368903Z",
     "iopub.status.idle": "2022-04-14T01:39:00.418194Z",
     "shell.execute_reply": "2022-04-14T01:39:00.417260Z",
     "shell.execute_reply.started": "2022-04-14T01:39:00.369117Z"
    },
    "executionInfo": {
     "elapsed": 11,
     "status": "ok",
     "timestamp": 1649227994625,
     "user": {
      "displayName": "Venkatasubramanian S",
      "userId": "06029493893713790610"
     },
     "user_tz": 420
    },
    "id": "qCJ8VubjlDPF",
    "outputId": "3d35a391-bbeb-4ecf-a525-d3585a580070"
   },
   "outputs": [
    {
     "data": {
      "text/html": [
       "<div>\n",
       "<style scoped>\n",
       "    .dataframe tbody tr th:only-of-type {\n",
       "        vertical-align: middle;\n",
       "    }\n",
       "\n",
       "    .dataframe tbody tr th {\n",
       "        vertical-align: top;\n",
       "    }\n",
       "\n",
       "    .dataframe thead th {\n",
       "        text-align: right;\n",
       "    }\n",
       "</style>\n",
       "<table border=\"1\" class=\"dataframe\">\n",
       "  <thead>\n",
       "    <tr style=\"text-align: right;\">\n",
       "      <th>reviews_username</th>\n",
       "      <th>00sab00</th>\n",
       "      <th>01impala</th>\n",
       "      <th>02dakota</th>\n",
       "      <th>02deuce</th>\n",
       "      <th>0325home</th>\n",
       "      <th>06stidriver</th>\n",
       "      <th>08dallas</th>\n",
       "      <th>09mommy11</th>\n",
       "      <th>1.11E+24</th>\n",
       "      <th>1085</th>\n",
       "      <th>10ten</th>\n",
       "      <th>11111111aaaaaaaaaaaaaaaaa</th>\n",
       "      <th>1234</th>\n",
       "      <th>1234561</th>\n",
       "      <th>1234567</th>\n",
       "      <th>1234asdf</th>\n",
       "      <th>123cat123</th>\n",
       "      <th>123charlie</th>\n",
       "      <th>123numbers</th>\n",
       "      <th>123rs</th>\n",
       "      <th>123too</th>\n",
       "      <th>127726</th>\n",
       "      <th>12cass12</th>\n",
       "      <th>12gage</th>\n",
       "      <th>132457</th>\n",
       "      <th>13dani</th>\n",
       "      <th>13ram</th>\n",
       "      <th>13thfaerie</th>\n",
       "      <th>1421nikki</th>\n",
       "      <th>143st</th>\n",
       "      <th>...</th>\n",
       "      <th>zmom</th>\n",
       "      <th>znxfyt</th>\n",
       "      <th>zod10</th>\n",
       "      <th>zodness</th>\n",
       "      <th>zoe1988</th>\n",
       "      <th>zoeellasca</th>\n",
       "      <th>zoeyny</th>\n",
       "      <th>zombie</th>\n",
       "      <th>zombiedad80</th>\n",
       "      <th>zombiekiller</th>\n",
       "      <th>zombiekiller14</th>\n",
       "      <th>zone</th>\n",
       "      <th>zoney86</th>\n",
       "      <th>zooey_57</th>\n",
       "      <th>zookeeper</th>\n",
       "      <th>zoso60</th>\n",
       "      <th>zotox</th>\n",
       "      <th>zowie</th>\n",
       "      <th>zozo0o</th>\n",
       "      <th>zpalma</th>\n",
       "      <th>zsarah</th>\n",
       "      <th>zsazsa</th>\n",
       "      <th>zubb</th>\n",
       "      <th>zuttle</th>\n",
       "      <th>zwithanx</th>\n",
       "      <th>zxcsdfd</th>\n",
       "      <th>zxjki</th>\n",
       "      <th>zyiah4</th>\n",
       "      <th>zzdiane</th>\n",
       "      <th>zzz1127</th>\n",
       "    </tr>\n",
       "    <tr>\n",
       "      <th>id</th>\n",
       "      <th></th>\n",
       "      <th></th>\n",
       "      <th></th>\n",
       "      <th></th>\n",
       "      <th></th>\n",
       "      <th></th>\n",
       "      <th></th>\n",
       "      <th></th>\n",
       "      <th></th>\n",
       "      <th></th>\n",
       "      <th></th>\n",
       "      <th></th>\n",
       "      <th></th>\n",
       "      <th></th>\n",
       "      <th></th>\n",
       "      <th></th>\n",
       "      <th></th>\n",
       "      <th></th>\n",
       "      <th></th>\n",
       "      <th></th>\n",
       "      <th></th>\n",
       "      <th></th>\n",
       "      <th></th>\n",
       "      <th></th>\n",
       "      <th></th>\n",
       "      <th></th>\n",
       "      <th></th>\n",
       "      <th></th>\n",
       "      <th></th>\n",
       "      <th></th>\n",
       "      <th></th>\n",
       "      <th></th>\n",
       "      <th></th>\n",
       "      <th></th>\n",
       "      <th></th>\n",
       "      <th></th>\n",
       "      <th></th>\n",
       "      <th></th>\n",
       "      <th></th>\n",
       "      <th></th>\n",
       "      <th></th>\n",
       "      <th></th>\n",
       "      <th></th>\n",
       "      <th></th>\n",
       "      <th></th>\n",
       "      <th></th>\n",
       "      <th></th>\n",
       "      <th></th>\n",
       "      <th></th>\n",
       "      <th></th>\n",
       "      <th></th>\n",
       "      <th></th>\n",
       "      <th></th>\n",
       "      <th></th>\n",
       "      <th></th>\n",
       "      <th></th>\n",
       "      <th></th>\n",
       "      <th></th>\n",
       "      <th></th>\n",
       "      <th></th>\n",
       "      <th></th>\n",
       "    </tr>\n",
       "  </thead>\n",
       "  <tbody>\n",
       "    <tr>\n",
       "      <th>AV13O1A8GV-KLJ3akUyj</th>\n",
       "      <td>NaN</td>\n",
       "      <td>NaN</td>\n",
       "      <td>NaN</td>\n",
       "      <td>NaN</td>\n",
       "      <td>NaN</td>\n",
       "      <td>NaN</td>\n",
       "      <td>NaN</td>\n",
       "      <td>NaN</td>\n",
       "      <td>NaN</td>\n",
       "      <td>NaN</td>\n",
       "      <td>NaN</td>\n",
       "      <td>NaN</td>\n",
       "      <td>NaN</td>\n",
       "      <td>NaN</td>\n",
       "      <td>NaN</td>\n",
       "      <td>NaN</td>\n",
       "      <td>NaN</td>\n",
       "      <td>NaN</td>\n",
       "      <td>NaN</td>\n",
       "      <td>NaN</td>\n",
       "      <td>NaN</td>\n",
       "      <td>NaN</td>\n",
       "      <td>NaN</td>\n",
       "      <td>NaN</td>\n",
       "      <td>NaN</td>\n",
       "      <td>NaN</td>\n",
       "      <td>NaN</td>\n",
       "      <td>NaN</td>\n",
       "      <td>NaN</td>\n",
       "      <td>NaN</td>\n",
       "      <td>...</td>\n",
       "      <td>NaN</td>\n",
       "      <td>NaN</td>\n",
       "      <td>NaN</td>\n",
       "      <td>NaN</td>\n",
       "      <td>NaN</td>\n",
       "      <td>NaN</td>\n",
       "      <td>NaN</td>\n",
       "      <td>NaN</td>\n",
       "      <td>NaN</td>\n",
       "      <td>NaN</td>\n",
       "      <td>NaN</td>\n",
       "      <td>NaN</td>\n",
       "      <td>NaN</td>\n",
       "      <td>NaN</td>\n",
       "      <td>NaN</td>\n",
       "      <td>NaN</td>\n",
       "      <td>NaN</td>\n",
       "      <td>NaN</td>\n",
       "      <td>NaN</td>\n",
       "      <td>NaN</td>\n",
       "      <td>NaN</td>\n",
       "      <td>NaN</td>\n",
       "      <td>NaN</td>\n",
       "      <td>NaN</td>\n",
       "      <td>NaN</td>\n",
       "      <td>NaN</td>\n",
       "      <td>NaN</td>\n",
       "      <td>NaN</td>\n",
       "      <td>NaN</td>\n",
       "      <td>NaN</td>\n",
       "    </tr>\n",
       "    <tr>\n",
       "      <th>AV14LG0R-jtxr-f38QfS</th>\n",
       "      <td>NaN</td>\n",
       "      <td>NaN</td>\n",
       "      <td>NaN</td>\n",
       "      <td>NaN</td>\n",
       "      <td>NaN</td>\n",
       "      <td>NaN</td>\n",
       "      <td>NaN</td>\n",
       "      <td>NaN</td>\n",
       "      <td>NaN</td>\n",
       "      <td>NaN</td>\n",
       "      <td>NaN</td>\n",
       "      <td>NaN</td>\n",
       "      <td>NaN</td>\n",
       "      <td>NaN</td>\n",
       "      <td>NaN</td>\n",
       "      <td>NaN</td>\n",
       "      <td>NaN</td>\n",
       "      <td>NaN</td>\n",
       "      <td>NaN</td>\n",
       "      <td>NaN</td>\n",
       "      <td>NaN</td>\n",
       "      <td>NaN</td>\n",
       "      <td>NaN</td>\n",
       "      <td>NaN</td>\n",
       "      <td>NaN</td>\n",
       "      <td>NaN</td>\n",
       "      <td>NaN</td>\n",
       "      <td>NaN</td>\n",
       "      <td>NaN</td>\n",
       "      <td>NaN</td>\n",
       "      <td>...</td>\n",
       "      <td>NaN</td>\n",
       "      <td>NaN</td>\n",
       "      <td>NaN</td>\n",
       "      <td>NaN</td>\n",
       "      <td>NaN</td>\n",
       "      <td>NaN</td>\n",
       "      <td>NaN</td>\n",
       "      <td>NaN</td>\n",
       "      <td>NaN</td>\n",
       "      <td>NaN</td>\n",
       "      <td>NaN</td>\n",
       "      <td>NaN</td>\n",
       "      <td>NaN</td>\n",
       "      <td>NaN</td>\n",
       "      <td>NaN</td>\n",
       "      <td>NaN</td>\n",
       "      <td>NaN</td>\n",
       "      <td>NaN</td>\n",
       "      <td>NaN</td>\n",
       "      <td>NaN</td>\n",
       "      <td>NaN</td>\n",
       "      <td>NaN</td>\n",
       "      <td>NaN</td>\n",
       "      <td>NaN</td>\n",
       "      <td>NaN</td>\n",
       "      <td>NaN</td>\n",
       "      <td>NaN</td>\n",
       "      <td>NaN</td>\n",
       "      <td>NaN</td>\n",
       "      <td>NaN</td>\n",
       "    </tr>\n",
       "    <tr>\n",
       "      <th>AV16khLE-jtxr-f38VFn</th>\n",
       "      <td>NaN</td>\n",
       "      <td>NaN</td>\n",
       "      <td>NaN</td>\n",
       "      <td>NaN</td>\n",
       "      <td>NaN</td>\n",
       "      <td>NaN</td>\n",
       "      <td>NaN</td>\n",
       "      <td>NaN</td>\n",
       "      <td>NaN</td>\n",
       "      <td>NaN</td>\n",
       "      <td>NaN</td>\n",
       "      <td>NaN</td>\n",
       "      <td>NaN</td>\n",
       "      <td>NaN</td>\n",
       "      <td>NaN</td>\n",
       "      <td>NaN</td>\n",
       "      <td>NaN</td>\n",
       "      <td>NaN</td>\n",
       "      <td>NaN</td>\n",
       "      <td>NaN</td>\n",
       "      <td>NaN</td>\n",
       "      <td>NaN</td>\n",
       "      <td>NaN</td>\n",
       "      <td>NaN</td>\n",
       "      <td>NaN</td>\n",
       "      <td>NaN</td>\n",
       "      <td>NaN</td>\n",
       "      <td>NaN</td>\n",
       "      <td>NaN</td>\n",
       "      <td>NaN</td>\n",
       "      <td>...</td>\n",
       "      <td>NaN</td>\n",
       "      <td>NaN</td>\n",
       "      <td>NaN</td>\n",
       "      <td>NaN</td>\n",
       "      <td>NaN</td>\n",
       "      <td>NaN</td>\n",
       "      <td>NaN</td>\n",
       "      <td>NaN</td>\n",
       "      <td>NaN</td>\n",
       "      <td>NaN</td>\n",
       "      <td>NaN</td>\n",
       "      <td>NaN</td>\n",
       "      <td>NaN</td>\n",
       "      <td>NaN</td>\n",
       "      <td>NaN</td>\n",
       "      <td>NaN</td>\n",
       "      <td>NaN</td>\n",
       "      <td>NaN</td>\n",
       "      <td>NaN</td>\n",
       "      <td>NaN</td>\n",
       "      <td>NaN</td>\n",
       "      <td>NaN</td>\n",
       "      <td>NaN</td>\n",
       "      <td>NaN</td>\n",
       "      <td>NaN</td>\n",
       "      <td>NaN</td>\n",
       "      <td>NaN</td>\n",
       "      <td>NaN</td>\n",
       "      <td>NaN</td>\n",
       "      <td>NaN</td>\n",
       "    </tr>\n",
       "    <tr>\n",
       "      <th>AV1YGDqsGV-KLJ3adc-O</th>\n",
       "      <td>NaN</td>\n",
       "      <td>NaN</td>\n",
       "      <td>NaN</td>\n",
       "      <td>NaN</td>\n",
       "      <td>NaN</td>\n",
       "      <td>NaN</td>\n",
       "      <td>NaN</td>\n",
       "      <td>NaN</td>\n",
       "      <td>NaN</td>\n",
       "      <td>NaN</td>\n",
       "      <td>NaN</td>\n",
       "      <td>NaN</td>\n",
       "      <td>NaN</td>\n",
       "      <td>NaN</td>\n",
       "      <td>NaN</td>\n",
       "      <td>NaN</td>\n",
       "      <td>NaN</td>\n",
       "      <td>NaN</td>\n",
       "      <td>NaN</td>\n",
       "      <td>NaN</td>\n",
       "      <td>NaN</td>\n",
       "      <td>NaN</td>\n",
       "      <td>NaN</td>\n",
       "      <td>NaN</td>\n",
       "      <td>NaN</td>\n",
       "      <td>NaN</td>\n",
       "      <td>NaN</td>\n",
       "      <td>NaN</td>\n",
       "      <td>NaN</td>\n",
       "      <td>NaN</td>\n",
       "      <td>...</td>\n",
       "      <td>NaN</td>\n",
       "      <td>NaN</td>\n",
       "      <td>NaN</td>\n",
       "      <td>NaN</td>\n",
       "      <td>NaN</td>\n",
       "      <td>NaN</td>\n",
       "      <td>NaN</td>\n",
       "      <td>NaN</td>\n",
       "      <td>NaN</td>\n",
       "      <td>NaN</td>\n",
       "      <td>NaN</td>\n",
       "      <td>NaN</td>\n",
       "      <td>NaN</td>\n",
       "      <td>NaN</td>\n",
       "      <td>NaN</td>\n",
       "      <td>NaN</td>\n",
       "      <td>NaN</td>\n",
       "      <td>NaN</td>\n",
       "      <td>NaN</td>\n",
       "      <td>NaN</td>\n",
       "      <td>NaN</td>\n",
       "      <td>NaN</td>\n",
       "      <td>NaN</td>\n",
       "      <td>NaN</td>\n",
       "      <td>NaN</td>\n",
       "      <td>NaN</td>\n",
       "      <td>NaN</td>\n",
       "      <td>NaN</td>\n",
       "      <td>NaN</td>\n",
       "      <td>NaN</td>\n",
       "    </tr>\n",
       "    <tr>\n",
       "      <th>AV1YIch7GV-KLJ3addeG</th>\n",
       "      <td>NaN</td>\n",
       "      <td>NaN</td>\n",
       "      <td>NaN</td>\n",
       "      <td>NaN</td>\n",
       "      <td>NaN</td>\n",
       "      <td>NaN</td>\n",
       "      <td>NaN</td>\n",
       "      <td>NaN</td>\n",
       "      <td>NaN</td>\n",
       "      <td>NaN</td>\n",
       "      <td>NaN</td>\n",
       "      <td>NaN</td>\n",
       "      <td>NaN</td>\n",
       "      <td>NaN</td>\n",
       "      <td>NaN</td>\n",
       "      <td>NaN</td>\n",
       "      <td>NaN</td>\n",
       "      <td>NaN</td>\n",
       "      <td>NaN</td>\n",
       "      <td>NaN</td>\n",
       "      <td>NaN</td>\n",
       "      <td>NaN</td>\n",
       "      <td>NaN</td>\n",
       "      <td>NaN</td>\n",
       "      <td>NaN</td>\n",
       "      <td>NaN</td>\n",
       "      <td>NaN</td>\n",
       "      <td>NaN</td>\n",
       "      <td>NaN</td>\n",
       "      <td>NaN</td>\n",
       "      <td>...</td>\n",
       "      <td>NaN</td>\n",
       "      <td>NaN</td>\n",
       "      <td>NaN</td>\n",
       "      <td>NaN</td>\n",
       "      <td>NaN</td>\n",
       "      <td>NaN</td>\n",
       "      <td>NaN</td>\n",
       "      <td>NaN</td>\n",
       "      <td>NaN</td>\n",
       "      <td>NaN</td>\n",
       "      <td>NaN</td>\n",
       "      <td>NaN</td>\n",
       "      <td>NaN</td>\n",
       "      <td>NaN</td>\n",
       "      <td>NaN</td>\n",
       "      <td>NaN</td>\n",
       "      <td>NaN</td>\n",
       "      <td>NaN</td>\n",
       "      <td>NaN</td>\n",
       "      <td>NaN</td>\n",
       "      <td>NaN</td>\n",
       "      <td>NaN</td>\n",
       "      <td>NaN</td>\n",
       "      <td>NaN</td>\n",
       "      <td>NaN</td>\n",
       "      <td>NaN</td>\n",
       "      <td>NaN</td>\n",
       "      <td>NaN</td>\n",
       "      <td>NaN</td>\n",
       "      <td>NaN</td>\n",
       "    </tr>\n",
       "  </tbody>\n",
       "</table>\n",
       "<p>5 rows × 18275 columns</p>\n",
       "</div>"
      ],
      "text/plain": [
       "reviews_username      00sab00  01impala  02dakota  02deuce  0325home  \\\n",
       "id                                                                     \n",
       "AV13O1A8GV-KLJ3akUyj      NaN       NaN       NaN      NaN       NaN   \n",
       "AV14LG0R-jtxr-f38QfS      NaN       NaN       NaN      NaN       NaN   \n",
       "AV16khLE-jtxr-f38VFn      NaN       NaN       NaN      NaN       NaN   \n",
       "AV1YGDqsGV-KLJ3adc-O      NaN       NaN       NaN      NaN       NaN   \n",
       "AV1YIch7GV-KLJ3addeG      NaN       NaN       NaN      NaN       NaN   \n",
       "\n",
       "reviews_username      06stidriver  08dallas  09mommy11  1.11E+24  1085  10ten  \\\n",
       "id                                                                              \n",
       "AV13O1A8GV-KLJ3akUyj          NaN       NaN        NaN       NaN   NaN    NaN   \n",
       "AV14LG0R-jtxr-f38QfS          NaN       NaN        NaN       NaN   NaN    NaN   \n",
       "AV16khLE-jtxr-f38VFn          NaN       NaN        NaN       NaN   NaN    NaN   \n",
       "AV1YGDqsGV-KLJ3adc-O          NaN       NaN        NaN       NaN   NaN    NaN   \n",
       "AV1YIch7GV-KLJ3addeG          NaN       NaN        NaN       NaN   NaN    NaN   \n",
       "\n",
       "reviews_username      11111111aaaaaaaaaaaaaaaaa  1234  1234561  1234567  \\\n",
       "id                                                                        \n",
       "AV13O1A8GV-KLJ3akUyj                        NaN   NaN      NaN      NaN   \n",
       "AV14LG0R-jtxr-f38QfS                        NaN   NaN      NaN      NaN   \n",
       "AV16khLE-jtxr-f38VFn                        NaN   NaN      NaN      NaN   \n",
       "AV1YGDqsGV-KLJ3adc-O                        NaN   NaN      NaN      NaN   \n",
       "AV1YIch7GV-KLJ3addeG                        NaN   NaN      NaN      NaN   \n",
       "\n",
       "reviews_username      1234asdf  123cat123  123charlie  123numbers  123rs  \\\n",
       "id                                                                         \n",
       "AV13O1A8GV-KLJ3akUyj       NaN        NaN         NaN         NaN    NaN   \n",
       "AV14LG0R-jtxr-f38QfS       NaN        NaN         NaN         NaN    NaN   \n",
       "AV16khLE-jtxr-f38VFn       NaN        NaN         NaN         NaN    NaN   \n",
       "AV1YGDqsGV-KLJ3adc-O       NaN        NaN         NaN         NaN    NaN   \n",
       "AV1YIch7GV-KLJ3addeG       NaN        NaN         NaN         NaN    NaN   \n",
       "\n",
       "reviews_username      123too  127726  12cass12  12gage  132457  13dani  13ram  \\\n",
       "id                                                                              \n",
       "AV13O1A8GV-KLJ3akUyj     NaN     NaN       NaN     NaN     NaN     NaN    NaN   \n",
       "AV14LG0R-jtxr-f38QfS     NaN     NaN       NaN     NaN     NaN     NaN    NaN   \n",
       "AV16khLE-jtxr-f38VFn     NaN     NaN       NaN     NaN     NaN     NaN    NaN   \n",
       "AV1YGDqsGV-KLJ3adc-O     NaN     NaN       NaN     NaN     NaN     NaN    NaN   \n",
       "AV1YIch7GV-KLJ3addeG     NaN     NaN       NaN     NaN     NaN     NaN    NaN   \n",
       "\n",
       "reviews_username      13thfaerie  1421nikki  143st  ...  zmom  znxfyt  zod10  \\\n",
       "id                                                  ...                        \n",
       "AV13O1A8GV-KLJ3akUyj         NaN        NaN    NaN  ...   NaN     NaN    NaN   \n",
       "AV14LG0R-jtxr-f38QfS         NaN        NaN    NaN  ...   NaN     NaN    NaN   \n",
       "AV16khLE-jtxr-f38VFn         NaN        NaN    NaN  ...   NaN     NaN    NaN   \n",
       "AV1YGDqsGV-KLJ3adc-O         NaN        NaN    NaN  ...   NaN     NaN    NaN   \n",
       "AV1YIch7GV-KLJ3addeG         NaN        NaN    NaN  ...   NaN     NaN    NaN   \n",
       "\n",
       "reviews_username      zodness  zoe1988  zoeellasca  zoeyny  zombie  \\\n",
       "id                                                                   \n",
       "AV13O1A8GV-KLJ3akUyj      NaN      NaN         NaN     NaN     NaN   \n",
       "AV14LG0R-jtxr-f38QfS      NaN      NaN         NaN     NaN     NaN   \n",
       "AV16khLE-jtxr-f38VFn      NaN      NaN         NaN     NaN     NaN   \n",
       "AV1YGDqsGV-KLJ3adc-O      NaN      NaN         NaN     NaN     NaN   \n",
       "AV1YIch7GV-KLJ3addeG      NaN      NaN         NaN     NaN     NaN   \n",
       "\n",
       "reviews_username      zombiedad80  zombiekiller  zombiekiller14  zone  \\\n",
       "id                                                                      \n",
       "AV13O1A8GV-KLJ3akUyj          NaN           NaN             NaN   NaN   \n",
       "AV14LG0R-jtxr-f38QfS          NaN           NaN             NaN   NaN   \n",
       "AV16khLE-jtxr-f38VFn          NaN           NaN             NaN   NaN   \n",
       "AV1YGDqsGV-KLJ3adc-O          NaN           NaN             NaN   NaN   \n",
       "AV1YIch7GV-KLJ3addeG          NaN           NaN             NaN   NaN   \n",
       "\n",
       "reviews_username      zoney86  zooey_57  zookeeper  zoso60  zotox  zowie  \\\n",
       "id                                                                         \n",
       "AV13O1A8GV-KLJ3akUyj      NaN       NaN        NaN     NaN    NaN    NaN   \n",
       "AV14LG0R-jtxr-f38QfS      NaN       NaN        NaN     NaN    NaN    NaN   \n",
       "AV16khLE-jtxr-f38VFn      NaN       NaN        NaN     NaN    NaN    NaN   \n",
       "AV1YGDqsGV-KLJ3adc-O      NaN       NaN        NaN     NaN    NaN    NaN   \n",
       "AV1YIch7GV-KLJ3addeG      NaN       NaN        NaN     NaN    NaN    NaN   \n",
       "\n",
       "reviews_username      zozo0o  zpalma  zsarah  zsazsa  zubb  zuttle  zwithanx  \\\n",
       "id                                                                             \n",
       "AV13O1A8GV-KLJ3akUyj     NaN     NaN     NaN     NaN   NaN     NaN       NaN   \n",
       "AV14LG0R-jtxr-f38QfS     NaN     NaN     NaN     NaN   NaN     NaN       NaN   \n",
       "AV16khLE-jtxr-f38VFn     NaN     NaN     NaN     NaN   NaN     NaN       NaN   \n",
       "AV1YGDqsGV-KLJ3adc-O     NaN     NaN     NaN     NaN   NaN     NaN       NaN   \n",
       "AV1YIch7GV-KLJ3addeG     NaN     NaN     NaN     NaN   NaN     NaN       NaN   \n",
       "\n",
       "reviews_username      zxcsdfd  zxjki  zyiah4  zzdiane  zzz1127  \n",
       "id                                                              \n",
       "AV13O1A8GV-KLJ3akUyj      NaN    NaN     NaN      NaN      NaN  \n",
       "AV14LG0R-jtxr-f38QfS      NaN    NaN     NaN      NaN      NaN  \n",
       "AV16khLE-jtxr-f38VFn      NaN    NaN     NaN      NaN      NaN  \n",
       "AV1YGDqsGV-KLJ3adc-O      NaN    NaN     NaN      NaN      NaN  \n",
       "AV1YIch7GV-KLJ3addeG      NaN    NaN     NaN      NaN      NaN  \n",
       "\n",
       "[5 rows x 18275 columns]"
      ]
     },
     "execution_count": 156,
     "metadata": {},
     "output_type": "execute_result"
    }
   ],
   "source": [
    "df_pivot.head()"
   ]
  },
  {
   "cell_type": "code",
   "execution_count": 157,
   "metadata": {
    "ExecuteTime": {
     "end_time": "2022-04-06T05:49:49.105838Z",
     "start_time": "2022-04-06T05:46:27.894Z"
    },
    "execution": {
     "iopub.execute_input": "2022-04-14T01:39:00.419866Z",
     "iopub.status.busy": "2022-04-14T01:39:00.419640Z",
     "iopub.status.idle": "2022-04-14T01:39:00.471050Z",
     "shell.execute_reply": "2022-04-14T01:39:00.470320Z",
     "shell.execute_reply.started": "2022-04-14T01:39:00.419837Z"
    },
    "executionInfo": {
     "elapsed": 11,
     "status": "ok",
     "timestamp": 1649227994626,
     "user": {
      "displayName": "Venkatasubramanian S",
      "userId": "06029493893713790610"
     },
     "user_tz": 420
    },
    "id": "qzXzVPZflQYI"
   },
   "outputs": [],
   "source": [
    "mean = np.nanmean(df_pivot, axis=1)\n",
    "df_subtracted = (df_pivot.T-mean).T"
   ]
  },
  {
   "cell_type": "code",
   "execution_count": 158,
   "metadata": {
    "ExecuteTime": {
     "end_time": "2022-04-06T05:49:49.107837Z",
     "start_time": "2022-04-06T05:46:27.900Z"
    },
    "execution": {
     "iopub.execute_input": "2022-04-14T01:39:00.472526Z",
     "iopub.status.busy": "2022-04-14T01:39:00.472317Z",
     "iopub.status.idle": "2022-04-14T01:39:00.515364Z",
     "shell.execute_reply": "2022-04-14T01:39:00.514798Z",
     "shell.execute_reply.started": "2022-04-14T01:39:00.472502Z"
    },
    "executionInfo": {
     "elapsed": 11,
     "status": "ok",
     "timestamp": 1649227994627,
     "user": {
      "displayName": "Venkatasubramanian S",
      "userId": "06029493893713790610"
     },
     "user_tz": 420
    },
    "id": "lvUJBrQDlSJ7",
    "outputId": "a26104c0-aef7-4a0c-db5b-6863ffd95270"
   },
   "outputs": [
    {
     "data": {
      "text/html": [
       "<div>\n",
       "<style scoped>\n",
       "    .dataframe tbody tr th:only-of-type {\n",
       "        vertical-align: middle;\n",
       "    }\n",
       "\n",
       "    .dataframe tbody tr th {\n",
       "        vertical-align: top;\n",
       "    }\n",
       "\n",
       "    .dataframe thead th {\n",
       "        text-align: right;\n",
       "    }\n",
       "</style>\n",
       "<table border=\"1\" class=\"dataframe\">\n",
       "  <thead>\n",
       "    <tr style=\"text-align: right;\">\n",
       "      <th>reviews_username</th>\n",
       "      <th>00sab00</th>\n",
       "      <th>01impala</th>\n",
       "      <th>02dakota</th>\n",
       "      <th>02deuce</th>\n",
       "      <th>0325home</th>\n",
       "      <th>06stidriver</th>\n",
       "      <th>08dallas</th>\n",
       "      <th>09mommy11</th>\n",
       "      <th>1.11E+24</th>\n",
       "      <th>1085</th>\n",
       "      <th>10ten</th>\n",
       "      <th>11111111aaaaaaaaaaaaaaaaa</th>\n",
       "      <th>1234</th>\n",
       "      <th>1234561</th>\n",
       "      <th>1234567</th>\n",
       "      <th>1234asdf</th>\n",
       "      <th>123cat123</th>\n",
       "      <th>123charlie</th>\n",
       "      <th>123numbers</th>\n",
       "      <th>123rs</th>\n",
       "      <th>123too</th>\n",
       "      <th>127726</th>\n",
       "      <th>12cass12</th>\n",
       "      <th>12gage</th>\n",
       "      <th>132457</th>\n",
       "      <th>13dani</th>\n",
       "      <th>13ram</th>\n",
       "      <th>13thfaerie</th>\n",
       "      <th>1421nikki</th>\n",
       "      <th>143st</th>\n",
       "      <th>...</th>\n",
       "      <th>zmom</th>\n",
       "      <th>znxfyt</th>\n",
       "      <th>zod10</th>\n",
       "      <th>zodness</th>\n",
       "      <th>zoe1988</th>\n",
       "      <th>zoeellasca</th>\n",
       "      <th>zoeyny</th>\n",
       "      <th>zombie</th>\n",
       "      <th>zombiedad80</th>\n",
       "      <th>zombiekiller</th>\n",
       "      <th>zombiekiller14</th>\n",
       "      <th>zone</th>\n",
       "      <th>zoney86</th>\n",
       "      <th>zooey_57</th>\n",
       "      <th>zookeeper</th>\n",
       "      <th>zoso60</th>\n",
       "      <th>zotox</th>\n",
       "      <th>zowie</th>\n",
       "      <th>zozo0o</th>\n",
       "      <th>zpalma</th>\n",
       "      <th>zsarah</th>\n",
       "      <th>zsazsa</th>\n",
       "      <th>zubb</th>\n",
       "      <th>zuttle</th>\n",
       "      <th>zwithanx</th>\n",
       "      <th>zxcsdfd</th>\n",
       "      <th>zxjki</th>\n",
       "      <th>zyiah4</th>\n",
       "      <th>zzdiane</th>\n",
       "      <th>zzz1127</th>\n",
       "    </tr>\n",
       "    <tr>\n",
       "      <th>id</th>\n",
       "      <th></th>\n",
       "      <th></th>\n",
       "      <th></th>\n",
       "      <th></th>\n",
       "      <th></th>\n",
       "      <th></th>\n",
       "      <th></th>\n",
       "      <th></th>\n",
       "      <th></th>\n",
       "      <th></th>\n",
       "      <th></th>\n",
       "      <th></th>\n",
       "      <th></th>\n",
       "      <th></th>\n",
       "      <th></th>\n",
       "      <th></th>\n",
       "      <th></th>\n",
       "      <th></th>\n",
       "      <th></th>\n",
       "      <th></th>\n",
       "      <th></th>\n",
       "      <th></th>\n",
       "      <th></th>\n",
       "      <th></th>\n",
       "      <th></th>\n",
       "      <th></th>\n",
       "      <th></th>\n",
       "      <th></th>\n",
       "      <th></th>\n",
       "      <th></th>\n",
       "      <th></th>\n",
       "      <th></th>\n",
       "      <th></th>\n",
       "      <th></th>\n",
       "      <th></th>\n",
       "      <th></th>\n",
       "      <th></th>\n",
       "      <th></th>\n",
       "      <th></th>\n",
       "      <th></th>\n",
       "      <th></th>\n",
       "      <th></th>\n",
       "      <th></th>\n",
       "      <th></th>\n",
       "      <th></th>\n",
       "      <th></th>\n",
       "      <th></th>\n",
       "      <th></th>\n",
       "      <th></th>\n",
       "      <th></th>\n",
       "      <th></th>\n",
       "      <th></th>\n",
       "      <th></th>\n",
       "      <th></th>\n",
       "      <th></th>\n",
       "      <th></th>\n",
       "      <th></th>\n",
       "      <th></th>\n",
       "      <th></th>\n",
       "      <th></th>\n",
       "      <th></th>\n",
       "    </tr>\n",
       "  </thead>\n",
       "  <tbody>\n",
       "    <tr>\n",
       "      <th>AV13O1A8GV-KLJ3akUyj</th>\n",
       "      <td>NaN</td>\n",
       "      <td>NaN</td>\n",
       "      <td>NaN</td>\n",
       "      <td>NaN</td>\n",
       "      <td>NaN</td>\n",
       "      <td>NaN</td>\n",
       "      <td>NaN</td>\n",
       "      <td>NaN</td>\n",
       "      <td>NaN</td>\n",
       "      <td>NaN</td>\n",
       "      <td>NaN</td>\n",
       "      <td>NaN</td>\n",
       "      <td>NaN</td>\n",
       "      <td>NaN</td>\n",
       "      <td>NaN</td>\n",
       "      <td>NaN</td>\n",
       "      <td>NaN</td>\n",
       "      <td>NaN</td>\n",
       "      <td>NaN</td>\n",
       "      <td>NaN</td>\n",
       "      <td>NaN</td>\n",
       "      <td>NaN</td>\n",
       "      <td>NaN</td>\n",
       "      <td>NaN</td>\n",
       "      <td>NaN</td>\n",
       "      <td>NaN</td>\n",
       "      <td>NaN</td>\n",
       "      <td>NaN</td>\n",
       "      <td>NaN</td>\n",
       "      <td>NaN</td>\n",
       "      <td>...</td>\n",
       "      <td>NaN</td>\n",
       "      <td>NaN</td>\n",
       "      <td>NaN</td>\n",
       "      <td>NaN</td>\n",
       "      <td>NaN</td>\n",
       "      <td>NaN</td>\n",
       "      <td>NaN</td>\n",
       "      <td>NaN</td>\n",
       "      <td>NaN</td>\n",
       "      <td>NaN</td>\n",
       "      <td>NaN</td>\n",
       "      <td>NaN</td>\n",
       "      <td>NaN</td>\n",
       "      <td>NaN</td>\n",
       "      <td>NaN</td>\n",
       "      <td>NaN</td>\n",
       "      <td>NaN</td>\n",
       "      <td>NaN</td>\n",
       "      <td>NaN</td>\n",
       "      <td>NaN</td>\n",
       "      <td>NaN</td>\n",
       "      <td>NaN</td>\n",
       "      <td>NaN</td>\n",
       "      <td>NaN</td>\n",
       "      <td>NaN</td>\n",
       "      <td>NaN</td>\n",
       "      <td>NaN</td>\n",
       "      <td>NaN</td>\n",
       "      <td>NaN</td>\n",
       "      <td>NaN</td>\n",
       "    </tr>\n",
       "    <tr>\n",
       "      <th>AV14LG0R-jtxr-f38QfS</th>\n",
       "      <td>NaN</td>\n",
       "      <td>NaN</td>\n",
       "      <td>NaN</td>\n",
       "      <td>NaN</td>\n",
       "      <td>NaN</td>\n",
       "      <td>NaN</td>\n",
       "      <td>NaN</td>\n",
       "      <td>NaN</td>\n",
       "      <td>NaN</td>\n",
       "      <td>NaN</td>\n",
       "      <td>NaN</td>\n",
       "      <td>NaN</td>\n",
       "      <td>NaN</td>\n",
       "      <td>NaN</td>\n",
       "      <td>NaN</td>\n",
       "      <td>NaN</td>\n",
       "      <td>NaN</td>\n",
       "      <td>NaN</td>\n",
       "      <td>NaN</td>\n",
       "      <td>NaN</td>\n",
       "      <td>NaN</td>\n",
       "      <td>NaN</td>\n",
       "      <td>NaN</td>\n",
       "      <td>NaN</td>\n",
       "      <td>NaN</td>\n",
       "      <td>NaN</td>\n",
       "      <td>NaN</td>\n",
       "      <td>NaN</td>\n",
       "      <td>NaN</td>\n",
       "      <td>NaN</td>\n",
       "      <td>...</td>\n",
       "      <td>NaN</td>\n",
       "      <td>NaN</td>\n",
       "      <td>NaN</td>\n",
       "      <td>NaN</td>\n",
       "      <td>NaN</td>\n",
       "      <td>NaN</td>\n",
       "      <td>NaN</td>\n",
       "      <td>NaN</td>\n",
       "      <td>NaN</td>\n",
       "      <td>NaN</td>\n",
       "      <td>NaN</td>\n",
       "      <td>NaN</td>\n",
       "      <td>NaN</td>\n",
       "      <td>NaN</td>\n",
       "      <td>NaN</td>\n",
       "      <td>NaN</td>\n",
       "      <td>NaN</td>\n",
       "      <td>NaN</td>\n",
       "      <td>NaN</td>\n",
       "      <td>NaN</td>\n",
       "      <td>NaN</td>\n",
       "      <td>NaN</td>\n",
       "      <td>NaN</td>\n",
       "      <td>NaN</td>\n",
       "      <td>NaN</td>\n",
       "      <td>NaN</td>\n",
       "      <td>NaN</td>\n",
       "      <td>NaN</td>\n",
       "      <td>NaN</td>\n",
       "      <td>NaN</td>\n",
       "    </tr>\n",
       "    <tr>\n",
       "      <th>AV16khLE-jtxr-f38VFn</th>\n",
       "      <td>NaN</td>\n",
       "      <td>NaN</td>\n",
       "      <td>NaN</td>\n",
       "      <td>NaN</td>\n",
       "      <td>NaN</td>\n",
       "      <td>NaN</td>\n",
       "      <td>NaN</td>\n",
       "      <td>NaN</td>\n",
       "      <td>NaN</td>\n",
       "      <td>NaN</td>\n",
       "      <td>NaN</td>\n",
       "      <td>NaN</td>\n",
       "      <td>NaN</td>\n",
       "      <td>NaN</td>\n",
       "      <td>NaN</td>\n",
       "      <td>NaN</td>\n",
       "      <td>NaN</td>\n",
       "      <td>NaN</td>\n",
       "      <td>NaN</td>\n",
       "      <td>NaN</td>\n",
       "      <td>NaN</td>\n",
       "      <td>NaN</td>\n",
       "      <td>NaN</td>\n",
       "      <td>NaN</td>\n",
       "      <td>NaN</td>\n",
       "      <td>NaN</td>\n",
       "      <td>NaN</td>\n",
       "      <td>NaN</td>\n",
       "      <td>NaN</td>\n",
       "      <td>NaN</td>\n",
       "      <td>...</td>\n",
       "      <td>NaN</td>\n",
       "      <td>NaN</td>\n",
       "      <td>NaN</td>\n",
       "      <td>NaN</td>\n",
       "      <td>NaN</td>\n",
       "      <td>NaN</td>\n",
       "      <td>NaN</td>\n",
       "      <td>NaN</td>\n",
       "      <td>NaN</td>\n",
       "      <td>NaN</td>\n",
       "      <td>NaN</td>\n",
       "      <td>NaN</td>\n",
       "      <td>NaN</td>\n",
       "      <td>NaN</td>\n",
       "      <td>NaN</td>\n",
       "      <td>NaN</td>\n",
       "      <td>NaN</td>\n",
       "      <td>NaN</td>\n",
       "      <td>NaN</td>\n",
       "      <td>NaN</td>\n",
       "      <td>NaN</td>\n",
       "      <td>NaN</td>\n",
       "      <td>NaN</td>\n",
       "      <td>NaN</td>\n",
       "      <td>NaN</td>\n",
       "      <td>NaN</td>\n",
       "      <td>NaN</td>\n",
       "      <td>NaN</td>\n",
       "      <td>NaN</td>\n",
       "      <td>NaN</td>\n",
       "    </tr>\n",
       "    <tr>\n",
       "      <th>AV1YGDqsGV-KLJ3adc-O</th>\n",
       "      <td>NaN</td>\n",
       "      <td>NaN</td>\n",
       "      <td>NaN</td>\n",
       "      <td>NaN</td>\n",
       "      <td>NaN</td>\n",
       "      <td>NaN</td>\n",
       "      <td>NaN</td>\n",
       "      <td>NaN</td>\n",
       "      <td>NaN</td>\n",
       "      <td>NaN</td>\n",
       "      <td>NaN</td>\n",
       "      <td>NaN</td>\n",
       "      <td>NaN</td>\n",
       "      <td>NaN</td>\n",
       "      <td>NaN</td>\n",
       "      <td>NaN</td>\n",
       "      <td>NaN</td>\n",
       "      <td>NaN</td>\n",
       "      <td>NaN</td>\n",
       "      <td>NaN</td>\n",
       "      <td>NaN</td>\n",
       "      <td>NaN</td>\n",
       "      <td>NaN</td>\n",
       "      <td>NaN</td>\n",
       "      <td>NaN</td>\n",
       "      <td>NaN</td>\n",
       "      <td>NaN</td>\n",
       "      <td>NaN</td>\n",
       "      <td>NaN</td>\n",
       "      <td>NaN</td>\n",
       "      <td>...</td>\n",
       "      <td>NaN</td>\n",
       "      <td>NaN</td>\n",
       "      <td>NaN</td>\n",
       "      <td>NaN</td>\n",
       "      <td>NaN</td>\n",
       "      <td>NaN</td>\n",
       "      <td>NaN</td>\n",
       "      <td>NaN</td>\n",
       "      <td>NaN</td>\n",
       "      <td>NaN</td>\n",
       "      <td>NaN</td>\n",
       "      <td>NaN</td>\n",
       "      <td>NaN</td>\n",
       "      <td>NaN</td>\n",
       "      <td>NaN</td>\n",
       "      <td>NaN</td>\n",
       "      <td>NaN</td>\n",
       "      <td>NaN</td>\n",
       "      <td>NaN</td>\n",
       "      <td>NaN</td>\n",
       "      <td>NaN</td>\n",
       "      <td>NaN</td>\n",
       "      <td>NaN</td>\n",
       "      <td>NaN</td>\n",
       "      <td>NaN</td>\n",
       "      <td>NaN</td>\n",
       "      <td>NaN</td>\n",
       "      <td>NaN</td>\n",
       "      <td>NaN</td>\n",
       "      <td>NaN</td>\n",
       "    </tr>\n",
       "    <tr>\n",
       "      <th>AV1YIch7GV-KLJ3addeG</th>\n",
       "      <td>NaN</td>\n",
       "      <td>NaN</td>\n",
       "      <td>NaN</td>\n",
       "      <td>NaN</td>\n",
       "      <td>NaN</td>\n",
       "      <td>NaN</td>\n",
       "      <td>NaN</td>\n",
       "      <td>NaN</td>\n",
       "      <td>NaN</td>\n",
       "      <td>NaN</td>\n",
       "      <td>NaN</td>\n",
       "      <td>NaN</td>\n",
       "      <td>NaN</td>\n",
       "      <td>NaN</td>\n",
       "      <td>NaN</td>\n",
       "      <td>NaN</td>\n",
       "      <td>NaN</td>\n",
       "      <td>NaN</td>\n",
       "      <td>NaN</td>\n",
       "      <td>NaN</td>\n",
       "      <td>NaN</td>\n",
       "      <td>NaN</td>\n",
       "      <td>NaN</td>\n",
       "      <td>NaN</td>\n",
       "      <td>NaN</td>\n",
       "      <td>NaN</td>\n",
       "      <td>NaN</td>\n",
       "      <td>NaN</td>\n",
       "      <td>NaN</td>\n",
       "      <td>NaN</td>\n",
       "      <td>...</td>\n",
       "      <td>NaN</td>\n",
       "      <td>NaN</td>\n",
       "      <td>NaN</td>\n",
       "      <td>NaN</td>\n",
       "      <td>NaN</td>\n",
       "      <td>NaN</td>\n",
       "      <td>NaN</td>\n",
       "      <td>NaN</td>\n",
       "      <td>NaN</td>\n",
       "      <td>NaN</td>\n",
       "      <td>NaN</td>\n",
       "      <td>NaN</td>\n",
       "      <td>NaN</td>\n",
       "      <td>NaN</td>\n",
       "      <td>NaN</td>\n",
       "      <td>NaN</td>\n",
       "      <td>NaN</td>\n",
       "      <td>NaN</td>\n",
       "      <td>NaN</td>\n",
       "      <td>NaN</td>\n",
       "      <td>NaN</td>\n",
       "      <td>NaN</td>\n",
       "      <td>NaN</td>\n",
       "      <td>NaN</td>\n",
       "      <td>NaN</td>\n",
       "      <td>NaN</td>\n",
       "      <td>NaN</td>\n",
       "      <td>NaN</td>\n",
       "      <td>NaN</td>\n",
       "      <td>NaN</td>\n",
       "    </tr>\n",
       "  </tbody>\n",
       "</table>\n",
       "<p>5 rows × 18275 columns</p>\n",
       "</div>"
      ],
      "text/plain": [
       "reviews_username      00sab00  01impala  02dakota  02deuce  0325home  \\\n",
       "id                                                                     \n",
       "AV13O1A8GV-KLJ3akUyj      NaN       NaN       NaN      NaN       NaN   \n",
       "AV14LG0R-jtxr-f38QfS      NaN       NaN       NaN      NaN       NaN   \n",
       "AV16khLE-jtxr-f38VFn      NaN       NaN       NaN      NaN       NaN   \n",
       "AV1YGDqsGV-KLJ3adc-O      NaN       NaN       NaN      NaN       NaN   \n",
       "AV1YIch7GV-KLJ3addeG      NaN       NaN       NaN      NaN       NaN   \n",
       "\n",
       "reviews_username      06stidriver  08dallas  09mommy11  1.11E+24  1085  10ten  \\\n",
       "id                                                                              \n",
       "AV13O1A8GV-KLJ3akUyj          NaN       NaN        NaN       NaN   NaN    NaN   \n",
       "AV14LG0R-jtxr-f38QfS          NaN       NaN        NaN       NaN   NaN    NaN   \n",
       "AV16khLE-jtxr-f38VFn          NaN       NaN        NaN       NaN   NaN    NaN   \n",
       "AV1YGDqsGV-KLJ3adc-O          NaN       NaN        NaN       NaN   NaN    NaN   \n",
       "AV1YIch7GV-KLJ3addeG          NaN       NaN        NaN       NaN   NaN    NaN   \n",
       "\n",
       "reviews_username      11111111aaaaaaaaaaaaaaaaa  1234  1234561  1234567  \\\n",
       "id                                                                        \n",
       "AV13O1A8GV-KLJ3akUyj                        NaN   NaN      NaN      NaN   \n",
       "AV14LG0R-jtxr-f38QfS                        NaN   NaN      NaN      NaN   \n",
       "AV16khLE-jtxr-f38VFn                        NaN   NaN      NaN      NaN   \n",
       "AV1YGDqsGV-KLJ3adc-O                        NaN   NaN      NaN      NaN   \n",
       "AV1YIch7GV-KLJ3addeG                        NaN   NaN      NaN      NaN   \n",
       "\n",
       "reviews_username      1234asdf  123cat123  123charlie  123numbers  123rs  \\\n",
       "id                                                                         \n",
       "AV13O1A8GV-KLJ3akUyj       NaN        NaN         NaN         NaN    NaN   \n",
       "AV14LG0R-jtxr-f38QfS       NaN        NaN         NaN         NaN    NaN   \n",
       "AV16khLE-jtxr-f38VFn       NaN        NaN         NaN         NaN    NaN   \n",
       "AV1YGDqsGV-KLJ3adc-O       NaN        NaN         NaN         NaN    NaN   \n",
       "AV1YIch7GV-KLJ3addeG       NaN        NaN         NaN         NaN    NaN   \n",
       "\n",
       "reviews_username      123too  127726  12cass12  12gage  132457  13dani  13ram  \\\n",
       "id                                                                              \n",
       "AV13O1A8GV-KLJ3akUyj     NaN     NaN       NaN     NaN     NaN     NaN    NaN   \n",
       "AV14LG0R-jtxr-f38QfS     NaN     NaN       NaN     NaN     NaN     NaN    NaN   \n",
       "AV16khLE-jtxr-f38VFn     NaN     NaN       NaN     NaN     NaN     NaN    NaN   \n",
       "AV1YGDqsGV-KLJ3adc-O     NaN     NaN       NaN     NaN     NaN     NaN    NaN   \n",
       "AV1YIch7GV-KLJ3addeG     NaN     NaN       NaN     NaN     NaN     NaN    NaN   \n",
       "\n",
       "reviews_username      13thfaerie  1421nikki  143st  ...  zmom  znxfyt  zod10  \\\n",
       "id                                                  ...                        \n",
       "AV13O1A8GV-KLJ3akUyj         NaN        NaN    NaN  ...   NaN     NaN    NaN   \n",
       "AV14LG0R-jtxr-f38QfS         NaN        NaN    NaN  ...   NaN     NaN    NaN   \n",
       "AV16khLE-jtxr-f38VFn         NaN        NaN    NaN  ...   NaN     NaN    NaN   \n",
       "AV1YGDqsGV-KLJ3adc-O         NaN        NaN    NaN  ...   NaN     NaN    NaN   \n",
       "AV1YIch7GV-KLJ3addeG         NaN        NaN    NaN  ...   NaN     NaN    NaN   \n",
       "\n",
       "reviews_username      zodness  zoe1988  zoeellasca  zoeyny  zombie  \\\n",
       "id                                                                   \n",
       "AV13O1A8GV-KLJ3akUyj      NaN      NaN         NaN     NaN     NaN   \n",
       "AV14LG0R-jtxr-f38QfS      NaN      NaN         NaN     NaN     NaN   \n",
       "AV16khLE-jtxr-f38VFn      NaN      NaN         NaN     NaN     NaN   \n",
       "AV1YGDqsGV-KLJ3adc-O      NaN      NaN         NaN     NaN     NaN   \n",
       "AV1YIch7GV-KLJ3addeG      NaN      NaN         NaN     NaN     NaN   \n",
       "\n",
       "reviews_username      zombiedad80  zombiekiller  zombiekiller14  zone  \\\n",
       "id                                                                      \n",
       "AV13O1A8GV-KLJ3akUyj          NaN           NaN             NaN   NaN   \n",
       "AV14LG0R-jtxr-f38QfS          NaN           NaN             NaN   NaN   \n",
       "AV16khLE-jtxr-f38VFn          NaN           NaN             NaN   NaN   \n",
       "AV1YGDqsGV-KLJ3adc-O          NaN           NaN             NaN   NaN   \n",
       "AV1YIch7GV-KLJ3addeG          NaN           NaN             NaN   NaN   \n",
       "\n",
       "reviews_username      zoney86  zooey_57  zookeeper  zoso60  zotox  zowie  \\\n",
       "id                                                                         \n",
       "AV13O1A8GV-KLJ3akUyj      NaN       NaN        NaN     NaN    NaN    NaN   \n",
       "AV14LG0R-jtxr-f38QfS      NaN       NaN        NaN     NaN    NaN    NaN   \n",
       "AV16khLE-jtxr-f38VFn      NaN       NaN        NaN     NaN    NaN    NaN   \n",
       "AV1YGDqsGV-KLJ3adc-O      NaN       NaN        NaN     NaN    NaN    NaN   \n",
       "AV1YIch7GV-KLJ3addeG      NaN       NaN        NaN     NaN    NaN    NaN   \n",
       "\n",
       "reviews_username      zozo0o  zpalma  zsarah  zsazsa  zubb  zuttle  zwithanx  \\\n",
       "id                                                                             \n",
       "AV13O1A8GV-KLJ3akUyj     NaN     NaN     NaN     NaN   NaN     NaN       NaN   \n",
       "AV14LG0R-jtxr-f38QfS     NaN     NaN     NaN     NaN   NaN     NaN       NaN   \n",
       "AV16khLE-jtxr-f38VFn     NaN     NaN     NaN     NaN   NaN     NaN       NaN   \n",
       "AV1YGDqsGV-KLJ3adc-O     NaN     NaN     NaN     NaN   NaN     NaN       NaN   \n",
       "AV1YIch7GV-KLJ3addeG     NaN     NaN     NaN     NaN   NaN     NaN       NaN   \n",
       "\n",
       "reviews_username      zxcsdfd  zxjki  zyiah4  zzdiane  zzz1127  \n",
       "id                                                              \n",
       "AV13O1A8GV-KLJ3akUyj      NaN    NaN     NaN      NaN      NaN  \n",
       "AV14LG0R-jtxr-f38QfS      NaN    NaN     NaN      NaN      NaN  \n",
       "AV16khLE-jtxr-f38VFn      NaN    NaN     NaN      NaN      NaN  \n",
       "AV1YGDqsGV-KLJ3adc-O      NaN    NaN     NaN      NaN      NaN  \n",
       "AV1YIch7GV-KLJ3addeG      NaN    NaN     NaN      NaN      NaN  \n",
       "\n",
       "[5 rows x 18275 columns]"
      ]
     },
     "execution_count": 158,
     "metadata": {},
     "output_type": "execute_result"
    }
   ],
   "source": [
    "df_subtracted.head()"
   ]
  },
  {
   "cell_type": "code",
   "execution_count": 159,
   "metadata": {
    "ExecuteTime": {
     "end_time": "2022-04-06T05:49:49.109834Z",
     "start_time": "2022-04-06T05:46:27.908Z"
    },
    "execution": {
     "iopub.execute_input": "2022-04-14T01:39:00.516925Z",
     "iopub.status.busy": "2022-04-14T01:39:00.516572Z",
     "iopub.status.idle": "2022-04-14T01:39:00.668135Z",
     "shell.execute_reply": "2022-04-14T01:39:00.667216Z",
     "shell.execute_reply.started": "2022-04-14T01:39:00.516886Z"
    },
    "executionInfo": {
     "elapsed": 366,
     "status": "ok",
     "timestamp": 1649227994983,
     "user": {
      "displayName": "Venkatasubramanian S",
      "userId": "06029493893713790610"
     },
     "user_tz": 420
    },
    "id": "N6obUhFJlVbd",
    "outputId": "84e4ec77-521f-4979-e5cb-69fb8714f28c"
   },
   "outputs": [
    {
     "name": "stdout",
     "output_type": "stream",
     "text": [
      "[[0. 0. 0. ... 0. 0. 0.]\n",
      " [0. 0. 0. ... 0. 0. 0.]\n",
      " [0. 0. 1. ... 0. 0. 0.]\n",
      " ...\n",
      " [0. 0. 0. ... 1. 0. 0.]\n",
      " [0. 0. 0. ... 0. 1. 0.]\n",
      " [0. 0. 0. ... 0. 0. 1.]]\n"
     ]
    }
   ],
   "source": [
    "# Item Similarity Matrix\n",
    "item_correlation = 1 - pairwise_distances(df_subtracted.fillna(0), metric='cosine')\n",
    "item_correlation[np.isnan(item_correlation)] = 0\n",
    "print(item_correlation)"
   ]
  },
  {
   "cell_type": "code",
   "execution_count": 160,
   "metadata": {
    "ExecuteTime": {
     "end_time": "2022-04-06T05:49:49.110836Z",
     "start_time": "2022-04-06T05:46:27.915Z"
    },
    "execution": {
     "iopub.execute_input": "2022-04-14T01:39:00.670553Z",
     "iopub.status.busy": "2022-04-14T01:39:00.669978Z",
     "iopub.status.idle": "2022-04-14T01:39:00.678626Z",
     "shell.execute_reply": "2022-04-14T01:39:00.677701Z",
     "shell.execute_reply.started": "2022-04-14T01:39:00.670503Z"
    },
    "executionInfo": {
     "elapsed": 12,
     "status": "ok",
     "timestamp": 1649227994984,
     "user": {
      "displayName": "Venkatasubramanian S",
      "userId": "06029493893713790610"
     },
     "user_tz": 420
    },
    "id": "Igha-QoqlaOO",
    "outputId": "b53089e8-0a4f-4834-bcac-bd6e702609ea"
   },
   "outputs": [
    {
     "data": {
      "text/plain": [
       "array([[0., 0., 0., ..., 0., 0., 0.],\n",
       "       [0., 0., 0., ..., 0., 0., 0.],\n",
       "       [0., 0., 1., ..., 0., 0., 0.],\n",
       "       ...,\n",
       "       [0., 0., 0., ..., 1., 0., 0.],\n",
       "       [0., 0., 0., ..., 0., 1., 0.],\n",
       "       [0., 0., 0., ..., 0., 0., 1.]])"
      ]
     },
     "execution_count": 160,
     "metadata": {},
     "output_type": "execute_result"
    }
   ],
   "source": [
    "item_correlation[item_correlation<0]=0\n",
    "item_correlation"
   ]
  },
  {
   "cell_type": "markdown",
   "metadata": {
    "id": "Zs9YHrFqldlb"
   },
   "source": [
    "## Prediction - Item Item"
   ]
  },
  {
   "cell_type": "code",
   "execution_count": 161,
   "metadata": {
    "ExecuteTime": {
     "end_time": "2022-04-06T05:49:49.112840Z",
     "start_time": "2022-04-06T05:46:27.923Z"
    },
    "execution": {
     "iopub.execute_input": "2022-04-14T01:39:00.681190Z",
     "iopub.status.busy": "2022-04-14T01:39:00.680654Z",
     "iopub.status.idle": "2022-04-14T01:39:00.823613Z",
     "shell.execute_reply": "2022-04-14T01:39:00.822685Z",
     "shell.execute_reply.started": "2022-04-14T01:39:00.681142Z"
    },
    "executionInfo": {
     "elapsed": 256,
     "status": "ok",
     "timestamp": 1649227995236,
     "user": {
      "displayName": "Venkatasubramanian S",
      "userId": "06029493893713790610"
     },
     "user_tz": 420
    },
    "id": "QkAWERtmlfVq",
    "outputId": "54115315-e0fa-4c5e-d08d-be26d942ebca"
   },
   "outputs": [
    {
     "data": {
      "text/plain": [
       "array([[0.        , 0.        , 0.        , ..., 0.00603917, 0.06485571,\n",
       "        0.        ],\n",
       "       [0.        , 0.        , 0.        , ..., 0.        , 0.        ,\n",
       "        0.        ],\n",
       "       [0.        , 0.        , 0.        , ..., 0.        , 0.        ,\n",
       "        0.        ],\n",
       "       ...,\n",
       "       [0.        , 0.        , 0.        , ..., 0.        , 0.        ,\n",
       "        0.0094556 ],\n",
       "       [0.        , 0.        , 0.        , ..., 0.00781596, 0.10809285,\n",
       "        0.        ],\n",
       "       [0.        , 0.        , 0.        , ..., 0.        , 0.        ,\n",
       "        0.00756448]])"
      ]
     },
     "execution_count": 161,
     "metadata": {},
     "output_type": "execute_result"
    }
   ],
   "source": [
    "item_predicted_ratings = np.dot((df_pivot.fillna(0).T),item_correlation)\n",
    "item_predicted_ratings"
   ]
  },
  {
   "cell_type": "code",
   "execution_count": 162,
   "metadata": {
    "ExecuteTime": {
     "end_time": "2022-04-06T05:49:49.114834Z",
     "start_time": "2022-04-06T05:46:27.929Z"
    },
    "execution": {
     "iopub.execute_input": "2022-04-14T01:39:00.825978Z",
     "iopub.status.busy": "2022-04-14T01:39:00.825443Z",
     "iopub.status.idle": "2022-04-14T01:39:00.835094Z",
     "shell.execute_reply": "2022-04-14T01:39:00.834194Z",
     "shell.execute_reply.started": "2022-04-14T01:39:00.825933Z"
    },
    "executionInfo": {
     "elapsed": 49,
     "status": "ok",
     "timestamp": 1649227995237,
     "user": {
      "displayName": "Venkatasubramanian S",
      "userId": "06029493893713790610"
     },
     "user_tz": 420
    },
    "id": "F5WfcfrhlhFt",
    "outputId": "d7c8e5d1-1e90-4278-ec48-dee41f4266a6"
   },
   "outputs": [
    {
     "data": {
      "text/plain": [
       "(18275, 256)"
      ]
     },
     "execution_count": 162,
     "metadata": {},
     "output_type": "execute_result"
    }
   ],
   "source": [
    "item_predicted_ratings.shape"
   ]
  },
  {
   "cell_type": "code",
   "execution_count": 163,
   "metadata": {
    "ExecuteTime": {
     "end_time": "2022-04-06T05:49:49.115833Z",
     "start_time": "2022-04-06T05:46:27.937Z"
    },
    "execution": {
     "iopub.execute_input": "2022-04-14T01:39:00.837751Z",
     "iopub.status.busy": "2022-04-14T01:39:00.837048Z",
     "iopub.status.idle": "2022-04-14T01:39:00.850053Z",
     "shell.execute_reply": "2022-04-14T01:39:00.849061Z",
     "shell.execute_reply.started": "2022-04-14T01:39:00.837703Z"
    },
    "executionInfo": {
     "elapsed": 44,
     "status": "ok",
     "timestamp": 1649227995238,
     "user": {
      "displayName": "Venkatasubramanian S",
      "userId": "06029493893713790610"
     },
     "user_tz": 420
    },
    "id": "4lWVCC1LlibJ",
    "outputId": "7ef6ad50-d1d7-43c3-a024-9dd62357a331"
   },
   "outputs": [
    {
     "data": {
      "text/plain": [
       "(18275, 256)"
      ]
     },
     "execution_count": 163,
     "metadata": {},
     "output_type": "execute_result"
    }
   ],
   "source": [
    "train_dummy.shape"
   ]
  },
  {
   "cell_type": "markdown",
   "metadata": {
    "id": "fWS1msgilmS8"
   },
   "source": [
    "### Filtering the rating only for the products not rated by the user for recommendation"
   ]
  },
  {
   "cell_type": "code",
   "execution_count": 164,
   "metadata": {
    "ExecuteTime": {
     "end_time": "2022-04-06T05:49:49.117834Z",
     "start_time": "2022-04-06T05:46:27.944Z"
    },
    "execution": {
     "iopub.execute_input": "2022-04-14T01:39:00.856786Z",
     "iopub.status.busy": "2022-04-14T01:39:00.856098Z",
     "iopub.status.idle": "2022-04-14T01:39:00.972787Z",
     "shell.execute_reply": "2022-04-14T01:39:00.971921Z",
     "shell.execute_reply.started": "2022-04-14T01:39:00.856736Z"
    },
    "executionInfo": {
     "elapsed": 37,
     "status": "ok",
     "timestamp": 1649227995238,
     "user": {
      "displayName": "Venkatasubramanian S",
      "userId": "06029493893713790610"
     },
     "user_tz": 420
    },
    "id": "v1XSg58bloQX",
    "outputId": "cf21d4e4-d346-4ec5-a080-818fa77fdee7"
   },
   "outputs": [
    {
     "data": {
      "text/html": [
       "<div>\n",
       "<style scoped>\n",
       "    .dataframe tbody tr th:only-of-type {\n",
       "        vertical-align: middle;\n",
       "    }\n",
       "\n",
       "    .dataframe tbody tr th {\n",
       "        vertical-align: top;\n",
       "    }\n",
       "\n",
       "    .dataframe thead th {\n",
       "        text-align: right;\n",
       "    }\n",
       "</style>\n",
       "<table border=\"1\" class=\"dataframe\">\n",
       "  <thead>\n",
       "    <tr style=\"text-align: right;\">\n",
       "      <th>id</th>\n",
       "      <th>AV13O1A8GV-KLJ3akUyj</th>\n",
       "      <th>AV14LG0R-jtxr-f38QfS</th>\n",
       "      <th>AV16khLE-jtxr-f38VFn</th>\n",
       "      <th>AV1YGDqsGV-KLJ3adc-O</th>\n",
       "      <th>AV1YIch7GV-KLJ3addeG</th>\n",
       "      <th>AV1YlENIglJLPUi8IHsX</th>\n",
       "      <th>AV1YmBrdGV-KLJ3adewb</th>\n",
       "      <th>AV1YmDL9vKc47QAVgr7_</th>\n",
       "      <th>AV1Ymf_rglJLPUi8II2v</th>\n",
       "      <th>AV1Yn94nvKc47QAVgtst</th>\n",
       "      <th>AV1YnUMYglJLPUi8IJpK</th>\n",
       "      <th>AV1Ynb3bglJLPUi8IJxJ</th>\n",
       "      <th>AV1YneDPglJLPUi8IJyQ</th>\n",
       "      <th>AV1YpiJvvKc47QAVguxy</th>\n",
       "      <th>AV1YqAaMGV-KLJ3adiDj</th>\n",
       "      <th>AV1Ys0kTvKc47QAVgx1C</th>\n",
       "      <th>AV1YtGjdglJLPUi8IOfJ</th>\n",
       "      <th>AV1ZSp2uglJLPUi8IQFy</th>\n",
       "      <th>AV1ZT7GLglJLPUi8IQLI</th>\n",
       "      <th>AV1ZVIgy-jtxr-f31W9N</th>\n",
       "      <th>AV1d76w7vKc47QAVhCqn</th>\n",
       "      <th>AV1h6Gu0glJLPUi8IjA_</th>\n",
       "      <th>AV1h6gSl-jtxr-f31p40</th>\n",
       "      <th>AV1l8zRZvKc47QAVhnAv</th>\n",
       "      <th>AV2AvGnjGV-KLJ3alTQH</th>\n",
       "      <th>AV2Avn5dGV-KLJ3alTjq</th>\n",
       "      <th>AVpe-M4-ilAPnD_xSF1K</th>\n",
       "      <th>AVpe-MCY1cnluZ0-bCv_</th>\n",
       "      <th>AVpe-PJnLJeJML43ziaj</th>\n",
       "      <th>AVpe-YAL1cnluZ0-bHGh</th>\n",
       "      <th>...</th>\n",
       "      <th>AVpfksililAPnD_xePx_</th>\n",
       "      <th>AVpfl6baLJeJML43AEQq</th>\n",
       "      <th>AVpfl6sF1cnluZ0-nmwC</th>\n",
       "      <th>AVpfldDlLJeJML43_7s_</th>\n",
       "      <th>AVpfliCoilAPnD_xegIr</th>\n",
       "      <th>AVpfluP1ilAPnD_xejxO</th>\n",
       "      <th>AVpfm8yiLJeJML43AYyu</th>\n",
       "      <th>AVpfmVnVLJeJML43AMqC</th>\n",
       "      <th>AVpfmjXGLJeJML43AQ5_</th>\n",
       "      <th>AVpfnRuSilAPnD_xfB8l</th>\n",
       "      <th>AVpfnS4eLJeJML43AfZe</th>\n",
       "      <th>AVpfnUcwLJeJML43Af2U</th>\n",
       "      <th>AVpfnjBILJeJML43AkO3</th>\n",
       "      <th>AVpfoSS51cnluZ0-oVH9</th>\n",
       "      <th>AVpfov9TLJeJML43A7B0</th>\n",
       "      <th>AVpfozgyilAPnD_xfe0r</th>\n",
       "      <th>AVpfpM2yilAPnD_xfmDG</th>\n",
       "      <th>AVpfpoUCLJeJML43BLXv</th>\n",
       "      <th>AVpfqW4WilAPnD_xf7a_</th>\n",
       "      <th>AVpfr5cb1cnluZ0-pZFp</th>\n",
       "      <th>AVpfrFDZLJeJML43Bmv0</th>\n",
       "      <th>AVpfrTyiLJeJML43BrSI</th>\n",
       "      <th>AVpfrfHF1cnluZ0-pRai</th>\n",
       "      <th>AVpfrgjFLJeJML43BvCc</th>\n",
       "      <th>AVpfsQoeilAPnD_xgfx5</th>\n",
       "      <th>AVpfshNsLJeJML43CB8q</th>\n",
       "      <th>AVpfthSailAPnD_xg3ON</th>\n",
       "      <th>AVpftikC1cnluZ0-p31V</th>\n",
       "      <th>AVpfv4TlilAPnD_xhjNS</th>\n",
       "      <th>AVpfvieo1cnluZ0-qdnu</th>\n",
       "    </tr>\n",
       "    <tr>\n",
       "      <th>reviews_username</th>\n",
       "      <th></th>\n",
       "      <th></th>\n",
       "      <th></th>\n",
       "      <th></th>\n",
       "      <th></th>\n",
       "      <th></th>\n",
       "      <th></th>\n",
       "      <th></th>\n",
       "      <th></th>\n",
       "      <th></th>\n",
       "      <th></th>\n",
       "      <th></th>\n",
       "      <th></th>\n",
       "      <th></th>\n",
       "      <th></th>\n",
       "      <th></th>\n",
       "      <th></th>\n",
       "      <th></th>\n",
       "      <th></th>\n",
       "      <th></th>\n",
       "      <th></th>\n",
       "      <th></th>\n",
       "      <th></th>\n",
       "      <th></th>\n",
       "      <th></th>\n",
       "      <th></th>\n",
       "      <th></th>\n",
       "      <th></th>\n",
       "      <th></th>\n",
       "      <th></th>\n",
       "      <th></th>\n",
       "      <th></th>\n",
       "      <th></th>\n",
       "      <th></th>\n",
       "      <th></th>\n",
       "      <th></th>\n",
       "      <th></th>\n",
       "      <th></th>\n",
       "      <th></th>\n",
       "      <th></th>\n",
       "      <th></th>\n",
       "      <th></th>\n",
       "      <th></th>\n",
       "      <th></th>\n",
       "      <th></th>\n",
       "      <th></th>\n",
       "      <th></th>\n",
       "      <th></th>\n",
       "      <th></th>\n",
       "      <th></th>\n",
       "      <th></th>\n",
       "      <th></th>\n",
       "      <th></th>\n",
       "      <th></th>\n",
       "      <th></th>\n",
       "      <th></th>\n",
       "      <th></th>\n",
       "      <th></th>\n",
       "      <th></th>\n",
       "      <th></th>\n",
       "      <th></th>\n",
       "    </tr>\n",
       "  </thead>\n",
       "  <tbody>\n",
       "    <tr>\n",
       "      <th>00sab00</th>\n",
       "      <td>0.0</td>\n",
       "      <td>0.0</td>\n",
       "      <td>0.0</td>\n",
       "      <td>6.042e-03</td>\n",
       "      <td>0.0</td>\n",
       "      <td>0.0</td>\n",
       "      <td>0.0</td>\n",
       "      <td>0.000</td>\n",
       "      <td>0.000</td>\n",
       "      <td>0.000</td>\n",
       "      <td>0.0</td>\n",
       "      <td>0.0</td>\n",
       "      <td>0.0</td>\n",
       "      <td>0.0</td>\n",
       "      <td>0.000</td>\n",
       "      <td>0.000e+00</td>\n",
       "      <td>0.008</td>\n",
       "      <td>0.0</td>\n",
       "      <td>0.0</td>\n",
       "      <td>0.0</td>\n",
       "      <td>0.0</td>\n",
       "      <td>0.0</td>\n",
       "      <td>0.0</td>\n",
       "      <td>0.000</td>\n",
       "      <td>0.0</td>\n",
       "      <td>0.0</td>\n",
       "      <td>0.0</td>\n",
       "      <td>0.0</td>\n",
       "      <td>0.0</td>\n",
       "      <td>0.0</td>\n",
       "      <td>...</td>\n",
       "      <td>0.0</td>\n",
       "      <td>0.0</td>\n",
       "      <td>0.0</td>\n",
       "      <td>0.0</td>\n",
       "      <td>0.0</td>\n",
       "      <td>0.000</td>\n",
       "      <td>0.000</td>\n",
       "      <td>0.0</td>\n",
       "      <td>0.0</td>\n",
       "      <td>0.0</td>\n",
       "      <td>0.0</td>\n",
       "      <td>0.0</td>\n",
       "      <td>0.0</td>\n",
       "      <td>0.016</td>\n",
       "      <td>0.005</td>\n",
       "      <td>0.0</td>\n",
       "      <td>0.000</td>\n",
       "      <td>0.0</td>\n",
       "      <td>0.0</td>\n",
       "      <td>0.01</td>\n",
       "      <td>0.0</td>\n",
       "      <td>0.000</td>\n",
       "      <td>0.0</td>\n",
       "      <td>0.0</td>\n",
       "      <td>0.0</td>\n",
       "      <td>0.0</td>\n",
       "      <td>0.021</td>\n",
       "      <td>0.006</td>\n",
       "      <td>0.065</td>\n",
       "      <td>0.000</td>\n",
       "    </tr>\n",
       "    <tr>\n",
       "      <th>01impala</th>\n",
       "      <td>0.0</td>\n",
       "      <td>0.0</td>\n",
       "      <td>0.0</td>\n",
       "      <td>0.000e+00</td>\n",
       "      <td>0.0</td>\n",
       "      <td>0.0</td>\n",
       "      <td>0.0</td>\n",
       "      <td>0.000</td>\n",
       "      <td>0.000</td>\n",
       "      <td>0.000</td>\n",
       "      <td>0.0</td>\n",
       "      <td>0.0</td>\n",
       "      <td>0.0</td>\n",
       "      <td>0.0</td>\n",
       "      <td>0.000</td>\n",
       "      <td>9.045e-04</td>\n",
       "      <td>0.000</td>\n",
       "      <td>0.0</td>\n",
       "      <td>0.0</td>\n",
       "      <td>0.0</td>\n",
       "      <td>0.0</td>\n",
       "      <td>0.0</td>\n",
       "      <td>0.0</td>\n",
       "      <td>0.001</td>\n",
       "      <td>0.0</td>\n",
       "      <td>0.0</td>\n",
       "      <td>0.0</td>\n",
       "      <td>0.0</td>\n",
       "      <td>0.0</td>\n",
       "      <td>0.0</td>\n",
       "      <td>...</td>\n",
       "      <td>0.0</td>\n",
       "      <td>0.0</td>\n",
       "      <td>0.0</td>\n",
       "      <td>0.0</td>\n",
       "      <td>0.0</td>\n",
       "      <td>0.000</td>\n",
       "      <td>0.003</td>\n",
       "      <td>0.0</td>\n",
       "      <td>0.0</td>\n",
       "      <td>0.0</td>\n",
       "      <td>0.0</td>\n",
       "      <td>0.0</td>\n",
       "      <td>0.0</td>\n",
       "      <td>0.000</td>\n",
       "      <td>0.003</td>\n",
       "      <td>0.0</td>\n",
       "      <td>0.005</td>\n",
       "      <td>0.0</td>\n",
       "      <td>0.0</td>\n",
       "      <td>0.00</td>\n",
       "      <td>0.0</td>\n",
       "      <td>0.098</td>\n",
       "      <td>0.0</td>\n",
       "      <td>0.0</td>\n",
       "      <td>0.0</td>\n",
       "      <td>0.0</td>\n",
       "      <td>0.000</td>\n",
       "      <td>0.000</td>\n",
       "      <td>0.000</td>\n",
       "      <td>0.000</td>\n",
       "    </tr>\n",
       "    <tr>\n",
       "      <th>02dakota</th>\n",
       "      <td>0.0</td>\n",
       "      <td>0.0</td>\n",
       "      <td>0.0</td>\n",
       "      <td>0.000e+00</td>\n",
       "      <td>0.0</td>\n",
       "      <td>0.0</td>\n",
       "      <td>0.0</td>\n",
       "      <td>0.000</td>\n",
       "      <td>0.000</td>\n",
       "      <td>0.000</td>\n",
       "      <td>0.0</td>\n",
       "      <td>0.0</td>\n",
       "      <td>0.0</td>\n",
       "      <td>0.0</td>\n",
       "      <td>0.000</td>\n",
       "      <td>1.508e-03</td>\n",
       "      <td>0.000</td>\n",
       "      <td>0.0</td>\n",
       "      <td>0.0</td>\n",
       "      <td>0.0</td>\n",
       "      <td>0.0</td>\n",
       "      <td>0.0</td>\n",
       "      <td>0.0</td>\n",
       "      <td>0.002</td>\n",
       "      <td>0.0</td>\n",
       "      <td>0.0</td>\n",
       "      <td>0.0</td>\n",
       "      <td>0.0</td>\n",
       "      <td>0.0</td>\n",
       "      <td>0.0</td>\n",
       "      <td>...</td>\n",
       "      <td>0.0</td>\n",
       "      <td>0.0</td>\n",
       "      <td>0.0</td>\n",
       "      <td>0.0</td>\n",
       "      <td>0.0</td>\n",
       "      <td>0.000</td>\n",
       "      <td>0.005</td>\n",
       "      <td>0.0</td>\n",
       "      <td>0.0</td>\n",
       "      <td>0.0</td>\n",
       "      <td>0.0</td>\n",
       "      <td>0.0</td>\n",
       "      <td>0.0</td>\n",
       "      <td>0.000</td>\n",
       "      <td>0.005</td>\n",
       "      <td>0.0</td>\n",
       "      <td>0.009</td>\n",
       "      <td>0.0</td>\n",
       "      <td>0.0</td>\n",
       "      <td>0.00</td>\n",
       "      <td>0.0</td>\n",
       "      <td>0.163</td>\n",
       "      <td>0.0</td>\n",
       "      <td>0.0</td>\n",
       "      <td>0.0</td>\n",
       "      <td>0.0</td>\n",
       "      <td>0.000</td>\n",
       "      <td>0.000</td>\n",
       "      <td>0.000</td>\n",
       "      <td>0.000</td>\n",
       "    </tr>\n",
       "    <tr>\n",
       "      <th>02deuce</th>\n",
       "      <td>0.0</td>\n",
       "      <td>0.0</td>\n",
       "      <td>0.0</td>\n",
       "      <td>0.000e+00</td>\n",
       "      <td>0.0</td>\n",
       "      <td>0.0</td>\n",
       "      <td>0.0</td>\n",
       "      <td>0.000</td>\n",
       "      <td>0.000</td>\n",
       "      <td>0.000</td>\n",
       "      <td>0.0</td>\n",
       "      <td>0.0</td>\n",
       "      <td>0.0</td>\n",
       "      <td>0.0</td>\n",
       "      <td>0.000</td>\n",
       "      <td>1.206e-03</td>\n",
       "      <td>0.000</td>\n",
       "      <td>0.0</td>\n",
       "      <td>0.0</td>\n",
       "      <td>0.0</td>\n",
       "      <td>0.0</td>\n",
       "      <td>0.0</td>\n",
       "      <td>0.0</td>\n",
       "      <td>0.001</td>\n",
       "      <td>0.0</td>\n",
       "      <td>0.0</td>\n",
       "      <td>0.0</td>\n",
       "      <td>0.0</td>\n",
       "      <td>0.0</td>\n",
       "      <td>0.0</td>\n",
       "      <td>...</td>\n",
       "      <td>0.0</td>\n",
       "      <td>0.0</td>\n",
       "      <td>0.0</td>\n",
       "      <td>0.0</td>\n",
       "      <td>0.0</td>\n",
       "      <td>0.000</td>\n",
       "      <td>0.004</td>\n",
       "      <td>0.0</td>\n",
       "      <td>0.0</td>\n",
       "      <td>0.0</td>\n",
       "      <td>0.0</td>\n",
       "      <td>0.0</td>\n",
       "      <td>0.0</td>\n",
       "      <td>0.000</td>\n",
       "      <td>0.004</td>\n",
       "      <td>0.0</td>\n",
       "      <td>0.007</td>\n",
       "      <td>0.0</td>\n",
       "      <td>0.0</td>\n",
       "      <td>0.00</td>\n",
       "      <td>0.0</td>\n",
       "      <td>0.130</td>\n",
       "      <td>0.0</td>\n",
       "      <td>0.0</td>\n",
       "      <td>0.0</td>\n",
       "      <td>0.0</td>\n",
       "      <td>0.000</td>\n",
       "      <td>0.000</td>\n",
       "      <td>0.000</td>\n",
       "      <td>0.000</td>\n",
       "    </tr>\n",
       "    <tr>\n",
       "      <th>0325home</th>\n",
       "      <td>0.0</td>\n",
       "      <td>0.0</td>\n",
       "      <td>0.0</td>\n",
       "      <td>8.222e-05</td>\n",
       "      <td>0.0</td>\n",
       "      <td>0.0</td>\n",
       "      <td>0.0</td>\n",
       "      <td>0.001</td>\n",
       "      <td>0.002</td>\n",
       "      <td>0.002</td>\n",
       "      <td>0.0</td>\n",
       "      <td>0.0</td>\n",
       "      <td>0.0</td>\n",
       "      <td>0.0</td>\n",
       "      <td>0.007</td>\n",
       "      <td>3.025e-03</td>\n",
       "      <td>0.000</td>\n",
       "      <td>0.0</td>\n",
       "      <td>0.0</td>\n",
       "      <td>0.0</td>\n",
       "      <td>0.0</td>\n",
       "      <td>0.0</td>\n",
       "      <td>0.0</td>\n",
       "      <td>0.002</td>\n",
       "      <td>0.0</td>\n",
       "      <td>0.0</td>\n",
       "      <td>0.0</td>\n",
       "      <td>0.0</td>\n",
       "      <td>0.0</td>\n",
       "      <td>0.0</td>\n",
       "      <td>...</td>\n",
       "      <td>0.0</td>\n",
       "      <td>0.0</td>\n",
       "      <td>0.0</td>\n",
       "      <td>0.0</td>\n",
       "      <td>0.0</td>\n",
       "      <td>0.005</td>\n",
       "      <td>0.013</td>\n",
       "      <td>0.0</td>\n",
       "      <td>0.0</td>\n",
       "      <td>0.0</td>\n",
       "      <td>0.0</td>\n",
       "      <td>0.0</td>\n",
       "      <td>0.0</td>\n",
       "      <td>0.000</td>\n",
       "      <td>0.002</td>\n",
       "      <td>0.0</td>\n",
       "      <td>0.003</td>\n",
       "      <td>0.0</td>\n",
       "      <td>0.0</td>\n",
       "      <td>0.00</td>\n",
       "      <td>0.0</td>\n",
       "      <td>0.000</td>\n",
       "      <td>0.0</td>\n",
       "      <td>0.0</td>\n",
       "      <td>0.0</td>\n",
       "      <td>0.0</td>\n",
       "      <td>0.006</td>\n",
       "      <td>0.000</td>\n",
       "      <td>0.000</td>\n",
       "      <td>0.009</td>\n",
       "    </tr>\n",
       "  </tbody>\n",
       "</table>\n",
       "<p>5 rows × 256 columns</p>\n",
       "</div>"
      ],
      "text/plain": [
       "id                AV13O1A8GV-KLJ3akUyj  AV14LG0R-jtxr-f38QfS  \\\n",
       "reviews_username                                               \n",
       "00sab00                            0.0                   0.0   \n",
       "01impala                           0.0                   0.0   \n",
       "02dakota                           0.0                   0.0   \n",
       "02deuce                            0.0                   0.0   \n",
       "0325home                           0.0                   0.0   \n",
       "\n",
       "id                AV16khLE-jtxr-f38VFn  AV1YGDqsGV-KLJ3adc-O  \\\n",
       "reviews_username                                               \n",
       "00sab00                            0.0             6.042e-03   \n",
       "01impala                           0.0             0.000e+00   \n",
       "02dakota                           0.0             0.000e+00   \n",
       "02deuce                            0.0             0.000e+00   \n",
       "0325home                           0.0             8.222e-05   \n",
       "\n",
       "id                AV1YIch7GV-KLJ3addeG  AV1YlENIglJLPUi8IHsX  \\\n",
       "reviews_username                                               \n",
       "00sab00                            0.0                   0.0   \n",
       "01impala                           0.0                   0.0   \n",
       "02dakota                           0.0                   0.0   \n",
       "02deuce                            0.0                   0.0   \n",
       "0325home                           0.0                   0.0   \n",
       "\n",
       "id                AV1YmBrdGV-KLJ3adewb  AV1YmDL9vKc47QAVgr7_  \\\n",
       "reviews_username                                               \n",
       "00sab00                            0.0                 0.000   \n",
       "01impala                           0.0                 0.000   \n",
       "02dakota                           0.0                 0.000   \n",
       "02deuce                            0.0                 0.000   \n",
       "0325home                           0.0                 0.001   \n",
       "\n",
       "id                AV1Ymf_rglJLPUi8II2v  AV1Yn94nvKc47QAVgtst  \\\n",
       "reviews_username                                               \n",
       "00sab00                          0.000                 0.000   \n",
       "01impala                         0.000                 0.000   \n",
       "02dakota                         0.000                 0.000   \n",
       "02deuce                          0.000                 0.000   \n",
       "0325home                         0.002                 0.002   \n",
       "\n",
       "id                AV1YnUMYglJLPUi8IJpK  AV1Ynb3bglJLPUi8IJxJ  \\\n",
       "reviews_username                                               \n",
       "00sab00                            0.0                   0.0   \n",
       "01impala                           0.0                   0.0   \n",
       "02dakota                           0.0                   0.0   \n",
       "02deuce                            0.0                   0.0   \n",
       "0325home                           0.0                   0.0   \n",
       "\n",
       "id                AV1YneDPglJLPUi8IJyQ  AV1YpiJvvKc47QAVguxy  \\\n",
       "reviews_username                                               \n",
       "00sab00                            0.0                   0.0   \n",
       "01impala                           0.0                   0.0   \n",
       "02dakota                           0.0                   0.0   \n",
       "02deuce                            0.0                   0.0   \n",
       "0325home                           0.0                   0.0   \n",
       "\n",
       "id                AV1YqAaMGV-KLJ3adiDj  AV1Ys0kTvKc47QAVgx1C  \\\n",
       "reviews_username                                               \n",
       "00sab00                          0.000             0.000e+00   \n",
       "01impala                         0.000             9.045e-04   \n",
       "02dakota                         0.000             1.508e-03   \n",
       "02deuce                          0.000             1.206e-03   \n",
       "0325home                         0.007             3.025e-03   \n",
       "\n",
       "id                AV1YtGjdglJLPUi8IOfJ  AV1ZSp2uglJLPUi8IQFy  \\\n",
       "reviews_username                                               \n",
       "00sab00                          0.008                   0.0   \n",
       "01impala                         0.000                   0.0   \n",
       "02dakota                         0.000                   0.0   \n",
       "02deuce                          0.000                   0.0   \n",
       "0325home                         0.000                   0.0   \n",
       "\n",
       "id                AV1ZT7GLglJLPUi8IQLI  AV1ZVIgy-jtxr-f31W9N  \\\n",
       "reviews_username                                               \n",
       "00sab00                            0.0                   0.0   \n",
       "01impala                           0.0                   0.0   \n",
       "02dakota                           0.0                   0.0   \n",
       "02deuce                            0.0                   0.0   \n",
       "0325home                           0.0                   0.0   \n",
       "\n",
       "id                AV1d76w7vKc47QAVhCqn  AV1h6Gu0glJLPUi8IjA_  \\\n",
       "reviews_username                                               \n",
       "00sab00                            0.0                   0.0   \n",
       "01impala                           0.0                   0.0   \n",
       "02dakota                           0.0                   0.0   \n",
       "02deuce                            0.0                   0.0   \n",
       "0325home                           0.0                   0.0   \n",
       "\n",
       "id                AV1h6gSl-jtxr-f31p40  AV1l8zRZvKc47QAVhnAv  \\\n",
       "reviews_username                                               \n",
       "00sab00                            0.0                 0.000   \n",
       "01impala                           0.0                 0.001   \n",
       "02dakota                           0.0                 0.002   \n",
       "02deuce                            0.0                 0.001   \n",
       "0325home                           0.0                 0.002   \n",
       "\n",
       "id                AV2AvGnjGV-KLJ3alTQH  AV2Avn5dGV-KLJ3alTjq  \\\n",
       "reviews_username                                               \n",
       "00sab00                            0.0                   0.0   \n",
       "01impala                           0.0                   0.0   \n",
       "02dakota                           0.0                   0.0   \n",
       "02deuce                            0.0                   0.0   \n",
       "0325home                           0.0                   0.0   \n",
       "\n",
       "id                AVpe-M4-ilAPnD_xSF1K  AVpe-MCY1cnluZ0-bCv_  \\\n",
       "reviews_username                                               \n",
       "00sab00                            0.0                   0.0   \n",
       "01impala                           0.0                   0.0   \n",
       "02dakota                           0.0                   0.0   \n",
       "02deuce                            0.0                   0.0   \n",
       "0325home                           0.0                   0.0   \n",
       "\n",
       "id                AVpe-PJnLJeJML43ziaj  AVpe-YAL1cnluZ0-bHGh  ...  \\\n",
       "reviews_username                                              ...   \n",
       "00sab00                            0.0                   0.0  ...   \n",
       "01impala                           0.0                   0.0  ...   \n",
       "02dakota                           0.0                   0.0  ...   \n",
       "02deuce                            0.0                   0.0  ...   \n",
       "0325home                           0.0                   0.0  ...   \n",
       "\n",
       "id                AVpfksililAPnD_xePx_  AVpfl6baLJeJML43AEQq  \\\n",
       "reviews_username                                               \n",
       "00sab00                            0.0                   0.0   \n",
       "01impala                           0.0                   0.0   \n",
       "02dakota                           0.0                   0.0   \n",
       "02deuce                            0.0                   0.0   \n",
       "0325home                           0.0                   0.0   \n",
       "\n",
       "id                AVpfl6sF1cnluZ0-nmwC  AVpfldDlLJeJML43_7s_  \\\n",
       "reviews_username                                               \n",
       "00sab00                            0.0                   0.0   \n",
       "01impala                           0.0                   0.0   \n",
       "02dakota                           0.0                   0.0   \n",
       "02deuce                            0.0                   0.0   \n",
       "0325home                           0.0                   0.0   \n",
       "\n",
       "id                AVpfliCoilAPnD_xegIr  AVpfluP1ilAPnD_xejxO  \\\n",
       "reviews_username                                               \n",
       "00sab00                            0.0                 0.000   \n",
       "01impala                           0.0                 0.000   \n",
       "02dakota                           0.0                 0.000   \n",
       "02deuce                            0.0                 0.000   \n",
       "0325home                           0.0                 0.005   \n",
       "\n",
       "id                AVpfm8yiLJeJML43AYyu  AVpfmVnVLJeJML43AMqC  \\\n",
       "reviews_username                                               \n",
       "00sab00                          0.000                   0.0   \n",
       "01impala                         0.003                   0.0   \n",
       "02dakota                         0.005                   0.0   \n",
       "02deuce                          0.004                   0.0   \n",
       "0325home                         0.013                   0.0   \n",
       "\n",
       "id                AVpfmjXGLJeJML43AQ5_  AVpfnRuSilAPnD_xfB8l  \\\n",
       "reviews_username                                               \n",
       "00sab00                            0.0                   0.0   \n",
       "01impala                           0.0                   0.0   \n",
       "02dakota                           0.0                   0.0   \n",
       "02deuce                            0.0                   0.0   \n",
       "0325home                           0.0                   0.0   \n",
       "\n",
       "id                AVpfnS4eLJeJML43AfZe  AVpfnUcwLJeJML43Af2U  \\\n",
       "reviews_username                                               \n",
       "00sab00                            0.0                   0.0   \n",
       "01impala                           0.0                   0.0   \n",
       "02dakota                           0.0                   0.0   \n",
       "02deuce                            0.0                   0.0   \n",
       "0325home                           0.0                   0.0   \n",
       "\n",
       "id                AVpfnjBILJeJML43AkO3  AVpfoSS51cnluZ0-oVH9  \\\n",
       "reviews_username                                               \n",
       "00sab00                            0.0                 0.016   \n",
       "01impala                           0.0                 0.000   \n",
       "02dakota                           0.0                 0.000   \n",
       "02deuce                            0.0                 0.000   \n",
       "0325home                           0.0                 0.000   \n",
       "\n",
       "id                AVpfov9TLJeJML43A7B0  AVpfozgyilAPnD_xfe0r  \\\n",
       "reviews_username                                               \n",
       "00sab00                          0.005                   0.0   \n",
       "01impala                         0.003                   0.0   \n",
       "02dakota                         0.005                   0.0   \n",
       "02deuce                          0.004                   0.0   \n",
       "0325home                         0.002                   0.0   \n",
       "\n",
       "id                AVpfpM2yilAPnD_xfmDG  AVpfpoUCLJeJML43BLXv  \\\n",
       "reviews_username                                               \n",
       "00sab00                          0.000                   0.0   \n",
       "01impala                         0.005                   0.0   \n",
       "02dakota                         0.009                   0.0   \n",
       "02deuce                          0.007                   0.0   \n",
       "0325home                         0.003                   0.0   \n",
       "\n",
       "id                AVpfqW4WilAPnD_xf7a_  AVpfr5cb1cnluZ0-pZFp  \\\n",
       "reviews_username                                               \n",
       "00sab00                            0.0                  0.01   \n",
       "01impala                           0.0                  0.00   \n",
       "02dakota                           0.0                  0.00   \n",
       "02deuce                            0.0                  0.00   \n",
       "0325home                           0.0                  0.00   \n",
       "\n",
       "id                AVpfrFDZLJeJML43Bmv0  AVpfrTyiLJeJML43BrSI  \\\n",
       "reviews_username                                               \n",
       "00sab00                            0.0                 0.000   \n",
       "01impala                           0.0                 0.098   \n",
       "02dakota                           0.0                 0.163   \n",
       "02deuce                            0.0                 0.130   \n",
       "0325home                           0.0                 0.000   \n",
       "\n",
       "id                AVpfrfHF1cnluZ0-pRai  AVpfrgjFLJeJML43BvCc  \\\n",
       "reviews_username                                               \n",
       "00sab00                            0.0                   0.0   \n",
       "01impala                           0.0                   0.0   \n",
       "02dakota                           0.0                   0.0   \n",
       "02deuce                            0.0                   0.0   \n",
       "0325home                           0.0                   0.0   \n",
       "\n",
       "id                AVpfsQoeilAPnD_xgfx5  AVpfshNsLJeJML43CB8q  \\\n",
       "reviews_username                                               \n",
       "00sab00                            0.0                   0.0   \n",
       "01impala                           0.0                   0.0   \n",
       "02dakota                           0.0                   0.0   \n",
       "02deuce                            0.0                   0.0   \n",
       "0325home                           0.0                   0.0   \n",
       "\n",
       "id                AVpfthSailAPnD_xg3ON  AVpftikC1cnluZ0-p31V  \\\n",
       "reviews_username                                               \n",
       "00sab00                          0.021                 0.006   \n",
       "01impala                         0.000                 0.000   \n",
       "02dakota                         0.000                 0.000   \n",
       "02deuce                          0.000                 0.000   \n",
       "0325home                         0.006                 0.000   \n",
       "\n",
       "id                AVpfv4TlilAPnD_xhjNS  AVpfvieo1cnluZ0-qdnu  \n",
       "reviews_username                                              \n",
       "00sab00                          0.065                 0.000  \n",
       "01impala                         0.000                 0.000  \n",
       "02dakota                         0.000                 0.000  \n",
       "02deuce                          0.000                 0.000  \n",
       "0325home                         0.000                 0.009  \n",
       "\n",
       "[5 rows x 256 columns]"
      ]
     },
     "execution_count": 164,
     "metadata": {},
     "output_type": "execute_result"
    }
   ],
   "source": [
    "item_final_rating = np.multiply(item_predicted_ratings,train_dummy)\n",
    "item_final_rating.head()"
   ]
  },
  {
   "cell_type": "code",
   "execution_count": 165,
   "metadata": {
    "ExecuteTime": {
     "end_time": "2022-04-06T05:49:49.118834Z",
     "start_time": "2022-04-06T05:46:27.951Z"
    },
    "execution": {
     "iopub.execute_input": "2022-04-14T01:39:00.975294Z",
     "iopub.status.busy": "2022-04-14T01:39:00.974162Z",
     "iopub.status.idle": "2022-04-14T01:39:00.978323Z",
     "shell.execute_reply": "2022-04-14T01:39:00.977735Z",
     "shell.execute_reply.started": "2022-04-14T01:39:00.975243Z"
    },
    "executionInfo": {
     "elapsed": 36,
     "status": "ok",
     "timestamp": 1649227995239,
     "user": {
      "displayName": "Venkatasubramanian S",
      "userId": "06029493893713790610"
     },
     "user_tz": 420
    },
    "id": "0iGAO_y9lpUB"
   },
   "outputs": [],
   "source": [
    "# Take a sample username as input.\n",
    "user_input = '00sab00'"
   ]
  },
  {
   "cell_type": "code",
   "execution_count": 166,
   "metadata": {
    "ExecuteTime": {
     "end_time": "2022-04-06T05:49:49.120836Z",
     "start_time": "2022-04-06T05:46:27.958Z"
    },
    "execution": {
     "iopub.execute_input": "2022-04-14T01:39:00.980325Z",
     "iopub.status.busy": "2022-04-14T01:39:00.979457Z",
     "iopub.status.idle": "2022-04-14T01:39:01.029987Z",
     "shell.execute_reply": "2022-04-14T01:39:01.029006Z",
     "shell.execute_reply.started": "2022-04-14T01:39:00.980284Z"
    },
    "executionInfo": {
     "elapsed": 35,
     "status": "ok",
     "timestamp": 1649227995240,
     "user": {
      "displayName": "Venkatasubramanian S",
      "userId": "06029493893713790610"
     },
     "user_tz": 420
    },
    "id": "qhCaFcCJl6D_",
    "outputId": "b97b2994-c4da-48a0-db83-23e7f9e131cf"
   },
   "outputs": [
    {
     "data": {
      "text/html": [
       "<div>\n",
       "<style scoped>\n",
       "    .dataframe tbody tr th:only-of-type {\n",
       "        vertical-align: middle;\n",
       "    }\n",
       "\n",
       "    .dataframe tbody tr th {\n",
       "        vertical-align: top;\n",
       "    }\n",
       "\n",
       "    .dataframe thead th {\n",
       "        text-align: right;\n",
       "    }\n",
       "</style>\n",
       "<table border=\"1\" class=\"dataframe\">\n",
       "  <thead>\n",
       "    <tr style=\"text-align: right;\">\n",
       "      <th>id</th>\n",
       "      <th>AV13O1A8GV-KLJ3akUyj</th>\n",
       "      <th>AV14LG0R-jtxr-f38QfS</th>\n",
       "      <th>AV16khLE-jtxr-f38VFn</th>\n",
       "      <th>AV1YGDqsGV-KLJ3adc-O</th>\n",
       "      <th>AV1YIch7GV-KLJ3addeG</th>\n",
       "      <th>AV1YlENIglJLPUi8IHsX</th>\n",
       "      <th>AV1YmBrdGV-KLJ3adewb</th>\n",
       "      <th>AV1YmDL9vKc47QAVgr7_</th>\n",
       "      <th>AV1Ymf_rglJLPUi8II2v</th>\n",
       "      <th>AV1Yn94nvKc47QAVgtst</th>\n",
       "      <th>AV1YnUMYglJLPUi8IJpK</th>\n",
       "      <th>AV1Ynb3bglJLPUi8IJxJ</th>\n",
       "      <th>AV1YneDPglJLPUi8IJyQ</th>\n",
       "      <th>AV1YpiJvvKc47QAVguxy</th>\n",
       "      <th>AV1YqAaMGV-KLJ3adiDj</th>\n",
       "      <th>AV1Ys0kTvKc47QAVgx1C</th>\n",
       "      <th>AV1YtGjdglJLPUi8IOfJ</th>\n",
       "      <th>AV1ZSp2uglJLPUi8IQFy</th>\n",
       "      <th>AV1ZT7GLglJLPUi8IQLI</th>\n",
       "      <th>AV1ZVIgy-jtxr-f31W9N</th>\n",
       "      <th>AV1d76w7vKc47QAVhCqn</th>\n",
       "      <th>AV1h6Gu0glJLPUi8IjA_</th>\n",
       "      <th>AV1h6gSl-jtxr-f31p40</th>\n",
       "      <th>AV1l8zRZvKc47QAVhnAv</th>\n",
       "      <th>AV2AvGnjGV-KLJ3alTQH</th>\n",
       "      <th>AV2Avn5dGV-KLJ3alTjq</th>\n",
       "      <th>AVpe-M4-ilAPnD_xSF1K</th>\n",
       "      <th>AVpe-MCY1cnluZ0-bCv_</th>\n",
       "      <th>AVpe-PJnLJeJML43ziaj</th>\n",
       "      <th>AVpe-YAL1cnluZ0-bHGh</th>\n",
       "      <th>...</th>\n",
       "      <th>AVpfksililAPnD_xePx_</th>\n",
       "      <th>AVpfl6baLJeJML43AEQq</th>\n",
       "      <th>AVpfl6sF1cnluZ0-nmwC</th>\n",
       "      <th>AVpfldDlLJeJML43_7s_</th>\n",
       "      <th>AVpfliCoilAPnD_xegIr</th>\n",
       "      <th>AVpfluP1ilAPnD_xejxO</th>\n",
       "      <th>AVpfm8yiLJeJML43AYyu</th>\n",
       "      <th>AVpfmVnVLJeJML43AMqC</th>\n",
       "      <th>AVpfmjXGLJeJML43AQ5_</th>\n",
       "      <th>AVpfnRuSilAPnD_xfB8l</th>\n",
       "      <th>AVpfnS4eLJeJML43AfZe</th>\n",
       "      <th>AVpfnUcwLJeJML43Af2U</th>\n",
       "      <th>AVpfnjBILJeJML43AkO3</th>\n",
       "      <th>AVpfoSS51cnluZ0-oVH9</th>\n",
       "      <th>AVpfov9TLJeJML43A7B0</th>\n",
       "      <th>AVpfozgyilAPnD_xfe0r</th>\n",
       "      <th>AVpfpM2yilAPnD_xfmDG</th>\n",
       "      <th>AVpfpoUCLJeJML43BLXv</th>\n",
       "      <th>AVpfqW4WilAPnD_xf7a_</th>\n",
       "      <th>AVpfr5cb1cnluZ0-pZFp</th>\n",
       "      <th>AVpfrFDZLJeJML43Bmv0</th>\n",
       "      <th>AVpfrTyiLJeJML43BrSI</th>\n",
       "      <th>AVpfrfHF1cnluZ0-pRai</th>\n",
       "      <th>AVpfrgjFLJeJML43BvCc</th>\n",
       "      <th>AVpfsQoeilAPnD_xgfx5</th>\n",
       "      <th>AVpfshNsLJeJML43CB8q</th>\n",
       "      <th>AVpfthSailAPnD_xg3ON</th>\n",
       "      <th>AVpftikC1cnluZ0-p31V</th>\n",
       "      <th>AVpfv4TlilAPnD_xhjNS</th>\n",
       "      <th>AVpfvieo1cnluZ0-qdnu</th>\n",
       "    </tr>\n",
       "    <tr>\n",
       "      <th>reviews_username</th>\n",
       "      <th></th>\n",
       "      <th></th>\n",
       "      <th></th>\n",
       "      <th></th>\n",
       "      <th></th>\n",
       "      <th></th>\n",
       "      <th></th>\n",
       "      <th></th>\n",
       "      <th></th>\n",
       "      <th></th>\n",
       "      <th></th>\n",
       "      <th></th>\n",
       "      <th></th>\n",
       "      <th></th>\n",
       "      <th></th>\n",
       "      <th></th>\n",
       "      <th></th>\n",
       "      <th></th>\n",
       "      <th></th>\n",
       "      <th></th>\n",
       "      <th></th>\n",
       "      <th></th>\n",
       "      <th></th>\n",
       "      <th></th>\n",
       "      <th></th>\n",
       "      <th></th>\n",
       "      <th></th>\n",
       "      <th></th>\n",
       "      <th></th>\n",
       "      <th></th>\n",
       "      <th></th>\n",
       "      <th></th>\n",
       "      <th></th>\n",
       "      <th></th>\n",
       "      <th></th>\n",
       "      <th></th>\n",
       "      <th></th>\n",
       "      <th></th>\n",
       "      <th></th>\n",
       "      <th></th>\n",
       "      <th></th>\n",
       "      <th></th>\n",
       "      <th></th>\n",
       "      <th></th>\n",
       "      <th></th>\n",
       "      <th></th>\n",
       "      <th></th>\n",
       "      <th></th>\n",
       "      <th></th>\n",
       "      <th></th>\n",
       "      <th></th>\n",
       "      <th></th>\n",
       "      <th></th>\n",
       "      <th></th>\n",
       "      <th></th>\n",
       "      <th></th>\n",
       "      <th></th>\n",
       "      <th></th>\n",
       "      <th></th>\n",
       "      <th></th>\n",
       "      <th></th>\n",
       "    </tr>\n",
       "  </thead>\n",
       "  <tbody>\n",
       "    <tr>\n",
       "      <th>00sab00</th>\n",
       "      <td>0.0</td>\n",
       "      <td>0.0</td>\n",
       "      <td>0.0</td>\n",
       "      <td>0.006</td>\n",
       "      <td>0.0</td>\n",
       "      <td>0.0</td>\n",
       "      <td>0.0</td>\n",
       "      <td>0.0</td>\n",
       "      <td>0.0</td>\n",
       "      <td>0.0</td>\n",
       "      <td>0.0</td>\n",
       "      <td>0.0</td>\n",
       "      <td>0.0</td>\n",
       "      <td>0.0</td>\n",
       "      <td>0.0</td>\n",
       "      <td>0.000e+00</td>\n",
       "      <td>0.008</td>\n",
       "      <td>0.0</td>\n",
       "      <td>0.0</td>\n",
       "      <td>0.0</td>\n",
       "      <td>0.0</td>\n",
       "      <td>0.0</td>\n",
       "      <td>0.0</td>\n",
       "      <td>0.000</td>\n",
       "      <td>0.0</td>\n",
       "      <td>0.0</td>\n",
       "      <td>0.0</td>\n",
       "      <td>0.0</td>\n",
       "      <td>0.0</td>\n",
       "      <td>0.0</td>\n",
       "      <td>...</td>\n",
       "      <td>0.0</td>\n",
       "      <td>0.0</td>\n",
       "      <td>0.0</td>\n",
       "      <td>0.0</td>\n",
       "      <td>0.0</td>\n",
       "      <td>0.0</td>\n",
       "      <td>0.000</td>\n",
       "      <td>0.0</td>\n",
       "      <td>0.0</td>\n",
       "      <td>0.0</td>\n",
       "      <td>0.0</td>\n",
       "      <td>0.0</td>\n",
       "      <td>0.0</td>\n",
       "      <td>0.016</td>\n",
       "      <td>0.005</td>\n",
       "      <td>0.0</td>\n",
       "      <td>0.000</td>\n",
       "      <td>0.0</td>\n",
       "      <td>0.0</td>\n",
       "      <td>0.01</td>\n",
       "      <td>0.0</td>\n",
       "      <td>0.000</td>\n",
       "      <td>0.0</td>\n",
       "      <td>0.0</td>\n",
       "      <td>0.0</td>\n",
       "      <td>0.0</td>\n",
       "      <td>0.021</td>\n",
       "      <td>0.006</td>\n",
       "      <td>0.065</td>\n",
       "      <td>0.0</td>\n",
       "    </tr>\n",
       "    <tr>\n",
       "      <th>01impala</th>\n",
       "      <td>0.0</td>\n",
       "      <td>0.0</td>\n",
       "      <td>0.0</td>\n",
       "      <td>0.000</td>\n",
       "      <td>0.0</td>\n",
       "      <td>0.0</td>\n",
       "      <td>0.0</td>\n",
       "      <td>0.0</td>\n",
       "      <td>0.0</td>\n",
       "      <td>0.0</td>\n",
       "      <td>0.0</td>\n",
       "      <td>0.0</td>\n",
       "      <td>0.0</td>\n",
       "      <td>0.0</td>\n",
       "      <td>0.0</td>\n",
       "      <td>9.045e-04</td>\n",
       "      <td>0.000</td>\n",
       "      <td>0.0</td>\n",
       "      <td>0.0</td>\n",
       "      <td>0.0</td>\n",
       "      <td>0.0</td>\n",
       "      <td>0.0</td>\n",
       "      <td>0.0</td>\n",
       "      <td>0.001</td>\n",
       "      <td>0.0</td>\n",
       "      <td>0.0</td>\n",
       "      <td>0.0</td>\n",
       "      <td>0.0</td>\n",
       "      <td>0.0</td>\n",
       "      <td>0.0</td>\n",
       "      <td>...</td>\n",
       "      <td>0.0</td>\n",
       "      <td>0.0</td>\n",
       "      <td>0.0</td>\n",
       "      <td>0.0</td>\n",
       "      <td>0.0</td>\n",
       "      <td>0.0</td>\n",
       "      <td>0.003</td>\n",
       "      <td>0.0</td>\n",
       "      <td>0.0</td>\n",
       "      <td>0.0</td>\n",
       "      <td>0.0</td>\n",
       "      <td>0.0</td>\n",
       "      <td>0.0</td>\n",
       "      <td>0.000</td>\n",
       "      <td>0.003</td>\n",
       "      <td>0.0</td>\n",
       "      <td>0.005</td>\n",
       "      <td>0.0</td>\n",
       "      <td>0.0</td>\n",
       "      <td>0.00</td>\n",
       "      <td>0.0</td>\n",
       "      <td>0.098</td>\n",
       "      <td>0.0</td>\n",
       "      <td>0.0</td>\n",
       "      <td>0.0</td>\n",
       "      <td>0.0</td>\n",
       "      <td>0.000</td>\n",
       "      <td>0.000</td>\n",
       "      <td>0.000</td>\n",
       "      <td>0.0</td>\n",
       "    </tr>\n",
       "  </tbody>\n",
       "</table>\n",
       "<p>2 rows × 256 columns</p>\n",
       "</div>"
      ],
      "text/plain": [
       "id                AV13O1A8GV-KLJ3akUyj  AV14LG0R-jtxr-f38QfS  \\\n",
       "reviews_username                                               \n",
       "00sab00                            0.0                   0.0   \n",
       "01impala                           0.0                   0.0   \n",
       "\n",
       "id                AV16khLE-jtxr-f38VFn  AV1YGDqsGV-KLJ3adc-O  \\\n",
       "reviews_username                                               \n",
       "00sab00                            0.0                 0.006   \n",
       "01impala                           0.0                 0.000   \n",
       "\n",
       "id                AV1YIch7GV-KLJ3addeG  AV1YlENIglJLPUi8IHsX  \\\n",
       "reviews_username                                               \n",
       "00sab00                            0.0                   0.0   \n",
       "01impala                           0.0                   0.0   \n",
       "\n",
       "id                AV1YmBrdGV-KLJ3adewb  AV1YmDL9vKc47QAVgr7_  \\\n",
       "reviews_username                                               \n",
       "00sab00                            0.0                   0.0   \n",
       "01impala                           0.0                   0.0   \n",
       "\n",
       "id                AV1Ymf_rglJLPUi8II2v  AV1Yn94nvKc47QAVgtst  \\\n",
       "reviews_username                                               \n",
       "00sab00                            0.0                   0.0   \n",
       "01impala                           0.0                   0.0   \n",
       "\n",
       "id                AV1YnUMYglJLPUi8IJpK  AV1Ynb3bglJLPUi8IJxJ  \\\n",
       "reviews_username                                               \n",
       "00sab00                            0.0                   0.0   \n",
       "01impala                           0.0                   0.0   \n",
       "\n",
       "id                AV1YneDPglJLPUi8IJyQ  AV1YpiJvvKc47QAVguxy  \\\n",
       "reviews_username                                               \n",
       "00sab00                            0.0                   0.0   \n",
       "01impala                           0.0                   0.0   \n",
       "\n",
       "id                AV1YqAaMGV-KLJ3adiDj  AV1Ys0kTvKc47QAVgx1C  \\\n",
       "reviews_username                                               \n",
       "00sab00                            0.0             0.000e+00   \n",
       "01impala                           0.0             9.045e-04   \n",
       "\n",
       "id                AV1YtGjdglJLPUi8IOfJ  AV1ZSp2uglJLPUi8IQFy  \\\n",
       "reviews_username                                               \n",
       "00sab00                          0.008                   0.0   \n",
       "01impala                         0.000                   0.0   \n",
       "\n",
       "id                AV1ZT7GLglJLPUi8IQLI  AV1ZVIgy-jtxr-f31W9N  \\\n",
       "reviews_username                                               \n",
       "00sab00                            0.0                   0.0   \n",
       "01impala                           0.0                   0.0   \n",
       "\n",
       "id                AV1d76w7vKc47QAVhCqn  AV1h6Gu0glJLPUi8IjA_  \\\n",
       "reviews_username                                               \n",
       "00sab00                            0.0                   0.0   \n",
       "01impala                           0.0                   0.0   \n",
       "\n",
       "id                AV1h6gSl-jtxr-f31p40  AV1l8zRZvKc47QAVhnAv  \\\n",
       "reviews_username                                               \n",
       "00sab00                            0.0                 0.000   \n",
       "01impala                           0.0                 0.001   \n",
       "\n",
       "id                AV2AvGnjGV-KLJ3alTQH  AV2Avn5dGV-KLJ3alTjq  \\\n",
       "reviews_username                                               \n",
       "00sab00                            0.0                   0.0   \n",
       "01impala                           0.0                   0.0   \n",
       "\n",
       "id                AVpe-M4-ilAPnD_xSF1K  AVpe-MCY1cnluZ0-bCv_  \\\n",
       "reviews_username                                               \n",
       "00sab00                            0.0                   0.0   \n",
       "01impala                           0.0                   0.0   \n",
       "\n",
       "id                AVpe-PJnLJeJML43ziaj  AVpe-YAL1cnluZ0-bHGh  ...  \\\n",
       "reviews_username                                              ...   \n",
       "00sab00                            0.0                   0.0  ...   \n",
       "01impala                           0.0                   0.0  ...   \n",
       "\n",
       "id                AVpfksililAPnD_xePx_  AVpfl6baLJeJML43AEQq  \\\n",
       "reviews_username                                               \n",
       "00sab00                            0.0                   0.0   \n",
       "01impala                           0.0                   0.0   \n",
       "\n",
       "id                AVpfl6sF1cnluZ0-nmwC  AVpfldDlLJeJML43_7s_  \\\n",
       "reviews_username                                               \n",
       "00sab00                            0.0                   0.0   \n",
       "01impala                           0.0                   0.0   \n",
       "\n",
       "id                AVpfliCoilAPnD_xegIr  AVpfluP1ilAPnD_xejxO  \\\n",
       "reviews_username                                               \n",
       "00sab00                            0.0                   0.0   \n",
       "01impala                           0.0                   0.0   \n",
       "\n",
       "id                AVpfm8yiLJeJML43AYyu  AVpfmVnVLJeJML43AMqC  \\\n",
       "reviews_username                                               \n",
       "00sab00                          0.000                   0.0   \n",
       "01impala                         0.003                   0.0   \n",
       "\n",
       "id                AVpfmjXGLJeJML43AQ5_  AVpfnRuSilAPnD_xfB8l  \\\n",
       "reviews_username                                               \n",
       "00sab00                            0.0                   0.0   \n",
       "01impala                           0.0                   0.0   \n",
       "\n",
       "id                AVpfnS4eLJeJML43AfZe  AVpfnUcwLJeJML43Af2U  \\\n",
       "reviews_username                                               \n",
       "00sab00                            0.0                   0.0   \n",
       "01impala                           0.0                   0.0   \n",
       "\n",
       "id                AVpfnjBILJeJML43AkO3  AVpfoSS51cnluZ0-oVH9  \\\n",
       "reviews_username                                               \n",
       "00sab00                            0.0                 0.016   \n",
       "01impala                           0.0                 0.000   \n",
       "\n",
       "id                AVpfov9TLJeJML43A7B0  AVpfozgyilAPnD_xfe0r  \\\n",
       "reviews_username                                               \n",
       "00sab00                          0.005                   0.0   \n",
       "01impala                         0.003                   0.0   \n",
       "\n",
       "id                AVpfpM2yilAPnD_xfmDG  AVpfpoUCLJeJML43BLXv  \\\n",
       "reviews_username                                               \n",
       "00sab00                          0.000                   0.0   \n",
       "01impala                         0.005                   0.0   \n",
       "\n",
       "id                AVpfqW4WilAPnD_xf7a_  AVpfr5cb1cnluZ0-pZFp  \\\n",
       "reviews_username                                               \n",
       "00sab00                            0.0                  0.01   \n",
       "01impala                           0.0                  0.00   \n",
       "\n",
       "id                AVpfrFDZLJeJML43Bmv0  AVpfrTyiLJeJML43BrSI  \\\n",
       "reviews_username                                               \n",
       "00sab00                            0.0                 0.000   \n",
       "01impala                           0.0                 0.098   \n",
       "\n",
       "id                AVpfrfHF1cnluZ0-pRai  AVpfrgjFLJeJML43BvCc  \\\n",
       "reviews_username                                               \n",
       "00sab00                            0.0                   0.0   \n",
       "01impala                           0.0                   0.0   \n",
       "\n",
       "id                AVpfsQoeilAPnD_xgfx5  AVpfshNsLJeJML43CB8q  \\\n",
       "reviews_username                                               \n",
       "00sab00                            0.0                   0.0   \n",
       "01impala                           0.0                   0.0   \n",
       "\n",
       "id                AVpfthSailAPnD_xg3ON  AVpftikC1cnluZ0-p31V  \\\n",
       "reviews_username                                               \n",
       "00sab00                          0.021                 0.006   \n",
       "01impala                         0.000                 0.000   \n",
       "\n",
       "id                AVpfv4TlilAPnD_xhjNS  AVpfvieo1cnluZ0-qdnu  \n",
       "reviews_username                                              \n",
       "00sab00                          0.065                   0.0  \n",
       "01impala                         0.000                   0.0  \n",
       "\n",
       "[2 rows x 256 columns]"
      ]
     },
     "execution_count": 166,
     "metadata": {},
     "output_type": "execute_result"
    }
   ],
   "source": [
    "item_final_rating.head(2)"
   ]
  },
  {
   "cell_type": "code",
   "execution_count": 167,
   "metadata": {
    "ExecuteTime": {
     "end_time": "2022-04-06T05:49:49.121835Z",
     "start_time": "2022-04-06T05:46:27.965Z"
    },
    "execution": {
     "iopub.execute_input": "2022-04-14T01:39:01.031908Z",
     "iopub.status.busy": "2022-04-14T01:39:01.031595Z",
     "iopub.status.idle": "2022-04-14T01:39:01.046292Z",
     "shell.execute_reply": "2022-04-14T01:39:01.045342Z",
     "shell.execute_reply.started": "2022-04-14T01:39:01.031866Z"
    },
    "executionInfo": {
     "elapsed": 31,
     "status": "ok",
     "timestamp": 1649227995240,
     "user": {
      "displayName": "Venkatasubramanian S",
      "userId": "06029493893713790610"
     },
     "user_tz": 420
    },
    "id": "g_Hv4aNclydc",
    "outputId": "a811ed48-11c4-489e-9bc0-f2eb31daa1d6"
   },
   "outputs": [
    {
     "data": {
      "text/html": [
       "<div>\n",
       "<style scoped>\n",
       "    .dataframe tbody tr th:only-of-type {\n",
       "        vertical-align: middle;\n",
       "    }\n",
       "\n",
       "    .dataframe tbody tr th {\n",
       "        vertical-align: top;\n",
       "    }\n",
       "\n",
       "    .dataframe thead th {\n",
       "        text-align: right;\n",
       "    }\n",
       "</style>\n",
       "<table border=\"1\" class=\"dataframe\">\n",
       "  <thead>\n",
       "    <tr style=\"text-align: right;\">\n",
       "      <th></th>\n",
       "      <th>Product Id</th>\n",
       "      <th>cosine_similarity_score</th>\n",
       "    </tr>\n",
       "  </thead>\n",
       "  <tbody>\n",
       "    <tr>\n",
       "      <th>0</th>\n",
       "      <td>AVpfE7puilAPnD_xUcCW</td>\n",
       "      <td>0.147</td>\n",
       "    </tr>\n",
       "    <tr>\n",
       "      <th>1</th>\n",
       "      <td>AVpfv4TlilAPnD_xhjNS</td>\n",
       "      <td>0.065</td>\n",
       "    </tr>\n",
       "    <tr>\n",
       "      <th>2</th>\n",
       "      <td>AVpfJcHuLJeJML433ZrY</td>\n",
       "      <td>0.052</td>\n",
       "    </tr>\n",
       "    <tr>\n",
       "      <th>3</th>\n",
       "      <td>AVpf0thK1cnluZ0-r8vR</td>\n",
       "      <td>0.037</td>\n",
       "    </tr>\n",
       "    <tr>\n",
       "      <th>4</th>\n",
       "      <td>AVpe6PCDLJeJML43yFQH</td>\n",
       "      <td>0.032</td>\n",
       "    </tr>\n",
       "    <tr>\n",
       "      <th>5</th>\n",
       "      <td>AVpe_dxlilAPnD_xSiHI</td>\n",
       "      <td>0.031</td>\n",
       "    </tr>\n",
       "    <tr>\n",
       "      <th>6</th>\n",
       "      <td>AVpfQtEm1cnluZ0-hUpe</td>\n",
       "      <td>0.027</td>\n",
       "    </tr>\n",
       "    <tr>\n",
       "      <th>7</th>\n",
       "      <td>AVpfHf4wLJeJML432vqK</td>\n",
       "      <td>0.023</td>\n",
       "    </tr>\n",
       "    <tr>\n",
       "      <th>8</th>\n",
       "      <td>AVpfthSailAPnD_xg3ON</td>\n",
       "      <td>0.021</td>\n",
       "    </tr>\n",
       "    <tr>\n",
       "      <th>9</th>\n",
       "      <td>AVpe6FfKilAPnD_xQmHi</td>\n",
       "      <td>0.020</td>\n",
       "    </tr>\n",
       "    <tr>\n",
       "      <th>10</th>\n",
       "      <td>AVpe_pDG1cnluZ0-bjSf</td>\n",
       "      <td>0.017</td>\n",
       "    </tr>\n",
       "    <tr>\n",
       "      <th>11</th>\n",
       "      <td>AVpf5CnILJeJML43FjaU</td>\n",
       "      <td>0.016</td>\n",
       "    </tr>\n",
       "    <tr>\n",
       "      <th>12</th>\n",
       "      <td>AVpe4pnBilAPnD_xQDeb</td>\n",
       "      <td>0.016</td>\n",
       "    </tr>\n",
       "    <tr>\n",
       "      <th>13</th>\n",
       "      <td>AVpe6n2_LJeJML43yOgE</td>\n",
       "      <td>0.016</td>\n",
       "    </tr>\n",
       "    <tr>\n",
       "      <th>14</th>\n",
       "      <td>AVpfoSS51cnluZ0-oVH9</td>\n",
       "      <td>0.016</td>\n",
       "    </tr>\n",
       "    <tr>\n",
       "      <th>15</th>\n",
       "      <td>AVpfOmKwLJeJML435GM7</td>\n",
       "      <td>0.015</td>\n",
       "    </tr>\n",
       "    <tr>\n",
       "      <th>16</th>\n",
       "      <td>AVpfbraG1cnluZ0-kqnn</td>\n",
       "      <td>0.015</td>\n",
       "    </tr>\n",
       "    <tr>\n",
       "      <th>17</th>\n",
       "      <td>AVpfOIrkilAPnD_xXgDG</td>\n",
       "      <td>0.015</td>\n",
       "    </tr>\n",
       "    <tr>\n",
       "      <th>18</th>\n",
       "      <td>AVpe8gsILJeJML43y6Ed</td>\n",
       "      <td>0.015</td>\n",
       "    </tr>\n",
       "    <tr>\n",
       "      <th>19</th>\n",
       "      <td>AVpe31o71cnluZ0-YrSD</td>\n",
       "      <td>0.015</td>\n",
       "    </tr>\n",
       "  </tbody>\n",
       "</table>\n",
       "</div>"
      ],
      "text/plain": [
       "              Product Id  cosine_similarity_score\n",
       "0   AVpfE7puilAPnD_xUcCW                    0.147\n",
       "1   AVpfv4TlilAPnD_xhjNS                    0.065\n",
       "2   AVpfJcHuLJeJML433ZrY                    0.052\n",
       "3   AVpf0thK1cnluZ0-r8vR                    0.037\n",
       "4   AVpe6PCDLJeJML43yFQH                    0.032\n",
       "5   AVpe_dxlilAPnD_xSiHI                    0.031\n",
       "6   AVpfQtEm1cnluZ0-hUpe                    0.027\n",
       "7   AVpfHf4wLJeJML432vqK                    0.023\n",
       "8   AVpfthSailAPnD_xg3ON                    0.021\n",
       "9   AVpe6FfKilAPnD_xQmHi                    0.020\n",
       "10  AVpe_pDG1cnluZ0-bjSf                    0.017\n",
       "11  AVpf5CnILJeJML43FjaU                    0.016\n",
       "12  AVpe4pnBilAPnD_xQDeb                    0.016\n",
       "13  AVpe6n2_LJeJML43yOgE                    0.016\n",
       "14  AVpfoSS51cnluZ0-oVH9                    0.016\n",
       "15  AVpfOmKwLJeJML435GM7                    0.015\n",
       "16  AVpfbraG1cnluZ0-kqnn                    0.015\n",
       "17  AVpfOIrkilAPnD_xXgDG                    0.015\n",
       "18  AVpe8gsILJeJML43y6Ed                    0.015\n",
       "19  AVpe31o71cnluZ0-YrSD                    0.015"
      ]
     },
     "execution_count": 167,
     "metadata": {},
     "output_type": "execute_result"
    }
   ],
   "source": [
    "top20_item_recommendations = item_final_rating.loc[user_input].sort_values(ascending=False)[0:20]\n",
    "df_top20_item_recommendations = pd.DataFrame({'Product Id': top20_item_recommendations.index, 'cosine_similarity_score' : top20_item_recommendations})\n",
    "df_top20_item_recommendations.reset_index(drop=True, inplace=True)\n",
    "df_top20_item_recommendations"
   ]
  },
  {
   "cell_type": "markdown",
   "metadata": {
    "id": "BEOFoGghrxCo"
   },
   "source": [
    "## Finding the Top 20 products that a user is most likely to purchase based on the ratings "
   ]
  },
  {
   "cell_type": "code",
   "execution_count": 168,
   "metadata": {
    "ExecuteTime": {
     "end_time": "2022-04-06T05:49:49.122838Z",
     "start_time": "2022-04-06T05:46:27.972Z"
    },
    "execution": {
     "iopub.execute_input": "2022-04-14T01:39:01.048962Z",
     "iopub.status.busy": "2022-04-14T01:39:01.048190Z",
     "iopub.status.idle": "2022-04-14T01:39:01.073468Z",
     "shell.execute_reply": "2022-04-14T01:39:01.072600Z",
     "shell.execute_reply.started": "2022-04-14T01:39:01.048916Z"
    },
    "executionInfo": {
     "elapsed": 547,
     "status": "ok",
     "timestamp": 1649227995757,
     "user": {
      "displayName": "Venkatasubramanian S",
      "userId": "06029493893713790610"
     },
     "user_tz": 420
    },
    "id": "Mv9gwDZomOlR",
    "outputId": "a8970201-a5d9-49b1-f5f4-5c36b7696060"
   },
   "outputs": [
    {
     "data": {
      "text/html": [
       "<div>\n",
       "<style scoped>\n",
       "    .dataframe tbody tr th:only-of-type {\n",
       "        vertical-align: middle;\n",
       "    }\n",
       "\n",
       "    .dataframe tbody tr th {\n",
       "        vertical-align: top;\n",
       "    }\n",
       "\n",
       "    .dataframe thead th {\n",
       "        text-align: right;\n",
       "    }\n",
       "</style>\n",
       "<table border=\"1\" class=\"dataframe\">\n",
       "  <thead>\n",
       "    <tr style=\"text-align: right;\">\n",
       "      <th></th>\n",
       "      <th>Product Id</th>\n",
       "      <th>name</th>\n",
       "      <th>cosine_similarity_score</th>\n",
       "    </tr>\n",
       "  </thead>\n",
       "  <tbody>\n",
       "    <tr>\n",
       "      <th>11</th>\n",
       "      <td>AVpfE7puilAPnD_xUcCW</td>\n",
       "      <td>Bilbao Nightstand Gray Oak - South Shore</td>\n",
       "      <td>0.147</td>\n",
       "    </tr>\n",
       "    <tr>\n",
       "      <th>19</th>\n",
       "      <td>AVpfv4TlilAPnD_xhjNS</td>\n",
       "      <td>Various - Red Hot Blue:Tribute To Cole Porter (cd)</td>\n",
       "      <td>0.065</td>\n",
       "    </tr>\n",
       "    <tr>\n",
       "      <th>13</th>\n",
       "      <td>AVpfJcHuLJeJML433ZrY</td>\n",
       "      <td>Equals (blu-Ray)</td>\n",
       "      <td>0.052</td>\n",
       "    </tr>\n",
       "    <tr>\n",
       "      <th>8</th>\n",
       "      <td>AVpf0thK1cnluZ0-r8vR</td>\n",
       "      <td>100:Complete First Season (blu-Ray)</td>\n",
       "      <td>0.037</td>\n",
       "    </tr>\n",
       "    <tr>\n",
       "      <th>6</th>\n",
       "      <td>AVpe6PCDLJeJML43yFQH</td>\n",
       "      <td>Wagan Smartac 80watt Inverter With Usb</td>\n",
       "      <td>0.032</td>\n",
       "    </tr>\n",
       "    <tr>\n",
       "      <th>0</th>\n",
       "      <td>AVpe_dxlilAPnD_xSiHI</td>\n",
       "      <td>The Seaweed Bath Co. Argan Conditioner, Smoothing Citrus</td>\n",
       "      <td>0.031</td>\n",
       "    </tr>\n",
       "    <tr>\n",
       "      <th>17</th>\n",
       "      <td>AVpfQtEm1cnluZ0-hUpe</td>\n",
       "      <td>Jolly Time Select Premium Yellow Pop Corn</td>\n",
       "      <td>0.027</td>\n",
       "    </tr>\n",
       "    <tr>\n",
       "      <th>12</th>\n",
       "      <td>AVpfHf4wLJeJML432vqK</td>\n",
       "      <td>Trend Lab Park Nursing Cover - Paisley</td>\n",
       "      <td>0.023</td>\n",
       "    </tr>\n",
       "    <tr>\n",
       "      <th>18</th>\n",
       "      <td>AVpfthSailAPnD_xg3ON</td>\n",
       "      <td>Musselman Apple Sauce, Cinnamon, 48oz</td>\n",
       "      <td>0.021</td>\n",
       "    </tr>\n",
       "    <tr>\n",
       "      <th>4</th>\n",
       "      <td>AVpe6FfKilAPnD_xQmHi</td>\n",
       "      <td>Chex Muddy Buddies Brownie Supreme Snack Mix</td>\n",
       "      <td>0.020</td>\n",
       "    </tr>\n",
       "    <tr>\n",
       "      <th>1</th>\n",
       "      <td>AVpe_pDG1cnluZ0-bjSf</td>\n",
       "      <td>Bi-O-kleen Spray &amp; Wipe All Purpose Cleaner</td>\n",
       "      <td>0.017</td>\n",
       "    </tr>\n",
       "    <tr>\n",
       "      <th>9</th>\n",
       "      <td>AVpf5CnILJeJML43FjaU</td>\n",
       "      <td>WeatherTech 40647 14-15 Outlander Cargo Liners Behind 2nd Row, Black</td>\n",
       "      <td>0.016</td>\n",
       "    </tr>\n",
       "    <tr>\n",
       "      <th>3</th>\n",
       "      <td>AVpe4pnBilAPnD_xQDeb</td>\n",
       "      <td>Moom Express Pre Waxed Strips For Face &amp; Bikini</td>\n",
       "      <td>0.016</td>\n",
       "    </tr>\n",
       "    <tr>\n",
       "      <th>5</th>\n",
       "      <td>AVpe6n2_LJeJML43yOgE</td>\n",
       "      <td>Tresemme Kertatin Smooth Infusing Conditioning</td>\n",
       "      <td>0.016</td>\n",
       "    </tr>\n",
       "    <tr>\n",
       "      <th>16</th>\n",
       "      <td>AVpfoSS51cnluZ0-oVH9</td>\n",
       "      <td>Cheetos Crunchy Flamin' Hot Cheese Flavored Snacks</td>\n",
       "      <td>0.016</td>\n",
       "    </tr>\n",
       "    <tr>\n",
       "      <th>15</th>\n",
       "      <td>AVpfOmKwLJeJML435GM7</td>\n",
       "      <td>Clear Scalp &amp; Hair Therapy Total Care Nourishing Shampoo</td>\n",
       "      <td>0.015</td>\n",
       "    </tr>\n",
       "    <tr>\n",
       "      <th>10</th>\n",
       "      <td>AVpfbraG1cnluZ0-kqnn</td>\n",
       "      <td>Kind Nut Delight Bar</td>\n",
       "      <td>0.015</td>\n",
       "    </tr>\n",
       "    <tr>\n",
       "      <th>14</th>\n",
       "      <td>AVpfOIrkilAPnD_xXgDG</td>\n",
       "      <td>Alex Cross (dvdvideo)</td>\n",
       "      <td>0.015</td>\n",
       "    </tr>\n",
       "    <tr>\n",
       "      <th>7</th>\n",
       "      <td>AVpe8gsILJeJML43y6Ed</td>\n",
       "      <td>Pendaflex174 Divide It Up File Folder, Multi Section, Letter, Assorted, 12/pack</td>\n",
       "      <td>0.015</td>\n",
       "    </tr>\n",
       "    <tr>\n",
       "      <th>2</th>\n",
       "      <td>AVpe31o71cnluZ0-YrSD</td>\n",
       "      <td>Dark Shadows (includes Digital Copy) (ultraviolet) (dvdvideo)</td>\n",
       "      <td>0.015</td>\n",
       "    </tr>\n",
       "  </tbody>\n",
       "</table>\n",
       "</div>"
      ],
      "text/plain": [
       "              Product Id  \\\n",
       "11  AVpfE7puilAPnD_xUcCW   \n",
       "19  AVpfv4TlilAPnD_xhjNS   \n",
       "13  AVpfJcHuLJeJML433ZrY   \n",
       "8   AVpf0thK1cnluZ0-r8vR   \n",
       "6   AVpe6PCDLJeJML43yFQH   \n",
       "0   AVpe_dxlilAPnD_xSiHI   \n",
       "17  AVpfQtEm1cnluZ0-hUpe   \n",
       "12  AVpfHf4wLJeJML432vqK   \n",
       "18  AVpfthSailAPnD_xg3ON   \n",
       "4   AVpe6FfKilAPnD_xQmHi   \n",
       "1   AVpe_pDG1cnluZ0-bjSf   \n",
       "9   AVpf5CnILJeJML43FjaU   \n",
       "3   AVpe4pnBilAPnD_xQDeb   \n",
       "5   AVpe6n2_LJeJML43yOgE   \n",
       "16  AVpfoSS51cnluZ0-oVH9   \n",
       "15  AVpfOmKwLJeJML435GM7   \n",
       "10  AVpfbraG1cnluZ0-kqnn   \n",
       "14  AVpfOIrkilAPnD_xXgDG   \n",
       "7   AVpe8gsILJeJML43y6Ed   \n",
       "2   AVpe31o71cnluZ0-YrSD   \n",
       "\n",
       "                                                                               name  \\\n",
       "11                                         Bilbao Nightstand Gray Oak - South Shore   \n",
       "19                               Various - Red Hot Blue:Tribute To Cole Porter (cd)   \n",
       "13                                                                 Equals (blu-Ray)   \n",
       "8                                               100:Complete First Season (blu-Ray)   \n",
       "6                                            Wagan Smartac 80watt Inverter With Usb   \n",
       "0                          The Seaweed Bath Co. Argan Conditioner, Smoothing Citrus   \n",
       "17                                        Jolly Time Select Premium Yellow Pop Corn   \n",
       "12                                           Trend Lab Park Nursing Cover - Paisley   \n",
       "18                                            Musselman Apple Sauce, Cinnamon, 48oz   \n",
       "4                                      Chex Muddy Buddies Brownie Supreme Snack Mix   \n",
       "1                                       Bi-O-kleen Spray & Wipe All Purpose Cleaner   \n",
       "9              WeatherTech 40647 14-15 Outlander Cargo Liners Behind 2nd Row, Black   \n",
       "3                                   Moom Express Pre Waxed Strips For Face & Bikini   \n",
       "5                                    Tresemme Kertatin Smooth Infusing Conditioning   \n",
       "16                               Cheetos Crunchy Flamin' Hot Cheese Flavored Snacks   \n",
       "15                         Clear Scalp & Hair Therapy Total Care Nourishing Shampoo   \n",
       "10                                                             Kind Nut Delight Bar   \n",
       "14                                                            Alex Cross (dvdvideo)   \n",
       "7   Pendaflex174 Divide It Up File Folder, Multi Section, Letter, Assorted, 12/pack   \n",
       "2                     Dark Shadows (includes Digital Copy) (ultraviolet) (dvdvideo)   \n",
       "\n",
       "    cosine_similarity_score  \n",
       "11                    0.147  \n",
       "19                    0.065  \n",
       "13                    0.052  \n",
       "8                     0.037  \n",
       "6                     0.032  \n",
       "0                     0.031  \n",
       "17                    0.027  \n",
       "12                    0.023  \n",
       "18                    0.021  \n",
       "4                     0.020  \n",
       "1                     0.017  \n",
       "9                     0.016  \n",
       "3                     0.016  \n",
       "5                     0.016  \n",
       "16                    0.016  \n",
       "15                    0.015  \n",
       "10                    0.015  \n",
       "14                    0.015  \n",
       "7                     0.015  \n",
       "2                     0.015  "
      ]
     },
     "execution_count": 168,
     "metadata": {},
     "output_type": "execute_result"
    }
   ],
   "source": [
    "top20_item_rec = pd.merge(df_recommended, df_top20_item_recommendations,left_on='id',right_on='Product Id', how = 'inner')[['Product Id', 'name', 'cosine_similarity_score']].drop_duplicates()\n",
    "top20_item_rec.reset_index(drop=True, inplace=True)\n",
    "top20_item_rec.sort_values(by='cosine_similarity_score', ascending=False)"
   ]
  },
  {
   "cell_type": "markdown",
   "metadata": {
    "id": "xYw96r_jm5u9"
   },
   "source": [
    "## Evaluation - Item Item"
   ]
  },
  {
   "cell_type": "code",
   "execution_count": 169,
   "metadata": {
    "ExecuteTime": {
     "end_time": "2022-04-06T05:49:49.123835Z",
     "start_time": "2022-04-06T05:46:27.983Z"
    },
    "execution": {
     "iopub.execute_input": "2022-04-14T01:39:01.075984Z",
     "iopub.status.busy": "2022-04-14T01:39:01.075423Z",
     "iopub.status.idle": "2022-04-14T01:39:01.082854Z",
     "shell.execute_reply": "2022-04-14T01:39:01.081978Z",
     "shell.execute_reply.started": "2022-04-14T01:39:01.075940Z"
    },
    "executionInfo": {
     "elapsed": 35,
     "status": "ok",
     "timestamp": 1649227995762,
     "user": {
      "displayName": "Venkatasubramanian S",
      "userId": "06029493893713790610"
     },
     "user_tz": 420
    },
    "id": "cmR4ZppwnA8Z",
    "outputId": "5e55bb6a-30c4-4941-cac7-fd2c07530215"
   },
   "outputs": [
    {
     "data": {
      "text/plain": [
       "Index(['id', 'name', 'reviews_rating', 'reviews_username'], dtype='object')"
      ]
     },
     "execution_count": 169,
     "metadata": {},
     "output_type": "execute_result"
    }
   ],
   "source": [
    "test.columns"
   ]
  },
  {
   "cell_type": "code",
   "execution_count": 170,
   "metadata": {
    "ExecuteTime": {
     "end_time": "2022-04-06T05:49:49.125839Z",
     "start_time": "2022-04-06T05:46:27.990Z"
    },
    "execution": {
     "iopub.execute_input": "2022-04-14T01:39:01.084653Z",
     "iopub.status.busy": "2022-04-14T01:39:01.084330Z",
     "iopub.status.idle": "2022-04-14T01:39:01.098491Z",
     "shell.execute_reply": "2022-04-14T01:39:01.097640Z",
     "shell.execute_reply.started": "2022-04-14T01:39:01.084622Z"
    },
    "executionInfo": {
     "elapsed": 34,
     "status": "ok",
     "timestamp": 1649227995763,
     "user": {
      "displayName": "Venkatasubramanian S",
      "userId": "06029493893713790610"
     },
     "user_tz": 420
    },
    "id": "FO-I8cC_nCSa",
    "outputId": "f6d386b7-5624-4e13-bb08-409df3d76900"
   },
   "outputs": [
    {
     "data": {
      "text/plain": [
       "(8966, 4)"
      ]
     },
     "execution_count": 170,
     "metadata": {},
     "output_type": "execute_result"
    }
   ],
   "source": [
    "# Find out the common products of test and train dataset.\n",
    "common = test[test.id.isin(train.id)]\n",
    "common.shape"
   ]
  },
  {
   "cell_type": "code",
   "execution_count": 171,
   "metadata": {
    "ExecuteTime": {
     "end_time": "2022-04-06T05:49:49.126836Z",
     "start_time": "2022-04-06T05:46:27.998Z"
    },
    "execution": {
     "iopub.execute_input": "2022-04-14T01:39:01.101046Z",
     "iopub.status.busy": "2022-04-14T01:39:01.100199Z",
     "iopub.status.idle": "2022-04-14T01:39:01.113573Z",
     "shell.execute_reply": "2022-04-14T01:39:01.112570Z",
     "shell.execute_reply.started": "2022-04-14T01:39:01.100998Z"
    },
    "executionInfo": {
     "elapsed": 27,
     "status": "ok",
     "timestamp": 1649227995764,
     "user": {
      "displayName": "Venkatasubramanian S",
      "userId": "06029493893713790610"
     },
     "user_tz": 420
    },
    "id": "eAoKrtcKnLrY",
    "outputId": "17697af7-1612-4db6-de74-14a24d25ba1f"
   },
   "outputs": [
    {
     "data": {
      "text/html": [
       "<div>\n",
       "<style scoped>\n",
       "    .dataframe tbody tr th:only-of-type {\n",
       "        vertical-align: middle;\n",
       "    }\n",
       "\n",
       "    .dataframe tbody tr th {\n",
       "        vertical-align: top;\n",
       "    }\n",
       "\n",
       "    .dataframe thead th {\n",
       "        text-align: right;\n",
       "    }\n",
       "</style>\n",
       "<table border=\"1\" class=\"dataframe\">\n",
       "  <thead>\n",
       "    <tr style=\"text-align: right;\">\n",
       "      <th></th>\n",
       "      <th>id</th>\n",
       "      <th>name</th>\n",
       "      <th>reviews_rating</th>\n",
       "      <th>reviews_username</th>\n",
       "    </tr>\n",
       "  </thead>\n",
       "  <tbody>\n",
       "    <tr>\n",
       "      <th>25787</th>\n",
       "      <td>AVpfPaoqLJeJML435Xk9</td>\n",
       "      <td>Godzilla 3d Includes Digital Copy Ultraviolet 3d/2d Blu-Ray/dvd</td>\n",
       "      <td>5</td>\n",
       "      <td>youknowhowitgoes</td>\n",
       "    </tr>\n",
       "    <tr>\n",
       "      <th>12627</th>\n",
       "      <td>AVpf3VOfilAPnD_xjpun</td>\n",
       "      <td>Clorox Disinfecting Wipes Value Pack Scented 150 Ct Total</td>\n",
       "      <td>5</td>\n",
       "      <td>ashleydale00</td>\n",
       "    </tr>\n",
       "  </tbody>\n",
       "</table>\n",
       "</div>"
      ],
      "text/plain": [
       "                         id  \\\n",
       "25787  AVpfPaoqLJeJML435Xk9   \n",
       "12627  AVpf3VOfilAPnD_xjpun   \n",
       "\n",
       "                                                                  name  \\\n",
       "25787  Godzilla 3d Includes Digital Copy Ultraviolet 3d/2d Blu-Ray/dvd   \n",
       "12627        Clorox Disinfecting Wipes Value Pack Scented 150 Ct Total   \n",
       "\n",
       "       reviews_rating  reviews_username  \n",
       "25787               5  youknowhowitgoes  \n",
       "12627               5      ashleydale00  "
      ]
     },
     "execution_count": 171,
     "metadata": {},
     "output_type": "execute_result"
    }
   ],
   "source": [
    "common.head(2)"
   ]
  },
  {
   "cell_type": "code",
   "execution_count": 172,
   "metadata": {
    "ExecuteTime": {
     "end_time": "2022-04-06T05:49:49.127842Z",
     "start_time": "2022-04-06T05:46:28.004Z"
    },
    "execution": {
     "iopub.execute_input": "2022-04-14T01:39:01.115531Z",
     "iopub.status.busy": "2022-04-14T01:39:01.115092Z",
     "iopub.status.idle": "2022-04-14T01:39:01.182887Z",
     "shell.execute_reply": "2022-04-14T01:39:01.182156Z",
     "shell.execute_reply.started": "2022-04-14T01:39:01.115499Z"
    },
    "executionInfo": {
     "elapsed": 26,
     "status": "ok",
     "timestamp": 1649227995764,
     "user": {
      "displayName": "Venkatasubramanian S",
      "userId": "06029493893713790610"
     },
     "user_tz": 420
    },
    "id": "vRI2RZzFnQ8A"
   },
   "outputs": [],
   "source": [
    "common_item_based_matrix = common.pivot_table(index='reviews_username', columns='id', values='reviews_rating').T"
   ]
  },
  {
   "cell_type": "code",
   "execution_count": 173,
   "metadata": {
    "ExecuteTime": {
     "end_time": "2022-04-06T05:49:49.129035Z",
     "start_time": "2022-04-06T05:46:28.010Z"
    },
    "execution": {
     "iopub.execute_input": "2022-04-14T01:39:01.184602Z",
     "iopub.status.busy": "2022-04-14T01:39:01.184173Z",
     "iopub.status.idle": "2022-04-14T01:39:01.189077Z",
     "shell.execute_reply": "2022-04-14T01:39:01.188568Z",
     "shell.execute_reply.started": "2022-04-14T01:39:01.184557Z"
    },
    "executionInfo": {
     "elapsed": 24,
     "status": "ok",
     "timestamp": 1649227995765,
     "user": {
      "displayName": "Venkatasubramanian S",
      "userId": "06029493893713790610"
     },
     "user_tz": 420
    },
    "id": "VoHN1psjnYGQ",
    "outputId": "7d0b9623-2ddb-431e-faf5-6f13ee698cef"
   },
   "outputs": [
    {
     "data": {
      "text/plain": [
       "(195, 8318)"
      ]
     },
     "execution_count": 173,
     "metadata": {},
     "output_type": "execute_result"
    }
   ],
   "source": [
    "common_item_based_matrix.shape"
   ]
  },
  {
   "cell_type": "code",
   "execution_count": 174,
   "metadata": {
    "ExecuteTime": {
     "end_time": "2022-04-06T05:49:49.129839Z",
     "start_time": "2022-04-06T05:46:28.016Z"
    },
    "execution": {
     "iopub.execute_input": "2022-04-14T01:39:01.190551Z",
     "iopub.status.busy": "2022-04-14T01:39:01.190179Z",
     "iopub.status.idle": "2022-04-14T01:39:01.201609Z",
     "shell.execute_reply": "2022-04-14T01:39:01.200783Z",
     "shell.execute_reply.started": "2022-04-14T01:39:01.190516Z"
    },
    "executionInfo": {
     "elapsed": 16,
     "status": "ok",
     "timestamp": 1649227995765,
     "user": {
      "displayName": "Venkatasubramanian S",
      "userId": "06029493893713790610"
     },
     "user_tz": 420
    },
    "id": "vRMLr9VhnZj7"
   },
   "outputs": [],
   "source": [
    "item_correlation_df = pd.DataFrame(item_correlation)"
   ]
  },
  {
   "cell_type": "code",
   "execution_count": 175,
   "metadata": {
    "ExecuteTime": {
     "end_time": "2022-04-06T05:49:49.130838Z",
     "start_time": "2022-04-06T05:46:28.022Z"
    },
    "execution": {
     "iopub.execute_input": "2022-04-14T01:39:01.203459Z",
     "iopub.status.busy": "2022-04-14T01:39:01.202838Z",
     "iopub.status.idle": "2022-04-14T01:39:01.255867Z",
     "shell.execute_reply": "2022-04-14T01:39:01.255042Z",
     "shell.execute_reply.started": "2022-04-14T01:39:01.203425Z"
    },
    "executionInfo": {
     "elapsed": 16,
     "status": "ok",
     "timestamp": 1649227995766,
     "user": {
      "displayName": "Venkatasubramanian S",
      "userId": "06029493893713790610"
     },
     "user_tz": 420
    },
    "id": "gwOMMJEonbAl",
    "outputId": "b9a8c007-7b3f-4bf7-e7fe-7f2afc302a72"
   },
   "outputs": [
    {
     "data": {
      "text/html": [
       "<div>\n",
       "<style scoped>\n",
       "    .dataframe tbody tr th:only-of-type {\n",
       "        vertical-align: middle;\n",
       "    }\n",
       "\n",
       "    .dataframe tbody tr th {\n",
       "        vertical-align: top;\n",
       "    }\n",
       "\n",
       "    .dataframe thead th {\n",
       "        text-align: right;\n",
       "    }\n",
       "</style>\n",
       "<table border=\"1\" class=\"dataframe\">\n",
       "  <thead>\n",
       "    <tr style=\"text-align: right;\">\n",
       "      <th></th>\n",
       "      <th>0</th>\n",
       "      <th>1</th>\n",
       "      <th>2</th>\n",
       "      <th>3</th>\n",
       "      <th>4</th>\n",
       "      <th>5</th>\n",
       "      <th>6</th>\n",
       "      <th>7</th>\n",
       "      <th>8</th>\n",
       "      <th>9</th>\n",
       "      <th>10</th>\n",
       "      <th>11</th>\n",
       "      <th>12</th>\n",
       "      <th>13</th>\n",
       "      <th>14</th>\n",
       "      <th>15</th>\n",
       "      <th>16</th>\n",
       "      <th>17</th>\n",
       "      <th>18</th>\n",
       "      <th>19</th>\n",
       "      <th>20</th>\n",
       "      <th>21</th>\n",
       "      <th>22</th>\n",
       "      <th>23</th>\n",
       "      <th>24</th>\n",
       "      <th>25</th>\n",
       "      <th>26</th>\n",
       "      <th>27</th>\n",
       "      <th>28</th>\n",
       "      <th>29</th>\n",
       "      <th>...</th>\n",
       "      <th>226</th>\n",
       "      <th>227</th>\n",
       "      <th>228</th>\n",
       "      <th>229</th>\n",
       "      <th>230</th>\n",
       "      <th>231</th>\n",
       "      <th>232</th>\n",
       "      <th>233</th>\n",
       "      <th>234</th>\n",
       "      <th>235</th>\n",
       "      <th>236</th>\n",
       "      <th>237</th>\n",
       "      <th>238</th>\n",
       "      <th>239</th>\n",
       "      <th>240</th>\n",
       "      <th>241</th>\n",
       "      <th>242</th>\n",
       "      <th>243</th>\n",
       "      <th>244</th>\n",
       "      <th>245</th>\n",
       "      <th>246</th>\n",
       "      <th>247</th>\n",
       "      <th>248</th>\n",
       "      <th>249</th>\n",
       "      <th>250</th>\n",
       "      <th>251</th>\n",
       "      <th>252</th>\n",
       "      <th>253</th>\n",
       "      <th>254</th>\n",
       "      <th>255</th>\n",
       "    </tr>\n",
       "  </thead>\n",
       "  <tbody>\n",
       "    <tr>\n",
       "      <th>0</th>\n",
       "      <td>0.0</td>\n",
       "      <td>0.0</td>\n",
       "      <td>0.0</td>\n",
       "      <td>0.0</td>\n",
       "      <td>0.0</td>\n",
       "      <td>0.0</td>\n",
       "      <td>0.0</td>\n",
       "      <td>0.0</td>\n",
       "      <td>0.0</td>\n",
       "      <td>0.0</td>\n",
       "      <td>0.0</td>\n",
       "      <td>0.0</td>\n",
       "      <td>0.0</td>\n",
       "      <td>0.0</td>\n",
       "      <td>0.0</td>\n",
       "      <td>0.0</td>\n",
       "      <td>0.0</td>\n",
       "      <td>0.0</td>\n",
       "      <td>0.0</td>\n",
       "      <td>0.0</td>\n",
       "      <td>0.0</td>\n",
       "      <td>0.0</td>\n",
       "      <td>0.0</td>\n",
       "      <td>0.0</td>\n",
       "      <td>0.0</td>\n",
       "      <td>0.0</td>\n",
       "      <td>0.0</td>\n",
       "      <td>0.0</td>\n",
       "      <td>0.0</td>\n",
       "      <td>0.0</td>\n",
       "      <td>...</td>\n",
       "      <td>0.0</td>\n",
       "      <td>0.0</td>\n",
       "      <td>0.0</td>\n",
       "      <td>0.0</td>\n",
       "      <td>0.0</td>\n",
       "      <td>0.0</td>\n",
       "      <td>0.0</td>\n",
       "      <td>0.0</td>\n",
       "      <td>0.0</td>\n",
       "      <td>0.0</td>\n",
       "      <td>0.0</td>\n",
       "      <td>0.0</td>\n",
       "      <td>0.0</td>\n",
       "      <td>0.0</td>\n",
       "      <td>0.0</td>\n",
       "      <td>0.0</td>\n",
       "      <td>0.0</td>\n",
       "      <td>0.0</td>\n",
       "      <td>0.0</td>\n",
       "      <td>0.0</td>\n",
       "      <td>0.0</td>\n",
       "      <td>0.0</td>\n",
       "      <td>0.0</td>\n",
       "      <td>0.0</td>\n",
       "      <td>0.0</td>\n",
       "      <td>0.0</td>\n",
       "      <td>0.0</td>\n",
       "      <td>0.0</td>\n",
       "      <td>0.0</td>\n",
       "      <td>0.0</td>\n",
       "    </tr>\n",
       "    <tr>\n",
       "      <th>1</th>\n",
       "      <td>0.0</td>\n",
       "      <td>0.0</td>\n",
       "      <td>0.0</td>\n",
       "      <td>0.0</td>\n",
       "      <td>0.0</td>\n",
       "      <td>0.0</td>\n",
       "      <td>0.0</td>\n",
       "      <td>0.0</td>\n",
       "      <td>0.0</td>\n",
       "      <td>0.0</td>\n",
       "      <td>0.0</td>\n",
       "      <td>0.0</td>\n",
       "      <td>0.0</td>\n",
       "      <td>0.0</td>\n",
       "      <td>0.0</td>\n",
       "      <td>0.0</td>\n",
       "      <td>0.0</td>\n",
       "      <td>0.0</td>\n",
       "      <td>0.0</td>\n",
       "      <td>0.0</td>\n",
       "      <td>0.0</td>\n",
       "      <td>0.0</td>\n",
       "      <td>0.0</td>\n",
       "      <td>0.0</td>\n",
       "      <td>0.0</td>\n",
       "      <td>0.0</td>\n",
       "      <td>0.0</td>\n",
       "      <td>0.0</td>\n",
       "      <td>0.0</td>\n",
       "      <td>0.0</td>\n",
       "      <td>...</td>\n",
       "      <td>0.0</td>\n",
       "      <td>0.0</td>\n",
       "      <td>0.0</td>\n",
       "      <td>0.0</td>\n",
       "      <td>0.0</td>\n",
       "      <td>0.0</td>\n",
       "      <td>0.0</td>\n",
       "      <td>0.0</td>\n",
       "      <td>0.0</td>\n",
       "      <td>0.0</td>\n",
       "      <td>0.0</td>\n",
       "      <td>0.0</td>\n",
       "      <td>0.0</td>\n",
       "      <td>0.0</td>\n",
       "      <td>0.0</td>\n",
       "      <td>0.0</td>\n",
       "      <td>0.0</td>\n",
       "      <td>0.0</td>\n",
       "      <td>0.0</td>\n",
       "      <td>0.0</td>\n",
       "      <td>0.0</td>\n",
       "      <td>0.0</td>\n",
       "      <td>0.0</td>\n",
       "      <td>0.0</td>\n",
       "      <td>0.0</td>\n",
       "      <td>0.0</td>\n",
       "      <td>0.0</td>\n",
       "      <td>0.0</td>\n",
       "      <td>0.0</td>\n",
       "      <td>0.0</td>\n",
       "    </tr>\n",
       "  </tbody>\n",
       "</table>\n",
       "<p>2 rows × 256 columns</p>\n",
       "</div>"
      ],
      "text/plain": [
       "   0    1    2    3    4    5    6    7    8    9    10   11   12   13   14   \\\n",
       "0  0.0  0.0  0.0  0.0  0.0  0.0  0.0  0.0  0.0  0.0  0.0  0.0  0.0  0.0  0.0   \n",
       "1  0.0  0.0  0.0  0.0  0.0  0.0  0.0  0.0  0.0  0.0  0.0  0.0  0.0  0.0  0.0   \n",
       "\n",
       "   15   16   17   18   19   20   21   22   23   24   25   26   27   28   29   \\\n",
       "0  0.0  0.0  0.0  0.0  0.0  0.0  0.0  0.0  0.0  0.0  0.0  0.0  0.0  0.0  0.0   \n",
       "1  0.0  0.0  0.0  0.0  0.0  0.0  0.0  0.0  0.0  0.0  0.0  0.0  0.0  0.0  0.0   \n",
       "\n",
       "   ...  226  227  228  229  230  231  232  233  234  235  236  237  238  239  \\\n",
       "0  ...  0.0  0.0  0.0  0.0  0.0  0.0  0.0  0.0  0.0  0.0  0.0  0.0  0.0  0.0   \n",
       "1  ...  0.0  0.0  0.0  0.0  0.0  0.0  0.0  0.0  0.0  0.0  0.0  0.0  0.0  0.0   \n",
       "\n",
       "   240  241  242  243  244  245  246  247  248  249  250  251  252  253  254  \\\n",
       "0  0.0  0.0  0.0  0.0  0.0  0.0  0.0  0.0  0.0  0.0  0.0  0.0  0.0  0.0  0.0   \n",
       "1  0.0  0.0  0.0  0.0  0.0  0.0  0.0  0.0  0.0  0.0  0.0  0.0  0.0  0.0  0.0   \n",
       "\n",
       "   255  \n",
       "0  0.0  \n",
       "1  0.0  \n",
       "\n",
       "[2 rows x 256 columns]"
      ]
     },
     "execution_count": 175,
     "metadata": {},
     "output_type": "execute_result"
    }
   ],
   "source": [
    "item_correlation_df.head(2)"
   ]
  },
  {
   "cell_type": "code",
   "execution_count": 176,
   "metadata": {
    "ExecuteTime": {
     "end_time": "2022-04-06T05:49:49.133836Z",
     "start_time": "2022-04-06T05:46:28.029Z"
    },
    "execution": {
     "iopub.execute_input": "2022-04-14T01:39:01.257395Z",
     "iopub.status.busy": "2022-04-14T01:39:01.257101Z",
     "iopub.status.idle": "2022-04-14T01:39:01.312373Z",
     "shell.execute_reply": "2022-04-14T01:39:01.311588Z",
     "shell.execute_reply.started": "2022-04-14T01:39:01.257365Z"
    },
    "executionInfo": {
     "elapsed": 195,
     "status": "ok",
     "timestamp": 1649227995947,
     "user": {
      "displayName": "Venkatasubramanian S",
      "userId": "06029493893713790610"
     },
     "user_tz": 420
    },
    "id": "i3MtHLovnc5n",
    "outputId": "97e02521-8df9-4efe-e8b5-ecc01d257bc4"
   },
   "outputs": [
    {
     "data": {
      "text/html": [
       "<div>\n",
       "<style scoped>\n",
       "    .dataframe tbody tr th:only-of-type {\n",
       "        vertical-align: middle;\n",
       "    }\n",
       "\n",
       "    .dataframe tbody tr th {\n",
       "        vertical-align: top;\n",
       "    }\n",
       "\n",
       "    .dataframe thead th {\n",
       "        text-align: right;\n",
       "    }\n",
       "</style>\n",
       "<table border=\"1\" class=\"dataframe\">\n",
       "  <thead>\n",
       "    <tr style=\"text-align: right;\">\n",
       "      <th></th>\n",
       "      <th>0</th>\n",
       "      <th>1</th>\n",
       "      <th>2</th>\n",
       "      <th>3</th>\n",
       "      <th>4</th>\n",
       "      <th>5</th>\n",
       "      <th>6</th>\n",
       "      <th>7</th>\n",
       "      <th>8</th>\n",
       "      <th>9</th>\n",
       "      <th>10</th>\n",
       "      <th>11</th>\n",
       "      <th>12</th>\n",
       "      <th>13</th>\n",
       "      <th>14</th>\n",
       "      <th>15</th>\n",
       "      <th>16</th>\n",
       "      <th>17</th>\n",
       "      <th>18</th>\n",
       "      <th>19</th>\n",
       "      <th>20</th>\n",
       "      <th>21</th>\n",
       "      <th>22</th>\n",
       "      <th>23</th>\n",
       "      <th>24</th>\n",
       "      <th>25</th>\n",
       "      <th>26</th>\n",
       "      <th>27</th>\n",
       "      <th>28</th>\n",
       "      <th>29</th>\n",
       "      <th>...</th>\n",
       "      <th>226</th>\n",
       "      <th>227</th>\n",
       "      <th>228</th>\n",
       "      <th>229</th>\n",
       "      <th>230</th>\n",
       "      <th>231</th>\n",
       "      <th>232</th>\n",
       "      <th>233</th>\n",
       "      <th>234</th>\n",
       "      <th>235</th>\n",
       "      <th>236</th>\n",
       "      <th>237</th>\n",
       "      <th>238</th>\n",
       "      <th>239</th>\n",
       "      <th>240</th>\n",
       "      <th>241</th>\n",
       "      <th>242</th>\n",
       "      <th>243</th>\n",
       "      <th>244</th>\n",
       "      <th>245</th>\n",
       "      <th>246</th>\n",
       "      <th>247</th>\n",
       "      <th>248</th>\n",
       "      <th>249</th>\n",
       "      <th>250</th>\n",
       "      <th>251</th>\n",
       "      <th>252</th>\n",
       "      <th>253</th>\n",
       "      <th>254</th>\n",
       "      <th>255</th>\n",
       "    </tr>\n",
       "    <tr>\n",
       "      <th>movieId</th>\n",
       "      <th></th>\n",
       "      <th></th>\n",
       "      <th></th>\n",
       "      <th></th>\n",
       "      <th></th>\n",
       "      <th></th>\n",
       "      <th></th>\n",
       "      <th></th>\n",
       "      <th></th>\n",
       "      <th></th>\n",
       "      <th></th>\n",
       "      <th></th>\n",
       "      <th></th>\n",
       "      <th></th>\n",
       "      <th></th>\n",
       "      <th></th>\n",
       "      <th></th>\n",
       "      <th></th>\n",
       "      <th></th>\n",
       "      <th></th>\n",
       "      <th></th>\n",
       "      <th></th>\n",
       "      <th></th>\n",
       "      <th></th>\n",
       "      <th></th>\n",
       "      <th></th>\n",
       "      <th></th>\n",
       "      <th></th>\n",
       "      <th></th>\n",
       "      <th></th>\n",
       "      <th></th>\n",
       "      <th></th>\n",
       "      <th></th>\n",
       "      <th></th>\n",
       "      <th></th>\n",
       "      <th></th>\n",
       "      <th></th>\n",
       "      <th></th>\n",
       "      <th></th>\n",
       "      <th></th>\n",
       "      <th></th>\n",
       "      <th></th>\n",
       "      <th></th>\n",
       "      <th></th>\n",
       "      <th></th>\n",
       "      <th></th>\n",
       "      <th></th>\n",
       "      <th></th>\n",
       "      <th></th>\n",
       "      <th></th>\n",
       "      <th></th>\n",
       "      <th></th>\n",
       "      <th></th>\n",
       "      <th></th>\n",
       "      <th></th>\n",
       "      <th></th>\n",
       "      <th></th>\n",
       "      <th></th>\n",
       "      <th></th>\n",
       "      <th></th>\n",
       "      <th></th>\n",
       "    </tr>\n",
       "  </thead>\n",
       "  <tbody>\n",
       "    <tr>\n",
       "      <th>AV13O1A8GV-KLJ3akUyj</th>\n",
       "      <td>0.0</td>\n",
       "      <td>0.0</td>\n",
       "      <td>0.0</td>\n",
       "      <td>0.0</td>\n",
       "      <td>0.0</td>\n",
       "      <td>0.0</td>\n",
       "      <td>0.0</td>\n",
       "      <td>0.0</td>\n",
       "      <td>0.0</td>\n",
       "      <td>0.0</td>\n",
       "      <td>0.0</td>\n",
       "      <td>0.0</td>\n",
       "      <td>0.0</td>\n",
       "      <td>0.0</td>\n",
       "      <td>0.0</td>\n",
       "      <td>0.0</td>\n",
       "      <td>0.0</td>\n",
       "      <td>0.0</td>\n",
       "      <td>0.0</td>\n",
       "      <td>0.0</td>\n",
       "      <td>0.0</td>\n",
       "      <td>0.0</td>\n",
       "      <td>0.0</td>\n",
       "      <td>0.0</td>\n",
       "      <td>0.0</td>\n",
       "      <td>0.0</td>\n",
       "      <td>0.0</td>\n",
       "      <td>0.0</td>\n",
       "      <td>0.0</td>\n",
       "      <td>0.0</td>\n",
       "      <td>...</td>\n",
       "      <td>0.0</td>\n",
       "      <td>0.0</td>\n",
       "      <td>0.0</td>\n",
       "      <td>0.0</td>\n",
       "      <td>0.0</td>\n",
       "      <td>0.0</td>\n",
       "      <td>0.000</td>\n",
       "      <td>0.0</td>\n",
       "      <td>0.0</td>\n",
       "      <td>0.0</td>\n",
       "      <td>0.0</td>\n",
       "      <td>0.0</td>\n",
       "      <td>0.0</td>\n",
       "      <td>0.000</td>\n",
       "      <td>0.0</td>\n",
       "      <td>0.0</td>\n",
       "      <td>0.0</td>\n",
       "      <td>0.0</td>\n",
       "      <td>0.0</td>\n",
       "      <td>0.000</td>\n",
       "      <td>0.0</td>\n",
       "      <td>0.0</td>\n",
       "      <td>0.0</td>\n",
       "      <td>0.0</td>\n",
       "      <td>0.0</td>\n",
       "      <td>0.0</td>\n",
       "      <td>0.0</td>\n",
       "      <td>0.0</td>\n",
       "      <td>0.0</td>\n",
       "      <td>0.0</td>\n",
       "    </tr>\n",
       "    <tr>\n",
       "      <th>AV14LG0R-jtxr-f38QfS</th>\n",
       "      <td>0.0</td>\n",
       "      <td>0.0</td>\n",
       "      <td>0.0</td>\n",
       "      <td>0.0</td>\n",
       "      <td>0.0</td>\n",
       "      <td>0.0</td>\n",
       "      <td>0.0</td>\n",
       "      <td>0.0</td>\n",
       "      <td>0.0</td>\n",
       "      <td>0.0</td>\n",
       "      <td>0.0</td>\n",
       "      <td>0.0</td>\n",
       "      <td>0.0</td>\n",
       "      <td>0.0</td>\n",
       "      <td>0.0</td>\n",
       "      <td>0.0</td>\n",
       "      <td>0.0</td>\n",
       "      <td>0.0</td>\n",
       "      <td>0.0</td>\n",
       "      <td>0.0</td>\n",
       "      <td>0.0</td>\n",
       "      <td>0.0</td>\n",
       "      <td>0.0</td>\n",
       "      <td>0.0</td>\n",
       "      <td>0.0</td>\n",
       "      <td>0.0</td>\n",
       "      <td>0.0</td>\n",
       "      <td>0.0</td>\n",
       "      <td>0.0</td>\n",
       "      <td>0.0</td>\n",
       "      <td>...</td>\n",
       "      <td>0.0</td>\n",
       "      <td>0.0</td>\n",
       "      <td>0.0</td>\n",
       "      <td>0.0</td>\n",
       "      <td>0.0</td>\n",
       "      <td>0.0</td>\n",
       "      <td>0.000</td>\n",
       "      <td>0.0</td>\n",
       "      <td>0.0</td>\n",
       "      <td>0.0</td>\n",
       "      <td>0.0</td>\n",
       "      <td>0.0</td>\n",
       "      <td>0.0</td>\n",
       "      <td>0.000</td>\n",
       "      <td>0.0</td>\n",
       "      <td>0.0</td>\n",
       "      <td>0.0</td>\n",
       "      <td>0.0</td>\n",
       "      <td>0.0</td>\n",
       "      <td>0.000</td>\n",
       "      <td>0.0</td>\n",
       "      <td>0.0</td>\n",
       "      <td>0.0</td>\n",
       "      <td>0.0</td>\n",
       "      <td>0.0</td>\n",
       "      <td>0.0</td>\n",
       "      <td>0.0</td>\n",
       "      <td>0.0</td>\n",
       "      <td>0.0</td>\n",
       "      <td>0.0</td>\n",
       "    </tr>\n",
       "    <tr>\n",
       "      <th>AV16khLE-jtxr-f38VFn</th>\n",
       "      <td>0.0</td>\n",
       "      <td>0.0</td>\n",
       "      <td>1.0</td>\n",
       "      <td>0.0</td>\n",
       "      <td>0.0</td>\n",
       "      <td>0.0</td>\n",
       "      <td>0.0</td>\n",
       "      <td>0.0</td>\n",
       "      <td>0.0</td>\n",
       "      <td>0.0</td>\n",
       "      <td>0.0</td>\n",
       "      <td>0.0</td>\n",
       "      <td>0.0</td>\n",
       "      <td>0.0</td>\n",
       "      <td>0.0</td>\n",
       "      <td>0.0</td>\n",
       "      <td>0.0</td>\n",
       "      <td>0.0</td>\n",
       "      <td>0.0</td>\n",
       "      <td>0.0</td>\n",
       "      <td>0.0</td>\n",
       "      <td>0.0</td>\n",
       "      <td>0.0</td>\n",
       "      <td>0.0</td>\n",
       "      <td>0.0</td>\n",
       "      <td>0.0</td>\n",
       "      <td>0.0</td>\n",
       "      <td>0.0</td>\n",
       "      <td>0.0</td>\n",
       "      <td>0.0</td>\n",
       "      <td>...</td>\n",
       "      <td>0.0</td>\n",
       "      <td>0.0</td>\n",
       "      <td>0.0</td>\n",
       "      <td>0.0</td>\n",
       "      <td>0.0</td>\n",
       "      <td>0.0</td>\n",
       "      <td>0.000</td>\n",
       "      <td>0.0</td>\n",
       "      <td>0.0</td>\n",
       "      <td>0.0</td>\n",
       "      <td>0.0</td>\n",
       "      <td>0.0</td>\n",
       "      <td>0.0</td>\n",
       "      <td>0.000</td>\n",
       "      <td>0.0</td>\n",
       "      <td>0.0</td>\n",
       "      <td>0.0</td>\n",
       "      <td>0.0</td>\n",
       "      <td>0.0</td>\n",
       "      <td>0.000</td>\n",
       "      <td>0.0</td>\n",
       "      <td>0.0</td>\n",
       "      <td>0.0</td>\n",
       "      <td>0.0</td>\n",
       "      <td>0.0</td>\n",
       "      <td>0.0</td>\n",
       "      <td>0.0</td>\n",
       "      <td>0.0</td>\n",
       "      <td>0.0</td>\n",
       "      <td>0.0</td>\n",
       "    </tr>\n",
       "    <tr>\n",
       "      <th>AV1YGDqsGV-KLJ3adc-O</th>\n",
       "      <td>0.0</td>\n",
       "      <td>0.0</td>\n",
       "      <td>0.0</td>\n",
       "      <td>1.0</td>\n",
       "      <td>0.0</td>\n",
       "      <td>0.0</td>\n",
       "      <td>0.0</td>\n",
       "      <td>0.0</td>\n",
       "      <td>0.0</td>\n",
       "      <td>0.0</td>\n",
       "      <td>0.0</td>\n",
       "      <td>0.0</td>\n",
       "      <td>0.0</td>\n",
       "      <td>0.0</td>\n",
       "      <td>0.0</td>\n",
       "      <td>0.0</td>\n",
       "      <td>0.0</td>\n",
       "      <td>0.0</td>\n",
       "      <td>0.0</td>\n",
       "      <td>0.0</td>\n",
       "      <td>0.0</td>\n",
       "      <td>0.0</td>\n",
       "      <td>0.0</td>\n",
       "      <td>0.0</td>\n",
       "      <td>0.0</td>\n",
       "      <td>0.0</td>\n",
       "      <td>0.0</td>\n",
       "      <td>0.0</td>\n",
       "      <td>0.0</td>\n",
       "      <td>0.0</td>\n",
       "      <td>...</td>\n",
       "      <td>0.0</td>\n",
       "      <td>0.0</td>\n",
       "      <td>0.0</td>\n",
       "      <td>0.0</td>\n",
       "      <td>0.0</td>\n",
       "      <td>0.0</td>\n",
       "      <td>0.002</td>\n",
       "      <td>0.0</td>\n",
       "      <td>0.0</td>\n",
       "      <td>0.0</td>\n",
       "      <td>0.0</td>\n",
       "      <td>0.0</td>\n",
       "      <td>0.0</td>\n",
       "      <td>0.002</td>\n",
       "      <td>0.0</td>\n",
       "      <td>0.0</td>\n",
       "      <td>0.0</td>\n",
       "      <td>0.0</td>\n",
       "      <td>0.0</td>\n",
       "      <td>0.108</td>\n",
       "      <td>0.0</td>\n",
       "      <td>0.0</td>\n",
       "      <td>0.0</td>\n",
       "      <td>0.0</td>\n",
       "      <td>0.0</td>\n",
       "      <td>0.0</td>\n",
       "      <td>0.0</td>\n",
       "      <td>0.0</td>\n",
       "      <td>0.0</td>\n",
       "      <td>0.0</td>\n",
       "    </tr>\n",
       "    <tr>\n",
       "      <th>AV1YIch7GV-KLJ3addeG</th>\n",
       "      <td>0.0</td>\n",
       "      <td>0.0</td>\n",
       "      <td>0.0</td>\n",
       "      <td>0.0</td>\n",
       "      <td>0.0</td>\n",
       "      <td>0.0</td>\n",
       "      <td>0.0</td>\n",
       "      <td>0.0</td>\n",
       "      <td>0.0</td>\n",
       "      <td>0.0</td>\n",
       "      <td>0.0</td>\n",
       "      <td>0.0</td>\n",
       "      <td>0.0</td>\n",
       "      <td>0.0</td>\n",
       "      <td>0.0</td>\n",
       "      <td>0.0</td>\n",
       "      <td>0.0</td>\n",
       "      <td>0.0</td>\n",
       "      <td>0.0</td>\n",
       "      <td>0.0</td>\n",
       "      <td>0.0</td>\n",
       "      <td>0.0</td>\n",
       "      <td>0.0</td>\n",
       "      <td>0.0</td>\n",
       "      <td>0.0</td>\n",
       "      <td>0.0</td>\n",
       "      <td>0.0</td>\n",
       "      <td>0.0</td>\n",
       "      <td>0.0</td>\n",
       "      <td>0.0</td>\n",
       "      <td>...</td>\n",
       "      <td>0.0</td>\n",
       "      <td>0.0</td>\n",
       "      <td>0.0</td>\n",
       "      <td>0.0</td>\n",
       "      <td>0.0</td>\n",
       "      <td>0.0</td>\n",
       "      <td>0.000</td>\n",
       "      <td>0.0</td>\n",
       "      <td>0.0</td>\n",
       "      <td>0.0</td>\n",
       "      <td>0.0</td>\n",
       "      <td>0.0</td>\n",
       "      <td>0.0</td>\n",
       "      <td>0.000</td>\n",
       "      <td>0.0</td>\n",
       "      <td>0.0</td>\n",
       "      <td>0.0</td>\n",
       "      <td>0.0</td>\n",
       "      <td>0.0</td>\n",
       "      <td>0.000</td>\n",
       "      <td>0.0</td>\n",
       "      <td>0.0</td>\n",
       "      <td>0.0</td>\n",
       "      <td>0.0</td>\n",
       "      <td>0.0</td>\n",
       "      <td>0.0</td>\n",
       "      <td>0.0</td>\n",
       "      <td>0.0</td>\n",
       "      <td>0.0</td>\n",
       "      <td>0.0</td>\n",
       "    </tr>\n",
       "  </tbody>\n",
       "</table>\n",
       "<p>5 rows × 256 columns</p>\n",
       "</div>"
      ],
      "text/plain": [
       "                      0    1    2    3    4    5    6    7    8    9    10   \\\n",
       "movieId                                                                       \n",
       "AV13O1A8GV-KLJ3akUyj  0.0  0.0  0.0  0.0  0.0  0.0  0.0  0.0  0.0  0.0  0.0   \n",
       "AV14LG0R-jtxr-f38QfS  0.0  0.0  0.0  0.0  0.0  0.0  0.0  0.0  0.0  0.0  0.0   \n",
       "AV16khLE-jtxr-f38VFn  0.0  0.0  1.0  0.0  0.0  0.0  0.0  0.0  0.0  0.0  0.0   \n",
       "AV1YGDqsGV-KLJ3adc-O  0.0  0.0  0.0  1.0  0.0  0.0  0.0  0.0  0.0  0.0  0.0   \n",
       "AV1YIch7GV-KLJ3addeG  0.0  0.0  0.0  0.0  0.0  0.0  0.0  0.0  0.0  0.0  0.0   \n",
       "\n",
       "                      11   12   13   14   15   16   17   18   19   20   21   \\\n",
       "movieId                                                                       \n",
       "AV13O1A8GV-KLJ3akUyj  0.0  0.0  0.0  0.0  0.0  0.0  0.0  0.0  0.0  0.0  0.0   \n",
       "AV14LG0R-jtxr-f38QfS  0.0  0.0  0.0  0.0  0.0  0.0  0.0  0.0  0.0  0.0  0.0   \n",
       "AV16khLE-jtxr-f38VFn  0.0  0.0  0.0  0.0  0.0  0.0  0.0  0.0  0.0  0.0  0.0   \n",
       "AV1YGDqsGV-KLJ3adc-O  0.0  0.0  0.0  0.0  0.0  0.0  0.0  0.0  0.0  0.0  0.0   \n",
       "AV1YIch7GV-KLJ3addeG  0.0  0.0  0.0  0.0  0.0  0.0  0.0  0.0  0.0  0.0  0.0   \n",
       "\n",
       "                      22   23   24   25   26   27   28   29   ...  226  227  \\\n",
       "movieId                                                       ...             \n",
       "AV13O1A8GV-KLJ3akUyj  0.0  0.0  0.0  0.0  0.0  0.0  0.0  0.0  ...  0.0  0.0   \n",
       "AV14LG0R-jtxr-f38QfS  0.0  0.0  0.0  0.0  0.0  0.0  0.0  0.0  ...  0.0  0.0   \n",
       "AV16khLE-jtxr-f38VFn  0.0  0.0  0.0  0.0  0.0  0.0  0.0  0.0  ...  0.0  0.0   \n",
       "AV1YGDqsGV-KLJ3adc-O  0.0  0.0  0.0  0.0  0.0  0.0  0.0  0.0  ...  0.0  0.0   \n",
       "AV1YIch7GV-KLJ3addeG  0.0  0.0  0.0  0.0  0.0  0.0  0.0  0.0  ...  0.0  0.0   \n",
       "\n",
       "                      228  229  230  231    232  233  234  235  236  237  238  \\\n",
       "movieId                                                                         \n",
       "AV13O1A8GV-KLJ3akUyj  0.0  0.0  0.0  0.0  0.000  0.0  0.0  0.0  0.0  0.0  0.0   \n",
       "AV14LG0R-jtxr-f38QfS  0.0  0.0  0.0  0.0  0.000  0.0  0.0  0.0  0.0  0.0  0.0   \n",
       "AV16khLE-jtxr-f38VFn  0.0  0.0  0.0  0.0  0.000  0.0  0.0  0.0  0.0  0.0  0.0   \n",
       "AV1YGDqsGV-KLJ3adc-O  0.0  0.0  0.0  0.0  0.002  0.0  0.0  0.0  0.0  0.0  0.0   \n",
       "AV1YIch7GV-KLJ3addeG  0.0  0.0  0.0  0.0  0.000  0.0  0.0  0.0  0.0  0.0  0.0   \n",
       "\n",
       "                        239  240  241  242  243  244    245  246  247  248  \\\n",
       "movieId                                                                      \n",
       "AV13O1A8GV-KLJ3akUyj  0.000  0.0  0.0  0.0  0.0  0.0  0.000  0.0  0.0  0.0   \n",
       "AV14LG0R-jtxr-f38QfS  0.000  0.0  0.0  0.0  0.0  0.0  0.000  0.0  0.0  0.0   \n",
       "AV16khLE-jtxr-f38VFn  0.000  0.0  0.0  0.0  0.0  0.0  0.000  0.0  0.0  0.0   \n",
       "AV1YGDqsGV-KLJ3adc-O  0.002  0.0  0.0  0.0  0.0  0.0  0.108  0.0  0.0  0.0   \n",
       "AV1YIch7GV-KLJ3addeG  0.000  0.0  0.0  0.0  0.0  0.0  0.000  0.0  0.0  0.0   \n",
       "\n",
       "                      249  250  251  252  253  254  255  \n",
       "movieId                                                  \n",
       "AV13O1A8GV-KLJ3akUyj  0.0  0.0  0.0  0.0  0.0  0.0  0.0  \n",
       "AV14LG0R-jtxr-f38QfS  0.0  0.0  0.0  0.0  0.0  0.0  0.0  \n",
       "AV16khLE-jtxr-f38VFn  0.0  0.0  0.0  0.0  0.0  0.0  0.0  \n",
       "AV1YGDqsGV-KLJ3adc-O  0.0  0.0  0.0  0.0  0.0  0.0  0.0  \n",
       "AV1YIch7GV-KLJ3addeG  0.0  0.0  0.0  0.0  0.0  0.0  0.0  \n",
       "\n",
       "[5 rows x 256 columns]"
      ]
     },
     "execution_count": 176,
     "metadata": {},
     "output_type": "execute_result"
    }
   ],
   "source": [
    "item_correlation_df['movieId'] = df_subtracted.index\n",
    "item_correlation_df.set_index('movieId',inplace=True)\n",
    "item_correlation_df.head()"
   ]
  },
  {
   "cell_type": "code",
   "execution_count": 177,
   "metadata": {
    "ExecuteTime": {
     "end_time": "2022-04-06T05:49:49.134834Z",
     "start_time": "2022-04-06T05:46:28.035Z"
    },
    "execution": {
     "iopub.execute_input": "2022-04-14T01:39:01.313855Z",
     "iopub.status.busy": "2022-04-14T01:39:01.313557Z",
     "iopub.status.idle": "2022-04-14T01:39:01.318345Z",
     "shell.execute_reply": "2022-04-14T01:39:01.317726Z",
     "shell.execute_reply.started": "2022-04-14T01:39:01.313825Z"
    },
    "executionInfo": {
     "elapsed": 39,
     "status": "ok",
     "timestamp": 1649227995948,
     "user": {
      "displayName": "Venkatasubramanian S",
      "userId": "06029493893713790610"
     },
     "user_tz": 420
    },
    "id": "QvP0s7VFnecZ"
   },
   "outputs": [],
   "source": [
    "common_name = common.id.tolist()"
   ]
  },
  {
   "cell_type": "code",
   "execution_count": 178,
   "metadata": {
    "ExecuteTime": {
     "end_time": "2022-04-06T05:49:49.135840Z",
     "start_time": "2022-04-06T05:46:28.042Z"
    },
    "execution": {
     "iopub.execute_input": "2022-04-14T01:39:01.319939Z",
     "iopub.status.busy": "2022-04-14T01:39:01.319480Z",
     "iopub.status.idle": "2022-04-14T01:39:01.331341Z",
     "shell.execute_reply": "2022-04-14T01:39:01.330738Z",
     "shell.execute_reply.started": "2022-04-14T01:39:01.319905Z"
    },
    "executionInfo": {
     "elapsed": 41,
     "status": "ok",
     "timestamp": 1649227995950,
     "user": {
      "displayName": "Venkatasubramanian S",
      "userId": "06029493893713790610"
     },
     "user_tz": 420
    },
    "id": "UWwgM3P2njh0"
   },
   "outputs": [],
   "source": [
    "item_correlation_df.columns = df_subtracted.index.tolist()\n",
    "\n",
    "item_correlation_df_1 =  item_correlation_df[item_correlation_df.index.isin(common_name)]"
   ]
  },
  {
   "cell_type": "code",
   "execution_count": 179,
   "metadata": {
    "ExecuteTime": {
     "end_time": "2022-04-06T05:49:49.136839Z",
     "start_time": "2022-04-06T05:46:28.050Z"
    },
    "execution": {
     "iopub.execute_input": "2022-04-14T01:39:01.333453Z",
     "iopub.status.busy": "2022-04-14T01:39:01.332536Z",
     "iopub.status.idle": "2022-04-14T01:39:01.344580Z",
     "shell.execute_reply": "2022-04-14T01:39:01.343772Z",
     "shell.execute_reply.started": "2022-04-14T01:39:01.333412Z"
    },
    "executionInfo": {
     "elapsed": 41,
     "status": "ok",
     "timestamp": 1649227995951,
     "user": {
      "displayName": "Venkatasubramanian S",
      "userId": "06029493893713790610"
     },
     "user_tz": 420
    },
    "id": "rn8fuk6LnmQn"
   },
   "outputs": [],
   "source": [
    "item_correlation_df_2 = item_correlation_df_1.T[item_correlation_df_1.T.index.isin(common_name)]\n",
    "\n",
    "item_correlation_df_3 = item_correlation_df_2.T"
   ]
  },
  {
   "cell_type": "code",
   "execution_count": 180,
   "metadata": {
    "ExecuteTime": {
     "end_time": "2022-04-06T05:49:49.138836Z",
     "start_time": "2022-04-06T05:46:28.058Z"
    },
    "execution": {
     "iopub.execute_input": "2022-04-14T01:39:01.346249Z",
     "iopub.status.busy": "2022-04-14T01:39:01.345935Z",
     "iopub.status.idle": "2022-04-14T01:39:01.397249Z",
     "shell.execute_reply": "2022-04-14T01:39:01.396329Z",
     "shell.execute_reply.started": "2022-04-14T01:39:01.346209Z"
    },
    "executionInfo": {
     "elapsed": 40,
     "status": "ok",
     "timestamp": 1649227995951,
     "user": {
      "displayName": "Venkatasubramanian S",
      "userId": "06029493893713790610"
     },
     "user_tz": 420
    },
    "id": "7pPuontSnndS",
    "outputId": "d3f73dba-c2d5-4899-81a1-b8b00e4d1b03"
   },
   "outputs": [
    {
     "data": {
      "text/html": [
       "<div>\n",
       "<style scoped>\n",
       "    .dataframe tbody tr th:only-of-type {\n",
       "        vertical-align: middle;\n",
       "    }\n",
       "\n",
       "    .dataframe tbody tr th {\n",
       "        vertical-align: top;\n",
       "    }\n",
       "\n",
       "    .dataframe thead th {\n",
       "        text-align: right;\n",
       "    }\n",
       "</style>\n",
       "<table border=\"1\" class=\"dataframe\">\n",
       "  <thead>\n",
       "    <tr style=\"text-align: right;\">\n",
       "      <th></th>\n",
       "      <th>AV16khLE-jtxr-f38VFn</th>\n",
       "      <th>AV1YGDqsGV-KLJ3adc-O</th>\n",
       "      <th>AV1YlENIglJLPUi8IHsX</th>\n",
       "      <th>AV1YmBrdGV-KLJ3adewb</th>\n",
       "      <th>AV1YmDL9vKc47QAVgr7_</th>\n",
       "      <th>AV1Ymf_rglJLPUi8II2v</th>\n",
       "      <th>AV1Yn94nvKc47QAVgtst</th>\n",
       "      <th>AV1Ynb3bglJLPUi8IJxJ</th>\n",
       "      <th>AV1YneDPglJLPUi8IJyQ</th>\n",
       "      <th>AV1YqAaMGV-KLJ3adiDj</th>\n",
       "      <th>AV1Ys0kTvKc47QAVgx1C</th>\n",
       "      <th>AV1YtGjdglJLPUi8IOfJ</th>\n",
       "      <th>AV1ZSp2uglJLPUi8IQFy</th>\n",
       "      <th>AV1ZT7GLglJLPUi8IQLI</th>\n",
       "      <th>AV1ZVIgy-jtxr-f31W9N</th>\n",
       "      <th>AV1d76w7vKc47QAVhCqn</th>\n",
       "      <th>AV1h6Gu0glJLPUi8IjA_</th>\n",
       "      <th>AV1l8zRZvKc47QAVhnAv</th>\n",
       "      <th>AVpe-M4-ilAPnD_xSF1K</th>\n",
       "      <th>AVpe-PJnLJeJML43ziaj</th>\n",
       "      <th>AVpe-ltS1cnluZ0-bL8w</th>\n",
       "      <th>AVpe31o71cnluZ0-YrSD</th>\n",
       "      <th>AVpe38Uy1cnluZ0-YuJR</th>\n",
       "      <th>AVpe41TqilAPnD_xQH3d</th>\n",
       "      <th>AVpe4hlXLJeJML43xbrB</th>\n",
       "      <th>AVpe59io1cnluZ0-ZgDU</th>\n",
       "      <th>AVpe5AMsLJeJML43xnku</th>\n",
       "      <th>AVpe5JOgilAPnD_xQPfE</th>\n",
       "      <th>AVpe5Mv4ilAPnD_xQQyy</th>\n",
       "      <th>AVpe5c23LJeJML43xybi</th>\n",
       "      <th>...</th>\n",
       "      <th>AVpfjauJLJeJML43_TKe</th>\n",
       "      <th>AVpfk4y7ilAPnD_xeTgd</th>\n",
       "      <th>AVpfkIiYilAPnD_xeEjr</th>\n",
       "      <th>AVpfkQkcLJeJML43_kEC</th>\n",
       "      <th>AVpfkak01cnluZ0-nJj6</th>\n",
       "      <th>AVpfl6baLJeJML43AEQq</th>\n",
       "      <th>AVpfl6sF1cnluZ0-nmwC</th>\n",
       "      <th>AVpfldDlLJeJML43_7s_</th>\n",
       "      <th>AVpfliCoilAPnD_xegIr</th>\n",
       "      <th>AVpfluP1ilAPnD_xejxO</th>\n",
       "      <th>AVpfm8yiLJeJML43AYyu</th>\n",
       "      <th>AVpfmVnVLJeJML43AMqC</th>\n",
       "      <th>AVpfmjXGLJeJML43AQ5_</th>\n",
       "      <th>AVpfnRuSilAPnD_xfB8l</th>\n",
       "      <th>AVpfnS4eLJeJML43AfZe</th>\n",
       "      <th>AVpfnjBILJeJML43AkO3</th>\n",
       "      <th>AVpfoSS51cnluZ0-oVH9</th>\n",
       "      <th>AVpfov9TLJeJML43A7B0</th>\n",
       "      <th>AVpfozgyilAPnD_xfe0r</th>\n",
       "      <th>AVpfpM2yilAPnD_xfmDG</th>\n",
       "      <th>AVpfqW4WilAPnD_xf7a_</th>\n",
       "      <th>AVpfr5cb1cnluZ0-pZFp</th>\n",
       "      <th>AVpfrFDZLJeJML43Bmv0</th>\n",
       "      <th>AVpfrTyiLJeJML43BrSI</th>\n",
       "      <th>AVpfrfHF1cnluZ0-pRai</th>\n",
       "      <th>AVpfrgjFLJeJML43BvCc</th>\n",
       "      <th>AVpfthSailAPnD_xg3ON</th>\n",
       "      <th>AVpftikC1cnluZ0-p31V</th>\n",
       "      <th>AVpfv4TlilAPnD_xhjNS</th>\n",
       "      <th>AVpfvieo1cnluZ0-qdnu</th>\n",
       "    </tr>\n",
       "    <tr>\n",
       "      <th>movieId</th>\n",
       "      <th></th>\n",
       "      <th></th>\n",
       "      <th></th>\n",
       "      <th></th>\n",
       "      <th></th>\n",
       "      <th></th>\n",
       "      <th></th>\n",
       "      <th></th>\n",
       "      <th></th>\n",
       "      <th></th>\n",
       "      <th></th>\n",
       "      <th></th>\n",
       "      <th></th>\n",
       "      <th></th>\n",
       "      <th></th>\n",
       "      <th></th>\n",
       "      <th></th>\n",
       "      <th></th>\n",
       "      <th></th>\n",
       "      <th></th>\n",
       "      <th></th>\n",
       "      <th></th>\n",
       "      <th></th>\n",
       "      <th></th>\n",
       "      <th></th>\n",
       "      <th></th>\n",
       "      <th></th>\n",
       "      <th></th>\n",
       "      <th></th>\n",
       "      <th></th>\n",
       "      <th></th>\n",
       "      <th></th>\n",
       "      <th></th>\n",
       "      <th></th>\n",
       "      <th></th>\n",
       "      <th></th>\n",
       "      <th></th>\n",
       "      <th></th>\n",
       "      <th></th>\n",
       "      <th></th>\n",
       "      <th></th>\n",
       "      <th></th>\n",
       "      <th></th>\n",
       "      <th></th>\n",
       "      <th></th>\n",
       "      <th></th>\n",
       "      <th></th>\n",
       "      <th></th>\n",
       "      <th></th>\n",
       "      <th></th>\n",
       "      <th></th>\n",
       "      <th></th>\n",
       "      <th></th>\n",
       "      <th></th>\n",
       "      <th></th>\n",
       "      <th></th>\n",
       "      <th></th>\n",
       "      <th></th>\n",
       "      <th></th>\n",
       "      <th></th>\n",
       "      <th></th>\n",
       "    </tr>\n",
       "  </thead>\n",
       "  <tbody>\n",
       "    <tr>\n",
       "      <th>AV16khLE-jtxr-f38VFn</th>\n",
       "      <td>1.0</td>\n",
       "      <td>0.0</td>\n",
       "      <td>0.0</td>\n",
       "      <td>0.0</td>\n",
       "      <td>0.0</td>\n",
       "      <td>0.0</td>\n",
       "      <td>0.0</td>\n",
       "      <td>0.0</td>\n",
       "      <td>0.0</td>\n",
       "      <td>0.0</td>\n",
       "      <td>0.0</td>\n",
       "      <td>0.0</td>\n",
       "      <td>0.0</td>\n",
       "      <td>0.0</td>\n",
       "      <td>0.0</td>\n",
       "      <td>0.0</td>\n",
       "      <td>0.0</td>\n",
       "      <td>0.0</td>\n",
       "      <td>0.0</td>\n",
       "      <td>0.0</td>\n",
       "      <td>0.000</td>\n",
       "      <td>0.0</td>\n",
       "      <td>0.0</td>\n",
       "      <td>0.0</td>\n",
       "      <td>0.0</td>\n",
       "      <td>0.000</td>\n",
       "      <td>0.0</td>\n",
       "      <td>0.0</td>\n",
       "      <td>0.0</td>\n",
       "      <td>0.0</td>\n",
       "      <td>...</td>\n",
       "      <td>0.0</td>\n",
       "      <td>0.0</td>\n",
       "      <td>0.0</td>\n",
       "      <td>0.0</td>\n",
       "      <td>0.0</td>\n",
       "      <td>0.0</td>\n",
       "      <td>0.0</td>\n",
       "      <td>0.0</td>\n",
       "      <td>0.0</td>\n",
       "      <td>0.0</td>\n",
       "      <td>0.000</td>\n",
       "      <td>0.0</td>\n",
       "      <td>0.0</td>\n",
       "      <td>0.0</td>\n",
       "      <td>0.0</td>\n",
       "      <td>0.0</td>\n",
       "      <td>0.000</td>\n",
       "      <td>0.0</td>\n",
       "      <td>0.0</td>\n",
       "      <td>0.0</td>\n",
       "      <td>0.0</td>\n",
       "      <td>0.000</td>\n",
       "      <td>0.0</td>\n",
       "      <td>0.0</td>\n",
       "      <td>0.0</td>\n",
       "      <td>0.0</td>\n",
       "      <td>0.0</td>\n",
       "      <td>0.0</td>\n",
       "      <td>0.0</td>\n",
       "      <td>0.0</td>\n",
       "    </tr>\n",
       "    <tr>\n",
       "      <th>AV1YGDqsGV-KLJ3adc-O</th>\n",
       "      <td>0.0</td>\n",
       "      <td>1.0</td>\n",
       "      <td>0.0</td>\n",
       "      <td>0.0</td>\n",
       "      <td>0.0</td>\n",
       "      <td>0.0</td>\n",
       "      <td>0.0</td>\n",
       "      <td>0.0</td>\n",
       "      <td>0.0</td>\n",
       "      <td>0.0</td>\n",
       "      <td>0.0</td>\n",
       "      <td>0.0</td>\n",
       "      <td>0.0</td>\n",
       "      <td>0.0</td>\n",
       "      <td>0.0</td>\n",
       "      <td>0.0</td>\n",
       "      <td>0.0</td>\n",
       "      <td>0.0</td>\n",
       "      <td>0.0</td>\n",
       "      <td>0.0</td>\n",
       "      <td>0.014</td>\n",
       "      <td>0.0</td>\n",
       "      <td>0.0</td>\n",
       "      <td>0.0</td>\n",
       "      <td>0.0</td>\n",
       "      <td>0.002</td>\n",
       "      <td>0.0</td>\n",
       "      <td>0.0</td>\n",
       "      <td>0.0</td>\n",
       "      <td>0.0</td>\n",
       "      <td>...</td>\n",
       "      <td>0.0</td>\n",
       "      <td>0.0</td>\n",
       "      <td>0.0</td>\n",
       "      <td>0.0</td>\n",
       "      <td>0.0</td>\n",
       "      <td>0.0</td>\n",
       "      <td>0.0</td>\n",
       "      <td>0.0</td>\n",
       "      <td>0.0</td>\n",
       "      <td>0.0</td>\n",
       "      <td>0.002</td>\n",
       "      <td>0.0</td>\n",
       "      <td>0.0</td>\n",
       "      <td>0.0</td>\n",
       "      <td>0.0</td>\n",
       "      <td>0.0</td>\n",
       "      <td>0.002</td>\n",
       "      <td>0.0</td>\n",
       "      <td>0.0</td>\n",
       "      <td>0.0</td>\n",
       "      <td>0.0</td>\n",
       "      <td>0.108</td>\n",
       "      <td>0.0</td>\n",
       "      <td>0.0</td>\n",
       "      <td>0.0</td>\n",
       "      <td>0.0</td>\n",
       "      <td>0.0</td>\n",
       "      <td>0.0</td>\n",
       "      <td>0.0</td>\n",
       "      <td>0.0</td>\n",
       "    </tr>\n",
       "  </tbody>\n",
       "</table>\n",
       "<p>2 rows × 195 columns</p>\n",
       "</div>"
      ],
      "text/plain": [
       "                      AV16khLE-jtxr-f38VFn  AV1YGDqsGV-KLJ3adc-O  \\\n",
       "movieId                                                            \n",
       "AV16khLE-jtxr-f38VFn                   1.0                   0.0   \n",
       "AV1YGDqsGV-KLJ3adc-O                   0.0                   1.0   \n",
       "\n",
       "                      AV1YlENIglJLPUi8IHsX  AV1YmBrdGV-KLJ3adewb  \\\n",
       "movieId                                                            \n",
       "AV16khLE-jtxr-f38VFn                   0.0                   0.0   \n",
       "AV1YGDqsGV-KLJ3adc-O                   0.0                   0.0   \n",
       "\n",
       "                      AV1YmDL9vKc47QAVgr7_  AV1Ymf_rglJLPUi8II2v  \\\n",
       "movieId                                                            \n",
       "AV16khLE-jtxr-f38VFn                   0.0                   0.0   \n",
       "AV1YGDqsGV-KLJ3adc-O                   0.0                   0.0   \n",
       "\n",
       "                      AV1Yn94nvKc47QAVgtst  AV1Ynb3bglJLPUi8IJxJ  \\\n",
       "movieId                                                            \n",
       "AV16khLE-jtxr-f38VFn                   0.0                   0.0   \n",
       "AV1YGDqsGV-KLJ3adc-O                   0.0                   0.0   \n",
       "\n",
       "                      AV1YneDPglJLPUi8IJyQ  AV1YqAaMGV-KLJ3adiDj  \\\n",
       "movieId                                                            \n",
       "AV16khLE-jtxr-f38VFn                   0.0                   0.0   \n",
       "AV1YGDqsGV-KLJ3adc-O                   0.0                   0.0   \n",
       "\n",
       "                      AV1Ys0kTvKc47QAVgx1C  AV1YtGjdglJLPUi8IOfJ  \\\n",
       "movieId                                                            \n",
       "AV16khLE-jtxr-f38VFn                   0.0                   0.0   \n",
       "AV1YGDqsGV-KLJ3adc-O                   0.0                   0.0   \n",
       "\n",
       "                      AV1ZSp2uglJLPUi8IQFy  AV1ZT7GLglJLPUi8IQLI  \\\n",
       "movieId                                                            \n",
       "AV16khLE-jtxr-f38VFn                   0.0                   0.0   \n",
       "AV1YGDqsGV-KLJ3adc-O                   0.0                   0.0   \n",
       "\n",
       "                      AV1ZVIgy-jtxr-f31W9N  AV1d76w7vKc47QAVhCqn  \\\n",
       "movieId                                                            \n",
       "AV16khLE-jtxr-f38VFn                   0.0                   0.0   \n",
       "AV1YGDqsGV-KLJ3adc-O                   0.0                   0.0   \n",
       "\n",
       "                      AV1h6Gu0glJLPUi8IjA_  AV1l8zRZvKc47QAVhnAv  \\\n",
       "movieId                                                            \n",
       "AV16khLE-jtxr-f38VFn                   0.0                   0.0   \n",
       "AV1YGDqsGV-KLJ3adc-O                   0.0                   0.0   \n",
       "\n",
       "                      AVpe-M4-ilAPnD_xSF1K  AVpe-PJnLJeJML43ziaj  \\\n",
       "movieId                                                            \n",
       "AV16khLE-jtxr-f38VFn                   0.0                   0.0   \n",
       "AV1YGDqsGV-KLJ3adc-O                   0.0                   0.0   \n",
       "\n",
       "                      AVpe-ltS1cnluZ0-bL8w  AVpe31o71cnluZ0-YrSD  \\\n",
       "movieId                                                            \n",
       "AV16khLE-jtxr-f38VFn                 0.000                   0.0   \n",
       "AV1YGDqsGV-KLJ3adc-O                 0.014                   0.0   \n",
       "\n",
       "                      AVpe38Uy1cnluZ0-YuJR  AVpe41TqilAPnD_xQH3d  \\\n",
       "movieId                                                            \n",
       "AV16khLE-jtxr-f38VFn                   0.0                   0.0   \n",
       "AV1YGDqsGV-KLJ3adc-O                   0.0                   0.0   \n",
       "\n",
       "                      AVpe4hlXLJeJML43xbrB  AVpe59io1cnluZ0-ZgDU  \\\n",
       "movieId                                                            \n",
       "AV16khLE-jtxr-f38VFn                   0.0                 0.000   \n",
       "AV1YGDqsGV-KLJ3adc-O                   0.0                 0.002   \n",
       "\n",
       "                      AVpe5AMsLJeJML43xnku  AVpe5JOgilAPnD_xQPfE  \\\n",
       "movieId                                                            \n",
       "AV16khLE-jtxr-f38VFn                   0.0                   0.0   \n",
       "AV1YGDqsGV-KLJ3adc-O                   0.0                   0.0   \n",
       "\n",
       "                      AVpe5Mv4ilAPnD_xQQyy  AVpe5c23LJeJML43xybi  ...  \\\n",
       "movieId                                                           ...   \n",
       "AV16khLE-jtxr-f38VFn                   0.0                   0.0  ...   \n",
       "AV1YGDqsGV-KLJ3adc-O                   0.0                   0.0  ...   \n",
       "\n",
       "                      AVpfjauJLJeJML43_TKe  AVpfk4y7ilAPnD_xeTgd  \\\n",
       "movieId                                                            \n",
       "AV16khLE-jtxr-f38VFn                   0.0                   0.0   \n",
       "AV1YGDqsGV-KLJ3adc-O                   0.0                   0.0   \n",
       "\n",
       "                      AVpfkIiYilAPnD_xeEjr  AVpfkQkcLJeJML43_kEC  \\\n",
       "movieId                                                            \n",
       "AV16khLE-jtxr-f38VFn                   0.0                   0.0   \n",
       "AV1YGDqsGV-KLJ3adc-O                   0.0                   0.0   \n",
       "\n",
       "                      AVpfkak01cnluZ0-nJj6  AVpfl6baLJeJML43AEQq  \\\n",
       "movieId                                                            \n",
       "AV16khLE-jtxr-f38VFn                   0.0                   0.0   \n",
       "AV1YGDqsGV-KLJ3adc-O                   0.0                   0.0   \n",
       "\n",
       "                      AVpfl6sF1cnluZ0-nmwC  AVpfldDlLJeJML43_7s_  \\\n",
       "movieId                                                            \n",
       "AV16khLE-jtxr-f38VFn                   0.0                   0.0   \n",
       "AV1YGDqsGV-KLJ3adc-O                   0.0                   0.0   \n",
       "\n",
       "                      AVpfliCoilAPnD_xegIr  AVpfluP1ilAPnD_xejxO  \\\n",
       "movieId                                                            \n",
       "AV16khLE-jtxr-f38VFn                   0.0                   0.0   \n",
       "AV1YGDqsGV-KLJ3adc-O                   0.0                   0.0   \n",
       "\n",
       "                      AVpfm8yiLJeJML43AYyu  AVpfmVnVLJeJML43AMqC  \\\n",
       "movieId                                                            \n",
       "AV16khLE-jtxr-f38VFn                 0.000                   0.0   \n",
       "AV1YGDqsGV-KLJ3adc-O                 0.002                   0.0   \n",
       "\n",
       "                      AVpfmjXGLJeJML43AQ5_  AVpfnRuSilAPnD_xfB8l  \\\n",
       "movieId                                                            \n",
       "AV16khLE-jtxr-f38VFn                   0.0                   0.0   \n",
       "AV1YGDqsGV-KLJ3adc-O                   0.0                   0.0   \n",
       "\n",
       "                      AVpfnS4eLJeJML43AfZe  AVpfnjBILJeJML43AkO3  \\\n",
       "movieId                                                            \n",
       "AV16khLE-jtxr-f38VFn                   0.0                   0.0   \n",
       "AV1YGDqsGV-KLJ3adc-O                   0.0                   0.0   \n",
       "\n",
       "                      AVpfoSS51cnluZ0-oVH9  AVpfov9TLJeJML43A7B0  \\\n",
       "movieId                                                            \n",
       "AV16khLE-jtxr-f38VFn                 0.000                   0.0   \n",
       "AV1YGDqsGV-KLJ3adc-O                 0.002                   0.0   \n",
       "\n",
       "                      AVpfozgyilAPnD_xfe0r  AVpfpM2yilAPnD_xfmDG  \\\n",
       "movieId                                                            \n",
       "AV16khLE-jtxr-f38VFn                   0.0                   0.0   \n",
       "AV1YGDqsGV-KLJ3adc-O                   0.0                   0.0   \n",
       "\n",
       "                      AVpfqW4WilAPnD_xf7a_  AVpfr5cb1cnluZ0-pZFp  \\\n",
       "movieId                                                            \n",
       "AV16khLE-jtxr-f38VFn                   0.0                 0.000   \n",
       "AV1YGDqsGV-KLJ3adc-O                   0.0                 0.108   \n",
       "\n",
       "                      AVpfrFDZLJeJML43Bmv0  AVpfrTyiLJeJML43BrSI  \\\n",
       "movieId                                                            \n",
       "AV16khLE-jtxr-f38VFn                   0.0                   0.0   \n",
       "AV1YGDqsGV-KLJ3adc-O                   0.0                   0.0   \n",
       "\n",
       "                      AVpfrfHF1cnluZ0-pRai  AVpfrgjFLJeJML43BvCc  \\\n",
       "movieId                                                            \n",
       "AV16khLE-jtxr-f38VFn                   0.0                   0.0   \n",
       "AV1YGDqsGV-KLJ3adc-O                   0.0                   0.0   \n",
       "\n",
       "                      AVpfthSailAPnD_xg3ON  AVpftikC1cnluZ0-p31V  \\\n",
       "movieId                                                            \n",
       "AV16khLE-jtxr-f38VFn                   0.0                   0.0   \n",
       "AV1YGDqsGV-KLJ3adc-O                   0.0                   0.0   \n",
       "\n",
       "                      AVpfv4TlilAPnD_xhjNS  AVpfvieo1cnluZ0-qdnu  \n",
       "movieId                                                           \n",
       "AV16khLE-jtxr-f38VFn                   0.0                   0.0  \n",
       "AV1YGDqsGV-KLJ3adc-O                   0.0                   0.0  \n",
       "\n",
       "[2 rows x 195 columns]"
      ]
     },
     "execution_count": 180,
     "metadata": {},
     "output_type": "execute_result"
    }
   ],
   "source": [
    "item_correlation_df_3.head(2)"
   ]
  },
  {
   "cell_type": "code",
   "execution_count": 181,
   "metadata": {
    "ExecuteTime": {
     "end_time": "2022-04-06T05:49:49.139834Z",
     "start_time": "2022-04-06T05:46:28.067Z"
    },
    "execution": {
     "iopub.execute_input": "2022-04-14T01:39:01.399117Z",
     "iopub.status.busy": "2022-04-14T01:39:01.398790Z",
     "iopub.status.idle": "2022-04-14T01:39:01.452706Z",
     "shell.execute_reply": "2022-04-14T01:39:01.451568Z",
     "shell.execute_reply.started": "2022-04-14T01:39:01.399073Z"
    },
    "executionInfo": {
     "elapsed": 39,
     "status": "ok",
     "timestamp": 1649227995952,
     "user": {
      "displayName": "Venkatasubramanian S",
      "userId": "06029493893713790610"
     },
     "user_tz": 420
    },
    "id": "RP9DwHJbnqYU",
    "outputId": "844295dc-6b96-47bc-a948-a62398919dd0"
   },
   "outputs": [
    {
     "data": {
      "text/plain": [
       "array([[0.00000000e+00, 0.00000000e+00, 0.00000000e+00, ...,\n",
       "        0.00000000e+00, 0.00000000e+00, 0.00000000e+00],\n",
       "       [2.34691174e-02, 3.00000000e+00, 6.62104097e-03, ...,\n",
       "        0.00000000e+00, 5.16904870e-03, 8.22214474e-05],\n",
       "       [0.00000000e+00, 0.00000000e+00, 0.00000000e+00, ...,\n",
       "        0.00000000e+00, 0.00000000e+00, 0.00000000e+00],\n",
       "       ...,\n",
       "       [0.00000000e+00, 0.00000000e+00, 0.00000000e+00, ...,\n",
       "        0.00000000e+00, 0.00000000e+00, 0.00000000e+00],\n",
       "       [0.00000000e+00, 0.00000000e+00, 0.00000000e+00, ...,\n",
       "        0.00000000e+00, 0.00000000e+00, 0.00000000e+00],\n",
       "       [0.00000000e+00, 0.00000000e+00, 0.00000000e+00, ...,\n",
       "        0.00000000e+00, 0.00000000e+00, 9.45559849e-03]])"
      ]
     },
     "execution_count": 181,
     "metadata": {},
     "output_type": "execute_result"
    }
   ],
   "source": [
    "item_correlation_df_3[item_correlation_df_3<0]=0\n",
    "\n",
    "common_item_predicted_ratings = np.dot(item_correlation_df_3, common_item_based_matrix.fillna(0))\n",
    "common_item_predicted_ratings"
   ]
  },
  {
   "cell_type": "code",
   "execution_count": 182,
   "metadata": {
    "ExecuteTime": {
     "end_time": "2022-04-06T05:49:49.140835Z",
     "start_time": "2022-04-06T05:46:28.076Z"
    },
    "execution": {
     "iopub.execute_input": "2022-04-14T01:39:01.455093Z",
     "iopub.status.busy": "2022-04-14T01:39:01.454686Z",
     "iopub.status.idle": "2022-04-14T01:39:01.462738Z",
     "shell.execute_reply": "2022-04-14T01:39:01.461742Z",
     "shell.execute_reply.started": "2022-04-14T01:39:01.455047Z"
    },
    "executionInfo": {
     "elapsed": 28,
     "status": "ok",
     "timestamp": 1649227995952,
     "user": {
      "displayName": "Venkatasubramanian S",
      "userId": "06029493893713790610"
     },
     "user_tz": 420
    },
    "id": "3bV6H7OynsaQ",
    "outputId": "58493189-55cb-4159-bb96-e50d6d710f68"
   },
   "outputs": [
    {
     "data": {
      "text/plain": [
       "(195, 8318)"
      ]
     },
     "execution_count": 182,
     "metadata": {},
     "output_type": "execute_result"
    }
   ],
   "source": [
    "common_item_predicted_ratings.shape"
   ]
  },
  {
   "cell_type": "code",
   "execution_count": 183,
   "metadata": {
    "ExecuteTime": {
     "end_time": "2022-04-06T05:49:49.141974Z",
     "start_time": "2022-04-06T05:46:28.084Z"
    },
    "execution": {
     "iopub.execute_input": "2022-04-14T01:39:01.464708Z",
     "iopub.status.busy": "2022-04-14T01:39:01.464308Z",
     "iopub.status.idle": "2022-04-14T01:39:01.486312Z",
     "shell.execute_reply": "2022-04-14T01:39:01.485387Z",
     "shell.execute_reply.started": "2022-04-14T01:39:01.464662Z"
    },
    "executionInfo": {
     "elapsed": 19,
     "status": "ok",
     "timestamp": 1649227995953,
     "user": {
      "displayName": "Venkatasubramanian S",
      "userId": "06029493893713790610"
     },
     "user_tz": 420
    },
    "id": "oj1E1v9on8YQ",
    "outputId": "1841b1d9-326a-4b55-e36d-313ac6c9fa58"
   },
   "outputs": [
    {
     "data": {
      "text/html": [
       "<div>\n",
       "<style scoped>\n",
       "    .dataframe tbody tr th:only-of-type {\n",
       "        vertical-align: middle;\n",
       "    }\n",
       "\n",
       "    .dataframe tbody tr th {\n",
       "        vertical-align: top;\n",
       "    }\n",
       "\n",
       "    .dataframe thead th {\n",
       "        text-align: right;\n",
       "    }\n",
       "</style>\n",
       "<table border=\"1\" class=\"dataframe\">\n",
       "  <thead>\n",
       "    <tr style=\"text-align: right;\">\n",
       "      <th></th>\n",
       "      <th>id</th>\n",
       "      <th>name</th>\n",
       "      <th>reviews_rating</th>\n",
       "      <th>reviews_username</th>\n",
       "    </tr>\n",
       "  </thead>\n",
       "  <tbody>\n",
       "    <tr>\n",
       "      <th>25787</th>\n",
       "      <td>AVpfPaoqLJeJML435Xk9</td>\n",
       "      <td>Godzilla 3d Includes Digital Copy Ultraviolet 3d/2d Blu-Ray/dvd</td>\n",
       "      <td>5</td>\n",
       "      <td>youknowhowitgoes</td>\n",
       "    </tr>\n",
       "    <tr>\n",
       "      <th>12627</th>\n",
       "      <td>AVpf3VOfilAPnD_xjpun</td>\n",
       "      <td>Clorox Disinfecting Wipes Value Pack Scented 150 Ct Total</td>\n",
       "      <td>5</td>\n",
       "      <td>ashleydale00</td>\n",
       "    </tr>\n",
       "  </tbody>\n",
       "</table>\n",
       "</div>"
      ],
      "text/plain": [
       "                         id  \\\n",
       "25787  AVpfPaoqLJeJML435Xk9   \n",
       "12627  AVpf3VOfilAPnD_xjpun   \n",
       "\n",
       "                                                                  name  \\\n",
       "25787  Godzilla 3d Includes Digital Copy Ultraviolet 3d/2d Blu-Ray/dvd   \n",
       "12627        Clorox Disinfecting Wipes Value Pack Scented 150 Ct Total   \n",
       "\n",
       "       reviews_rating  reviews_username  \n",
       "25787               5  youknowhowitgoes  \n",
       "12627               5      ashleydale00  "
      ]
     },
     "execution_count": 183,
     "metadata": {},
     "output_type": "execute_result"
    }
   ],
   "source": [
    "common.head(2)"
   ]
  },
  {
   "cell_type": "code",
   "execution_count": 184,
   "metadata": {
    "ExecuteTime": {
     "end_time": "2022-04-06T05:49:49.143833Z",
     "start_time": "2022-04-06T05:46:28.093Z"
    },
    "execution": {
     "iopub.execute_input": "2022-04-14T01:39:01.489209Z",
     "iopub.status.busy": "2022-04-14T01:39:01.488543Z",
     "iopub.status.idle": "2022-04-14T01:39:01.600784Z",
     "shell.execute_reply": "2022-04-14T01:39:01.599739Z",
     "shell.execute_reply.started": "2022-04-14T01:39:01.489155Z"
    },
    "executionInfo": {
     "elapsed": 17,
     "status": "ok",
     "timestamp": 1649227995953,
     "user": {
      "displayName": "Venkatasubramanian S",
      "userId": "06029493893713790610"
     },
     "user_tz": 420
    },
    "id": "ZZC1V5r4nuu7"
   },
   "outputs": [],
   "source": [
    "# Dummy test will be used for evaluation\n",
    "dummy_test = common.copy()\n",
    "\n",
    "dummy_test['reviews_rating'] = dummy_test['reviews_rating'].apply(lambda x: 1 if x>=1 else 0)\n",
    "\n",
    "dummy_test = dummy_test.pivot_table(index='reviews_username', columns='id', values='reviews_rating').T.fillna(0)\n",
    "\n",
    "common_item_predicted_ratings = np.multiply(common_item_predicted_ratings,dummy_test)"
   ]
  },
  {
   "cell_type": "code",
   "execution_count": 185,
   "metadata": {
    "ExecuteTime": {
     "end_time": "2022-04-06T05:49:49.144833Z",
     "start_time": "2022-04-06T05:46:28.103Z"
    },
    "execution": {
     "iopub.execute_input": "2022-04-14T01:39:01.602409Z",
     "iopub.status.busy": "2022-04-14T01:39:01.602151Z",
     "iopub.status.idle": "2022-04-14T01:39:01.672721Z",
     "shell.execute_reply": "2022-04-14T01:39:01.671736Z",
     "shell.execute_reply.started": "2022-04-14T01:39:01.602378Z"
    },
    "executionInfo": {
     "elapsed": 490,
     "status": "ok",
     "timestamp": 1649227996427,
     "user": {
      "displayName": "Venkatasubramanian S",
      "userId": "06029493893713790610"
     },
     "user_tz": 420
    },
    "id": "_IFAorP7oPdZ"
   },
   "outputs": [],
   "source": [
    "common_ = common.pivot_table(index='reviews_username', columns='id', values='reviews_rating').T"
   ]
  },
  {
   "cell_type": "code",
   "execution_count": 186,
   "metadata": {
    "ExecuteTime": {
     "end_time": "2022-04-06T05:49:49.145834Z",
     "start_time": "2022-04-06T05:46:28.111Z"
    },
    "execution": {
     "iopub.execute_input": "2022-04-14T01:39:01.674374Z",
     "iopub.status.busy": "2022-04-14T01:39:01.674041Z",
     "iopub.status.idle": "2022-04-14T01:39:01.894123Z",
     "shell.execute_reply": "2022-04-14T01:39:01.893187Z",
     "shell.execute_reply.started": "2022-04-14T01:39:01.674341Z"
    },
    "executionInfo": {
     "elapsed": 312,
     "status": "ok",
     "timestamp": 1649227996737,
     "user": {
      "displayName": "Venkatasubramanian S",
      "userId": "06029493893713790610"
     },
     "user_tz": 420
    },
    "id": "fbTsHTANobtn",
    "outputId": "db605b2a-8541-45e9-8ac6-1381357b2d62"
   },
   "outputs": [
    {
     "name": "stdout",
     "output_type": "stream",
     "text": [
      "MinMaxScaler(feature_range=(1, 5))\n",
      "[[nan nan nan ... nan nan nan]\n",
      " [nan  1. nan ... nan nan nan]\n",
      " [nan nan nan ... nan nan nan]\n",
      " ...\n",
      " [nan nan nan ... nan nan nan]\n",
      " [nan nan nan ... nan nan nan]\n",
      " [nan nan nan ... nan nan nan]]\n"
     ]
    }
   ],
   "source": [
    "from sklearn.preprocessing import MinMaxScaler\n",
    "from numpy import *\n",
    "\n",
    "X  = common_item_predicted_ratings.copy() \n",
    "X = X[X>0]\n",
    "\n",
    "scaler = MinMaxScaler(feature_range=(1, 5))\n",
    "print(scaler.fit(X))\n",
    "y = (scaler.transform(X))\n",
    "\n",
    "print(y)"
   ]
  },
  {
   "cell_type": "code",
   "execution_count": 187,
   "metadata": {
    "ExecuteTime": {
     "end_time": "2022-04-06T05:49:49.147835Z",
     "start_time": "2022-04-06T05:46:28.121Z"
    },
    "execution": {
     "iopub.execute_input": "2022-04-14T01:39:01.896407Z",
     "iopub.status.busy": "2022-04-14T01:39:01.896061Z",
     "iopub.status.idle": "2022-04-14T01:39:01.903255Z",
     "shell.execute_reply": "2022-04-14T01:39:01.902214Z",
     "shell.execute_reply.started": "2022-04-14T01:39:01.896365Z"
    },
    "executionInfo": {
     "elapsed": 32,
     "status": "ok",
     "timestamp": 1649227996738,
     "user": {
      "displayName": "Venkatasubramanian S",
      "userId": "06029493893713790610"
     },
     "user_tz": 420
    },
    "id": "rCqfA8vDoi0p"
   },
   "outputs": [],
   "source": [
    "# Finding total non-NaN value\n",
    "total_non_NaN = np.count_nonzero(~np.isnan(y))"
   ]
  },
  {
   "cell_type": "markdown",
   "metadata": {
    "id": "Y7yA81W0oq7g"
   },
   "source": [
    "RMSE (Root Mean Square Error) for Item-Item recommendation system"
   ]
  },
  {
   "cell_type": "code",
   "execution_count": 188,
   "metadata": {
    "ExecuteTime": {
     "end_time": "2022-04-06T05:49:49.149833Z",
     "start_time": "2022-04-06T05:46:28.129Z"
    },
    "execution": {
     "iopub.execute_input": "2022-04-14T01:39:01.905076Z",
     "iopub.status.busy": "2022-04-14T01:39:01.904773Z",
     "iopub.status.idle": "2022-04-14T01:39:01.968056Z",
     "shell.execute_reply": "2022-04-14T01:39:01.966323Z",
     "shell.execute_reply.started": "2022-04-14T01:39:01.904998Z"
    },
    "executionInfo": {
     "elapsed": 33,
     "status": "ok",
     "timestamp": 1649227996739,
     "user": {
      "displayName": "Venkatasubramanian S",
      "userId": "06029493893713790610"
     },
     "user_tz": 420
    },
    "id": "SpmH39OYoq7h",
    "outputId": "baf0f893-39b2-467a-a469-d7a8e5ee1d29"
   },
   "outputs": [
    {
     "name": "stdout",
     "output_type": "stream",
     "text": [
      "3.543932805779526\n"
     ]
    }
   ],
   "source": [
    "rmse_item_item = (sum(sum((common_ - y )**2))/total_non_NaN)**0.5\n",
    "print(rmse_item_item)"
   ]
  },
  {
   "cell_type": "markdown",
   "metadata": {
    "id": "HB9sM1wypCWP"
   },
   "source": [
    "# Best-suited Recommendation model"
   ]
  },
  {
   "cell_type": "code",
   "execution_count": 189,
   "metadata": {
    "ExecuteTime": {
     "end_time": "2022-04-06T05:49:49.150834Z",
     "start_time": "2022-04-06T05:46:28.141Z"
    },
    "execution": {
     "iopub.execute_input": "2022-04-14T01:39:01.969526Z",
     "iopub.status.busy": "2022-04-14T01:39:01.969293Z",
     "iopub.status.idle": "2022-04-14T01:39:01.974061Z",
     "shell.execute_reply": "2022-04-14T01:39:01.973250Z",
     "shell.execute_reply.started": "2022-04-14T01:39:01.969497Z"
    },
    "executionInfo": {
     "elapsed": 27,
     "status": "ok",
     "timestamp": 1649227996740,
     "user": {
      "displayName": "Venkatasubramanian S",
      "userId": "06029493893713790610"
     },
     "user_tz": 420
    },
    "id": "ut1vPF-OptwH",
    "outputId": "1062bc3c-4021-43f6-b49a-65b3c9a36247"
   },
   "outputs": [
    {
     "name": "stdout",
     "output_type": "stream",
     "text": [
      "Best-fit model is user-user recommendation system\n"
     ]
    }
   ],
   "source": [
    "# Recommended model evaluation\n",
    "if rmse_user_user < rmse_item_item:\n",
    "  print(\"Best-fit model is user-user recommendation system\")\n",
    "else:\n",
    "  print(\"Best-fit model is item-item recommendation system\")"
   ]
  },
  {
   "cell_type": "markdown",
   "metadata": {
    "id": "ViQ8Iq7XqaxH"
   },
   "source": [
    "# Top 20 Product recommendations to the user by the best recommendation model "
   ]
  },
  {
   "cell_type": "code",
   "execution_count": 190,
   "metadata": {
    "ExecuteTime": {
     "end_time": "2022-04-06T05:49:49.151833Z",
     "start_time": "2022-04-06T05:46:28.150Z"
    },
    "execution": {
     "iopub.execute_input": "2022-04-14T01:39:01.976550Z",
     "iopub.status.busy": "2022-04-14T01:39:01.975908Z",
     "iopub.status.idle": "2022-04-14T01:39:01.985591Z",
     "shell.execute_reply": "2022-04-14T01:39:01.984741Z",
     "shell.execute_reply.started": "2022-04-14T01:39:01.976501Z"
    },
    "executionInfo": {
     "elapsed": 23,
     "status": "ok",
     "timestamp": 1649227996741,
     "user": {
      "displayName": "Venkatasubramanian S",
      "userId": "06029493893713790610"
     },
     "user_tz": 420
    },
    "id": "UqfNS5o-2xPg"
   },
   "outputs": [],
   "source": [
    "# Take a sample username as input\n",
    "user_input = 'evrydayhustla420'"
   ]
  },
  {
   "cell_type": "code",
   "execution_count": 191,
   "metadata": {
    "ExecuteTime": {
     "end_time": "2022-04-06T05:49:49.153834Z",
     "start_time": "2022-04-06T05:46:28.156Z"
    },
    "execution": {
     "iopub.execute_input": "2022-04-14T01:39:01.987419Z",
     "iopub.status.busy": "2022-04-14T01:39:01.986700Z",
     "iopub.status.idle": "2022-04-14T01:39:02.007046Z",
     "shell.execute_reply": "2022-04-14T01:39:02.006177Z",
     "shell.execute_reply.started": "2022-04-14T01:39:01.987373Z"
    },
    "executionInfo": {
     "elapsed": 22,
     "status": "ok",
     "timestamp": 1649227996741,
     "user": {
      "displayName": "Venkatasubramanian S",
      "userId": "06029493893713790610"
     },
     "user_tz": 420
    },
    "id": "bhKVigPP2xPi",
    "outputId": "b6797a88-08f2-450a-af7c-b11762417fdf"
   },
   "outputs": [
    {
     "data": {
      "text/html": [
       "<div>\n",
       "<style scoped>\n",
       "    .dataframe tbody tr th:only-of-type {\n",
       "        vertical-align: middle;\n",
       "    }\n",
       "\n",
       "    .dataframe tbody tr th {\n",
       "        vertical-align: top;\n",
       "    }\n",
       "\n",
       "    .dataframe thead th {\n",
       "        text-align: right;\n",
       "    }\n",
       "</style>\n",
       "<table border=\"1\" class=\"dataframe\">\n",
       "  <thead>\n",
       "    <tr style=\"text-align: right;\">\n",
       "      <th></th>\n",
       "      <th>Product Id</th>\n",
       "      <th>cosine_similarity_score</th>\n",
       "    </tr>\n",
       "  </thead>\n",
       "  <tbody>\n",
       "    <tr>\n",
       "      <th>0</th>\n",
       "      <td>AVpfRTh1ilAPnD_xYic2</td>\n",
       "      <td>16.871</td>\n",
       "    </tr>\n",
       "    <tr>\n",
       "      <th>1</th>\n",
       "      <td>AVpe41TqilAPnD_xQH3d</td>\n",
       "      <td>13.017</td>\n",
       "    </tr>\n",
       "    <tr>\n",
       "      <th>2</th>\n",
       "      <td>AVpf0eb2LJeJML43EVSt</td>\n",
       "      <td>11.844</td>\n",
       "    </tr>\n",
       "    <tr>\n",
       "      <th>3</th>\n",
       "      <td>AVpf3VOfilAPnD_xjpun</td>\n",
       "      <td>9.609</td>\n",
       "    </tr>\n",
       "    <tr>\n",
       "      <th>4</th>\n",
       "      <td>AVpe59io1cnluZ0-ZgDU</td>\n",
       "      <td>7.707</td>\n",
       "    </tr>\n",
       "    <tr>\n",
       "      <th>5</th>\n",
       "      <td>AVpfJP1C1cnluZ0-e3Xy</td>\n",
       "      <td>5.475</td>\n",
       "    </tr>\n",
       "    <tr>\n",
       "      <th>6</th>\n",
       "      <td>AVpfOIrkilAPnD_xXgDG</td>\n",
       "      <td>4.809</td>\n",
       "    </tr>\n",
       "    <tr>\n",
       "      <th>7</th>\n",
       "      <td>AVpfPnrU1cnluZ0-g9rL</td>\n",
       "      <td>4.539</td>\n",
       "    </tr>\n",
       "    <tr>\n",
       "      <th>8</th>\n",
       "      <td>AVpe31o71cnluZ0-YrSD</td>\n",
       "      <td>4.336</td>\n",
       "    </tr>\n",
       "    <tr>\n",
       "      <th>9</th>\n",
       "      <td>AVpe8gsILJeJML43y6Ed</td>\n",
       "      <td>4.309</td>\n",
       "    </tr>\n",
       "    <tr>\n",
       "      <th>10</th>\n",
       "      <td>AVpf5olc1cnluZ0-tPrO</td>\n",
       "      <td>3.909</td>\n",
       "    </tr>\n",
       "    <tr>\n",
       "      <th>11</th>\n",
       "      <td>AVpe9W4D1cnluZ0-avf0</td>\n",
       "      <td>3.147</td>\n",
       "    </tr>\n",
       "    <tr>\n",
       "      <th>12</th>\n",
       "      <td>AVpfM_ytilAPnD_xXIJb</td>\n",
       "      <td>3.051</td>\n",
       "    </tr>\n",
       "    <tr>\n",
       "      <th>13</th>\n",
       "      <td>AVpfN6Z71cnluZ0-gZmO</td>\n",
       "      <td>2.500</td>\n",
       "    </tr>\n",
       "    <tr>\n",
       "      <th>14</th>\n",
       "      <td>AVpfIOoV1cnluZ0-ehGp</td>\n",
       "      <td>2.500</td>\n",
       "    </tr>\n",
       "    <tr>\n",
       "      <th>15</th>\n",
       "      <td>AVpfazX31cnluZ0-kbdl</td>\n",
       "      <td>2.270</td>\n",
       "    </tr>\n",
       "    <tr>\n",
       "      <th>16</th>\n",
       "      <td>AVpfOmKwLJeJML435GM7</td>\n",
       "      <td>2.237</td>\n",
       "    </tr>\n",
       "    <tr>\n",
       "      <th>17</th>\n",
       "      <td>AVpf385g1cnluZ0-s0_t</td>\n",
       "      <td>2.120</td>\n",
       "    </tr>\n",
       "    <tr>\n",
       "      <th>18</th>\n",
       "      <td>AVpf0thK1cnluZ0-r8vR</td>\n",
       "      <td>2.120</td>\n",
       "    </tr>\n",
       "    <tr>\n",
       "      <th>19</th>\n",
       "      <td>AVpfUJu_ilAPnD_xZdDr</td>\n",
       "      <td>2.000</td>\n",
       "    </tr>\n",
       "  </tbody>\n",
       "</table>\n",
       "</div>"
      ],
      "text/plain": [
       "              Product Id  cosine_similarity_score\n",
       "0   AVpfRTh1ilAPnD_xYic2                   16.871\n",
       "1   AVpe41TqilAPnD_xQH3d                   13.017\n",
       "2   AVpf0eb2LJeJML43EVSt                   11.844\n",
       "3   AVpf3VOfilAPnD_xjpun                    9.609\n",
       "4   AVpe59io1cnluZ0-ZgDU                    7.707\n",
       "5   AVpfJP1C1cnluZ0-e3Xy                    5.475\n",
       "6   AVpfOIrkilAPnD_xXgDG                    4.809\n",
       "7   AVpfPnrU1cnluZ0-g9rL                    4.539\n",
       "8   AVpe31o71cnluZ0-YrSD                    4.336\n",
       "9   AVpe8gsILJeJML43y6Ed                    4.309\n",
       "10  AVpf5olc1cnluZ0-tPrO                    3.909\n",
       "11  AVpe9W4D1cnluZ0-avf0                    3.147\n",
       "12  AVpfM_ytilAPnD_xXIJb                    3.051\n",
       "13  AVpfN6Z71cnluZ0-gZmO                    2.500\n",
       "14  AVpfIOoV1cnluZ0-ehGp                    2.500\n",
       "15  AVpfazX31cnluZ0-kbdl                    2.270\n",
       "16  AVpfOmKwLJeJML435GM7                    2.237\n",
       "17  AVpf385g1cnluZ0-s0_t                    2.120\n",
       "18  AVpf0thK1cnluZ0-r8vR                    2.120\n",
       "19  AVpfUJu_ilAPnD_xZdDr                    2.000"
      ]
     },
     "execution_count": 191,
     "metadata": {},
     "output_type": "execute_result"
    }
   ],
   "source": [
    "top20_reco = user_final_rating.loc[user_input].sort_values(ascending=False)[0:20]\n",
    "df_top20_reco = pd.DataFrame({'Product Id': top20_reco.index, 'cosine_similarity_score' : top20_reco})\n",
    "df_top20_reco.reset_index(drop=True, inplace=True)\n",
    "df_top20_reco"
   ]
  },
  {
   "cell_type": "code",
   "execution_count": 192,
   "metadata": {
    "ExecuteTime": {
     "end_time": "2022-04-06T05:49:49.154835Z",
     "start_time": "2022-04-06T05:46:28.163Z"
    },
    "execution": {
     "iopub.execute_input": "2022-04-14T01:39:02.009004Z",
     "iopub.status.busy": "2022-04-14T01:39:02.008407Z",
     "iopub.status.idle": "2022-04-14T01:39:02.046927Z",
     "shell.execute_reply": "2022-04-14T01:39:02.046073Z",
     "shell.execute_reply.started": "2022-04-14T01:39:02.008968Z"
    },
    "executionInfo": {
     "elapsed": 22,
     "status": "ok",
     "timestamp": 1649227996742,
     "user": {
      "displayName": "Venkatasubramanian S",
      "userId": "06029493893713790610"
     },
     "user_tz": 420
    },
    "id": "5lYAOHhI2xPj",
    "outputId": "2c077aad-dd0c-4f87-a336-568002440d08"
   },
   "outputs": [
    {
     "data": {
      "text/html": [
       "<div>\n",
       "<style scoped>\n",
       "    .dataframe tbody tr th:only-of-type {\n",
       "        vertical-align: middle;\n",
       "    }\n",
       "\n",
       "    .dataframe tbody tr th {\n",
       "        vertical-align: top;\n",
       "    }\n",
       "\n",
       "    .dataframe thead th {\n",
       "        text-align: right;\n",
       "    }\n",
       "</style>\n",
       "<table border=\"1\" class=\"dataframe\">\n",
       "  <thead>\n",
       "    <tr style=\"text-align: right;\">\n",
       "      <th></th>\n",
       "      <th>Product Id</th>\n",
       "      <th>name</th>\n",
       "      <th>cosine_similarity_score</th>\n",
       "    </tr>\n",
       "  </thead>\n",
       "  <tbody>\n",
       "    <tr>\n",
       "      <th>18</th>\n",
       "      <td>AVpfRTh1ilAPnD_xYic2</td>\n",
       "      <td>Planes: Fire Rescue (2 Discs) (includes Digital Copy) (blu-Ray/dvd)</td>\n",
       "      <td>16.871</td>\n",
       "    </tr>\n",
       "    <tr>\n",
       "      <th>1</th>\n",
       "      <td>AVpe41TqilAPnD_xQH3d</td>\n",
       "      <td>Mike Dave Need Wedding Dates (dvd + Digital)</td>\n",
       "      <td>13.017</td>\n",
       "    </tr>\n",
       "    <tr>\n",
       "      <th>5</th>\n",
       "      <td>AVpf0eb2LJeJML43EVSt</td>\n",
       "      <td>The Resident Evil Collection 5 Discs (blu-Ray)</td>\n",
       "      <td>11.844</td>\n",
       "    </tr>\n",
       "    <tr>\n",
       "      <th>8</th>\n",
       "      <td>AVpf3VOfilAPnD_xjpun</td>\n",
       "      <td>Clorox Disinfecting Wipes Value Pack Scented 150 Ct Total</td>\n",
       "      <td>9.609</td>\n",
       "    </tr>\n",
       "    <tr>\n",
       "      <th>2</th>\n",
       "      <td>AVpe59io1cnluZ0-ZgDU</td>\n",
       "      <td>My Big Fat Greek Wedding 2 (blu-Ray + Dvd + Digital)</td>\n",
       "      <td>7.707</td>\n",
       "    </tr>\n",
       "    <tr>\n",
       "      <th>12</th>\n",
       "      <td>AVpfJP1C1cnluZ0-e3Xy</td>\n",
       "      <td>Clorox Disinfecting Bathroom Cleaner</td>\n",
       "      <td>5.475</td>\n",
       "    </tr>\n",
       "    <tr>\n",
       "      <th>15</th>\n",
       "      <td>AVpfOIrkilAPnD_xXgDG</td>\n",
       "      <td>Alex Cross (dvdvideo)</td>\n",
       "      <td>4.809</td>\n",
       "    </tr>\n",
       "    <tr>\n",
       "      <th>17</th>\n",
       "      <td>AVpfPnrU1cnluZ0-g9rL</td>\n",
       "      <td>Stargate (ws) (ultimate Edition) (director's Cut) (dvdvideo)</td>\n",
       "      <td>4.539</td>\n",
       "    </tr>\n",
       "    <tr>\n",
       "      <th>0</th>\n",
       "      <td>AVpe31o71cnluZ0-YrSD</td>\n",
       "      <td>Dark Shadows (includes Digital Copy) (ultraviolet) (dvdvideo)</td>\n",
       "      <td>4.336</td>\n",
       "    </tr>\n",
       "    <tr>\n",
       "      <th>3</th>\n",
       "      <td>AVpe8gsILJeJML43y6Ed</td>\n",
       "      <td>Pendaflex174 Divide It Up File Folder, Multi Section, Letter, Assorted, 12/pack</td>\n",
       "      <td>4.309</td>\n",
       "    </tr>\n",
       "    <tr>\n",
       "      <th>9</th>\n",
       "      <td>AVpf5olc1cnluZ0-tPrO</td>\n",
       "      <td>Chester's Cheese Flavored Puffcorn Snacks</td>\n",
       "      <td>3.909</td>\n",
       "    </tr>\n",
       "    <tr>\n",
       "      <th>4</th>\n",
       "      <td>AVpe9W4D1cnluZ0-avf0</td>\n",
       "      <td>Hoover174 Platinum Collection153 Lightweight Bagged Upright Vacuum With Canister - Uh30010com</td>\n",
       "      <td>3.147</td>\n",
       "    </tr>\n",
       "    <tr>\n",
       "      <th>13</th>\n",
       "      <td>AVpfM_ytilAPnD_xXIJb</td>\n",
       "      <td>Tostitos Bite Size Tortilla Chips</td>\n",
       "      <td>3.051</td>\n",
       "    </tr>\n",
       "    <tr>\n",
       "      <th>11</th>\n",
       "      <td>AVpfIOoV1cnluZ0-ehGp</td>\n",
       "      <td>Reebok Classic Leather Running Shoes - White (Men)</td>\n",
       "      <td>2.500</td>\n",
       "    </tr>\n",
       "    <tr>\n",
       "      <th>14</th>\n",
       "      <td>AVpfN6Z71cnluZ0-gZmO</td>\n",
       "      <td>Caress Moisturizing Body Bar Natural Silk, 4.75oz</td>\n",
       "      <td>2.500</td>\n",
       "    </tr>\n",
       "    <tr>\n",
       "      <th>10</th>\n",
       "      <td>AVpfazX31cnluZ0-kbdl</td>\n",
       "      <td>Just For Men Touch Of Gray Gray Hair Treatment, Black T-55</td>\n",
       "      <td>2.270</td>\n",
       "    </tr>\n",
       "    <tr>\n",
       "      <th>16</th>\n",
       "      <td>AVpfOmKwLJeJML435GM7</td>\n",
       "      <td>Clear Scalp &amp; Hair Therapy Total Care Nourishing Shampoo</td>\n",
       "      <td>2.237</td>\n",
       "    </tr>\n",
       "    <tr>\n",
       "      <th>7</th>\n",
       "      <td>AVpf385g1cnluZ0-s0_t</td>\n",
       "      <td>Hormel Chili, No Beans</td>\n",
       "      <td>2.120</td>\n",
       "    </tr>\n",
       "    <tr>\n",
       "      <th>6</th>\n",
       "      <td>AVpf0thK1cnluZ0-r8vR</td>\n",
       "      <td>100:Complete First Season (blu-Ray)</td>\n",
       "      <td>2.120</td>\n",
       "    </tr>\n",
       "    <tr>\n",
       "      <th>19</th>\n",
       "      <td>AVpfUJu_ilAPnD_xZdDr</td>\n",
       "      <td>Chobani174 Strawberry On The Bottom Non-Fat Greek Yogurt - 5.3oz</td>\n",
       "      <td>2.000</td>\n",
       "    </tr>\n",
       "  </tbody>\n",
       "</table>\n",
       "</div>"
      ],
      "text/plain": [
       "              Product Id  \\\n",
       "18  AVpfRTh1ilAPnD_xYic2   \n",
       "1   AVpe41TqilAPnD_xQH3d   \n",
       "5   AVpf0eb2LJeJML43EVSt   \n",
       "8   AVpf3VOfilAPnD_xjpun   \n",
       "2   AVpe59io1cnluZ0-ZgDU   \n",
       "12  AVpfJP1C1cnluZ0-e3Xy   \n",
       "15  AVpfOIrkilAPnD_xXgDG   \n",
       "17  AVpfPnrU1cnluZ0-g9rL   \n",
       "0   AVpe31o71cnluZ0-YrSD   \n",
       "3   AVpe8gsILJeJML43y6Ed   \n",
       "9   AVpf5olc1cnluZ0-tPrO   \n",
       "4   AVpe9W4D1cnluZ0-avf0   \n",
       "13  AVpfM_ytilAPnD_xXIJb   \n",
       "11  AVpfIOoV1cnluZ0-ehGp   \n",
       "14  AVpfN6Z71cnluZ0-gZmO   \n",
       "10  AVpfazX31cnluZ0-kbdl   \n",
       "16  AVpfOmKwLJeJML435GM7   \n",
       "7   AVpf385g1cnluZ0-s0_t   \n",
       "6   AVpf0thK1cnluZ0-r8vR   \n",
       "19  AVpfUJu_ilAPnD_xZdDr   \n",
       "\n",
       "                                                                                             name  \\\n",
       "18                            Planes: Fire Rescue (2 Discs) (includes Digital Copy) (blu-Ray/dvd)   \n",
       "1                                                    Mike Dave Need Wedding Dates (dvd + Digital)   \n",
       "5                                                  The Resident Evil Collection 5 Discs (blu-Ray)   \n",
       "8                                       Clorox Disinfecting Wipes Value Pack Scented 150 Ct Total   \n",
       "2                                            My Big Fat Greek Wedding 2 (blu-Ray + Dvd + Digital)   \n",
       "12                                                           Clorox Disinfecting Bathroom Cleaner   \n",
       "15                                                                          Alex Cross (dvdvideo)   \n",
       "17                                   Stargate (ws) (ultimate Edition) (director's Cut) (dvdvideo)   \n",
       "0                                   Dark Shadows (includes Digital Copy) (ultraviolet) (dvdvideo)   \n",
       "3                 Pendaflex174 Divide It Up File Folder, Multi Section, Letter, Assorted, 12/pack   \n",
       "9                                                       Chester's Cheese Flavored Puffcorn Snacks   \n",
       "4   Hoover174 Platinum Collection153 Lightweight Bagged Upright Vacuum With Canister - Uh30010com   \n",
       "13                                                              Tostitos Bite Size Tortilla Chips   \n",
       "11                                             Reebok Classic Leather Running Shoes - White (Men)   \n",
       "14                                              Caress Moisturizing Body Bar Natural Silk, 4.75oz   \n",
       "10                                     Just For Men Touch Of Gray Gray Hair Treatment, Black T-55   \n",
       "16                                       Clear Scalp & Hair Therapy Total Care Nourishing Shampoo   \n",
       "7                                                                          Hormel Chili, No Beans   \n",
       "6                                                             100:Complete First Season (blu-Ray)   \n",
       "19                               Chobani174 Strawberry On The Bottom Non-Fat Greek Yogurt - 5.3oz   \n",
       "\n",
       "    cosine_similarity_score  \n",
       "18                   16.871  \n",
       "1                    13.017  \n",
       "5                    11.844  \n",
       "8                     9.609  \n",
       "2                     7.707  \n",
       "12                    5.475  \n",
       "15                    4.809  \n",
       "17                    4.539  \n",
       "0                     4.336  \n",
       "3                     4.309  \n",
       "9                     3.909  \n",
       "4                     3.147  \n",
       "13                    3.051  \n",
       "11                    2.500  \n",
       "14                    2.500  \n",
       "10                    2.270  \n",
       "16                    2.237  \n",
       "7                     2.120  \n",
       "6                     2.120  \n",
       "19                    2.000  "
      ]
     },
     "execution_count": 192,
     "metadata": {},
     "output_type": "execute_result"
    }
   ],
   "source": [
    "top20_rec = pd.merge(df_recommended, df_top20_reco,left_on='id',right_on='Product Id', how = 'inner')[['Product Id', 'name', 'cosine_similarity_score']].drop_duplicates()\n",
    "top20_rec.reset_index(drop=True, inplace=True)\n",
    "top20_rec.sort_values(by='cosine_similarity_score', ascending=False)"
   ]
  },
  {
   "cell_type": "code",
   "execution_count": 193,
   "metadata": {
    "ExecuteTime": {
     "end_time": "2022-04-06T05:49:49.159833Z",
     "start_time": "2022-04-06T05:46:28.180Z"
    },
    "execution": {
     "iopub.execute_input": "2022-04-14T01:39:02.055648Z",
     "iopub.status.busy": "2022-04-14T01:39:02.055266Z",
     "iopub.status.idle": "2022-04-14T01:39:02.108951Z",
     "shell.execute_reply": "2022-04-14T01:39:02.108331Z",
     "shell.execute_reply.started": "2022-04-14T01:39:02.055618Z"
    },
    "executionInfo": {
     "elapsed": 16,
     "status": "ok",
     "timestamp": 1649227996743,
     "user": {
      "displayName": "Venkatasubramanian S",
      "userId": "06029493893713790610"
     },
     "user_tz": 420
    },
    "id": "TR_0n2XYsBbE",
    "outputId": "fe63b973-5e1a-432f-be62-c9e8cf8fa019"
   },
   "outputs": [
    {
     "data": {
      "text/html": [
       "<div>\n",
       "<style scoped>\n",
       "    .dataframe tbody tr th:only-of-type {\n",
       "        vertical-align: middle;\n",
       "    }\n",
       "\n",
       "    .dataframe tbody tr th {\n",
       "        vertical-align: top;\n",
       "    }\n",
       "\n",
       "    .dataframe thead th {\n",
       "        text-align: right;\n",
       "    }\n",
       "</style>\n",
       "<table border=\"1\" class=\"dataframe\">\n",
       "  <thead>\n",
       "    <tr style=\"text-align: right;\">\n",
       "      <th>id</th>\n",
       "      <th>AV13O1A8GV-KLJ3akUyj</th>\n",
       "      <th>AV14LG0R-jtxr-f38QfS</th>\n",
       "      <th>AV16khLE-jtxr-f38VFn</th>\n",
       "      <th>AV1YGDqsGV-KLJ3adc-O</th>\n",
       "      <th>AV1YIch7GV-KLJ3addeG</th>\n",
       "      <th>AV1YlENIglJLPUi8IHsX</th>\n",
       "      <th>AV1YmBrdGV-KLJ3adewb</th>\n",
       "      <th>AV1YmDL9vKc47QAVgr7_</th>\n",
       "      <th>AV1Ymf_rglJLPUi8II2v</th>\n",
       "      <th>AV1Yn94nvKc47QAVgtst</th>\n",
       "      <th>AV1YnUMYglJLPUi8IJpK</th>\n",
       "      <th>AV1Ynb3bglJLPUi8IJxJ</th>\n",
       "      <th>AV1YneDPglJLPUi8IJyQ</th>\n",
       "      <th>AV1YpiJvvKc47QAVguxy</th>\n",
       "      <th>AV1YqAaMGV-KLJ3adiDj</th>\n",
       "      <th>AV1Ys0kTvKc47QAVgx1C</th>\n",
       "      <th>AV1YtGjdglJLPUi8IOfJ</th>\n",
       "      <th>AV1ZSp2uglJLPUi8IQFy</th>\n",
       "      <th>AV1ZT7GLglJLPUi8IQLI</th>\n",
       "      <th>AV1ZVIgy-jtxr-f31W9N</th>\n",
       "      <th>AV1d76w7vKc47QAVhCqn</th>\n",
       "      <th>AV1h6Gu0glJLPUi8IjA_</th>\n",
       "      <th>AV1h6gSl-jtxr-f31p40</th>\n",
       "      <th>AV1l8zRZvKc47QAVhnAv</th>\n",
       "      <th>AV2AvGnjGV-KLJ3alTQH</th>\n",
       "      <th>AV2Avn5dGV-KLJ3alTjq</th>\n",
       "      <th>AVpe-M4-ilAPnD_xSF1K</th>\n",
       "      <th>AVpe-MCY1cnluZ0-bCv_</th>\n",
       "      <th>AVpe-PJnLJeJML43ziaj</th>\n",
       "      <th>AVpe-YAL1cnluZ0-bHGh</th>\n",
       "      <th>...</th>\n",
       "      <th>AVpfksililAPnD_xePx_</th>\n",
       "      <th>AVpfl6baLJeJML43AEQq</th>\n",
       "      <th>AVpfl6sF1cnluZ0-nmwC</th>\n",
       "      <th>AVpfldDlLJeJML43_7s_</th>\n",
       "      <th>AVpfliCoilAPnD_xegIr</th>\n",
       "      <th>AVpfluP1ilAPnD_xejxO</th>\n",
       "      <th>AVpfm8yiLJeJML43AYyu</th>\n",
       "      <th>AVpfmVnVLJeJML43AMqC</th>\n",
       "      <th>AVpfmjXGLJeJML43AQ5_</th>\n",
       "      <th>AVpfnRuSilAPnD_xfB8l</th>\n",
       "      <th>AVpfnS4eLJeJML43AfZe</th>\n",
       "      <th>AVpfnUcwLJeJML43Af2U</th>\n",
       "      <th>AVpfnjBILJeJML43AkO3</th>\n",
       "      <th>AVpfoSS51cnluZ0-oVH9</th>\n",
       "      <th>AVpfov9TLJeJML43A7B0</th>\n",
       "      <th>AVpfozgyilAPnD_xfe0r</th>\n",
       "      <th>AVpfpM2yilAPnD_xfmDG</th>\n",
       "      <th>AVpfpoUCLJeJML43BLXv</th>\n",
       "      <th>AVpfqW4WilAPnD_xf7a_</th>\n",
       "      <th>AVpfr5cb1cnluZ0-pZFp</th>\n",
       "      <th>AVpfrFDZLJeJML43Bmv0</th>\n",
       "      <th>AVpfrTyiLJeJML43BrSI</th>\n",
       "      <th>AVpfrfHF1cnluZ0-pRai</th>\n",
       "      <th>AVpfrgjFLJeJML43BvCc</th>\n",
       "      <th>AVpfsQoeilAPnD_xgfx5</th>\n",
       "      <th>AVpfshNsLJeJML43CB8q</th>\n",
       "      <th>AVpfthSailAPnD_xg3ON</th>\n",
       "      <th>AVpftikC1cnluZ0-p31V</th>\n",
       "      <th>AVpfv4TlilAPnD_xhjNS</th>\n",
       "      <th>AVpfvieo1cnluZ0-qdnu</th>\n",
       "    </tr>\n",
       "    <tr>\n",
       "      <th>reviews_username</th>\n",
       "      <th></th>\n",
       "      <th></th>\n",
       "      <th></th>\n",
       "      <th></th>\n",
       "      <th></th>\n",
       "      <th></th>\n",
       "      <th></th>\n",
       "      <th></th>\n",
       "      <th></th>\n",
       "      <th></th>\n",
       "      <th></th>\n",
       "      <th></th>\n",
       "      <th></th>\n",
       "      <th></th>\n",
       "      <th></th>\n",
       "      <th></th>\n",
       "      <th></th>\n",
       "      <th></th>\n",
       "      <th></th>\n",
       "      <th></th>\n",
       "      <th></th>\n",
       "      <th></th>\n",
       "      <th></th>\n",
       "      <th></th>\n",
       "      <th></th>\n",
       "      <th></th>\n",
       "      <th></th>\n",
       "      <th></th>\n",
       "      <th></th>\n",
       "      <th></th>\n",
       "      <th></th>\n",
       "      <th></th>\n",
       "      <th></th>\n",
       "      <th></th>\n",
       "      <th></th>\n",
       "      <th></th>\n",
       "      <th></th>\n",
       "      <th></th>\n",
       "      <th></th>\n",
       "      <th></th>\n",
       "      <th></th>\n",
       "      <th></th>\n",
       "      <th></th>\n",
       "      <th></th>\n",
       "      <th></th>\n",
       "      <th></th>\n",
       "      <th></th>\n",
       "      <th></th>\n",
       "      <th></th>\n",
       "      <th></th>\n",
       "      <th></th>\n",
       "      <th></th>\n",
       "      <th></th>\n",
       "      <th></th>\n",
       "      <th></th>\n",
       "      <th></th>\n",
       "      <th></th>\n",
       "      <th></th>\n",
       "      <th></th>\n",
       "      <th></th>\n",
       "      <th></th>\n",
       "    </tr>\n",
       "  </thead>\n",
       "  <tbody>\n",
       "    <tr>\n",
       "      <th>00sab00</th>\n",
       "      <td>0.0</td>\n",
       "      <td>0.0</td>\n",
       "      <td>2.5</td>\n",
       "      <td>3.596</td>\n",
       "      <td>0.0</td>\n",
       "      <td>0.0</td>\n",
       "      <td>0.0</td>\n",
       "      <td>0.0</td>\n",
       "      <td>2.582</td>\n",
       "      <td>1.018</td>\n",
       "      <td>0.0</td>\n",
       "      <td>0.0</td>\n",
       "      <td>0.0</td>\n",
       "      <td>0.0</td>\n",
       "      <td>0.0</td>\n",
       "      <td>0.0</td>\n",
       "      <td>0.0</td>\n",
       "      <td>0.0</td>\n",
       "      <td>0.0</td>\n",
       "      <td>0.0</td>\n",
       "      <td>0.0</td>\n",
       "      <td>0.0</td>\n",
       "      <td>1.155</td>\n",
       "      <td>0.0</td>\n",
       "      <td>0.0</td>\n",
       "      <td>0.0</td>\n",
       "      <td>0.0</td>\n",
       "      <td>0.0</td>\n",
       "      <td>0.0</td>\n",
       "      <td>0.0</td>\n",
       "      <td>...</td>\n",
       "      <td>0.0</td>\n",
       "      <td>0.0</td>\n",
       "      <td>0.0</td>\n",
       "      <td>0.0</td>\n",
       "      <td>0.0</td>\n",
       "      <td>0.0</td>\n",
       "      <td>2.588</td>\n",
       "      <td>0.0</td>\n",
       "      <td>0.0</td>\n",
       "      <td>0.0</td>\n",
       "      <td>0.0</td>\n",
       "      <td>0.0</td>\n",
       "      <td>0.0</td>\n",
       "      <td>0.0</td>\n",
       "      <td>6.623</td>\n",
       "      <td>0.0</td>\n",
       "      <td>2.5</td>\n",
       "      <td>0.0</td>\n",
       "      <td>0.0</td>\n",
       "      <td>0.645</td>\n",
       "      <td>1.667</td>\n",
       "      <td>0.189</td>\n",
       "      <td>0.0</td>\n",
       "      <td>0.0</td>\n",
       "      <td>0.0</td>\n",
       "      <td>0.0</td>\n",
       "      <td>0.0</td>\n",
       "      <td>1.465</td>\n",
       "      <td>1.89</td>\n",
       "      <td>0.204</td>\n",
       "    </tr>\n",
       "    <tr>\n",
       "      <th>01impala</th>\n",
       "      <td>0.0</td>\n",
       "      <td>0.0</td>\n",
       "      <td>0.0</td>\n",
       "      <td>0.000</td>\n",
       "      <td>0.0</td>\n",
       "      <td>0.0</td>\n",
       "      <td>0.0</td>\n",
       "      <td>0.0</td>\n",
       "      <td>0.000</td>\n",
       "      <td>0.000</td>\n",
       "      <td>0.0</td>\n",
       "      <td>0.0</td>\n",
       "      <td>0.0</td>\n",
       "      <td>0.0</td>\n",
       "      <td>0.0</td>\n",
       "      <td>0.0</td>\n",
       "      <td>0.0</td>\n",
       "      <td>0.0</td>\n",
       "      <td>0.0</td>\n",
       "      <td>0.0</td>\n",
       "      <td>0.0</td>\n",
       "      <td>0.0</td>\n",
       "      <td>0.000</td>\n",
       "      <td>0.0</td>\n",
       "      <td>0.0</td>\n",
       "      <td>0.0</td>\n",
       "      <td>0.0</td>\n",
       "      <td>0.0</td>\n",
       "      <td>0.0</td>\n",
       "      <td>0.0</td>\n",
       "      <td>...</td>\n",
       "      <td>0.0</td>\n",
       "      <td>0.0</td>\n",
       "      <td>0.0</td>\n",
       "      <td>0.0</td>\n",
       "      <td>0.0</td>\n",
       "      <td>0.0</td>\n",
       "      <td>0.000</td>\n",
       "      <td>0.0</td>\n",
       "      <td>0.0</td>\n",
       "      <td>0.0</td>\n",
       "      <td>0.0</td>\n",
       "      <td>0.0</td>\n",
       "      <td>0.0</td>\n",
       "      <td>0.0</td>\n",
       "      <td>0.000</td>\n",
       "      <td>0.0</td>\n",
       "      <td>0.0</td>\n",
       "      <td>0.0</td>\n",
       "      <td>0.0</td>\n",
       "      <td>0.000</td>\n",
       "      <td>0.000</td>\n",
       "      <td>0.000</td>\n",
       "      <td>0.0</td>\n",
       "      <td>0.0</td>\n",
       "      <td>0.0</td>\n",
       "      <td>0.0</td>\n",
       "      <td>0.0</td>\n",
       "      <td>0.000</td>\n",
       "      <td>0.00</td>\n",
       "      <td>0.000</td>\n",
       "    </tr>\n",
       "  </tbody>\n",
       "</table>\n",
       "<p>2 rows × 256 columns</p>\n",
       "</div>"
      ],
      "text/plain": [
       "id                AV13O1A8GV-KLJ3akUyj  AV14LG0R-jtxr-f38QfS  \\\n",
       "reviews_username                                               \n",
       "00sab00                            0.0                   0.0   \n",
       "01impala                           0.0                   0.0   \n",
       "\n",
       "id                AV16khLE-jtxr-f38VFn  AV1YGDqsGV-KLJ3adc-O  \\\n",
       "reviews_username                                               \n",
       "00sab00                            2.5                 3.596   \n",
       "01impala                           0.0                 0.000   \n",
       "\n",
       "id                AV1YIch7GV-KLJ3addeG  AV1YlENIglJLPUi8IHsX  \\\n",
       "reviews_username                                               \n",
       "00sab00                            0.0                   0.0   \n",
       "01impala                           0.0                   0.0   \n",
       "\n",
       "id                AV1YmBrdGV-KLJ3adewb  AV1YmDL9vKc47QAVgr7_  \\\n",
       "reviews_username                                               \n",
       "00sab00                            0.0                   0.0   \n",
       "01impala                           0.0                   0.0   \n",
       "\n",
       "id                AV1Ymf_rglJLPUi8II2v  AV1Yn94nvKc47QAVgtst  \\\n",
       "reviews_username                                               \n",
       "00sab00                          2.582                 1.018   \n",
       "01impala                         0.000                 0.000   \n",
       "\n",
       "id                AV1YnUMYglJLPUi8IJpK  AV1Ynb3bglJLPUi8IJxJ  \\\n",
       "reviews_username                                               \n",
       "00sab00                            0.0                   0.0   \n",
       "01impala                           0.0                   0.0   \n",
       "\n",
       "id                AV1YneDPglJLPUi8IJyQ  AV1YpiJvvKc47QAVguxy  \\\n",
       "reviews_username                                               \n",
       "00sab00                            0.0                   0.0   \n",
       "01impala                           0.0                   0.0   \n",
       "\n",
       "id                AV1YqAaMGV-KLJ3adiDj  AV1Ys0kTvKc47QAVgx1C  \\\n",
       "reviews_username                                               \n",
       "00sab00                            0.0                   0.0   \n",
       "01impala                           0.0                   0.0   \n",
       "\n",
       "id                AV1YtGjdglJLPUi8IOfJ  AV1ZSp2uglJLPUi8IQFy  \\\n",
       "reviews_username                                               \n",
       "00sab00                            0.0                   0.0   \n",
       "01impala                           0.0                   0.0   \n",
       "\n",
       "id                AV1ZT7GLglJLPUi8IQLI  AV1ZVIgy-jtxr-f31W9N  \\\n",
       "reviews_username                                               \n",
       "00sab00                            0.0                   0.0   \n",
       "01impala                           0.0                   0.0   \n",
       "\n",
       "id                AV1d76w7vKc47QAVhCqn  AV1h6Gu0glJLPUi8IjA_  \\\n",
       "reviews_username                                               \n",
       "00sab00                            0.0                   0.0   \n",
       "01impala                           0.0                   0.0   \n",
       "\n",
       "id                AV1h6gSl-jtxr-f31p40  AV1l8zRZvKc47QAVhnAv  \\\n",
       "reviews_username                                               \n",
       "00sab00                          1.155                   0.0   \n",
       "01impala                         0.000                   0.0   \n",
       "\n",
       "id                AV2AvGnjGV-KLJ3alTQH  AV2Avn5dGV-KLJ3alTjq  \\\n",
       "reviews_username                                               \n",
       "00sab00                            0.0                   0.0   \n",
       "01impala                           0.0                   0.0   \n",
       "\n",
       "id                AVpe-M4-ilAPnD_xSF1K  AVpe-MCY1cnluZ0-bCv_  \\\n",
       "reviews_username                                               \n",
       "00sab00                            0.0                   0.0   \n",
       "01impala                           0.0                   0.0   \n",
       "\n",
       "id                AVpe-PJnLJeJML43ziaj  AVpe-YAL1cnluZ0-bHGh  ...  \\\n",
       "reviews_username                                              ...   \n",
       "00sab00                            0.0                   0.0  ...   \n",
       "01impala                           0.0                   0.0  ...   \n",
       "\n",
       "id                AVpfksililAPnD_xePx_  AVpfl6baLJeJML43AEQq  \\\n",
       "reviews_username                                               \n",
       "00sab00                            0.0                   0.0   \n",
       "01impala                           0.0                   0.0   \n",
       "\n",
       "id                AVpfl6sF1cnluZ0-nmwC  AVpfldDlLJeJML43_7s_  \\\n",
       "reviews_username                                               \n",
       "00sab00                            0.0                   0.0   \n",
       "01impala                           0.0                   0.0   \n",
       "\n",
       "id                AVpfliCoilAPnD_xegIr  AVpfluP1ilAPnD_xejxO  \\\n",
       "reviews_username                                               \n",
       "00sab00                            0.0                   0.0   \n",
       "01impala                           0.0                   0.0   \n",
       "\n",
       "id                AVpfm8yiLJeJML43AYyu  AVpfmVnVLJeJML43AMqC  \\\n",
       "reviews_username                                               \n",
       "00sab00                          2.588                   0.0   \n",
       "01impala                         0.000                   0.0   \n",
       "\n",
       "id                AVpfmjXGLJeJML43AQ5_  AVpfnRuSilAPnD_xfB8l  \\\n",
       "reviews_username                                               \n",
       "00sab00                            0.0                   0.0   \n",
       "01impala                           0.0                   0.0   \n",
       "\n",
       "id                AVpfnS4eLJeJML43AfZe  AVpfnUcwLJeJML43Af2U  \\\n",
       "reviews_username                                               \n",
       "00sab00                            0.0                   0.0   \n",
       "01impala                           0.0                   0.0   \n",
       "\n",
       "id                AVpfnjBILJeJML43AkO3  AVpfoSS51cnluZ0-oVH9  \\\n",
       "reviews_username                                               \n",
       "00sab00                            0.0                   0.0   \n",
       "01impala                           0.0                   0.0   \n",
       "\n",
       "id                AVpfov9TLJeJML43A7B0  AVpfozgyilAPnD_xfe0r  \\\n",
       "reviews_username                                               \n",
       "00sab00                          6.623                   0.0   \n",
       "01impala                         0.000                   0.0   \n",
       "\n",
       "id                AVpfpM2yilAPnD_xfmDG  AVpfpoUCLJeJML43BLXv  \\\n",
       "reviews_username                                               \n",
       "00sab00                            2.5                   0.0   \n",
       "01impala                           0.0                   0.0   \n",
       "\n",
       "id                AVpfqW4WilAPnD_xf7a_  AVpfr5cb1cnluZ0-pZFp  \\\n",
       "reviews_username                                               \n",
       "00sab00                            0.0                 0.645   \n",
       "01impala                           0.0                 0.000   \n",
       "\n",
       "id                AVpfrFDZLJeJML43Bmv0  AVpfrTyiLJeJML43BrSI  \\\n",
       "reviews_username                                               \n",
       "00sab00                          1.667                 0.189   \n",
       "01impala                         0.000                 0.000   \n",
       "\n",
       "id                AVpfrfHF1cnluZ0-pRai  AVpfrgjFLJeJML43BvCc  \\\n",
       "reviews_username                                               \n",
       "00sab00                            0.0                   0.0   \n",
       "01impala                           0.0                   0.0   \n",
       "\n",
       "id                AVpfsQoeilAPnD_xgfx5  AVpfshNsLJeJML43CB8q  \\\n",
       "reviews_username                                               \n",
       "00sab00                            0.0                   0.0   \n",
       "01impala                           0.0                   0.0   \n",
       "\n",
       "id                AVpfthSailAPnD_xg3ON  AVpftikC1cnluZ0-p31V  \\\n",
       "reviews_username                                               \n",
       "00sab00                            0.0                 1.465   \n",
       "01impala                           0.0                 0.000   \n",
       "\n",
       "id                AVpfv4TlilAPnD_xhjNS  AVpfvieo1cnluZ0-qdnu  \n",
       "reviews_username                                              \n",
       "00sab00                           1.89                 0.204  \n",
       "01impala                          0.00                 0.000  \n",
       "\n",
       "[2 rows x 256 columns]"
      ]
     },
     "execution_count": 193,
     "metadata": {},
     "output_type": "execute_result"
    }
   ],
   "source": [
    "user_final_rating.head(2)"
   ]
  },
  {
   "cell_type": "code",
   "execution_count": 194,
   "metadata": {},
   "outputs": [],
   "source": [
    "best_recommendation_model = pickle.dump(user_final_rating.astype('float32'), open('./models/best_recommendation_model.pkl', 'wb'))"
   ]
  },
  {
   "cell_type": "markdown",
   "metadata": {
    "id": "YZrOOAXPq8Ku"
   },
   "source": [
    "# Fine-Tuning the Recommendation System and Recommendation of Top 5 Products"
   ]
  },
  {
   "cell_type": "code",
   "execution_count": 195,
   "metadata": {
    "ExecuteTime": {
     "end_time": "2022-04-06T05:49:49.162835Z",
     "start_time": "2022-04-06T05:46:28.195Z"
    },
    "execution": {
     "iopub.execute_input": "2022-04-14T01:39:02.110800Z",
     "iopub.status.busy": "2022-04-14T01:39:02.110098Z",
     "iopub.status.idle": "2022-04-14T01:39:02.120778Z",
     "shell.execute_reply": "2022-04-14T01:39:02.119855Z",
     "shell.execute_reply.started": "2022-04-14T01:39:02.110765Z"
    },
    "executionInfo": {
     "elapsed": 3,
     "status": "ok",
     "timestamp": 1649227996911,
     "user": {
      "displayName": "Venkatasubramanian S",
      "userId": "06029493893713790610"
     },
     "user_tz": 420
    },
    "id": "_v5Os-nDOVHz"
   },
   "outputs": [],
   "source": [
    "# Create function to recommend top 5 products to any user\n",
    "def top5_product_user_recommender(user_name):\n",
    "  if user_name not in user_final_rating.index:\n",
    "    print(f\"The User {user_name} does not exist. Please provide a valid user name\")\n",
    "  else:\n",
    "    # Get top 20 recommended products from the best recommendation model\n",
    "    top20_recommended_products = list(user_final_rating.loc[user_name].sort_values(ascending=False)[0:20].index)\n",
    "    # Get only the recommended products from the prepared dataframe \"df_sent\"\n",
    "    df_top20_products = df_sentiment_analysis[df_sentiment_analysis.id.isin(top20_recommended_products)]\n",
    "    # For these 20 products, get their user reviews and pass them through TF-IDF vectorizer to convert the data into suitable format for modeling\n",
    "    X = tfidf.transform(df_top20_products[\"reviews_lemmatized\"].values.astype(str))\n",
    "    # Use the best sentiment model to predict the sentiment for these user reviews\n",
    "    df_top20_products['predicted_sentiment'] = regressor.predict(X)\n",
    "    # Create a new column to map Positive sentiment to 1 and Negative sentiment to 0. This will allow us to easily summarize the data\n",
    "    df_top20_products['positive_sentiment'] = df_top20_products['predicted_sentiment'].apply(lambda x: 1 if x==\"Positive\" else 0)\n",
    "    # Create a new dataframe \"pred_df\" to store the count of positive user sentiments\n",
    "    pred_df = df_top20_products.groupby(by='name').sum()\n",
    "    pred_df.columns=['pos_sent_count']\n",
    "    # Create a column to measure the total sentiment count\n",
    "    pred_df['total_sent_count'] = df_top20_products.groupby(by='name')['predicted_sentiment'].count()\n",
    "    # Create a column that measures the % of positive user sentiment for each product review\n",
    "    pred_df['post_sent_percentage'] = np.round(pred_df['pos_sent_count']/pred_df['total_sent_count']*100,2)\n",
    "    # Return top 5 recommended products to the user\n",
    "    result = pred_df.sort_values(by='post_sent_percentage', ascending=False)[:5]\n",
    "    return result"
   ]
  },
  {
   "cell_type": "markdown",
   "metadata": {
    "id": "CkdSuLuBg-jI"
   },
   "source": [
    "# Top 5 Products Recommendation"
   ]
  },
  {
   "cell_type": "code",
   "execution_count": 196,
   "metadata": {
    "ExecuteTime": {
     "end_time": "2022-04-06T05:49:49.164837Z",
     "start_time": "2022-04-06T05:46:28.202Z"
    },
    "execution": {
     "iopub.execute_input": "2022-04-14T01:39:02.122947Z",
     "iopub.status.busy": "2022-04-14T01:39:02.122394Z",
     "iopub.status.idle": "2022-04-14T01:39:03.697209Z",
     "shell.execute_reply": "2022-04-14T01:39:03.696646Z",
     "shell.execute_reply.started": "2022-04-14T01:39:02.122902Z"
    },
    "executionInfo": {
     "elapsed": 1549,
     "status": "ok",
     "timestamp": 1649227998457,
     "user": {
      "displayName": "Venkatasubramanian S",
      "userId": "06029493893713790610"
     },
     "user_tz": 420
    },
    "id": "khbT8A14eaTF",
    "outputId": "e9dce216-273d-4da6-993d-f57d3935c378"
   },
   "outputs": [
    {
     "name": "stdout",
     "output_type": "stream",
     "text": [
      "Printing the top 5 recommended products for the user: charlie along with each product's positive sentiment count, overall review count and positive sentiment %\n",
      "\n",
      "\n"
     ]
    },
    {
     "data": {
      "text/html": [
       "<div>\n",
       "<style scoped>\n",
       "    .dataframe tbody tr th:only-of-type {\n",
       "        vertical-align: middle;\n",
       "    }\n",
       "\n",
       "    .dataframe tbody tr th {\n",
       "        vertical-align: top;\n",
       "    }\n",
       "\n",
       "    .dataframe thead th {\n",
       "        text-align: right;\n",
       "    }\n",
       "</style>\n",
       "<table border=\"1\" class=\"dataframe\">\n",
       "  <thead>\n",
       "    <tr style=\"text-align: right;\">\n",
       "      <th></th>\n",
       "      <th>pos_sent_count</th>\n",
       "      <th>total_sent_count</th>\n",
       "      <th>post_sent_percentage</th>\n",
       "    </tr>\n",
       "    <tr>\n",
       "      <th>name</th>\n",
       "      <th></th>\n",
       "      <th></th>\n",
       "      <th></th>\n",
       "    </tr>\n",
       "  </thead>\n",
       "  <tbody>\n",
       "    <tr>\n",
       "      <th>Reebok Classic Leather Running Shoes - White (Men)</th>\n",
       "      <td>5</td>\n",
       "      <td>5</td>\n",
       "      <td>100.00</td>\n",
       "    </tr>\n",
       "    <tr>\n",
       "      <th>Stargate (ws) (ultimate Edition) (director's Cut) (dvdvideo)</th>\n",
       "      <td>174</td>\n",
       "      <td>186</td>\n",
       "      <td>93.55</td>\n",
       "    </tr>\n",
       "    <tr>\n",
       "      <th>Eagle Fat Free Sweetened Condensed Milk</th>\n",
       "      <td>14</td>\n",
       "      <td>15</td>\n",
       "      <td>93.33</td>\n",
       "    </tr>\n",
       "    <tr>\n",
       "      <th>100:Complete First Season (blu-Ray)</th>\n",
       "      <td>127</td>\n",
       "      <td>139</td>\n",
       "      <td>91.37</td>\n",
       "    </tr>\n",
       "    <tr>\n",
       "      <th>Clorox Disinfecting Bathroom Cleaner</th>\n",
       "      <td>1820</td>\n",
       "      <td>2039</td>\n",
       "      <td>89.26</td>\n",
       "    </tr>\n",
       "  </tbody>\n",
       "</table>\n",
       "</div>"
      ],
      "text/plain": [
       "                                                              pos_sent_count  \\\n",
       "name                                                                           \n",
       "Reebok Classic Leather Running Shoes - White (Men)                         5   \n",
       "Stargate (ws) (ultimate Edition) (director's Cut) (dvdvideo)             174   \n",
       "Eagle Fat Free Sweetened Condensed Milk                                   14   \n",
       "100:Complete First Season (blu-Ray)                                      127   \n",
       "Clorox Disinfecting Bathroom Cleaner                                    1820   \n",
       "\n",
       "                                                              total_sent_count  \\\n",
       "name                                                                             \n",
       "Reebok Classic Leather Running Shoes - White (Men)                           5   \n",
       "Stargate (ws) (ultimate Edition) (director's Cut) (dvdvideo)               186   \n",
       "Eagle Fat Free Sweetened Condensed Milk                                     15   \n",
       "100:Complete First Season (blu-Ray)                                        139   \n",
       "Clorox Disinfecting Bathroom Cleaner                                      2039   \n",
       "\n",
       "                                                              post_sent_percentage  \n",
       "name                                                                                \n",
       "Reebok Classic Leather Running Shoes - White (Men)                          100.00  \n",
       "Stargate (ws) (ultimate Edition) (director's Cut) (dvdvideo)                 93.55  \n",
       "Eagle Fat Free Sweetened Condensed Milk                                      93.33  \n",
       "100:Complete First Season (blu-Ray)                                          91.37  \n",
       "Clorox Disinfecting Bathroom Cleaner                                         89.26  "
      ]
     },
     "execution_count": 196,
     "metadata": {},
     "output_type": "execute_result"
    }
   ],
   "source": [
    "# Take a sample username as input\n",
    "user_input = 'charlie'\n",
    "# 'Venkat'\n",
    "# 'debb'\n",
    "# 'evrydayhustla420'\n",
    "print(f\"Printing the top 5 recommended products for the user: {user_input} along with each product's positive sentiment count, overall review count and positive sentiment %\")\n",
    "print(\"\\n\")\n",
    "top5_reco_sent_reco_user = top5_product_user_recommender(user_input)\n",
    "top5_reco_sent_reco_user"
   ]
  },
  {
   "cell_type": "code",
   "execution_count": 197,
   "metadata": {
    "ExecuteTime": {
     "end_time": "2022-04-06T05:49:49.165835Z",
     "start_time": "2022-04-06T05:46:28.210Z"
    },
    "execution": {
     "iopub.execute_input": "2022-04-14T01:39:03.700330Z",
     "iopub.status.busy": "2022-04-14T01:39:03.700040Z",
     "iopub.status.idle": "2022-04-14T01:39:03.716747Z",
     "shell.execute_reply": "2022-04-14T01:39:03.712482Z",
     "shell.execute_reply.started": "2022-04-14T01:39:03.700293Z"
    },
    "executionInfo": {
     "elapsed": 32,
     "status": "ok",
     "timestamp": 1649227998459,
     "user": {
      "displayName": "Venkatasubramanian S",
      "userId": "06029493893713790610"
     },
     "user_tz": 420
    },
    "id": "HdiYHojBgQS1",
    "outputId": "82ed2068-cc56-4cf9-b3f9-da69906d7222"
   },
   "outputs": [
    {
     "name": "stdout",
     "output_type": "stream",
     "text": [
      "Printing the top 5 recommended products list for the user: charlie\n",
      "['Reebok Classic Leather Running Shoes - White (Men)', \"Stargate (ws) (ultimate Edition) (director's Cut) (dvdvideo)\", 'Eagle Fat Free Sweetened Condensed Milk', '100:Complete First Season (blu-Ray)', 'Clorox Disinfecting Bathroom Cleaner']\n"
     ]
    }
   ],
   "source": [
    "# Showing only the top 5 Product Names for the user\n",
    "print(f\"Printing the top 5 recommended products list for the user: {user_input}\")\n",
    "print(list(top5_reco_sent_reco_user.index))"
   ]
  },
  {
   "cell_type": "code",
   "execution_count": null,
   "metadata": {},
   "outputs": [],
   "source": []
  }
 ],
 "metadata": {
  "kernelspec": {
   "display_name": "Python 3 (ipykernel)",
   "language": "python",
   "name": "python3"
  },
  "language_info": {
   "codemirror_mode": {
    "name": "ipython",
    "version": 3
   },
   "file_extension": ".py",
   "mimetype": "text/x-python",
   "name": "python",
   "nbconvert_exporter": "python",
   "pygments_lexer": "ipython3",
   "version": "3.9.12"
  }
 },
 "nbformat": 4,
 "nbformat_minor": 4
}
